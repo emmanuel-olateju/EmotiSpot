{
  "cells": [
    {
      "cell_type": "markdown",
      "metadata": {
        "id": "view-in-github",
        "colab_type": "text"
      },
      "source": [
        "<a href=\"https://colab.research.google.com/github/emmanuel-olateju/EmotiSpot/blob/main/data_preparation.ipynb\" target=\"_parent\"><img src=\"https://colab.research.google.com/assets/colab-badge.svg\" alt=\"Open In Colab\"/></a>"
      ]
    },
    {
      "cell_type": "code",
      "execution_count": 1,
      "metadata": {
        "id": "YB63XS6935lG",
        "outputId": "5774c217-a758-4a20-d4a2-050ac85291a4",
        "colab": {
          "base_uri": "https://localhost:8080/"
        }
      },
      "outputs": [
        {
          "output_type": "stream",
          "name": "stdout",
          "text": [
            "Dataset URL: https://www.kaggle.com/datasets/khan1803115/eeg-dataset-for-emotion-recognition\n",
            "License(s): Apache 2.0\n",
            "Downloading eeg-dataset-for-emotion-recognition.zip to /content\n",
            " 98% 177M/181M [00:03<00:00, 78.5MB/s]\n",
            "100% 181M/181M [00:03<00:00, 54.7MB/s]\n",
            "Archive:  eeg-dataset-for-emotion-recognition.zip\n",
            "  inflating: datasets/khan1803115/Data/S01G1AllChannels.csv  \n",
            "  inflating: datasets/khan1803115/Data/S01G2AllChannels.csv  \n",
            "  inflating: datasets/khan1803115/Data/S01G3AllChannels.csv  \n",
            "  inflating: datasets/khan1803115/Data/S01G4AllChannels.csv  \n",
            "  inflating: datasets/khan1803115/Data/S02G1AllChannels.csv  \n",
            "  inflating: datasets/khan1803115/Data/S02G2AllChannels.csv  \n",
            "  inflating: datasets/khan1803115/Data/S02G3AllChannels.csv  \n",
            "  inflating: datasets/khan1803115/Data/S02G4AllChannels.csv  \n",
            "  inflating: datasets/khan1803115/Data/S03G1AllChannels.csv  \n",
            "  inflating: datasets/khan1803115/Data/S03G2AllChannels.csv  \n",
            "  inflating: datasets/khan1803115/Data/S03G3AllChannels.csv  \n",
            "  inflating: datasets/khan1803115/Data/S03G4AllChannels.csv  \n",
            "  inflating: datasets/khan1803115/Data/S04G1AllChannels.csv  \n",
            "  inflating: datasets/khan1803115/Data/S04G2AllChannels.csv  \n",
            "  inflating: datasets/khan1803115/Data/S04G3AllChannels.csv  \n",
            "  inflating: datasets/khan1803115/Data/S04G4AllChannels.csv  \n",
            "  inflating: datasets/khan1803115/Data/S05G1AllChannels.csv  \n",
            "  inflating: datasets/khan1803115/Data/S05G2AllChannels.csv  \n",
            "  inflating: datasets/khan1803115/Data/S05G3AllChannels.csv  \n",
            "  inflating: datasets/khan1803115/Data/S05G4AllChannels.csv  \n",
            "  inflating: datasets/khan1803115/Data/S06G1AllChannels.csv  \n",
            "  inflating: datasets/khan1803115/Data/S06G2AllChannels.csv  \n",
            "  inflating: datasets/khan1803115/Data/S06G3AllChannels.csv  \n",
            "  inflating: datasets/khan1803115/Data/S06G4AllChannels.csv  \n",
            "  inflating: datasets/khan1803115/Data/S07G1AllChannels.csv  \n",
            "  inflating: datasets/khan1803115/Data/S07G2AllChannels.csv  \n",
            "  inflating: datasets/khan1803115/Data/S07G3AllChannels.csv  \n",
            "  inflating: datasets/khan1803115/Data/S07G4AllChannels.csv  \n",
            "  inflating: datasets/khan1803115/Data/S08G1AllChannels.csv  \n",
            "  inflating: datasets/khan1803115/Data/S08G2AllChannels.csv  \n",
            "  inflating: datasets/khan1803115/Data/S08G3AllChannels.csv  \n",
            "  inflating: datasets/khan1803115/Data/S08G4AllChannels.csv  \n",
            "  inflating: datasets/khan1803115/Data/S09G1AllChannels.csv  \n",
            "  inflating: datasets/khan1803115/Data/S09G2AllChannels.csv  \n",
            "  inflating: datasets/khan1803115/Data/S09G3AllChannels.csv  \n",
            "  inflating: datasets/khan1803115/Data/S09G4AllChannels.csv  \n",
            "  inflating: datasets/khan1803115/Data/S10G1AllChannels.csv  \n",
            "  inflating: datasets/khan1803115/Data/S10G2AllChannels.csv  \n",
            "  inflating: datasets/khan1803115/Data/S10G3AllChannels.csv  \n",
            "  inflating: datasets/khan1803115/Data/S10G4AllChannels.csv  \n",
            "  inflating: datasets/khan1803115/Data/S11G1AllChannels.csv  \n",
            "  inflating: datasets/khan1803115/Data/S11G2AllChannels.csv  \n",
            "  inflating: datasets/khan1803115/Data/S11G3AllChannels.csv  \n",
            "  inflating: datasets/khan1803115/Data/S11G4AllChannels.csv  \n",
            "  inflating: datasets/khan1803115/Data/S12G1AllChannels.csv  \n",
            "  inflating: datasets/khan1803115/Data/S12G2AllChannels.csv  \n",
            "  inflating: datasets/khan1803115/Data/S12G3AllChannels.csv  \n",
            "  inflating: datasets/khan1803115/Data/S12G4AllChannels.csv  \n",
            "  inflating: datasets/khan1803115/Data/S13G1AllChannels.csv  \n",
            "  inflating: datasets/khan1803115/Data/S13G2AllChannels.csv  \n",
            "  inflating: datasets/khan1803115/Data/S13G3AllChannels.csv  \n",
            "  inflating: datasets/khan1803115/Data/S13G4AllChannels.csv  \n",
            "  inflating: datasets/khan1803115/Data/S14G1AllChannels.csv  \n",
            "  inflating: datasets/khan1803115/Data/S14G2AllChannels.csv  \n",
            "  inflating: datasets/khan1803115/Data/S14G3AllChannels.csv  \n",
            "  inflating: datasets/khan1803115/Data/S14G4AllChannels.csv  \n",
            "  inflating: datasets/khan1803115/Data/S15G1AllChannels.csv  \n",
            "  inflating: datasets/khan1803115/Data/S15G2AllChannels.csv  \n",
            "  inflating: datasets/khan1803115/Data/S15G3AllChannels.csv  \n",
            "  inflating: datasets/khan1803115/Data/S15G4AllChannels.csv  \n",
            "  inflating: datasets/khan1803115/Data/S16G1AllChannels.csv  \n",
            "  inflating: datasets/khan1803115/Data/S16G2AllChannels.csv  \n",
            "  inflating: datasets/khan1803115/Data/S16G3AllChannels.csv  \n",
            "  inflating: datasets/khan1803115/Data/S16G4AllChannels.csv  \n",
            "  inflating: datasets/khan1803115/Data/S17G1AllChannels.csv  \n",
            "  inflating: datasets/khan1803115/Data/S17G2AllChannels.csv  \n",
            "  inflating: datasets/khan1803115/Data/S17G3AllChannels.csv  \n",
            "  inflating: datasets/khan1803115/Data/S17G4AllChannels.csv  \n",
            "  inflating: datasets/khan1803115/Data/S18G1AllChannels.csv  \n",
            "  inflating: datasets/khan1803115/Data/S18G2AllChannels.csv  \n",
            "  inflating: datasets/khan1803115/Data/S18G3AllChannels.csv  \n",
            "  inflating: datasets/khan1803115/Data/S18G4AllChannels.csv  \n",
            "  inflating: datasets/khan1803115/Data/S19G1AllChannels.csv  \n",
            "  inflating: datasets/khan1803115/Data/S19G2AllChannels.csv  \n",
            "  inflating: datasets/khan1803115/Data/S19G3AllChannels.csv  \n",
            "  inflating: datasets/khan1803115/Data/S19G4AllChannels.csv  \n",
            "  inflating: datasets/khan1803115/Data/S20G1AllChannels.csv  \n",
            "  inflating: datasets/khan1803115/Data/S20G2AllChannels.csv  \n",
            "  inflating: datasets/khan1803115/Data/S20G3AllChannels.csv  \n",
            "  inflating: datasets/khan1803115/Data/S20G4AllChannels.csv  \n",
            "  inflating: datasets/khan1803115/Data/S21G1AllChannels.csv  \n",
            "  inflating: datasets/khan1803115/Data/S21G2AllChannels.csv  \n",
            "  inflating: datasets/khan1803115/Data/S21G3AllChannels.csv  \n",
            "  inflating: datasets/khan1803115/Data/S21G4AllChannels.csv  \n",
            "  inflating: datasets/khan1803115/Data/S22G1AllChannels.csv  \n",
            "  inflating: datasets/khan1803115/Data/S22G2AllChannels.csv  \n",
            "  inflating: datasets/khan1803115/Data/S22G3AllChannels.csv  \n",
            "  inflating: datasets/khan1803115/Data/S22G4AllChannels.csv  \n",
            "  inflating: datasets/khan1803115/Data/S23G1AllChannels.csv  \n",
            "  inflating: datasets/khan1803115/Data/S23G2AllChannels.csv  \n",
            "  inflating: datasets/khan1803115/Data/S23G3AllChannels.csv  \n",
            "  inflating: datasets/khan1803115/Data/S23G4AllChannels.csv  \n",
            "  inflating: datasets/khan1803115/Data/S24G1AllChannels.csv  \n",
            "  inflating: datasets/khan1803115/Data/S24G2AllChannels.csv  \n",
            "  inflating: datasets/khan1803115/Data/S24G3AllChannels.csv  \n",
            "  inflating: datasets/khan1803115/Data/S24G4AllChannels.csv  \n",
            "  inflating: datasets/khan1803115/Data/S25G1AllChannels.csv  \n",
            "  inflating: datasets/khan1803115/Data/S25G2AllChannels.csv  \n",
            "  inflating: datasets/khan1803115/Data/S25G3AllChannels.csv  \n",
            "  inflating: datasets/khan1803115/Data/S25G4AllChannels.csv  \n",
            "  inflating: datasets/khan1803115/arousal_normalize.csv  \n",
            "  inflating: datasets/khan1803115/valence_normalize.csv  \n"
          ]
        }
      ],
      "source": [
        "!kaggle datasets download -d khan1803115/eeg-dataset-for-emotion-recognition\n",
        "!mkdir -p datasets/khan1803115\n",
        "!unzip eeg-dataset-for-emotion-recognition.zip -d datasets/khan1803115/\n",
        "!rm eeg-dataset-for-emotion-recognition.zip"
      ]
    },
    {
      "cell_type": "code",
      "execution_count": 2,
      "metadata": {
        "id": "ZTyKZUes35lK",
        "outputId": "852a522f-8d42-428b-ec5f-223ef19098b7",
        "colab": {
          "base_uri": "https://localhost:8080/"
        }
      },
      "outputs": [
        {
          "output_type": "stream",
          "name": "stdout",
          "text": [
            "Collecting mne\n",
            "  Downloading mne-1.7.0-py3-none-any.whl (7.4 MB)\n",
            "\u001b[2K     \u001b[90m━━━━━━━━━━━━━━━━━━━━━━━━━━━━━━━━━━━━━━━━\u001b[0m \u001b[32m7.4/7.4 MB\u001b[0m \u001b[31m25.0 MB/s\u001b[0m eta \u001b[36m0:00:00\u001b[0m\n",
            "\u001b[?25hRequirement already satisfied: decorator in /usr/local/lib/python3.10/dist-packages (from mne) (5.1.1)\n",
            "Requirement already satisfied: jinja2 in /usr/local/lib/python3.10/dist-packages (from mne) (3.1.4)\n",
            "Requirement already satisfied: lazy-loader>=0.3 in /usr/local/lib/python3.10/dist-packages (from mne) (0.4)\n",
            "Requirement already satisfied: matplotlib>=3.5.0 in /usr/local/lib/python3.10/dist-packages (from mne) (3.7.1)\n",
            "Requirement already satisfied: numpy>=1.21.2 in /usr/local/lib/python3.10/dist-packages (from mne) (1.25.2)\n",
            "Requirement already satisfied: packaging in /usr/local/lib/python3.10/dist-packages (from mne) (24.0)\n",
            "Requirement already satisfied: pooch>=1.5 in /usr/local/lib/python3.10/dist-packages (from mne) (1.8.1)\n",
            "Requirement already satisfied: scipy>=1.7.1 in /usr/local/lib/python3.10/dist-packages (from mne) (1.11.4)\n",
            "Requirement already satisfied: tqdm in /usr/local/lib/python3.10/dist-packages (from mne) (4.66.4)\n",
            "Requirement already satisfied: contourpy>=1.0.1 in /usr/local/lib/python3.10/dist-packages (from matplotlib>=3.5.0->mne) (1.2.1)\n",
            "Requirement already satisfied: cycler>=0.10 in /usr/local/lib/python3.10/dist-packages (from matplotlib>=3.5.0->mne) (0.12.1)\n",
            "Requirement already satisfied: fonttools>=4.22.0 in /usr/local/lib/python3.10/dist-packages (from matplotlib>=3.5.0->mne) (4.51.0)\n",
            "Requirement already satisfied: kiwisolver>=1.0.1 in /usr/local/lib/python3.10/dist-packages (from matplotlib>=3.5.0->mne) (1.4.5)\n",
            "Requirement already satisfied: pillow>=6.2.0 in /usr/local/lib/python3.10/dist-packages (from matplotlib>=3.5.0->mne) (10.3.0)\n",
            "Requirement already satisfied: pyparsing>=2.3.1 in /usr/local/lib/python3.10/dist-packages (from matplotlib>=3.5.0->mne) (3.1.2)\n",
            "Requirement already satisfied: python-dateutil>=2.7 in /usr/local/lib/python3.10/dist-packages (from matplotlib>=3.5.0->mne) (2.9.0.post0)\n",
            "Requirement already satisfied: platformdirs>=2.5.0 in /usr/local/lib/python3.10/dist-packages (from pooch>=1.5->mne) (4.2.1)\n",
            "Requirement already satisfied: requests>=2.19.0 in /usr/local/lib/python3.10/dist-packages (from pooch>=1.5->mne) (2.31.0)\n",
            "Requirement already satisfied: MarkupSafe>=2.0 in /usr/local/lib/python3.10/dist-packages (from jinja2->mne) (2.1.5)\n",
            "Requirement already satisfied: six>=1.5 in /usr/local/lib/python3.10/dist-packages (from python-dateutil>=2.7->matplotlib>=3.5.0->mne) (1.16.0)\n",
            "Requirement already satisfied: charset-normalizer<4,>=2 in /usr/local/lib/python3.10/dist-packages (from requests>=2.19.0->pooch>=1.5->mne) (3.3.2)\n",
            "Requirement already satisfied: idna<4,>=2.5 in /usr/local/lib/python3.10/dist-packages (from requests>=2.19.0->pooch>=1.5->mne) (3.7)\n",
            "Requirement already satisfied: urllib3<3,>=1.21.1 in /usr/local/lib/python3.10/dist-packages (from requests>=2.19.0->pooch>=1.5->mne) (2.0.7)\n",
            "Requirement already satisfied: certifi>=2017.4.17 in /usr/local/lib/python3.10/dist-packages (from requests>=2.19.0->pooch>=1.5->mne) (2024.2.2)\n",
            "Installing collected packages: mne\n",
            "Successfully installed mne-1.7.0\n"
          ]
        }
      ],
      "source": [
        "import os\n",
        "\n",
        "import numpy as np\n",
        "import pandas as pd\n",
        "!pip install mne\n",
        "import mne"
      ]
    },
    {
      "cell_type": "code",
      "source": [
        "import joblib\n",
        "# from google.colab import files\n",
        "\n",
        "def save_artifact(artifact,name):\n",
        "  joblib.dump(artifact,name)\n",
        "  # files.download(name)\n"
      ],
      "metadata": {
        "id": "Kt_3rd-gDRmC"
      },
      "execution_count": 3,
      "outputs": []
    },
    {
      "cell_type": "markdown",
      "source": [
        "## Data Loading"
      ],
      "metadata": {
        "id": "NVDn5pxR7c8F"
      }
    },
    {
      "cell_type": "code",
      "execution_count": 4,
      "metadata": {
        "id": "rFeHh7wM35lN"
      },
      "outputs": [],
      "source": [
        "khan_dataset_dir = \"datasets/khan1803115/\"\n",
        "valence = pd.read_csv(khan_dataset_dir+\"valence_normalize.csv\")\n",
        "arousal = pd.read_csv(khan_dataset_dir+\"arousal_normalize.csv\")\n",
        "data = [pd.read_csv(khan_dataset_dir+\"Data/\"+file) for file in os.listdir(khan_dataset_dir+\"Data/\")]\n",
        "\n",
        "channels = data[0].columns[:-2]\n",
        "label_columns = data[0].columns[-2:]\n",
        "fs = 128"
      ]
    },
    {
      "cell_type": "code",
      "execution_count": 5,
      "metadata": {
        "id": "bVcaE36a35lP",
        "outputId": "a551aefc-e0a4-403e-bc65-920b17031aaf",
        "colab": {
          "base_uri": "https://localhost:8080/"
        }
      },
      "outputs": [
        {
          "output_type": "execute_result",
          "data": {
            "text/plain": [
              "((100, 38000, 14), (100, 2))"
            ]
          },
          "metadata": {},
          "execution_count": 5
        }
      ],
      "source": [
        "eeg_data = np.array([data_[channels][:38000] for data_ in data])\n",
        "valence_arousal_values = np.array([data_[label_columns].mean() for data_ in data])\n",
        "eeg_data.shape, valence_arousal_values.shape"
      ]
    },
    {
      "cell_type": "code",
      "execution_count": 6,
      "metadata": {
        "id": "q0bTIYbe35lU",
        "outputId": "e77e5b94-3967-4799-8eee-915eeec8e0f2",
        "colab": {
          "base_uri": "https://localhost:8080/"
        }
      },
      "outputs": [
        {
          "output_type": "execute_result",
          "data": {
            "text/plain": [
              "(100, 26, 1280, 14)"
            ]
          },
          "metadata": {},
          "execution_count": 6
        }
      ],
      "source": [
        "# Make use of 1280 samples for an epoch with 0 samples overlapping between succesive epochs\n",
        "epoch_starting_points = np.arange(0,38252,1280-0)[:-4]\n",
        "\n",
        "eeg_epochs = []\n",
        "\n",
        "for i in range(len(data)):\n",
        "    epochs = []\n",
        "    for epoch_starting_point in epoch_starting_points:\n",
        "        epochs.append(eeg_data[i,epoch_starting_point:epoch_starting_point+1280,:])\n",
        "\n",
        "    eeg_epochs.append(epochs)\n",
        "\n",
        "eeg_epochs = np.array(eeg_epochs)\n",
        "\n",
        "eeg_epochs.shape"
      ]
    },
    {
      "cell_type": "code",
      "execution_count": 7,
      "metadata": {
        "id": "v-udIKHt35lZ",
        "outputId": "bae5b202-7d15-4423-c049-20d3f0f946ef",
        "colab": {
          "base_uri": "https://localhost:8080/"
        }
      },
      "outputs": [
        {
          "output_type": "execute_result",
          "data": {
            "text/plain": [
              "(100, 26, 2)"
            ]
          },
          "metadata": {},
          "execution_count": 7
        }
      ],
      "source": [
        "epoch_targets = []\n",
        "\n",
        "for i in range(len(data)):\n",
        "  targets = [valence_arousal_values[i]]*26\n",
        "  epoch_targets.append(targets)\n",
        "\n",
        "epoch_targets = np.array(epoch_targets)\n",
        "\n",
        "epoch_targets.shape"
      ]
    },
    {
      "cell_type": "code",
      "source": [
        "eeg_epochs = eeg_epochs.reshape(2600,1280,14)\n",
        "epoch_targets = epoch_targets.reshape(2600,2)\n",
        "\n",
        "eeg_epochs.shape, epoch_targets.shape"
      ],
      "metadata": {
        "id": "Er9vFgVY5RjF",
        "outputId": "e2f5f17c-097d-41b5-c240-3d63c5e1f830",
        "colab": {
          "base_uri": "https://localhost:8080/"
        }
      },
      "execution_count": 8,
      "outputs": [
        {
          "output_type": "execute_result",
          "data": {
            "text/plain": [
              "((2600, 1280, 14), (2600, 2))"
            ]
          },
          "metadata": {},
          "execution_count": 8
        }
      ]
    },
    {
      "cell_type": "code",
      "source": [
        "# save_artifact(eeg_epochs,\"EEG_DATA.np\")"
      ],
      "metadata": {
        "id": "VnZaV41EEGxa"
      },
      "execution_count": 9,
      "outputs": []
    },
    {
      "cell_type": "markdown",
      "source": [
        "## Preprocessing"
      ],
      "metadata": {
        "id": "2uNF-ipu7fDe"
      }
    },
    {
      "cell_type": "code",
      "source": [
        "lowcut = 1\n",
        "highcut = 45\n",
        "\n",
        "filtered_eeg_epochs = np.empty((2600,1280,14))\n",
        "\n",
        "for e,epoch in enumerate(eeg_epochs):\n",
        "  filtered = mne.filter.filter_data(epoch.T,fs,lowcut,highcut,verbose=0)\n",
        "  filtered_eeg_epochs[e,:,:] = filtered.T\n",
        "\n",
        "filtered_eeg_epochs.shape"
      ],
      "metadata": {
        "colab": {
          "base_uri": "https://localhost:8080/"
        },
        "id": "O-Fq5rX4Fgc3",
        "outputId": "9d2822a7-0eb1-4651-be79-0f5d9ac271e5"
      },
      "execution_count": 10,
      "outputs": [
        {
          "output_type": "execute_result",
          "data": {
            "text/plain": [
              "(2600, 1280, 14)"
            ]
          },
          "metadata": {},
          "execution_count": 10
        }
      ]
    },
    {
      "cell_type": "code",
      "source": [
        "# save_artifact(filtered_eeg_epochs,\"FILTERED_EEG_DATA.np\")\n",
        "# save_artifact(epoch_targets,\"EEG_VALENCE_AROUSAL_TARGETS.np\")"
      ],
      "metadata": {
        "id": "yPvHZDko9Fvu"
      },
      "execution_count": 11,
      "outputs": []
    },
    {
      "cell_type": "markdown",
      "source": [
        "## Make Dataloader"
      ],
      "metadata": {
        "id": "d0Wf8qxQIg8b"
      }
    },
    {
      "cell_type": "code",
      "source": [
        "import random\n",
        "\n",
        "import torch\n",
        "import torch.nn as nn\n",
        "import torch.functional as F\n",
        "import torch.optim as optim\n",
        "\n",
        "# Set the device\n",
        "device_ = \"cuda\" if torch.cuda.is_available() else \"cpu\"\n",
        "print(f\"Current Device: {device_}\")\n",
        "\n",
        "# Set the device globally\n",
        "# torch.set_default_device(device_)"
      ],
      "metadata": {
        "id": "J1Vlknr0sikG",
        "outputId": "a6d40dfc-7633-4bb8-da37-413343344381",
        "colab": {
          "base_uri": "https://localhost:8080/"
        }
      },
      "execution_count": 12,
      "outputs": [
        {
          "output_type": "stream",
          "name": "stdout",
          "text": [
            "Current Device: cpu\n"
          ]
        }
      ]
    },
    {
      "cell_type": "code",
      "source": [
        "from torch.utils.data import Dataset, DataLoader\n",
        "\n",
        "class CustomDataset(Dataset):\n",
        "\n",
        "  def __init__(self, features, targets, transform=None, device__=\"cpu\"):\n",
        "    self.features = torch.tensor(features,device=device__)\n",
        "    self.targets = torch.tensor(targets,device=device__)\n",
        "    self.transform = transform\n",
        "\n",
        "  def __len__(self):\n",
        "    return len(self.features)\n",
        "\n",
        "  def __getitem__(self,idx):\n",
        "    feature = self.features[idx,::]\n",
        "    target = self.targets[idx]\n",
        "    if self.transform:\n",
        "      feature = self.transform(feature)\n",
        "    return feature, target"
      ],
      "metadata": {
        "id": "1M9BZsPpIgSa"
      },
      "execution_count": 13,
      "outputs": []
    },
    {
      "cell_type": "code",
      "source": [
        "from sklearn.model_selection import train_test_split\n",
        "from sklearn.preprocessing import MinMaxScaler, StandardScaler\n",
        "\n",
        "random.seed(120)\n",
        "torch.manual_seed(120)\n",
        "\n",
        "X, y = filtered_eeg_epochs, epoch_targets\n",
        "\n",
        "X_train, X_, y_train, y_ = train_test_split(X, y, test_size=0.20, random_state=100)\n",
        "X_test, X_val, y_test, y_val = train_test_split(X_, y_, test_size=0.5, random_state=100)\n",
        "\n",
        "for i in range(len(X_train)):\n",
        "  scaler = StandardScaler()\n",
        "  X_train[i,::] = scaler.fit_transform(X_train[i,::])\n",
        "\n",
        "for i in range(len(X_test)):\n",
        "  scaler = StandardScaler()\n",
        "  X_test[i,::] = scaler.fit_transform(X_test[i,::])\n",
        "\n",
        "for i in range(len(X_val)):\n",
        "  scaler = StandardScaler()\n",
        "  X_val[i,::] = scaler.fit_transform(X_val[i,::])\n",
        "\n",
        "feature_scaler = MinMaxScaler()\n",
        "y_train = feature_scaler.fit_transform(y_train)\n",
        "y_test = feature_scaler.transform(y_test)\n",
        "y_val = feature_scaler.transform(y_val)\n",
        "\n",
        "print(f\" Train Size :({X_train.shape}, {y_train.shape}) | Test Size : ({X_test.shape}, {y_test.shape}) | Validation Size: ({X_val.shape}, {y_val.shape})\")\n",
        "\n",
        "train_batch_size = 102\n",
        "shuffle_ = True\n",
        "num_workers_ = 5\n",
        "\n",
        "# Make Train Dataloader\n",
        "train_dataset = CustomDataset(X_train.astype(float),y_train.astype(float))\n",
        "train_dataloader = DataLoader(train_dataset, batch_size=train_batch_size, shuffle=shuffle_, num_workers=num_workers_)\n",
        "\n",
        "# Make Validation Dataloader\n",
        "val_batch_size = 34\n",
        "val_dataset = CustomDataset(X_val.astype(float),y_val.astype(float))\n",
        "val_dataloader = DataLoader(val_dataset, batch_size=val_batch_size, shuffle=shuffle_, num_workers=num_workers_)\n",
        "\n",
        "X_train = torch.tensor(X_train).to(torch.float)\n",
        "y_train = torch.tensor(y_train).to(torch.float)\n",
        "X_train = X_train.to(device_)\n",
        "y_train = y_train.to(device_)\n",
        "\n",
        "X_test = torch.tensor(X_test).to(torch.float)\n",
        "y_test = torch.tensor(y_test).to(torch.float)\n",
        "X_test = X_test.to(device_)\n",
        "y_test = y_test.to(device_)\n",
        "\n",
        "X_val = torch.tensor(X_val).to(torch.float)\n",
        "y_val = torch.tensor(y_val).to(torch.float)\n",
        "X_val = X_val.to(device_)\n",
        "y_val = y_val.to(device_)"
      ],
      "metadata": {
        "colab": {
          "base_uri": "https://localhost:8080/"
        },
        "id": "BsE4BGFMO9gM",
        "outputId": "77d65723-bd3d-4423-d419-bf0a0cbeaade"
      },
      "execution_count": 28,
      "outputs": [
        {
          "output_type": "stream",
          "name": "stdout",
          "text": [
            " Train Size :((2080, 1280, 14), (2080, 2)) | Test Size : ((260, 1280, 14), (260, 2)) | Validation Size: ((260, 1280, 14), (260, 2))\n"
          ]
        }
      ]
    },
    {
      "cell_type": "markdown",
      "source": [
        "## Modelling"
      ],
      "metadata": {
        "id": "441UMr7QGgAQ"
      }
    },
    {
      "cell_type": "code",
      "source": [
        "class mlp(nn.Module):\n",
        "\n",
        "  def __init__(self):\n",
        "    super(mlp,self).__init__()\n",
        "\n",
        "    self.fc1 = nn.Sequential(\n",
        "        nn.Dropout(0.5),\n",
        "        nn.Linear(1280*14,1000),\n",
        "        nn.Sigmoid(),\n",
        "        nn.Dropout(0.5),\n",
        "        nn.Linear(1000,1000),\n",
        "        nn.Sigmoid(),\n",
        "        nn.Linear(1000,100),\n",
        "        nn.Sigmoid(),\n",
        "        nn.Linear(100,2),\n",
        "        nn.Sigmoid(),\n",
        "        nn.Linear(2,2),\n",
        "        nn.ReLU()\n",
        "    )\n",
        "\n",
        "\n",
        "  def forward(self,x):\n",
        "\n",
        "    x = x.view(x.size()[0],-1)\n",
        "    x = self.fc1(x.to(torch.float32))\n",
        "\n",
        "    return x\n",
        "\n",
        "class cnn(nn.Module):\n",
        "\n",
        "  def __init__(self):\n",
        "    super(cnn,self).__init__()\n",
        "\n",
        "    self.conv = nn.Sequential(\n",
        "      # nn.Dropout(0.05),\n",
        "      nn.BatchNorm1d(14),\n",
        "      nn.Conv1d(14,14,kernel_size=64,stride=32,padding=0), # OUTPUT: C=14, L=39\n",
        "      nn.Tanh(),\n",
        "      nn.AvgPool1d(kernel_size=3,stride=2), # OUTPUT: C=14, L=19\n",
        "      # nn.Dropout(0.05),\n",
        "      # nn.Conv1d(14,14,kernel_size=2,stride=1,padding=0), #OUTPUT: C=14, L=18\n",
        "      # nn.ReLU(),\n",
        "      # nn.AvgPool1d(kernel_size=5,stride=1), # OUTPUT: C=14, L=14\n",
        "    )\n",
        "\n",
        "    self.fc = nn.Sequential(\n",
        "        nn.Linear(14*19,98),\n",
        "        nn.Tanh(),\n",
        "        nn.Linear(98,2),\n",
        "        nn.LeakyReLU()\n",
        "    )\n",
        "\n",
        "  def forward(self,x):\n",
        "    x = torch.transpose(x,1,2)\n",
        "    x = self.conv(x)\n",
        "    x = x.view(x.size()[0],-1)\n",
        "    x = self.fc(x)\n",
        "\n",
        "    return x\n"
      ],
      "metadata": {
        "id": "2NtjORCgH0-A"
      },
      "execution_count": 29,
      "outputs": []
    },
    {
      "cell_type": "code",
      "source": [
        "# torch.backends.cuda.cufft_plan_cache[0].max_size = 0"
      ],
      "metadata": {
        "id": "tT8aJiRuTu7v"
      },
      "execution_count": 30,
      "outputs": []
    },
    {
      "cell_type": "code",
      "source": [
        "from tqdm import tqdm\n",
        "\n",
        "history = {\n",
        "    \"loss\":[],\n",
        "    \"val_loss\":[]\n",
        "}\n",
        "\n",
        "model = cnn()\n",
        "model = model.to(device_)\n",
        "\n",
        "epochs = 100\n",
        "lr_ = 0.001\n",
        "\n",
        "optimizer = optim.Adam(model.parameters(),lr=lr_)\n",
        "learning_rate = torch.optim.lr_scheduler.ReduceLROnPlateau(optimizer=optimizer, mode=\"min\", factor=0.1, patience=5)\n",
        "loss_fn = nn.MSELoss()\n",
        "\n",
        "train_loss, val_loss = [], []\n",
        "\n",
        "for e in tqdm(range(epochs)):\n",
        "\n",
        "  running_loss = 0.0\n",
        "  val_running_loss = 0.0\n",
        "  steps = 0\n",
        "\n",
        "  for i in range(5):\n",
        "\n",
        "    indices = torch.randperm(X_train.size()[0])[:train_batch_size]\n",
        "\n",
        "    x_ = X_train[indices,::].to(torch.float)\n",
        "    x_ = abs(torch.fft.fft2(x_))\n",
        "    y_ = y_train[indices,::].to(torch.float)\n",
        "\n",
        "    x_ = x_.to(device_)\n",
        "    y_ = y_.to(device_)\n",
        "\n",
        "    model =model.train()\n",
        "\n",
        "    optimizer.zero_grad()\n",
        "\n",
        "    y_est = model(x_)\n",
        "    y_est = y_est.requires_grad_(True)\n",
        "\n",
        "    loss = loss_fn(y_est,y_)\n",
        "    running_loss += loss.item()\n",
        "\n",
        "    loss.backward()\n",
        "    nn.utils.clip_grad_norm_(model.parameters(), 1)\n",
        "    optimizer.step()\n",
        "\n",
        "    steps += 1\n",
        "\n",
        "    # if steps == 5:\n",
        "    #   break\n",
        "\n",
        "  running_loss /= steps\n",
        "  history[\"loss\"].append(running_loss)\n",
        "\n",
        "  val_running_loss = 0.0\n",
        "  steps = 0\n",
        "\n",
        "  for batch, (x_val, y_val) in enumerate(val_dataloader):\n",
        "\n",
        "    x_val = x_val.to(torch.float)\n",
        "    x_val = abs(torch.fft.fft2(x_val))\n",
        "    y_val = y_val.to(torch.float)\n",
        "\n",
        "    x_val = x_val.to(device_)\n",
        "    y_val = y_val.to(device_)\n",
        "\n",
        "    model = model.eval()\n",
        "    y_est = model(x_val)\n",
        "\n",
        "    loss = loss_fn(y_est,y_val)\n",
        "    val_running_loss += loss.item()\n",
        "\n",
        "    steps += 1\n",
        "\n",
        "    # if steps == 5:\n",
        "    #   break\n",
        "\n",
        "\n",
        "  val_running_loss /= steps\n",
        "  history[\"val_loss\"].append(val_running_loss)\n",
        "\n",
        "  learning_rate.step(val_running_loss)\n",
        "  last_lr = learning_rate.get_last_lr()\n",
        "\n",
        "  print(\"----------------------------------------------------------------------------------\")\n",
        "  print(f\"Epoch: {e}/{epochs} | loss: {running_loss:.2f} |  validation loss: {val_running_loss:.2f} | learning rate: {last_lr}\")\n",
        "\n",
        "model = model.eval()\n",
        "\n",
        "y_ = model(X_test)\n",
        "y_test = y_test.requires_grad_(True)\n",
        "\n",
        "loss = loss_fn(y_test,y_)\n",
        "print(\"------------------------------------------------------------------------------------\")\n",
        "print(f\"Test Loss: {loss.item():.2f}\")\n",
        "print(\"------------------------------------------------------------------------------------\")\n",
        "\n",
        "print(\"Loss\")\n",
        "print(\" \")\n",
        "import matplotlib.pyplot as plt\n",
        "\n",
        "plt.plot(history[\"loss\"],label=\"loss\")\n",
        "plt.plot(history[\"val_loss\"],label=\"val_loss\")\n",
        "\n",
        "plt.title(f\"Test Loss: {loss.item():.2f}\")\n",
        "\n",
        "plt.grid()\n",
        "plt.legend()\n",
        "\n"
      ],
      "metadata": {
        "id": "ZLgY1HVJIabc",
        "outputId": "9e630250-6b81-4733-d0b7-fac504ac7869",
        "colab": {
          "base_uri": "https://localhost:8080/",
          "height": 1000
        }
      },
      "execution_count": 31,
      "outputs": [
        {
          "output_type": "stream",
          "name": "stderr",
          "text": [
            "\r  0%|          | 0/100 [00:00<?, ?it/s]/usr/lib/python3.10/multiprocessing/popen_fork.py:66: RuntimeWarning: os.fork() was called. os.fork() is incompatible with multithreaded code, and JAX is multithreaded, so this will likely lead to a deadlock.\n",
            "  self.pid = os.fork()\n",
            "  1%|          | 1/100 [00:00<01:38,  1.00it/s]"
          ]
        },
        {
          "output_type": "stream",
          "name": "stdout",
          "text": [
            "----------------------------------------------------------------------------------\n",
            "Epoch: 0/100 | loss: 0.19 |  validation loss: 0.10 | learning rate: [0.001]\n"
          ]
        },
        {
          "output_type": "stream",
          "name": "stderr",
          "text": [
            "\r  2%|▏         | 2/100 [00:01<01:35,  1.03it/s]"
          ]
        },
        {
          "output_type": "stream",
          "name": "stdout",
          "text": [
            "----------------------------------------------------------------------------------\n",
            "Epoch: 1/100 | loss: 0.13 |  validation loss: 0.18 | learning rate: [0.001]\n"
          ]
        },
        {
          "output_type": "stream",
          "name": "stderr",
          "text": [
            "\r  3%|▎         | 3/100 [00:03<01:38,  1.02s/it]"
          ]
        },
        {
          "output_type": "stream",
          "name": "stdout",
          "text": [
            "----------------------------------------------------------------------------------\n",
            "Epoch: 2/100 | loss: 0.11 |  validation loss: 0.11 | learning rate: [0.001]\n"
          ]
        },
        {
          "output_type": "stream",
          "name": "stderr",
          "text": [
            "\r  4%|▍         | 4/100 [00:04<01:37,  1.02s/it]"
          ]
        },
        {
          "output_type": "stream",
          "name": "stdout",
          "text": [
            "----------------------------------------------------------------------------------\n",
            "Epoch: 3/100 | loss: 0.10 |  validation loss: 0.12 | learning rate: [0.001]\n"
          ]
        },
        {
          "output_type": "stream",
          "name": "stderr",
          "text": [
            "\r  5%|▌         | 5/100 [00:04<01:33,  1.01it/s]"
          ]
        },
        {
          "output_type": "stream",
          "name": "stdout",
          "text": [
            "----------------------------------------------------------------------------------\n",
            "Epoch: 4/100 | loss: 0.09 |  validation loss: 0.08 | learning rate: [0.001]\n"
          ]
        },
        {
          "output_type": "stream",
          "name": "stderr",
          "text": [
            "\r  6%|▌         | 6/100 [00:05<01:24,  1.11it/s]"
          ]
        },
        {
          "output_type": "stream",
          "name": "stdout",
          "text": [
            "----------------------------------------------------------------------------------\n",
            "Epoch: 5/100 | loss: 0.08 |  validation loss: 0.09 | learning rate: [0.001]\n"
          ]
        },
        {
          "output_type": "stream",
          "name": "stderr",
          "text": [
            "\r  7%|▋         | 7/100 [00:06<01:23,  1.11it/s]"
          ]
        },
        {
          "output_type": "stream",
          "name": "stdout",
          "text": [
            "----------------------------------------------------------------------------------\n",
            "Epoch: 6/100 | loss: 0.08 |  validation loss: 0.10 | learning rate: [0.001]\n"
          ]
        },
        {
          "output_type": "stream",
          "name": "stderr",
          "text": [
            "\r  8%|▊         | 8/100 [00:07<01:22,  1.11it/s]"
          ]
        },
        {
          "output_type": "stream",
          "name": "stdout",
          "text": [
            "----------------------------------------------------------------------------------\n",
            "Epoch: 7/100 | loss: 0.08 |  validation loss: 0.09 | learning rate: [0.001]\n"
          ]
        },
        {
          "output_type": "stream",
          "name": "stderr",
          "text": [
            "\r  9%|▉         | 9/100 [00:08<01:25,  1.06it/s]"
          ]
        },
        {
          "output_type": "stream",
          "name": "stdout",
          "text": [
            "----------------------------------------------------------------------------------\n",
            "Epoch: 8/100 | loss: 0.08 |  validation loss: 0.08 | learning rate: [0.001]\n"
          ]
        },
        {
          "output_type": "stream",
          "name": "stderr",
          "text": [
            "\r 10%|█         | 10/100 [00:09<01:20,  1.11it/s]"
          ]
        },
        {
          "output_type": "stream",
          "name": "stdout",
          "text": [
            "----------------------------------------------------------------------------------\n",
            "Epoch: 9/100 | loss: 0.07 |  validation loss: 0.08 | learning rate: [0.001]\n"
          ]
        },
        {
          "output_type": "stream",
          "name": "stderr",
          "text": [
            "\r 11%|█         | 11/100 [00:10<01:18,  1.13it/s]"
          ]
        },
        {
          "output_type": "stream",
          "name": "stdout",
          "text": [
            "----------------------------------------------------------------------------------\n",
            "Epoch: 10/100 | loss: 0.07 |  validation loss: 0.08 | learning rate: [0.001]\n"
          ]
        },
        {
          "output_type": "stream",
          "name": "stderr",
          "text": [
            "\r 12%|█▏        | 12/100 [00:11<01:17,  1.13it/s]"
          ]
        },
        {
          "output_type": "stream",
          "name": "stdout",
          "text": [
            "----------------------------------------------------------------------------------\n",
            "Epoch: 11/100 | loss: 0.07 |  validation loss: 0.08 | learning rate: [0.001]\n"
          ]
        },
        {
          "output_type": "stream",
          "name": "stderr",
          "text": [
            "\r 13%|█▎        | 13/100 [00:12<01:19,  1.09it/s]"
          ]
        },
        {
          "output_type": "stream",
          "name": "stdout",
          "text": [
            "----------------------------------------------------------------------------------\n",
            "Epoch: 12/100 | loss: 0.07 |  validation loss: 0.08 | learning rate: [0.001]\n"
          ]
        },
        {
          "output_type": "stream",
          "name": "stderr",
          "text": [
            "\r 14%|█▍        | 14/100 [00:12<01:18,  1.10it/s]"
          ]
        },
        {
          "output_type": "stream",
          "name": "stdout",
          "text": [
            "----------------------------------------------------------------------------------\n",
            "Epoch: 13/100 | loss: 0.07 |  validation loss: 0.08 | learning rate: [0.001]\n"
          ]
        },
        {
          "output_type": "stream",
          "name": "stderr",
          "text": [
            "\r 15%|█▌        | 15/100 [00:14<01:21,  1.05it/s]"
          ]
        },
        {
          "output_type": "stream",
          "name": "stdout",
          "text": [
            "----------------------------------------------------------------------------------\n",
            "Epoch: 14/100 | loss: 0.06 |  validation loss: 0.08 | learning rate: [0.001]\n"
          ]
        },
        {
          "output_type": "stream",
          "name": "stderr",
          "text": [
            "\r 16%|█▌        | 16/100 [00:14<01:14,  1.13it/s]"
          ]
        },
        {
          "output_type": "stream",
          "name": "stdout",
          "text": [
            "----------------------------------------------------------------------------------\n",
            "Epoch: 15/100 | loss: 0.07 |  validation loss: 0.08 | learning rate: [0.001]\n"
          ]
        },
        {
          "output_type": "stream",
          "name": "stderr",
          "text": [
            "\r 17%|█▋        | 17/100 [00:15<01:16,  1.09it/s]"
          ]
        },
        {
          "output_type": "stream",
          "name": "stdout",
          "text": [
            "----------------------------------------------------------------------------------\n",
            "Epoch: 16/100 | loss: 0.07 |  validation loss: 0.08 | learning rate: [0.001]\n"
          ]
        },
        {
          "output_type": "stream",
          "name": "stderr",
          "text": [
            "\r 18%|█▊        | 18/100 [00:16<01:12,  1.14it/s]"
          ]
        },
        {
          "output_type": "stream",
          "name": "stdout",
          "text": [
            "----------------------------------------------------------------------------------\n",
            "Epoch: 17/100 | loss: 0.07 |  validation loss: 0.08 | learning rate: [0.001]\n"
          ]
        },
        {
          "output_type": "stream",
          "name": "stderr",
          "text": [
            "\r 19%|█▉        | 19/100 [00:17<01:10,  1.14it/s]"
          ]
        },
        {
          "output_type": "stream",
          "name": "stdout",
          "text": [
            "----------------------------------------------------------------------------------\n",
            "Epoch: 18/100 | loss: 0.06 |  validation loss: 0.08 | learning rate: [0.001]\n"
          ]
        },
        {
          "output_type": "stream",
          "name": "stderr",
          "text": [
            "\r 20%|██        | 20/100 [00:18<01:10,  1.14it/s]"
          ]
        },
        {
          "output_type": "stream",
          "name": "stdout",
          "text": [
            "----------------------------------------------------------------------------------\n",
            "Epoch: 19/100 | loss: 0.06 |  validation loss: 0.07 | learning rate: [0.001]\n"
          ]
        },
        {
          "output_type": "stream",
          "name": "stderr",
          "text": [
            "\r 21%|██        | 21/100 [00:19<01:11,  1.10it/s]"
          ]
        },
        {
          "output_type": "stream",
          "name": "stdout",
          "text": [
            "----------------------------------------------------------------------------------\n",
            "Epoch: 20/100 | loss: 0.06 |  validation loss: 0.07 | learning rate: [0.001]\n"
          ]
        },
        {
          "output_type": "stream",
          "name": "stderr",
          "text": [
            "\r 22%|██▏       | 22/100 [00:20<01:10,  1.11it/s]"
          ]
        },
        {
          "output_type": "stream",
          "name": "stdout",
          "text": [
            "----------------------------------------------------------------------------------\n",
            "Epoch: 21/100 | loss: 0.06 |  validation loss: 0.07 | learning rate: [0.001]\n"
          ]
        },
        {
          "output_type": "stream",
          "name": "stderr",
          "text": [
            "\r 23%|██▎       | 23/100 [00:20<01:06,  1.16it/s]"
          ]
        },
        {
          "output_type": "stream",
          "name": "stdout",
          "text": [
            "----------------------------------------------------------------------------------\n",
            "Epoch: 22/100 | loss: 0.05 |  validation loss: 0.07 | learning rate: [0.001]\n"
          ]
        },
        {
          "output_type": "stream",
          "name": "stderr",
          "text": [
            "\r 24%|██▍       | 24/100 [00:21<01:06,  1.14it/s]"
          ]
        },
        {
          "output_type": "stream",
          "name": "stdout",
          "text": [
            "----------------------------------------------------------------------------------\n",
            "Epoch: 23/100 | loss: 0.05 |  validation loss: 0.07 | learning rate: [0.001]\n"
          ]
        },
        {
          "output_type": "stream",
          "name": "stderr",
          "text": [
            "\r 25%|██▌       | 25/100 [00:22<01:05,  1.14it/s]"
          ]
        },
        {
          "output_type": "stream",
          "name": "stdout",
          "text": [
            "----------------------------------------------------------------------------------\n",
            "Epoch: 24/100 | loss: 0.05 |  validation loss: 0.07 | learning rate: [0.001]\n"
          ]
        },
        {
          "output_type": "stream",
          "name": "stderr",
          "text": [
            "\r 26%|██▌       | 26/100 [00:23<01:04,  1.15it/s]"
          ]
        },
        {
          "output_type": "stream",
          "name": "stdout",
          "text": [
            "----------------------------------------------------------------------------------\n",
            "Epoch: 25/100 | loss: 0.05 |  validation loss: 0.07 | learning rate: [0.001]\n"
          ]
        },
        {
          "output_type": "stream",
          "name": "stderr",
          "text": [
            "\r 27%|██▋       | 27/100 [00:24<01:03,  1.15it/s]"
          ]
        },
        {
          "output_type": "stream",
          "name": "stdout",
          "text": [
            "----------------------------------------------------------------------------------\n",
            "Epoch: 26/100 | loss: 0.05 |  validation loss: 0.07 | learning rate: [0.001]\n"
          ]
        },
        {
          "output_type": "stream",
          "name": "stderr",
          "text": [
            "\r 28%|██▊       | 28/100 [00:25<01:01,  1.17it/s]"
          ]
        },
        {
          "output_type": "stream",
          "name": "stdout",
          "text": [
            "----------------------------------------------------------------------------------\n",
            "Epoch: 27/100 | loss: 0.05 |  validation loss: 0.08 | learning rate: [0.001]\n"
          ]
        },
        {
          "output_type": "stream",
          "name": "stderr",
          "text": [
            "\r 29%|██▉       | 29/100 [00:26<01:00,  1.17it/s]"
          ]
        },
        {
          "output_type": "stream",
          "name": "stdout",
          "text": [
            "----------------------------------------------------------------------------------\n",
            "Epoch: 28/100 | loss: 0.05 |  validation loss: 0.07 | learning rate: [0.001]\n"
          ]
        },
        {
          "output_type": "stream",
          "name": "stderr",
          "text": [
            "\r 30%|███       | 30/100 [00:27<01:00,  1.15it/s]"
          ]
        },
        {
          "output_type": "stream",
          "name": "stdout",
          "text": [
            "----------------------------------------------------------------------------------\n",
            "Epoch: 29/100 | loss: 0.05 |  validation loss: 0.07 | learning rate: [0.001]\n"
          ]
        },
        {
          "output_type": "stream",
          "name": "stderr",
          "text": [
            "\r 31%|███       | 31/100 [00:27<01:00,  1.14it/s]"
          ]
        },
        {
          "output_type": "stream",
          "name": "stdout",
          "text": [
            "----------------------------------------------------------------------------------\n",
            "Epoch: 30/100 | loss: 0.05 |  validation loss: 0.07 | learning rate: [0.001]\n"
          ]
        },
        {
          "output_type": "stream",
          "name": "stderr",
          "text": [
            "\r 32%|███▏      | 32/100 [00:28<01:00,  1.12it/s]"
          ]
        },
        {
          "output_type": "stream",
          "name": "stdout",
          "text": [
            "----------------------------------------------------------------------------------\n",
            "Epoch: 31/100 | loss: 0.04 |  validation loss: 0.07 | learning rate: [0.001]\n"
          ]
        },
        {
          "output_type": "stream",
          "name": "stderr",
          "text": [
            "\r 33%|███▎      | 33/100 [00:29<01:03,  1.06it/s]"
          ]
        },
        {
          "output_type": "stream",
          "name": "stdout",
          "text": [
            "----------------------------------------------------------------------------------\n",
            "Epoch: 32/100 | loss: 0.04 |  validation loss: 0.07 | learning rate: [0.001]\n"
          ]
        },
        {
          "output_type": "stream",
          "name": "stderr",
          "text": [
            "\r 34%|███▍      | 34/100 [00:30<01:02,  1.05it/s]"
          ]
        },
        {
          "output_type": "stream",
          "name": "stdout",
          "text": [
            "----------------------------------------------------------------------------------\n",
            "Epoch: 33/100 | loss: 0.04 |  validation loss: 0.07 | learning rate: [0.001]\n"
          ]
        },
        {
          "output_type": "stream",
          "name": "stderr",
          "text": [
            "\r 35%|███▌      | 35/100 [00:31<01:03,  1.03it/s]"
          ]
        },
        {
          "output_type": "stream",
          "name": "stdout",
          "text": [
            "----------------------------------------------------------------------------------\n",
            "Epoch: 34/100 | loss: 0.04 |  validation loss: 0.07 | learning rate: [0.0001]\n"
          ]
        },
        {
          "output_type": "stream",
          "name": "stderr",
          "text": [
            "\r 36%|███▌      | 36/100 [00:32<01:02,  1.03it/s]"
          ]
        },
        {
          "output_type": "stream",
          "name": "stdout",
          "text": [
            "----------------------------------------------------------------------------------\n",
            "Epoch: 35/100 | loss: 0.04 |  validation loss: 0.07 | learning rate: [0.0001]\n"
          ]
        },
        {
          "output_type": "stream",
          "name": "stderr",
          "text": [
            "\r 37%|███▋      | 37/100 [00:33<00:59,  1.05it/s]"
          ]
        },
        {
          "output_type": "stream",
          "name": "stdout",
          "text": [
            "----------------------------------------------------------------------------------\n",
            "Epoch: 36/100 | loss: 0.04 |  validation loss: 0.07 | learning rate: [0.0001]\n"
          ]
        },
        {
          "output_type": "stream",
          "name": "stderr",
          "text": [
            "\r 38%|███▊      | 38/100 [00:34<00:56,  1.10it/s]"
          ]
        },
        {
          "output_type": "stream",
          "name": "stdout",
          "text": [
            "----------------------------------------------------------------------------------\n",
            "Epoch: 37/100 | loss: 0.04 |  validation loss: 0.07 | learning rate: [0.0001]\n"
          ]
        },
        {
          "output_type": "stream",
          "name": "stderr",
          "text": [
            "\r 39%|███▉      | 39/100 [00:35<00:53,  1.15it/s]"
          ]
        },
        {
          "output_type": "stream",
          "name": "stdout",
          "text": [
            "----------------------------------------------------------------------------------\n",
            "Epoch: 38/100 | loss: 0.04 |  validation loss: 0.07 | learning rate: [0.0001]\n"
          ]
        },
        {
          "output_type": "stream",
          "name": "stderr",
          "text": [
            "\r 40%|████      | 40/100 [00:36<00:51,  1.16it/s]"
          ]
        },
        {
          "output_type": "stream",
          "name": "stdout",
          "text": [
            "----------------------------------------------------------------------------------\n",
            "Epoch: 39/100 | loss: 0.04 |  validation loss: 0.07 | learning rate: [0.0001]\n"
          ]
        },
        {
          "output_type": "stream",
          "name": "stderr",
          "text": [
            "\r 41%|████      | 41/100 [00:37<00:52,  1.12it/s]"
          ]
        },
        {
          "output_type": "stream",
          "name": "stdout",
          "text": [
            "----------------------------------------------------------------------------------\n",
            "Epoch: 40/100 | loss: 0.04 |  validation loss: 0.07 | learning rate: [1e-05]\n"
          ]
        },
        {
          "output_type": "stream",
          "name": "stderr",
          "text": [
            "\r 42%|████▏     | 42/100 [00:37<00:50,  1.16it/s]"
          ]
        },
        {
          "output_type": "stream",
          "name": "stdout",
          "text": [
            "----------------------------------------------------------------------------------\n",
            "Epoch: 41/100 | loss: 0.04 |  validation loss: 0.07 | learning rate: [1e-05]\n"
          ]
        },
        {
          "output_type": "stream",
          "name": "stderr",
          "text": [
            "\r 43%|████▎     | 43/100 [00:38<00:46,  1.22it/s]"
          ]
        },
        {
          "output_type": "stream",
          "name": "stdout",
          "text": [
            "----------------------------------------------------------------------------------\n",
            "Epoch: 42/100 | loss: 0.04 |  validation loss: 0.07 | learning rate: [1e-05]\n"
          ]
        },
        {
          "output_type": "stream",
          "name": "stderr",
          "text": [
            "\r 44%|████▍     | 44/100 [00:39<00:49,  1.13it/s]"
          ]
        },
        {
          "output_type": "stream",
          "name": "stdout",
          "text": [
            "----------------------------------------------------------------------------------\n",
            "Epoch: 43/100 | loss: 0.04 |  validation loss: 0.07 | learning rate: [1e-05]\n"
          ]
        },
        {
          "output_type": "stream",
          "name": "stderr",
          "text": [
            "\r 45%|████▌     | 45/100 [00:40<00:48,  1.14it/s]"
          ]
        },
        {
          "output_type": "stream",
          "name": "stdout",
          "text": [
            "----------------------------------------------------------------------------------\n",
            "Epoch: 44/100 | loss: 0.04 |  validation loss: 0.07 | learning rate: [1e-05]\n"
          ]
        },
        {
          "output_type": "stream",
          "name": "stderr",
          "text": [
            "\r 46%|████▌     | 46/100 [00:41<00:48,  1.12it/s]"
          ]
        },
        {
          "output_type": "stream",
          "name": "stdout",
          "text": [
            "----------------------------------------------------------------------------------\n",
            "Epoch: 45/100 | loss: 0.03 |  validation loss: 0.07 | learning rate: [1e-05]\n"
          ]
        },
        {
          "output_type": "stream",
          "name": "stderr",
          "text": [
            "\r 47%|████▋     | 47/100 [00:42<00:45,  1.18it/s]"
          ]
        },
        {
          "output_type": "stream",
          "name": "stdout",
          "text": [
            "----------------------------------------------------------------------------------\n",
            "Epoch: 46/100 | loss: 0.04 |  validation loss: 0.07 | learning rate: [1e-05]\n"
          ]
        },
        {
          "output_type": "stream",
          "name": "stderr",
          "text": [
            "\r 48%|████▊     | 48/100 [00:43<00:45,  1.13it/s]"
          ]
        },
        {
          "output_type": "stream",
          "name": "stdout",
          "text": [
            "----------------------------------------------------------------------------------\n",
            "Epoch: 47/100 | loss: 0.04 |  validation loss: 0.07 | learning rate: [1e-05]\n"
          ]
        },
        {
          "output_type": "stream",
          "name": "stderr",
          "text": [
            "\r 49%|████▉     | 49/100 [00:44<00:46,  1.10it/s]"
          ]
        },
        {
          "output_type": "stream",
          "name": "stdout",
          "text": [
            "----------------------------------------------------------------------------------\n",
            "Epoch: 48/100 | loss: 0.03 |  validation loss: 0.07 | learning rate: [1e-05]\n"
          ]
        },
        {
          "output_type": "stream",
          "name": "stderr",
          "text": [
            "\r 50%|█████     | 50/100 [00:45<00:46,  1.08it/s]"
          ]
        },
        {
          "output_type": "stream",
          "name": "stdout",
          "text": [
            "----------------------------------------------------------------------------------\n",
            "Epoch: 49/100 | loss: 0.04 |  validation loss: 0.07 | learning rate: [1e-05]\n"
          ]
        },
        {
          "output_type": "stream",
          "name": "stderr",
          "text": [
            "\r 51%|█████     | 51/100 [00:46<00:45,  1.07it/s]"
          ]
        },
        {
          "output_type": "stream",
          "name": "stdout",
          "text": [
            "----------------------------------------------------------------------------------\n",
            "Epoch: 50/100 | loss: 0.04 |  validation loss: 0.07 | learning rate: [1e-05]\n"
          ]
        },
        {
          "output_type": "stream",
          "name": "stderr",
          "text": [
            "\r 52%|█████▏    | 52/100 [00:46<00:44,  1.08it/s]"
          ]
        },
        {
          "output_type": "stream",
          "name": "stdout",
          "text": [
            "----------------------------------------------------------------------------------\n",
            "Epoch: 51/100 | loss: 0.04 |  validation loss: 0.07 | learning rate: [1.0000000000000002e-06]\n"
          ]
        },
        {
          "output_type": "stream",
          "name": "stderr",
          "text": [
            "\r 53%|█████▎    | 53/100 [00:48<00:45,  1.04it/s]"
          ]
        },
        {
          "output_type": "stream",
          "name": "stdout",
          "text": [
            "----------------------------------------------------------------------------------\n",
            "Epoch: 52/100 | loss: 0.04 |  validation loss: 0.07 | learning rate: [1.0000000000000002e-06]\n"
          ]
        },
        {
          "output_type": "stream",
          "name": "stderr",
          "text": [
            "\r 54%|█████▍    | 54/100 [00:48<00:40,  1.12it/s]"
          ]
        },
        {
          "output_type": "stream",
          "name": "stdout",
          "text": [
            "----------------------------------------------------------------------------------\n",
            "Epoch: 53/100 | loss: 0.04 |  validation loss: 0.07 | learning rate: [1.0000000000000002e-06]\n"
          ]
        },
        {
          "output_type": "stream",
          "name": "stderr",
          "text": [
            "\r 55%|█████▌    | 55/100 [00:49<00:37,  1.19it/s]"
          ]
        },
        {
          "output_type": "stream",
          "name": "stdout",
          "text": [
            "----------------------------------------------------------------------------------\n",
            "Epoch: 54/100 | loss: 0.04 |  validation loss: 0.07 | learning rate: [1.0000000000000002e-06]\n"
          ]
        },
        {
          "output_type": "stream",
          "name": "stderr",
          "text": [
            "\r 56%|█████▌    | 56/100 [00:50<00:39,  1.11it/s]"
          ]
        },
        {
          "output_type": "stream",
          "name": "stdout",
          "text": [
            "----------------------------------------------------------------------------------\n",
            "Epoch: 55/100 | loss: 0.03 |  validation loss: 0.07 | learning rate: [1.0000000000000002e-06]\n"
          ]
        },
        {
          "output_type": "stream",
          "name": "stderr",
          "text": [
            "\r 57%|█████▋    | 57/100 [00:51<00:38,  1.11it/s]"
          ]
        },
        {
          "output_type": "stream",
          "name": "stdout",
          "text": [
            "----------------------------------------------------------------------------------\n",
            "Epoch: 56/100 | loss: 0.04 |  validation loss: 0.07 | learning rate: [1.0000000000000002e-06]\n"
          ]
        },
        {
          "output_type": "stream",
          "name": "stderr",
          "text": [
            "\r 58%|█████▊    | 58/100 [00:52<00:38,  1.09it/s]"
          ]
        },
        {
          "output_type": "stream",
          "name": "stdout",
          "text": [
            "----------------------------------------------------------------------------------\n",
            "Epoch: 57/100 | loss: 0.04 |  validation loss: 0.07 | learning rate: [1.0000000000000002e-07]\n"
          ]
        },
        {
          "output_type": "stream",
          "name": "stderr",
          "text": [
            "\r 59%|█████▉    | 59/100 [00:53<00:36,  1.12it/s]"
          ]
        },
        {
          "output_type": "stream",
          "name": "stdout",
          "text": [
            "----------------------------------------------------------------------------------\n",
            "Epoch: 58/100 | loss: 0.04 |  validation loss: 0.07 | learning rate: [1.0000000000000002e-07]\n"
          ]
        },
        {
          "output_type": "stream",
          "name": "stderr",
          "text": [
            "\r 60%|██████    | 60/100 [00:54<00:35,  1.11it/s]"
          ]
        },
        {
          "output_type": "stream",
          "name": "stdout",
          "text": [
            "----------------------------------------------------------------------------------\n",
            "Epoch: 59/100 | loss: 0.03 |  validation loss: 0.07 | learning rate: [1.0000000000000002e-07]\n"
          ]
        },
        {
          "output_type": "stream",
          "name": "stderr",
          "text": [
            "\r 61%|██████    | 61/100 [00:55<00:35,  1.09it/s]"
          ]
        },
        {
          "output_type": "stream",
          "name": "stdout",
          "text": [
            "----------------------------------------------------------------------------------\n",
            "Epoch: 60/100 | loss: 0.04 |  validation loss: 0.07 | learning rate: [1.0000000000000002e-07]\n"
          ]
        },
        {
          "output_type": "stream",
          "name": "stderr",
          "text": [
            "\r 62%|██████▏   | 62/100 [00:55<00:33,  1.13it/s]"
          ]
        },
        {
          "output_type": "stream",
          "name": "stdout",
          "text": [
            "----------------------------------------------------------------------------------\n",
            "Epoch: 61/100 | loss: 0.04 |  validation loss: 0.07 | learning rate: [1.0000000000000002e-07]\n"
          ]
        },
        {
          "output_type": "stream",
          "name": "stderr",
          "text": [
            "\r 63%|██████▎   | 63/100 [00:56<00:33,  1.10it/s]"
          ]
        },
        {
          "output_type": "stream",
          "name": "stdout",
          "text": [
            "----------------------------------------------------------------------------------\n",
            "Epoch: 62/100 | loss: 0.04 |  validation loss: 0.07 | learning rate: [1.0000000000000002e-07]\n"
          ]
        },
        {
          "output_type": "stream",
          "name": "stderr",
          "text": [
            "\r 64%|██████▍   | 64/100 [00:57<00:31,  1.13it/s]"
          ]
        },
        {
          "output_type": "stream",
          "name": "stdout",
          "text": [
            "----------------------------------------------------------------------------------\n",
            "Epoch: 63/100 | loss: 0.04 |  validation loss: 0.07 | learning rate: [1.0000000000000004e-08]\n"
          ]
        },
        {
          "output_type": "stream",
          "name": "stderr",
          "text": [
            "\r 65%|██████▌   | 65/100 [00:58<00:31,  1.12it/s]"
          ]
        },
        {
          "output_type": "stream",
          "name": "stdout",
          "text": [
            "----------------------------------------------------------------------------------\n",
            "Epoch: 64/100 | loss: 0.04 |  validation loss: 0.07 | learning rate: [1.0000000000000004e-08]\n"
          ]
        },
        {
          "output_type": "stream",
          "name": "stderr",
          "text": [
            "\r 66%|██████▌   | 66/100 [00:59<00:31,  1.08it/s]"
          ]
        },
        {
          "output_type": "stream",
          "name": "stdout",
          "text": [
            "----------------------------------------------------------------------------------\n",
            "Epoch: 65/100 | loss: 0.04 |  validation loss: 0.07 | learning rate: [1.0000000000000004e-08]\n"
          ]
        },
        {
          "output_type": "stream",
          "name": "stderr",
          "text": [
            "\r 67%|██████▋   | 67/100 [01:00<00:30,  1.10it/s]"
          ]
        },
        {
          "output_type": "stream",
          "name": "stdout",
          "text": [
            "----------------------------------------------------------------------------------\n",
            "Epoch: 66/100 | loss: 0.04 |  validation loss: 0.07 | learning rate: [1.0000000000000004e-08]\n"
          ]
        },
        {
          "output_type": "stream",
          "name": "stderr",
          "text": [
            "\r 68%|██████▊   | 68/100 [01:01<00:29,  1.07it/s]"
          ]
        },
        {
          "output_type": "stream",
          "name": "stdout",
          "text": [
            "----------------------------------------------------------------------------------\n",
            "Epoch: 67/100 | loss: 0.04 |  validation loss: 0.07 | learning rate: [1.0000000000000004e-08]\n"
          ]
        },
        {
          "output_type": "stream",
          "name": "stderr",
          "text": [
            "\r 69%|██████▉   | 69/100 [01:02<00:28,  1.10it/s]"
          ]
        },
        {
          "output_type": "stream",
          "name": "stdout",
          "text": [
            "----------------------------------------------------------------------------------\n",
            "Epoch: 68/100 | loss: 0.04 |  validation loss: 0.07 | learning rate: [1.0000000000000004e-08]\n"
          ]
        },
        {
          "output_type": "stream",
          "name": "stderr",
          "text": [
            "\r 70%|███████   | 70/100 [01:03<00:27,  1.09it/s]"
          ]
        },
        {
          "output_type": "stream",
          "name": "stdout",
          "text": [
            "----------------------------------------------------------------------------------\n",
            "Epoch: 69/100 | loss: 0.04 |  validation loss: 0.07 | learning rate: [1.0000000000000004e-08]\n"
          ]
        },
        {
          "output_type": "stream",
          "name": "stderr",
          "text": [
            "\r 71%|███████   | 71/100 [01:04<00:27,  1.06it/s]"
          ]
        },
        {
          "output_type": "stream",
          "name": "stdout",
          "text": [
            "----------------------------------------------------------------------------------\n",
            "Epoch: 70/100 | loss: 0.04 |  validation loss: 0.07 | learning rate: [1.0000000000000004e-08]\n"
          ]
        },
        {
          "output_type": "stream",
          "name": "stderr",
          "text": [
            "\r 72%|███████▏  | 72/100 [01:05<00:25,  1.08it/s]"
          ]
        },
        {
          "output_type": "stream",
          "name": "stdout",
          "text": [
            "----------------------------------------------------------------------------------\n",
            "Epoch: 71/100 | loss: 0.04 |  validation loss: 0.07 | learning rate: [1.0000000000000004e-08]\n"
          ]
        },
        {
          "output_type": "stream",
          "name": "stderr",
          "text": [
            "\r 73%|███████▎  | 73/100 [01:06<00:24,  1.09it/s]"
          ]
        },
        {
          "output_type": "stream",
          "name": "stdout",
          "text": [
            "----------------------------------------------------------------------------------\n",
            "Epoch: 72/100 | loss: 0.04 |  validation loss: 0.07 | learning rate: [1.0000000000000004e-08]\n"
          ]
        },
        {
          "output_type": "stream",
          "name": "stderr",
          "text": [
            "\r 74%|███████▍  | 74/100 [01:06<00:23,  1.09it/s]"
          ]
        },
        {
          "output_type": "stream",
          "name": "stdout",
          "text": [
            "----------------------------------------------------------------------------------\n",
            "Epoch: 73/100 | loss: 0.04 |  validation loss: 0.07 | learning rate: [1.0000000000000004e-08]\n"
          ]
        },
        {
          "output_type": "stream",
          "name": "stderr",
          "text": [
            "\r 75%|███████▌  | 75/100 [01:07<00:23,  1.06it/s]"
          ]
        },
        {
          "output_type": "stream",
          "name": "stdout",
          "text": [
            "----------------------------------------------------------------------------------\n",
            "Epoch: 74/100 | loss: 0.04 |  validation loss: 0.07 | learning rate: [1.0000000000000004e-08]\n"
          ]
        },
        {
          "output_type": "stream",
          "name": "stderr",
          "text": [
            "\r 76%|███████▌  | 76/100 [01:08<00:22,  1.08it/s]"
          ]
        },
        {
          "output_type": "stream",
          "name": "stdout",
          "text": [
            "----------------------------------------------------------------------------------\n",
            "Epoch: 75/100 | loss: 0.04 |  validation loss: 0.07 | learning rate: [1.0000000000000004e-08]\n"
          ]
        },
        {
          "output_type": "stream",
          "name": "stderr",
          "text": [
            "\r 77%|███████▋  | 77/100 [01:09<00:20,  1.12it/s]"
          ]
        },
        {
          "output_type": "stream",
          "name": "stdout",
          "text": [
            "----------------------------------------------------------------------------------\n",
            "Epoch: 76/100 | loss: 0.04 |  validation loss: 0.07 | learning rate: [1.0000000000000004e-08]\n"
          ]
        },
        {
          "output_type": "stream",
          "name": "stderr",
          "text": [
            "\r 78%|███████▊  | 78/100 [01:10<00:19,  1.13it/s]"
          ]
        },
        {
          "output_type": "stream",
          "name": "stdout",
          "text": [
            "----------------------------------------------------------------------------------\n",
            "Epoch: 77/100 | loss: 0.04 |  validation loss: 0.07 | learning rate: [1.0000000000000004e-08]\n"
          ]
        },
        {
          "output_type": "stream",
          "name": "stderr",
          "text": [
            "\r 79%|███████▉  | 79/100 [01:11<00:18,  1.14it/s]"
          ]
        },
        {
          "output_type": "stream",
          "name": "stdout",
          "text": [
            "----------------------------------------------------------------------------------\n",
            "Epoch: 78/100 | loss: 0.04 |  validation loss: 0.07 | learning rate: [1.0000000000000004e-08]\n"
          ]
        },
        {
          "output_type": "stream",
          "name": "stderr",
          "text": [
            "\r 80%|████████  | 80/100 [01:12<00:17,  1.13it/s]"
          ]
        },
        {
          "output_type": "stream",
          "name": "stdout",
          "text": [
            "----------------------------------------------------------------------------------\n",
            "Epoch: 79/100 | loss: 0.04 |  validation loss: 0.07 | learning rate: [1.0000000000000004e-08]\n"
          ]
        },
        {
          "output_type": "stream",
          "name": "stderr",
          "text": [
            "\r 81%|████████  | 81/100 [01:13<00:17,  1.10it/s]"
          ]
        },
        {
          "output_type": "stream",
          "name": "stdout",
          "text": [
            "----------------------------------------------------------------------------------\n",
            "Epoch: 80/100 | loss: 0.04 |  validation loss: 0.07 | learning rate: [1.0000000000000004e-08]\n"
          ]
        },
        {
          "output_type": "stream",
          "name": "stderr",
          "text": [
            "\r 82%|████████▏ | 82/100 [01:14<00:15,  1.13it/s]"
          ]
        },
        {
          "output_type": "stream",
          "name": "stdout",
          "text": [
            "----------------------------------------------------------------------------------\n",
            "Epoch: 81/100 | loss: 0.04 |  validation loss: 0.07 | learning rate: [1.0000000000000004e-08]\n"
          ]
        },
        {
          "output_type": "stream",
          "name": "stderr",
          "text": [
            "\r 83%|████████▎ | 83/100 [01:15<00:15,  1.09it/s]"
          ]
        },
        {
          "output_type": "stream",
          "name": "stdout",
          "text": [
            "----------------------------------------------------------------------------------\n",
            "Epoch: 82/100 | loss: 0.03 |  validation loss: 0.07 | learning rate: [1.0000000000000004e-08]\n"
          ]
        },
        {
          "output_type": "stream",
          "name": "stderr",
          "text": [
            "\r 84%|████████▍ | 84/100 [01:15<00:14,  1.12it/s]"
          ]
        },
        {
          "output_type": "stream",
          "name": "stdout",
          "text": [
            "----------------------------------------------------------------------------------\n",
            "Epoch: 83/100 | loss: 0.04 |  validation loss: 0.07 | learning rate: [1.0000000000000004e-08]\n"
          ]
        },
        {
          "output_type": "stream",
          "name": "stderr",
          "text": [
            "\r 85%|████████▌ | 85/100 [01:16<00:12,  1.17it/s]"
          ]
        },
        {
          "output_type": "stream",
          "name": "stdout",
          "text": [
            "----------------------------------------------------------------------------------\n",
            "Epoch: 84/100 | loss: 0.04 |  validation loss: 0.07 | learning rate: [1.0000000000000004e-08]\n"
          ]
        },
        {
          "output_type": "stream",
          "name": "stderr",
          "text": [
            "\r 86%|████████▌ | 86/100 [01:17<00:12,  1.09it/s]"
          ]
        },
        {
          "output_type": "stream",
          "name": "stdout",
          "text": [
            "----------------------------------------------------------------------------------\n",
            "Epoch: 85/100 | loss: 0.03 |  validation loss: 0.07 | learning rate: [1.0000000000000004e-08]\n"
          ]
        },
        {
          "output_type": "stream",
          "name": "stderr",
          "text": [
            "\r 87%|████████▋ | 87/100 [01:18<00:11,  1.10it/s]"
          ]
        },
        {
          "output_type": "stream",
          "name": "stdout",
          "text": [
            "----------------------------------------------------------------------------------\n",
            "Epoch: 86/100 | loss: 0.04 |  validation loss: 0.07 | learning rate: [1.0000000000000004e-08]\n"
          ]
        },
        {
          "output_type": "stream",
          "name": "stderr",
          "text": [
            "\r 88%|████████▊ | 88/100 [01:19<00:11,  1.07it/s]"
          ]
        },
        {
          "output_type": "stream",
          "name": "stdout",
          "text": [
            "----------------------------------------------------------------------------------\n",
            "Epoch: 87/100 | loss: 0.04 |  validation loss: 0.07 | learning rate: [1.0000000000000004e-08]\n"
          ]
        },
        {
          "output_type": "stream",
          "name": "stderr",
          "text": [
            "\r 89%|████████▉ | 89/100 [01:20<00:10,  1.09it/s]"
          ]
        },
        {
          "output_type": "stream",
          "name": "stdout",
          "text": [
            "----------------------------------------------------------------------------------\n",
            "Epoch: 88/100 | loss: 0.03 |  validation loss: 0.07 | learning rate: [1.0000000000000004e-08]\n"
          ]
        },
        {
          "output_type": "stream",
          "name": "stderr",
          "text": [
            "\r 90%|█████████ | 90/100 [01:21<00:08,  1.13it/s]"
          ]
        },
        {
          "output_type": "stream",
          "name": "stdout",
          "text": [
            "----------------------------------------------------------------------------------\n",
            "Epoch: 89/100 | loss: 0.04 |  validation loss: 0.07 | learning rate: [1.0000000000000004e-08]\n"
          ]
        },
        {
          "output_type": "stream",
          "name": "stderr",
          "text": [
            "\r 91%|█████████ | 91/100 [01:22<00:07,  1.16it/s]"
          ]
        },
        {
          "output_type": "stream",
          "name": "stdout",
          "text": [
            "----------------------------------------------------------------------------------\n",
            "Epoch: 90/100 | loss: 0.04 |  validation loss: 0.07 | learning rate: [1.0000000000000004e-08]\n"
          ]
        },
        {
          "output_type": "stream",
          "name": "stderr",
          "text": [
            "\r 92%|█████████▏| 92/100 [01:22<00:06,  1.19it/s]"
          ]
        },
        {
          "output_type": "stream",
          "name": "stdout",
          "text": [
            "----------------------------------------------------------------------------------\n",
            "Epoch: 91/100 | loss: 0.03 |  validation loss: 0.07 | learning rate: [1.0000000000000004e-08]\n"
          ]
        },
        {
          "output_type": "stream",
          "name": "stderr",
          "text": [
            "\r 93%|█████████▎| 93/100 [01:23<00:05,  1.21it/s]"
          ]
        },
        {
          "output_type": "stream",
          "name": "stdout",
          "text": [
            "----------------------------------------------------------------------------------\n",
            "Epoch: 92/100 | loss: 0.04 |  validation loss: 0.07 | learning rate: [1.0000000000000004e-08]\n"
          ]
        },
        {
          "output_type": "stream",
          "name": "stderr",
          "text": [
            "\r 94%|█████████▍| 94/100 [01:24<00:04,  1.20it/s]"
          ]
        },
        {
          "output_type": "stream",
          "name": "stdout",
          "text": [
            "----------------------------------------------------------------------------------\n",
            "Epoch: 93/100 | loss: 0.03 |  validation loss: 0.07 | learning rate: [1.0000000000000004e-08]\n"
          ]
        },
        {
          "output_type": "stream",
          "name": "stderr",
          "text": [
            "\r 95%|█████████▌| 95/100 [01:25<00:04,  1.23it/s]"
          ]
        },
        {
          "output_type": "stream",
          "name": "stdout",
          "text": [
            "----------------------------------------------------------------------------------\n",
            "Epoch: 94/100 | loss: 0.03 |  validation loss: 0.07 | learning rate: [1.0000000000000004e-08]\n"
          ]
        },
        {
          "output_type": "stream",
          "name": "stderr",
          "text": [
            "\r 96%|█████████▌| 96/100 [01:26<00:03,  1.16it/s]"
          ]
        },
        {
          "output_type": "stream",
          "name": "stdout",
          "text": [
            "----------------------------------------------------------------------------------\n",
            "Epoch: 95/100 | loss: 0.04 |  validation loss: 0.07 | learning rate: [1.0000000000000004e-08]\n"
          ]
        },
        {
          "output_type": "stream",
          "name": "stderr",
          "text": [
            "\r 97%|█████████▋| 97/100 [01:27<00:02,  1.12it/s]"
          ]
        },
        {
          "output_type": "stream",
          "name": "stdout",
          "text": [
            "----------------------------------------------------------------------------------\n",
            "Epoch: 96/100 | loss: 0.04 |  validation loss: 0.07 | learning rate: [1.0000000000000004e-08]\n"
          ]
        },
        {
          "output_type": "stream",
          "name": "stderr",
          "text": [
            "\r 98%|█████████▊| 98/100 [01:28<00:01,  1.11it/s]"
          ]
        },
        {
          "output_type": "stream",
          "name": "stdout",
          "text": [
            "----------------------------------------------------------------------------------\n",
            "Epoch: 97/100 | loss: 0.04 |  validation loss: 0.07 | learning rate: [1.0000000000000004e-08]\n"
          ]
        },
        {
          "output_type": "stream",
          "name": "stderr",
          "text": [
            "\r 99%|█████████▉| 99/100 [01:29<00:00,  1.09it/s]"
          ]
        },
        {
          "output_type": "stream",
          "name": "stdout",
          "text": [
            "----------------------------------------------------------------------------------\n",
            "Epoch: 98/100 | loss: 0.03 |  validation loss: 0.07 | learning rate: [1.0000000000000004e-08]\n"
          ]
        },
        {
          "output_type": "stream",
          "name": "stderr",
          "text": [
            "100%|██████████| 100/100 [01:30<00:00,  1.11it/s]"
          ]
        },
        {
          "output_type": "stream",
          "name": "stdout",
          "text": [
            "----------------------------------------------------------------------------------\n",
            "Epoch: 99/100 | loss: 0.04 |  validation loss: 0.07 | learning rate: [1.0000000000000004e-08]\n",
            "------------------------------------------------------------------------------------\n",
            "Test Loss: 0.21\n",
            "------------------------------------------------------------------------------------\n",
            "Loss\n",
            " \n"
          ]
        },
        {
          "output_type": "stream",
          "name": "stderr",
          "text": [
            "\n"
          ]
        },
        {
          "output_type": "execute_result",
          "data": {
            "text/plain": [
              "<matplotlib.legend.Legend at 0x7d795e128970>"
            ]
          },
          "metadata": {},
          "execution_count": 31
        },
        {
          "output_type": "display_data",
          "data": {
            "text/plain": [
              "<Figure size 640x480 with 1 Axes>"
            ],
            "image/png": "[encoded data removed]"
          },
          "metadata": {}
        }
      ]
    },
    {
      "cell_type": "code",
      "source": [
        "import seaborn as sns\n",
        "import matplotlib.pyplot as plt\n",
        "sns.set_theme(style=\"dark\")\n",
        "\n",
        "fig, ax_  = plt.subplots(1,3,figsize=(9,3))\n",
        "\n",
        "# X_test = torch.tensor(X_test).to(float)\n",
        "# y_test = torch.tensor(y_test).to(float)\n",
        "\n",
        "y = feature_scaler.inverse_transform(y_test.detach().numpy())\n",
        "\n",
        "sns.scatterplot(x=y[:,0], y=y[:,1], s=5, color=\".15\", ax=ax_[0])\n",
        "# sns.histplot(x=y[:,0], y=y[:,1], bins=50, pthresh=.1, cmap=\"mako\", ax=ax_[0])\n",
        "sns.kdeplot(x=y[:,0], y=y[:,1], levels=5, color=\"w\", linewidths=1, ax=ax_[0])\n",
        "\n",
        "model = model.eval()\n",
        "\n",
        "y_est = model(abs(torch.fft.fft2(X_test)))\n",
        "y_est = y_est.detach().numpy()\n",
        "y_est = feature_scaler.inverse_transform(y_est)\n",
        "\n",
        "sns.scatterplot(x=y_est[:,0], y=y_est[:,1], s=5, color=\".15\", ax=ax_[1])\n",
        "# sns.histplot(x=y_est[:,0], y=y_est[:,1], bins=50, pthresh=.1, cmap=\"mako\", ax=ax_[1])\n",
        "sns.kdeplot(x=y_est[:,0], y=y_est[:,1], levels=5, color=\"w\", linewidths=1, ax=ax_[1])\n",
        "\n",
        "from scipy.spatial.distance import cdist\n",
        "distance = feature_scaler.inverse_transform(y_test.detach().numpy())-y_est\n",
        "sns.scatterplot(x=distance[:,0], y=distance[:,1], s=5, color=\".15\", ax=ax_[2])\n",
        "# sns.histplot(x=distance[:,0], y=distance[:,1], bins=50, pthresh=.1, cmap=\"mako\", ax=ax_[2])\n",
        "sns.kdeplot(x=distance[:,0], y=distance[:,1], levels=5, color=\"w\", linewidths=1, ax=ax_[2])\n",
        "\n",
        "ax_[0].set_title(\"Distribution of Targets\")\n",
        "ax_[0].set_xlabel(\"Valence\")\n",
        "ax_[0].set_ylabel(\"Arousal\")\n",
        "\n",
        "ax_[1].set_title(\"Distribution of Target Estimates\")\n",
        "ax_[1].set_xlabel(\"Valence\")\n",
        "ax_[1].set_ylabel(\"Arousal\")\n",
        "\n",
        "ax_[2].set_title(\"Targets/Estimates Difference\")\n",
        "ax_[2].set_xlabel(\"Valence\")\n",
        "ax_[2].set_ylabel(\"Arousal\")\n",
        "\n",
        "fig.tight_layout()"
      ],
      "metadata": {
        "colab": {
          "base_uri": "https://localhost:8080/",
          "height": 301
        },
        "id": "6at_enZzbEnq",
        "outputId": "5fab5f6d-08fa-4f33-c322-f6000dbd5907"
      },
      "execution_count": 32,
      "outputs": [
        {
          "output_type": "display_data",
          "data": {
            "text/plain": [
              "<Figure size 900x300 with 3 Axes>"
            ],
            "image/png": "[encoded data removed]"
          },
          "metadata": {}
        }
      ]
    },
    {
      "cell_type": "code",
      "source": [
        "def checkpoint_model(model,name,test_performance):\n",
        "  model_ = {\n",
        "      \"model\":model,\n",
        "      \"model_weights\":model.state_dict(),\n",
        "      \"performance\":test_performance\n",
        "  }\n",
        "  joblib.dump(model_,name)"
      ],
      "metadata": {
        "id": "JBJ1mRfXmjgm"
      },
      "execution_count": 33,
      "outputs": []
    },
    {
      "cell_type": "code",
      "source": [
        "checkpoint_model(model=model,name=\"cnn_8.sav\",test_performance=\"0.21 Test MSE Loss\")"
      ],
      "metadata": {
        "id": "8TRvnbGyNGgh"
      },
      "execution_count": 34,
      "outputs": []
    },
    {
      "cell_type": "code",
      "source": [],
      "metadata": {
        "id": "J74Ibni-uhDX"
      },
      "execution_count": null,
      "outputs": []
    }
  ],
  "metadata": {
    "kernelspec": {
      "display_name": "Python 3",
      "name": "python3"
    },
    "language_info": {
      "codemirror_mode": {
        "name": "ipython",
        "version": 3
      },
      "file_extension": ".py",
      "mimetype": "text/x-python",
      "name": "python",
      "nbconvert_exporter": "python",
      "pygments_lexer": "ipython3",
      "version": "3.12.2"
    },
    "colab": {
      "provenance": [],
      "gpuType": "V28",
      "include_colab_link": true
    },
    "accelerator": "TPU"
  },
  "nbformat": 4,
  "nbformat_minor": 0
}