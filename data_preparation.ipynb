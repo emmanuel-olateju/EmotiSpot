{
  "cells": [
    {
      "cell_type": "markdown",
      "metadata": {
        "id": "view-in-github",
        "colab_type": "text"
      },
      "source": [
        "<a href=\"https://colab.research.google.com/github/emmanuel-olateju/EmotiSpot/blob/main/data_preparation.ipynb\" target=\"_parent\"><img src=\"https://colab.research.google.com/assets/colab-badge.svg\" alt=\"Open In Colab\"/></a>"
      ]
    },
    {
      "cell_type": "code",
      "execution_count": 1,
      "metadata": {
        "id": "YB63XS6935lG",
        "outputId": "0f0c4183-ce0b-455e-f11f-348c48660a55",
        "colab": {
          "base_uri": "https://localhost:8080/"
        }
      },
      "outputs": [
        {
          "output_type": "stream",
          "name": "stdout",
          "text": [
            "Dataset URL: https://www.kaggle.com/datasets/khan1803115/eeg-dataset-for-emotion-recognition\n",
            "License(s): Apache 2.0\n",
            "Downloading eeg-dataset-for-emotion-recognition.zip to /content\n",
            " 89% 161M/181M [00:01<00:00, 141MB/s]\n",
            "100% 181M/181M [00:01<00:00, 121MB/s]\n",
            "Archive:  eeg-dataset-for-emotion-recognition.zip\n",
            "  inflating: datasets/khan1803115/Data/S01G1AllChannels.csv  \n",
            "  inflating: datasets/khan1803115/Data/S01G2AllChannels.csv  \n",
            "  inflating: datasets/khan1803115/Data/S01G3AllChannels.csv  \n",
            "  inflating: datasets/khan1803115/Data/S01G4AllChannels.csv  \n",
            "  inflating: datasets/khan1803115/Data/S02G1AllChannels.csv  \n",
            "  inflating: datasets/khan1803115/Data/S02G2AllChannels.csv  \n",
            "  inflating: datasets/khan1803115/Data/S02G3AllChannels.csv  \n",
            "  inflating: datasets/khan1803115/Data/S02G4AllChannels.csv  \n",
            "  inflating: datasets/khan1803115/Data/S03G1AllChannels.csv  \n",
            "  inflating: datasets/khan1803115/Data/S03G2AllChannels.csv  \n",
            "  inflating: datasets/khan1803115/Data/S03G3AllChannels.csv  \n",
            "  inflating: datasets/khan1803115/Data/S03G4AllChannels.csv  \n",
            "  inflating: datasets/khan1803115/Data/S04G1AllChannels.csv  \n",
            "  inflating: datasets/khan1803115/Data/S04G2AllChannels.csv  \n",
            "  inflating: datasets/khan1803115/Data/S04G3AllChannels.csv  \n",
            "  inflating: datasets/khan1803115/Data/S04G4AllChannels.csv  \n",
            "  inflating: datasets/khan1803115/Data/S05G1AllChannels.csv  \n",
            "  inflating: datasets/khan1803115/Data/S05G2AllChannels.csv  \n",
            "  inflating: datasets/khan1803115/Data/S05G3AllChannels.csv  \n",
            "  inflating: datasets/khan1803115/Data/S05G4AllChannels.csv  \n",
            "  inflating: datasets/khan1803115/Data/S06G1AllChannels.csv  \n",
            "  inflating: datasets/khan1803115/Data/S06G2AllChannels.csv  \n",
            "  inflating: datasets/khan1803115/Data/S06G3AllChannels.csv  \n",
            "  inflating: datasets/khan1803115/Data/S06G4AllChannels.csv  \n",
            "  inflating: datasets/khan1803115/Data/S07G1AllChannels.csv  \n",
            "  inflating: datasets/khan1803115/Data/S07G2AllChannels.csv  \n",
            "  inflating: datasets/khan1803115/Data/S07G3AllChannels.csv  \n",
            "  inflating: datasets/khan1803115/Data/S07G4AllChannels.csv  \n",
            "  inflating: datasets/khan1803115/Data/S08G1AllChannels.csv  \n",
            "  inflating: datasets/khan1803115/Data/S08G2AllChannels.csv  \n",
            "  inflating: datasets/khan1803115/Data/S08G3AllChannels.csv  \n",
            "  inflating: datasets/khan1803115/Data/S08G4AllChannels.csv  \n",
            "  inflating: datasets/khan1803115/Data/S09G1AllChannels.csv  \n",
            "  inflating: datasets/khan1803115/Data/S09G2AllChannels.csv  \n",
            "  inflating: datasets/khan1803115/Data/S09G3AllChannels.csv  \n",
            "  inflating: datasets/khan1803115/Data/S09G4AllChannels.csv  \n",
            "  inflating: datasets/khan1803115/Data/S10G1AllChannels.csv  \n",
            "  inflating: datasets/khan1803115/Data/S10G2AllChannels.csv  \n",
            "  inflating: datasets/khan1803115/Data/S10G3AllChannels.csv  \n",
            "  inflating: datasets/khan1803115/Data/S10G4AllChannels.csv  \n",
            "  inflating: datasets/khan1803115/Data/S11G1AllChannels.csv  \n",
            "  inflating: datasets/khan1803115/Data/S11G2AllChannels.csv  \n",
            "  inflating: datasets/khan1803115/Data/S11G3AllChannels.csv  \n",
            "  inflating: datasets/khan1803115/Data/S11G4AllChannels.csv  \n",
            "  inflating: datasets/khan1803115/Data/S12G1AllChannels.csv  \n",
            "  inflating: datasets/khan1803115/Data/S12G2AllChannels.csv  \n",
            "  inflating: datasets/khan1803115/Data/S12G3AllChannels.csv  \n",
            "  inflating: datasets/khan1803115/Data/S12G4AllChannels.csv  \n",
            "  inflating: datasets/khan1803115/Data/S13G1AllChannels.csv  \n",
            "  inflating: datasets/khan1803115/Data/S13G2AllChannels.csv  \n",
            "  inflating: datasets/khan1803115/Data/S13G3AllChannels.csv  \n",
            "  inflating: datasets/khan1803115/Data/S13G4AllChannels.csv  \n",
            "  inflating: datasets/khan1803115/Data/S14G1AllChannels.csv  \n",
            "  inflating: datasets/khan1803115/Data/S14G2AllChannels.csv  \n",
            "  inflating: datasets/khan1803115/Data/S14G3AllChannels.csv  \n",
            "  inflating: datasets/khan1803115/Data/S14G4AllChannels.csv  \n",
            "  inflating: datasets/khan1803115/Data/S15G1AllChannels.csv  \n",
            "  inflating: datasets/khan1803115/Data/S15G2AllChannels.csv  \n",
            "  inflating: datasets/khan1803115/Data/S15G3AllChannels.csv  \n",
            "  inflating: datasets/khan1803115/Data/S15G4AllChannels.csv  \n",
            "  inflating: datasets/khan1803115/Data/S16G1AllChannels.csv  \n",
            "  inflating: datasets/khan1803115/Data/S16G2AllChannels.csv  \n",
            "  inflating: datasets/khan1803115/Data/S16G3AllChannels.csv  \n",
            "  inflating: datasets/khan1803115/Data/S16G4AllChannels.csv  \n",
            "  inflating: datasets/khan1803115/Data/S17G1AllChannels.csv  \n",
            "  inflating: datasets/khan1803115/Data/S17G2AllChannels.csv  \n",
            "  inflating: datasets/khan1803115/Data/S17G3AllChannels.csv  \n",
            "  inflating: datasets/khan1803115/Data/S17G4AllChannels.csv  \n",
            "  inflating: datasets/khan1803115/Data/S18G1AllChannels.csv  \n",
            "  inflating: datasets/khan1803115/Data/S18G2AllChannels.csv  \n",
            "  inflating: datasets/khan1803115/Data/S18G3AllChannels.csv  \n",
            "  inflating: datasets/khan1803115/Data/S18G4AllChannels.csv  \n",
            "  inflating: datasets/khan1803115/Data/S19G1AllChannels.csv  \n",
            "  inflating: datasets/khan1803115/Data/S19G2AllChannels.csv  \n",
            "  inflating: datasets/khan1803115/Data/S19G3AllChannels.csv  \n",
            "  inflating: datasets/khan1803115/Data/S19G4AllChannels.csv  \n",
            "  inflating: datasets/khan1803115/Data/S20G1AllChannels.csv  \n",
            "  inflating: datasets/khan1803115/Data/S20G2AllChannels.csv  \n",
            "  inflating: datasets/khan1803115/Data/S20G3AllChannels.csv  \n",
            "  inflating: datasets/khan1803115/Data/S20G4AllChannels.csv  \n",
            "  inflating: datasets/khan1803115/Data/S21G1AllChannels.csv  \n",
            "  inflating: datasets/khan1803115/Data/S21G2AllChannels.csv  \n",
            "  inflating: datasets/khan1803115/Data/S21G3AllChannels.csv  \n",
            "  inflating: datasets/khan1803115/Data/S21G4AllChannels.csv  \n",
            "  inflating: datasets/khan1803115/Data/S22G1AllChannels.csv  \n",
            "  inflating: datasets/khan1803115/Data/S22G2AllChannels.csv  \n",
            "  inflating: datasets/khan1803115/Data/S22G3AllChannels.csv  \n",
            "  inflating: datasets/khan1803115/Data/S22G4AllChannels.csv  \n",
            "  inflating: datasets/khan1803115/Data/S23G1AllChannels.csv  \n",
            "  inflating: datasets/khan1803115/Data/S23G2AllChannels.csv  \n",
            "  inflating: datasets/khan1803115/Data/S23G3AllChannels.csv  \n",
            "  inflating: datasets/khan1803115/Data/S23G4AllChannels.csv  \n",
            "  inflating: datasets/khan1803115/Data/S24G1AllChannels.csv  \n",
            "  inflating: datasets/khan1803115/Data/S24G2AllChannels.csv  \n",
            "  inflating: datasets/khan1803115/Data/S24G3AllChannels.csv  \n",
            "  inflating: datasets/khan1803115/Data/S24G4AllChannels.csv  \n",
            "  inflating: datasets/khan1803115/Data/S25G1AllChannels.csv  \n",
            "  inflating: datasets/khan1803115/Data/S25G2AllChannels.csv  \n",
            "  inflating: datasets/khan1803115/Data/S25G3AllChannels.csv  \n",
            "  inflating: datasets/khan1803115/Data/S25G4AllChannels.csv  \n",
            "  inflating: datasets/khan1803115/arousal_normalize.csv  \n",
            "  inflating: datasets/khan1803115/valence_normalize.csv  \n"
          ]
        }
      ],
      "source": [
        "!kaggle datasets download -d khan1803115/eeg-dataset-for-emotion-recognition\n",
        "!mkdir -p datasets/khan1803115\n",
        "!unzip eeg-dataset-for-emotion-recognition.zip -d datasets/khan1803115/\n",
        "!rm eeg-dataset-for-emotion-recognition.zip"
      ]
    },
    {
      "cell_type": "code",
      "execution_count": 2,
      "metadata": {
        "id": "ZTyKZUes35lK",
        "outputId": "bea9e8fb-5514-4d9e-de12-56f828a73b6a",
        "colab": {
          "base_uri": "https://localhost:8080/"
        }
      },
      "outputs": [
        {
          "output_type": "stream",
          "name": "stdout",
          "text": [
            "Collecting mne\n",
            "  Downloading mne-1.7.0-py3-none-any.whl (7.4 MB)\n",
            "\u001b[2K     \u001b[90m━━━━━━━━━━━━━━━━━━━━━━━━━━━━━━━━━━━━━━━━\u001b[0m \u001b[32m7.4/7.4 MB\u001b[0m \u001b[31m26.1 MB/s\u001b[0m eta \u001b[36m0:00:00\u001b[0m\n",
            "\u001b[?25hRequirement already satisfied: decorator in /usr/local/lib/python3.10/dist-packages (from mne) (5.1.1)\n",
            "Requirement already satisfied: jinja2 in /usr/local/lib/python3.10/dist-packages (from mne) (3.1.4)\n",
            "Requirement already satisfied: lazy-loader>=0.3 in /usr/local/lib/python3.10/dist-packages (from mne) (0.4)\n",
            "Requirement already satisfied: matplotlib>=3.5.0 in /usr/local/lib/python3.10/dist-packages (from mne) (3.7.1)\n",
            "Requirement already satisfied: numpy>=1.21.2 in /usr/local/lib/python3.10/dist-packages (from mne) (1.25.2)\n",
            "Requirement already satisfied: packaging in /usr/local/lib/python3.10/dist-packages (from mne) (24.0)\n",
            "Requirement already satisfied: pooch>=1.5 in /usr/local/lib/python3.10/dist-packages (from mne) (1.8.1)\n",
            "Requirement already satisfied: scipy>=1.7.1 in /usr/local/lib/python3.10/dist-packages (from mne) (1.11.4)\n",
            "Requirement already satisfied: tqdm in /usr/local/lib/python3.10/dist-packages (from mne) (4.66.4)\n",
            "Requirement already satisfied: contourpy>=1.0.1 in /usr/local/lib/python3.10/dist-packages (from matplotlib>=3.5.0->mne) (1.2.1)\n",
            "Requirement already satisfied: cycler>=0.10 in /usr/local/lib/python3.10/dist-packages (from matplotlib>=3.5.0->mne) (0.12.1)\n",
            "Requirement already satisfied: fonttools>=4.22.0 in /usr/local/lib/python3.10/dist-packages (from matplotlib>=3.5.0->mne) (4.51.0)\n",
            "Requirement already satisfied: kiwisolver>=1.0.1 in /usr/local/lib/python3.10/dist-packages (from matplotlib>=3.5.0->mne) (1.4.5)\n",
            "Requirement already satisfied: pillow>=6.2.0 in /usr/local/lib/python3.10/dist-packages (from matplotlib>=3.5.0->mne) (10.3.0)\n",
            "Requirement already satisfied: pyparsing>=2.3.1 in /usr/local/lib/python3.10/dist-packages (from matplotlib>=3.5.0->mne) (3.1.2)\n",
            "Requirement already satisfied: python-dateutil>=2.7 in /usr/local/lib/python3.10/dist-packages (from matplotlib>=3.5.0->mne) (2.9.0.post0)\n",
            "Requirement already satisfied: platformdirs>=2.5.0 in /usr/local/lib/python3.10/dist-packages (from pooch>=1.5->mne) (4.2.1)\n",
            "Requirement already satisfied: requests>=2.19.0 in /usr/local/lib/python3.10/dist-packages (from pooch>=1.5->mne) (2.31.0)\n",
            "Requirement already satisfied: MarkupSafe>=2.0 in /usr/local/lib/python3.10/dist-packages (from jinja2->mne) (2.1.5)\n",
            "Requirement already satisfied: six>=1.5 in /usr/local/lib/python3.10/dist-packages (from python-dateutil>=2.7->matplotlib>=3.5.0->mne) (1.16.0)\n",
            "Requirement already satisfied: charset-normalizer<4,>=2 in /usr/local/lib/python3.10/dist-packages (from requests>=2.19.0->pooch>=1.5->mne) (3.3.2)\n",
            "Requirement already satisfied: idna<4,>=2.5 in /usr/local/lib/python3.10/dist-packages (from requests>=2.19.0->pooch>=1.5->mne) (3.7)\n",
            "Requirement already satisfied: urllib3<3,>=1.21.1 in /usr/local/lib/python3.10/dist-packages (from requests>=2.19.0->pooch>=1.5->mne) (2.0.7)\n",
            "Requirement already satisfied: certifi>=2017.4.17 in /usr/local/lib/python3.10/dist-packages (from requests>=2.19.0->pooch>=1.5->mne) (2024.2.2)\n",
            "Installing collected packages: mne\n",
            "Successfully installed mne-1.7.0\n"
          ]
        }
      ],
      "source": [
        "import os\n",
        "\n",
        "import numpy as np\n",
        "import pandas as pd\n",
        "!pip install mne\n",
        "import mne"
      ]
    },
    {
      "cell_type": "code",
      "source": [
        "import joblib\n",
        "# from google.colab import files\n",
        "\n",
        "def save_artifact(artifact,name):\n",
        "  joblib.dump(artifact,name)\n",
        "  # files.download(name)\n"
      ],
      "metadata": {
        "id": "Kt_3rd-gDRmC"
      },
      "execution_count": 3,
      "outputs": []
    },
    {
      "cell_type": "markdown",
      "source": [
        "## Data Loading"
      ],
      "metadata": {
        "id": "NVDn5pxR7c8F"
      }
    },
    {
      "cell_type": "code",
      "execution_count": 4,
      "metadata": {
        "id": "rFeHh7wM35lN"
      },
      "outputs": [],
      "source": [
        "khan_dataset_dir = \"datasets/khan1803115/\"\n",
        "valence = pd.read_csv(khan_dataset_dir+\"valence_normalize.csv\")\n",
        "arousal = pd.read_csv(khan_dataset_dir+\"arousal_normalize.csv\")\n",
        "data = [pd.read_csv(khan_dataset_dir+\"Data/\"+file) for file in os.listdir(khan_dataset_dir+\"Data/\")]\n",
        "\n",
        "channels = data[0].columns[:-2]\n",
        "label_columns = data[0].columns[-2:]\n",
        "fs = 128"
      ]
    },
    {
      "cell_type": "code",
      "execution_count": 5,
      "metadata": {
        "id": "bVcaE36a35lP",
        "outputId": "a121292c-4bfb-4937-8465-141a225b258b",
        "colab": {
          "base_uri": "https://localhost:8080/"
        }
      },
      "outputs": [
        {
          "output_type": "execute_result",
          "data": {
            "text/plain": [
              "((100, 38000, 14), (100, 2))"
            ]
          },
          "metadata": {},
          "execution_count": 5
        }
      ],
      "source": [
        "eeg_data = np.array([data_[channels][:38000] for data_ in data])\n",
        "valence_arousal_values = np.array([data_[label_columns].mean() for data_ in data])\n",
        "eeg_data.shape, valence_arousal_values.shape"
      ]
    },
    {
      "cell_type": "code",
      "execution_count": 6,
      "metadata": {
        "id": "q0bTIYbe35lU",
        "outputId": "3cd45ced-25f4-44e2-fb8e-8984692c642c",
        "colab": {
          "base_uri": "https://localhost:8080/"
        }
      },
      "outputs": [
        {
          "output_type": "execute_result",
          "data": {
            "text/plain": [
              "(100, 26, 1280, 14)"
            ]
          },
          "metadata": {},
          "execution_count": 6
        }
      ],
      "source": [
        "# Make use of 1280 samples for an epoch with 0 samples overlapping between succesive epochs\n",
        "epoch_starting_points = np.arange(0,38252,1280-0)[:-4]\n",
        "\n",
        "eeg_epochs = []\n",
        "\n",
        "for i in range(len(data)):\n",
        "    epochs = []\n",
        "    for epoch_starting_point in epoch_starting_points:\n",
        "        epochs.append(eeg_data[i,epoch_starting_point:epoch_starting_point+1280,:])\n",
        "\n",
        "    eeg_epochs.append(epochs)\n",
        "\n",
        "eeg_epochs = np.array(eeg_epochs)\n",
        "\n",
        "eeg_epochs.shape"
      ]
    },
    {
      "cell_type": "code",
      "execution_count": 7,
      "metadata": {
        "id": "v-udIKHt35lZ",
        "outputId": "4a850b9e-e070-4467-e676-c4806e350ebd",
        "colab": {
          "base_uri": "https://localhost:8080/"
        }
      },
      "outputs": [
        {
          "output_type": "execute_result",
          "data": {
            "text/plain": [
              "(100, 26, 2)"
            ]
          },
          "metadata": {},
          "execution_count": 7
        }
      ],
      "source": [
        "epoch_targets = []\n",
        "\n",
        "for i in range(len(data)):\n",
        "  targets = [valence_arousal_values[i]]*26\n",
        "  epoch_targets.append(targets)\n",
        "\n",
        "epoch_targets = np.array(epoch_targets)\n",
        "\n",
        "epoch_targets.shape"
      ]
    },
    {
      "cell_type": "code",
      "source": [
        "eeg_epochs = eeg_epochs.reshape(2600,1280,14)\n",
        "epoch_targets = epoch_targets.reshape(2600,2)\n",
        "\n",
        "eeg_epochs.shape, epoch_targets.shape"
      ],
      "metadata": {
        "id": "Er9vFgVY5RjF",
        "outputId": "21d7360b-7a9e-4e68-ac5f-7d46b90482ae",
        "colab": {
          "base_uri": "https://localhost:8080/"
        }
      },
      "execution_count": 8,
      "outputs": [
        {
          "output_type": "execute_result",
          "data": {
            "text/plain": [
              "((2600, 1280, 14), (2600, 2))"
            ]
          },
          "metadata": {},
          "execution_count": 8
        }
      ]
    },
    {
      "cell_type": "code",
      "source": [
        "# save_artifact(eeg_epochs,\"EEG_DATA.np\")"
      ],
      "metadata": {
        "id": "VnZaV41EEGxa"
      },
      "execution_count": null,
      "outputs": []
    },
    {
      "cell_type": "markdown",
      "source": [
        "## Preprocessing"
      ],
      "metadata": {
        "id": "2uNF-ipu7fDe"
      }
    },
    {
      "cell_type": "code",
      "source": [
        "lowcut = 1\n",
        "highcut = 45\n",
        "\n",
        "filtered_eeg_epochs = np.empty((2600,1280,14))\n",
        "\n",
        "for e,epoch in enumerate(eeg_epochs):\n",
        "  filtered = mne.filter.filter_data(epoch.T,fs,lowcut,highcut,verbose=0)\n",
        "  filtered_eeg_epochs[e,:,:] = filtered.T\n",
        "\n",
        "filtered_eeg_epochs.shape"
      ],
      "metadata": {
        "colab": {
          "base_uri": "https://localhost:8080/"
        },
        "id": "O-Fq5rX4Fgc3",
        "outputId": "5efbfe87-2739-4b2e-c0b2-2d4f3c623c1c"
      },
      "execution_count": 9,
      "outputs": [
        {
          "output_type": "execute_result",
          "data": {
            "text/plain": [
              "(2600, 1280, 14)"
            ]
          },
          "metadata": {},
          "execution_count": 9
        }
      ]
    },
    {
      "cell_type": "code",
      "source": [
        "# save_artifact(filtered_eeg_epochs,\"FILTERED_EEG_DATA.np\")\n",
        "# save_artifact(epoch_targets,\"EEG_VALENCE_AROUSAL_TARGETS.np\")"
      ],
      "metadata": {
        "id": "yPvHZDko9Fvu"
      },
      "execution_count": null,
      "outputs": []
    },
    {
      "cell_type": "markdown",
      "source": [
        "## Make Dataloader"
      ],
      "metadata": {
        "id": "d0Wf8qxQIg8b"
      }
    },
    {
      "cell_type": "code",
      "source": [
        "import random\n",
        "\n",
        "import torch\n",
        "import torch.nn as nn\n",
        "import torch.functional as F\n",
        "import torch.optim as optim\n",
        "\n",
        "# Set the device\n",
        "device_ = \"cuda\" if torch.cuda.is_available() else \"cpu\"\n",
        "print(f\"Current Device: {device_}\")\n",
        "\n",
        "# Set the device globally\n",
        "# torch.set_default_device(device_)"
      ],
      "metadata": {
        "id": "J1Vlknr0sikG",
        "outputId": "5760f4f2-06f5-4639-9859-33a3fe960cdc",
        "colab": {
          "base_uri": "https://localhost:8080/"
        }
      },
      "execution_count": 10,
      "outputs": [
        {
          "output_type": "stream",
          "name": "stdout",
          "text": [
            "Current Device: cpu\n"
          ]
        }
      ]
    },
    {
      "cell_type": "code",
      "source": [
        "from torch.utils.data import Dataset, DataLoader\n",
        "\n",
        "class CustomDataset(Dataset):\n",
        "\n",
        "  def __init__(self, features, targets, transform=None, device__=\"cpu\"):\n",
        "    self.features = torch.tensor(features,device=device__)\n",
        "    self.targets = torch.tensor(targets,device=device__)\n",
        "    self.transform = transform\n",
        "\n",
        "  def __len__(self):\n",
        "    return len(self.features)\n",
        "\n",
        "  def __getitem__(self,idx):\n",
        "    feature = self.features[idx,::]\n",
        "    target = self.targets[idx]\n",
        "    if self.transform:\n",
        "      feature = self.transform(feature)\n",
        "    return feature, target"
      ],
      "metadata": {
        "id": "1M9BZsPpIgSa"
      },
      "execution_count": 11,
      "outputs": []
    },
    {
      "cell_type": "code",
      "source": [
        "from sklearn.model_selection import train_test_split\n",
        "from sklearn.preprocessing import MinMaxScaler, StandardScaler\n",
        "\n",
        "random.seed(120)\n",
        "torch.manual_seed(120)\n",
        "\n",
        "X, y = filtered_eeg_epochs, epoch_targets\n",
        "\n",
        "# feature_scaler = MinMaxScaler()\n",
        "# y = feature_scaler.fit_transform(y)\n",
        "\n",
        "\n",
        "X_train, X_, y_train, y_ = train_test_split(X, y, test_size=0.20, random_state=100)\n",
        "X_test, X_val, y_test, y_val = train_test_split(X_, y_, test_size=0.5, random_state=100)\n",
        "\n",
        "for i in range(len(X_train)):\n",
        "  scaler = StandardScaler()\n",
        "  X_train[i,::] = scaler.fit_transform(X_train[i,::])\n",
        "\n",
        "for i in range(len(X_test)):\n",
        "  scaler = StandardScaler()\n",
        "  X_test[i,::] = scaler.fit_transform(X_test[i,::])\n",
        "\n",
        "for i in range(len(X_val)):\n",
        "  scaler = StandardScaler()\n",
        "  X_val[i,::] = scaler.fit_transform(X_val[i,::])\n",
        "\n",
        "feature_scaler = MinMaxScaler()\n",
        "y_train = feature_scaler.fit_transform(y_train)\n",
        "y_test = feature_scaler.transform(y_test)\n",
        "y_val = feature_scaler.transform(y_val)\n",
        "\n",
        "print(f\" Train Size :({X_train.shape}, {y_train.shape}) | Test Size : ({X_test.shape}, {y_test.shape}) | Validation Size: ({X_val.shape}, {y_val.shape})\")\n",
        "\n",
        "train_batch_size = 204\n",
        "shuffle_ = True\n",
        "num_workers_ = 5\n",
        "\n",
        "# Make Train Dataloader\n",
        "train_dataset = CustomDataset(X_train.astype(float),y_train.astype(float))\n",
        "train_dataloader = DataLoader(train_dataset, batch_size=train_batch_size, shuffle=shuffle_, num_workers=num_workers_)\n",
        "\n",
        "# Make Validation Dataloader\n",
        "val_batch_size = 34\n",
        "val_dataset = CustomDataset(X_val.astype(float),y_val.astype(float))\n",
        "val_dataloader = DataLoader(val_dataset, batch_size=val_batch_size, shuffle=shuffle_, num_workers=num_workers_)\n",
        "\n",
        "X_train = torch.tensor(X_train).to(torch.float)\n",
        "y_train = torch.tensor(y_train).to(torch.float)\n",
        "X_train = X_train.to(device_)\n",
        "y_train = y_train.to(device_)\n",
        "\n",
        "X_test = torch.tensor(X_test).to(torch.float)\n",
        "y_test = torch.tensor(y_test).to(torch.float)\n",
        "X_test = X_test.to(device_)\n",
        "y_test = y_test.to(device_)\n",
        "\n",
        "X_val = torch.tensor(X_val).to(torch.float)\n",
        "y_val = torch.tensor(y_val).to(torch.float)\n",
        "X_val = X_val.to(device_)\n",
        "y_val = y_val.to(device_)"
      ],
      "metadata": {
        "colab": {
          "base_uri": "https://localhost:8080/"
        },
        "id": "BsE4BGFMO9gM",
        "outputId": "f951cb1a-d52e-409e-c2ed-a50db85a2fc9"
      },
      "execution_count": 24,
      "outputs": [
        {
          "output_type": "stream",
          "name": "stdout",
          "text": [
            " Train Size :((2080, 1280, 14), (2080, 2)) | Test Size : ((260, 1280, 14), (260, 2)) | Validation Size: ((260, 1280, 14), (260, 2))\n"
          ]
        }
      ]
    },
    {
      "cell_type": "markdown",
      "source": [
        "## Modelling"
      ],
      "metadata": {
        "id": "441UMr7QGgAQ"
      }
    },
    {
      "cell_type": "code",
      "source": [
        "class mlp(nn.Module):\n",
        "\n",
        "  def __init__(self):\n",
        "    super(mlp,self).__init__()\n",
        "\n",
        "    self.fc1 = nn.Sequential(\n",
        "        nn.Dropout(0.5),\n",
        "        nn.Linear(1280*14,1000),\n",
        "        nn.Sigmoid(),\n",
        "        nn.Dropout(0.5),\n",
        "        nn.Linear(1000,1000),\n",
        "        nn.Sigmoid(),\n",
        "        nn.Linear(1000,100),\n",
        "        nn.Sigmoid(),\n",
        "        nn.Linear(100,2),\n",
        "        nn.Sigmoid(),\n",
        "        nn.Linear(2,2),\n",
        "        nn.ReLU()\n",
        "    )\n",
        "\n",
        "\n",
        "  def forward(self,x):\n",
        "\n",
        "    x = x.view(x.size()[0],-1)\n",
        "    x = self.fc1(x.to(torch.float32))\n",
        "\n",
        "    return x\n",
        "\n",
        "class cnn(nn.Module):\n",
        "\n",
        "  def __init__(self):\n",
        "    super(cnn,self).__init__()\n",
        "\n",
        "    self.conv = nn.Sequential(\n",
        "      nn.Dropout(0.1),\n",
        "      nn.BatchNorm1d(14),\n",
        "      nn.Conv1d(14,14,kernel_size=64,stride=32,padding=0), # OUTPUT: C=14, L=39\n",
        "      nn.ReLU(),\n",
        "      nn.AvgPool1d(kernel_size=3,stride=2), # OUTPUT: C=14, L=19\n",
        "      nn.BatchNorm1d(14),\n",
        "      nn.Dropout(0.1),\n",
        "      nn.Conv1d(14,14,kernel_size=2,stride=1,padding=0), #OUTPUT: C=14, L=18\n",
        "      nn.ReLU(),\n",
        "      nn.AvgPool1d(kernel_size=5,stride=1), # OUTPUT: C=14, L=14\n",
        "      nn.BatchNorm1d(14),\n",
        "      nn.Dropout(0.1),\n",
        "    )\n",
        "\n",
        "    self.fc = nn.Sequential(\n",
        "        # nn.Dropout(0.05),\n",
        "        nn.Linear(14*14,98),\n",
        "        nn.ReLU(),\n",
        "        nn.BatchNorm1d(98),\n",
        "        nn.Linear(98,50),\n",
        "        nn.ReLU(),\n",
        "        nn.BatchNorm1d(50),\n",
        "        nn.Linear(50,25),\n",
        "        nn.ReLU(),\n",
        "        nn.BatchNorm1d(25),\n",
        "        nn.Linear(25,2),\n",
        "        nn.ReLU()\n",
        "    )\n",
        "\n",
        "  def forward(self,x):\n",
        "    x = torch.transpose(x,1,2)\n",
        "    x = self.conv(x)\n",
        "    x = x.view(x.size()[0],-1)\n",
        "    x = self.fc(x)\n",
        "\n",
        "    return x\n",
        "\n",
        "\n",
        "def r_squared(predicted, target):\n",
        "    # Compute the mean of the target tensor\n",
        "    target_mean = torch.mean(target)\n",
        "\n",
        "    # Compute the total sum of squares (TSS)\n",
        "    tss = torch.sum((target - target_mean) ** 2)\n",
        "\n",
        "    # Compute the residual sum of squares (RSS)\n",
        "    rss = torch.sum((target - predicted) ** 2)\n",
        "\n",
        "    # Compute R-squared\n",
        "    r_squared = 1 - (rss / tss)\n",
        "\n",
        "    return r_squared\n"
      ],
      "metadata": {
        "id": "2NtjORCgH0-A"
      },
      "execution_count": 25,
      "outputs": []
    },
    {
      "cell_type": "code",
      "source": [
        "# torch.backends.cuda.cufft_plan_cache[0].max_size = 0"
      ],
      "metadata": {
        "id": "tT8aJiRuTu7v"
      },
      "execution_count": null,
      "outputs": []
    },
    {
      "cell_type": "code",
      "source": [
        "from tqdm import tqdm\n",
        "\n",
        "history = {\n",
        "    \"loss\":[],\n",
        "    \"val_loss\":[]\n",
        "}\n",
        "\n",
        "model = cnn()\n",
        "model = model.to(device_)\n",
        "\n",
        "epochs = 600\n",
        "lr_ = 0.001\n",
        "\n",
        "optimizer = optim.Adam(model.parameters(),lr=lr_)\n",
        "learning_rate = torch.optim.lr_scheduler.ReduceLROnPlateau(optimizer=optimizer, mode=\"min\", factor=0.1, patience=5)\n",
        "loss_fn = nn.SmoothL1Loss()\n",
        "\n",
        "l1_lambda = 0\n",
        "l2_lambda = 0.005\n",
        "\n",
        "train_loss, val_loss = [], []\n",
        "\n",
        "for e in tqdm(range(epochs)):\n",
        "\n",
        "  running_loss = 0.0\n",
        "  val_running_loss = 0.0\n",
        "  steps = 0\n",
        "\n",
        "  for i in range(3):\n",
        "\n",
        "    indices = torch.randperm(X_train.size()[0])[:train_batch_size]\n",
        "\n",
        "    x_ = X_train[indices,::].to(torch.float)\n",
        "    x_ = abs(torch.fft.fft2(x_))\n",
        "    y_ = y_train[indices,::].to(torch.float)\n",
        "\n",
        "    x_ = x_.to(device_)\n",
        "    y_ = y_.to(device_)\n",
        "\n",
        "    model =model.train()\n",
        "\n",
        "    optimizer.zero_grad()\n",
        "\n",
        "    y_est = model(x_)\n",
        "    y_est = y_est.requires_grad_(True)\n",
        "\n",
        "    loss = loss_fn(y_est,y_)\n",
        "    l1_norm = sum(p.abs().sum() for p in model.parameters())\n",
        "    l2_norm = sum(((p.abs())**2).sum() for p in model.parameters())\n",
        "    loss = loss + (l1_lambda*l1_norm) + (l2_lambda*l2_norm)\n",
        "    running_loss += loss.item()\n",
        "\n",
        "    loss.backward()\n",
        "    nn.utils.clip_grad_norm_(model.parameters(), 1)\n",
        "    optimizer.step()\n",
        "\n",
        "    steps += 1\n",
        "\n",
        "    # if steps == 5:\n",
        "    #   break\n",
        "\n",
        "  running_loss /= steps\n",
        "  history[\"loss\"].append(running_loss)\n",
        "\n",
        "  val_running_loss = 0.0\n",
        "  steps = 0\n",
        "\n",
        "  for i in range(5):\n",
        "\n",
        "    indices = torch.randperm(X_val.size()[0])[:val_batch_size]\n",
        "\n",
        "    x_val = X_val[indices,::].to(torch.float)\n",
        "    x_val = abs(torch.fft.fft2(x_val))\n",
        "    y_val_ = y_val[indices,::].to(torch.float)\n",
        "\n",
        "    x_val = x_val.to(device_)\n",
        "    y_val_ = y_val_.to(device_)\n",
        "\n",
        "    model = model.eval()\n",
        "    y_est = model(x_val)\n",
        "\n",
        "    loss = loss_fn(y_est,y_val_)\n",
        "    l1_norm = sum(p.abs().sum() for p in model.parameters())\n",
        "    l2_norm = sum(((p.abs())**2).sum() for p in model.parameters())\n",
        "    loss = loss + (l1_lambda*l1_norm) + (l2_lambda*l2_norm)\n",
        "    val_running_loss += loss.item()\n",
        "\n",
        "    steps += 1\n",
        "\n",
        "    # if steps == 5:\n",
        "    #   break\n",
        "\n",
        "\n",
        "  val_running_loss /= steps\n",
        "  history[\"val_loss\"].append(val_running_loss)\n",
        "\n",
        "  learning_rate.step(val_running_loss)\n",
        "  last_lr = learning_rate.get_last_lr()\n",
        "\n",
        "  print(\"----------------------------------------------------------------------------------\")\n",
        "  print(f\"Epoch: {e}/{epochs} | loss: {running_loss:.2f} |  validation loss: {val_running_loss:.2f} | learning rate: {last_lr}\")\n",
        "\n",
        "model = model.eval()\n",
        "\n",
        "y_ = model(X_test)\n",
        "y_test = y_test.requires_grad_(True)\n",
        "\n",
        "loss = loss_fn(y_test,y_)\n",
        "l1_norm = sum(p.abs().sum() for p in model.parameters())\n",
        "l2_norm = sum(((p.abs())**2).sum() for p in model.parameters())\n",
        "loss = loss + (l1_lambda*l1_norm) + (l2_lambda*l2_norm)\n",
        "print(\"------------------------------------------------------------------------------------\")\n",
        "print(f\"Test Loss: {loss.item():.2f}\")\n",
        "print(\"------------------------------------------------------------------------------------\")\n",
        "\n",
        "print(\"Loss\")\n",
        "print(\" \")\n",
        "import matplotlib.pyplot as plt\n",
        "\n",
        "plt.plot(history[\"loss\"],label=\"loss\")\n",
        "plt.plot(history[\"val_loss\"],label=\"val_loss\")\n",
        "\n",
        "plt.title(f\"Test Loss: {loss.item():.2f}\")\n",
        "\n",
        "plt.grid()\n",
        "plt.legend()\n",
        "\n"
      ],
      "metadata": {
        "id": "ZLgY1HVJIabc",
        "outputId": "96bd67d0-e370-4d9c-98b8-27274dac0bc9",
        "colab": {
          "base_uri": "https://localhost:8080/",
          "height": 1000
        }
      },
      "execution_count": 26,
      "outputs": [
        {
          "output_type": "stream",
          "name": "stderr",
          "text": [
            "  0%|          | 2/600 [00:00<01:24,  7.04it/s]"
          ]
        },
        {
          "output_type": "stream",
          "name": "stdout",
          "text": [
            "----------------------------------------------------------------------------------\n",
            "Epoch: 0/600 | loss: 1.56 |  validation loss: 1.54 | learning rate: [0.001]\n",
            "----------------------------------------------------------------------------------\n",
            "Epoch: 1/600 | loss: 1.53 |  validation loss: 1.53 | learning rate: [0.001]\n"
          ]
        },
        {
          "output_type": "stream",
          "name": "stderr",
          "text": [
            "  1%|          | 4/600 [00:00<01:17,  7.66it/s]"
          ]
        },
        {
          "output_type": "stream",
          "name": "stdout",
          "text": [
            "----------------------------------------------------------------------------------\n",
            "Epoch: 2/600 | loss: 1.51 |  validation loss: 1.51 | learning rate: [0.001]\n",
            "----------------------------------------------------------------------------------\n",
            "Epoch: 3/600 | loss: 1.49 |  validation loss: 1.49 | learning rate: [0.001]\n"
          ]
        },
        {
          "output_type": "stream",
          "name": "stderr",
          "text": [
            "  1%|          | 6/600 [00:00<01:18,  7.54it/s]"
          ]
        },
        {
          "output_type": "stream",
          "name": "stdout",
          "text": [
            "----------------------------------------------------------------------------------\n",
            "Epoch: 4/600 | loss: 1.48 |  validation loss: 1.48 | learning rate: [0.001]\n",
            "----------------------------------------------------------------------------------\n",
            "Epoch: 5/600 | loss: 1.46 |  validation loss: 1.45 | learning rate: [0.001]\n"
          ]
        },
        {
          "output_type": "stream",
          "name": "stderr",
          "text": [
            "  1%|▏         | 8/600 [00:01<01:16,  7.77it/s]"
          ]
        },
        {
          "output_type": "stream",
          "name": "stdout",
          "text": [
            "----------------------------------------------------------------------------------\n",
            "Epoch: 6/600 | loss: 1.44 |  validation loss: 1.43 | learning rate: [0.001]\n",
            "----------------------------------------------------------------------------------\n",
            "Epoch: 7/600 | loss: 1.42 |  validation loss: 1.39 | learning rate: [0.001]\n"
          ]
        },
        {
          "output_type": "stream",
          "name": "stderr",
          "text": [
            "  2%|▏         | 10/600 [00:01<01:17,  7.62it/s]"
          ]
        },
        {
          "output_type": "stream",
          "name": "stdout",
          "text": [
            "----------------------------------------------------------------------------------\n",
            "Epoch: 8/600 | loss: 1.41 |  validation loss: 1.37 | learning rate: [0.001]\n",
            "----------------------------------------------------------------------------------\n",
            "Epoch: 9/600 | loss: 1.38 |  validation loss: 1.35 | learning rate: [0.001]\n"
          ]
        },
        {
          "output_type": "stream",
          "name": "stderr",
          "text": [
            "  2%|▏         | 12/600 [00:01<01:16,  7.71it/s]"
          ]
        },
        {
          "output_type": "stream",
          "name": "stdout",
          "text": [
            "----------------------------------------------------------------------------------\n",
            "Epoch: 10/600 | loss: 1.36 |  validation loss: 1.34 | learning rate: [0.001]\n",
            "----------------------------------------------------------------------------------\n",
            "Epoch: 11/600 | loss: 1.35 |  validation loss: 1.33 | learning rate: [0.001]\n"
          ]
        },
        {
          "output_type": "stream",
          "name": "stderr",
          "text": [
            "  2%|▏         | 14/600 [00:01<01:17,  7.54it/s]"
          ]
        },
        {
          "output_type": "stream",
          "name": "stdout",
          "text": [
            "----------------------------------------------------------------------------------\n",
            "Epoch: 12/600 | loss: 1.33 |  validation loss: 1.31 | learning rate: [0.001]\n",
            "----------------------------------------------------------------------------------\n",
            "Epoch: 13/600 | loss: 1.31 |  validation loss: 1.30 | learning rate: [0.001]\n"
          ]
        },
        {
          "output_type": "stream",
          "name": "stderr",
          "text": [
            "  3%|▎         | 16/600 [00:02<01:17,  7.54it/s]"
          ]
        },
        {
          "output_type": "stream",
          "name": "stdout",
          "text": [
            "----------------------------------------------------------------------------------\n",
            "Epoch: 14/600 | loss: 1.30 |  validation loss: 1.31 | learning rate: [0.001]\n",
            "----------------------------------------------------------------------------------\n",
            "Epoch: 15/600 | loss: 1.29 |  validation loss: 1.27 | learning rate: [0.001]\n"
          ]
        },
        {
          "output_type": "stream",
          "name": "stderr",
          "text": [
            "  3%|▎         | 18/600 [00:02<01:14,  7.77it/s]"
          ]
        },
        {
          "output_type": "stream",
          "name": "stdout",
          "text": [
            "----------------------------------------------------------------------------------\n",
            "Epoch: 16/600 | loss: 1.26 |  validation loss: 1.25 | learning rate: [0.001]\n",
            "----------------------------------------------------------------------------------\n",
            "Epoch: 17/600 | loss: 1.26 |  validation loss: 1.24 | learning rate: [0.001]\n"
          ]
        },
        {
          "output_type": "stream",
          "name": "stderr",
          "text": [
            "  3%|▎         | 20/600 [00:02<01:15,  7.73it/s]"
          ]
        },
        {
          "output_type": "stream",
          "name": "stdout",
          "text": [
            "----------------------------------------------------------------------------------\n",
            "Epoch: 18/600 | loss: 1.24 |  validation loss: 1.22 | learning rate: [0.001]\n",
            "----------------------------------------------------------------------------------\n",
            "Epoch: 19/600 | loss: 1.22 |  validation loss: 1.22 | learning rate: [0.001]\n"
          ]
        },
        {
          "output_type": "stream",
          "name": "stderr",
          "text": [
            "  4%|▎         | 22/600 [00:02<01:12,  7.96it/s]"
          ]
        },
        {
          "output_type": "stream",
          "name": "stdout",
          "text": [
            "----------------------------------------------------------------------------------\n",
            "Epoch: 20/600 | loss: 1.21 |  validation loss: 1.21 | learning rate: [0.001]\n",
            "----------------------------------------------------------------------------------\n",
            "Epoch: 21/600 | loss: 1.20 |  validation loss: 1.19 | learning rate: [0.001]\n"
          ]
        },
        {
          "output_type": "stream",
          "name": "stderr",
          "text": [
            "  4%|▍         | 24/600 [00:03<01:13,  7.87it/s]"
          ]
        },
        {
          "output_type": "stream",
          "name": "stdout",
          "text": [
            "----------------------------------------------------------------------------------\n",
            "Epoch: 22/600 | loss: 1.19 |  validation loss: 1.18 | learning rate: [0.001]\n",
            "----------------------------------------------------------------------------------\n",
            "Epoch: 23/600 | loss: 1.18 |  validation loss: 1.17 | learning rate: [0.001]\n"
          ]
        },
        {
          "output_type": "stream",
          "name": "stderr",
          "text": [
            "  4%|▍         | 26/600 [00:03<01:13,  7.85it/s]"
          ]
        },
        {
          "output_type": "stream",
          "name": "stdout",
          "text": [
            "----------------------------------------------------------------------------------\n",
            "Epoch: 24/600 | loss: 1.16 |  validation loss: 1.15 | learning rate: [0.001]\n",
            "----------------------------------------------------------------------------------\n",
            "Epoch: 25/600 | loss: 1.15 |  validation loss: 1.13 | learning rate: [0.001]\n"
          ]
        },
        {
          "output_type": "stream",
          "name": "stderr",
          "text": [
            "  5%|▍         | 28/600 [00:03<01:14,  7.67it/s]"
          ]
        },
        {
          "output_type": "stream",
          "name": "stdout",
          "text": [
            "----------------------------------------------------------------------------------\n",
            "Epoch: 26/600 | loss: 1.13 |  validation loss: 1.13 | learning rate: [0.001]\n",
            "----------------------------------------------------------------------------------\n",
            "Epoch: 27/600 | loss: 1.12 |  validation loss: 1.12 | learning rate: [0.001]\n"
          ]
        },
        {
          "output_type": "stream",
          "name": "stderr",
          "text": [
            "  5%|▌         | 30/600 [00:03<01:11,  7.92it/s]"
          ]
        },
        {
          "output_type": "stream",
          "name": "stdout",
          "text": [
            "----------------------------------------------------------------------------------\n",
            "Epoch: 28/600 | loss: 1.11 |  validation loss: 1.09 | learning rate: [0.001]\n",
            "----------------------------------------------------------------------------------\n",
            "Epoch: 29/600 | loss: 1.09 |  validation loss: 1.10 | learning rate: [0.001]\n"
          ]
        },
        {
          "output_type": "stream",
          "name": "stderr",
          "text": [
            "  5%|▌         | 32/600 [00:04<01:10,  8.08it/s]"
          ]
        },
        {
          "output_type": "stream",
          "name": "stdout",
          "text": [
            "----------------------------------------------------------------------------------\n",
            "Epoch: 30/600 | loss: 1.09 |  validation loss: 1.08 | learning rate: [0.001]\n",
            "----------------------------------------------------------------------------------\n",
            "Epoch: 31/600 | loss: 1.08 |  validation loss: 1.06 | learning rate: [0.001]\n"
          ]
        },
        {
          "output_type": "stream",
          "name": "stderr",
          "text": [
            "  6%|▌         | 34/600 [00:04<01:13,  7.74it/s]"
          ]
        },
        {
          "output_type": "stream",
          "name": "stdout",
          "text": [
            "----------------------------------------------------------------------------------\n",
            "Epoch: 32/600 | loss: 1.07 |  validation loss: 1.05 | learning rate: [0.001]\n",
            "----------------------------------------------------------------------------------\n",
            "Epoch: 33/600 | loss: 1.06 |  validation loss: 1.04 | learning rate: [0.001]\n"
          ]
        },
        {
          "output_type": "stream",
          "name": "stderr",
          "text": [
            "  6%|▌         | 36/600 [00:04<01:10,  7.96it/s]"
          ]
        },
        {
          "output_type": "stream",
          "name": "stdout",
          "text": [
            "----------------------------------------------------------------------------------\n",
            "Epoch: 34/600 | loss: 1.04 |  validation loss: 1.03 | learning rate: [0.001]\n",
            "----------------------------------------------------------------------------------\n",
            "Epoch: 35/600 | loss: 1.04 |  validation loss: 1.02 | learning rate: [0.001]\n"
          ]
        },
        {
          "output_type": "stream",
          "name": "stderr",
          "text": [
            "  6%|▋         | 38/600 [00:04<01:10,  7.98it/s]"
          ]
        },
        {
          "output_type": "stream",
          "name": "stdout",
          "text": [
            "----------------------------------------------------------------------------------\n",
            "Epoch: 36/600 | loss: 1.03 |  validation loss: 1.02 | learning rate: [0.001]\n",
            "----------------------------------------------------------------------------------\n",
            "Epoch: 37/600 | loss: 1.01 |  validation loss: 1.01 | learning rate: [0.001]\n"
          ]
        },
        {
          "output_type": "stream",
          "name": "stderr",
          "text": [
            "  7%|▋         | 40/600 [00:05<01:09,  8.02it/s]"
          ]
        },
        {
          "output_type": "stream",
          "name": "stdout",
          "text": [
            "----------------------------------------------------------------------------------\n",
            "Epoch: 38/600 | loss: 1.00 |  validation loss: 0.99 | learning rate: [0.001]\n",
            "----------------------------------------------------------------------------------\n",
            "Epoch: 39/600 | loss: 0.99 |  validation loss: 0.99 | learning rate: [0.001]\n"
          ]
        },
        {
          "output_type": "stream",
          "name": "stderr",
          "text": [
            "  7%|▋         | 42/600 [00:05<01:11,  7.85it/s]"
          ]
        },
        {
          "output_type": "stream",
          "name": "stdout",
          "text": [
            "----------------------------------------------------------------------------------\n",
            "Epoch: 40/600 | loss: 0.99 |  validation loss: 0.99 | learning rate: [0.001]\n",
            "----------------------------------------------------------------------------------\n",
            "Epoch: 41/600 | loss: 0.97 |  validation loss: 0.97 | learning rate: [0.001]\n"
          ]
        },
        {
          "output_type": "stream",
          "name": "stderr",
          "text": [
            "  7%|▋         | 44/600 [00:05<01:12,  7.64it/s]"
          ]
        },
        {
          "output_type": "stream",
          "name": "stdout",
          "text": [
            "----------------------------------------------------------------------------------\n",
            "Epoch: 42/600 | loss: 0.97 |  validation loss: 0.97 | learning rate: [0.001]\n",
            "----------------------------------------------------------------------------------\n",
            "Epoch: 43/600 | loss: 0.96 |  validation loss: 0.96 | learning rate: [0.001]\n"
          ]
        },
        {
          "output_type": "stream",
          "name": "stderr",
          "text": [
            "  8%|▊         | 46/600 [00:05<01:10,  7.91it/s]"
          ]
        },
        {
          "output_type": "stream",
          "name": "stdout",
          "text": [
            "----------------------------------------------------------------------------------\n",
            "Epoch: 44/600 | loss: 0.95 |  validation loss: 0.95 | learning rate: [0.001]\n",
            "----------------------------------------------------------------------------------\n",
            "Epoch: 45/600 | loss: 0.94 |  validation loss: 0.94 | learning rate: [0.001]\n"
          ]
        },
        {
          "output_type": "stream",
          "name": "stderr",
          "text": [
            "  8%|▊         | 48/600 [00:06<01:10,  7.79it/s]"
          ]
        },
        {
          "output_type": "stream",
          "name": "stdout",
          "text": [
            "----------------------------------------------------------------------------------\n",
            "Epoch: 46/600 | loss: 0.93 |  validation loss: 0.92 | learning rate: [0.001]\n",
            "----------------------------------------------------------------------------------\n",
            "Epoch: 47/600 | loss: 0.93 |  validation loss: 0.92 | learning rate: [0.001]\n"
          ]
        },
        {
          "output_type": "stream",
          "name": "stderr",
          "text": [
            "  8%|▊         | 50/600 [00:06<01:12,  7.63it/s]"
          ]
        },
        {
          "output_type": "stream",
          "name": "stdout",
          "text": [
            "----------------------------------------------------------------------------------\n",
            "Epoch: 48/600 | loss: 0.92 |  validation loss: 0.91 | learning rate: [0.001]\n",
            "----------------------------------------------------------------------------------\n",
            "Epoch: 49/600 | loss: 0.91 |  validation loss: 0.90 | learning rate: [0.001]\n"
          ]
        },
        {
          "output_type": "stream",
          "name": "stderr",
          "text": [
            "  9%|▊         | 52/600 [00:06<01:10,  7.80it/s]"
          ]
        },
        {
          "output_type": "stream",
          "name": "stdout",
          "text": [
            "----------------------------------------------------------------------------------\n",
            "Epoch: 50/600 | loss: 0.91 |  validation loss: 0.90 | learning rate: [0.001]\n",
            "----------------------------------------------------------------------------------\n",
            "Epoch: 51/600 | loss: 0.90 |  validation loss: 0.89 | learning rate: [0.001]\n"
          ]
        },
        {
          "output_type": "stream",
          "name": "stderr",
          "text": [
            "  9%|▉         | 54/600 [00:06<01:08,  7.97it/s]"
          ]
        },
        {
          "output_type": "stream",
          "name": "stdout",
          "text": [
            "----------------------------------------------------------------------------------\n",
            "Epoch: 52/600 | loss: 0.88 |  validation loss: 0.89 | learning rate: [0.001]\n",
            "----------------------------------------------------------------------------------\n",
            "Epoch: 53/600 | loss: 0.88 |  validation loss: 0.89 | learning rate: [0.001]\n"
          ]
        },
        {
          "output_type": "stream",
          "name": "stderr",
          "text": [
            "  9%|▉         | 56/600 [00:07<01:07,  8.07it/s]"
          ]
        },
        {
          "output_type": "stream",
          "name": "stdout",
          "text": [
            "----------------------------------------------------------------------------------\n",
            "Epoch: 54/600 | loss: 0.87 |  validation loss: 0.88 | learning rate: [0.001]\n",
            "----------------------------------------------------------------------------------\n",
            "Epoch: 55/600 | loss: 0.86 |  validation loss: 0.86 | learning rate: [0.001]\n"
          ]
        },
        {
          "output_type": "stream",
          "name": "stderr",
          "text": [
            " 10%|▉         | 58/600 [00:07<01:09,  7.75it/s]"
          ]
        },
        {
          "output_type": "stream",
          "name": "stdout",
          "text": [
            "----------------------------------------------------------------------------------\n",
            "Epoch: 56/600 | loss: 0.86 |  validation loss: 0.85 | learning rate: [0.001]\n",
            "----------------------------------------------------------------------------------\n",
            "Epoch: 57/600 | loss: 0.85 |  validation loss: 0.84 | learning rate: [0.001]\n"
          ]
        },
        {
          "output_type": "stream",
          "name": "stderr",
          "text": [
            " 10%|█         | 60/600 [00:07<01:11,  7.59it/s]"
          ]
        },
        {
          "output_type": "stream",
          "name": "stdout",
          "text": [
            "----------------------------------------------------------------------------------\n",
            "Epoch: 58/600 | loss: 0.84 |  validation loss: 0.84 | learning rate: [0.001]\n",
            "----------------------------------------------------------------------------------\n",
            "Epoch: 59/600 | loss: 0.83 |  validation loss: 0.85 | learning rate: [0.001]\n"
          ]
        },
        {
          "output_type": "stream",
          "name": "stderr",
          "text": [
            " 10%|█         | 62/600 [00:07<01:08,  7.81it/s]"
          ]
        },
        {
          "output_type": "stream",
          "name": "stdout",
          "text": [
            "----------------------------------------------------------------------------------\n",
            "Epoch: 60/600 | loss: 0.83 |  validation loss: 0.84 | learning rate: [0.001]\n",
            "----------------------------------------------------------------------------------\n",
            "Epoch: 61/600 | loss: 0.83 |  validation loss: 0.83 | learning rate: [0.001]\n"
          ]
        },
        {
          "output_type": "stream",
          "name": "stderr",
          "text": [
            " 11%|█         | 64/600 [00:08<01:09,  7.66it/s]"
          ]
        },
        {
          "output_type": "stream",
          "name": "stdout",
          "text": [
            "----------------------------------------------------------------------------------\n",
            "Epoch: 62/600 | loss: 0.82 |  validation loss: 0.81 | learning rate: [0.001]\n",
            "----------------------------------------------------------------------------------\n",
            "Epoch: 63/600 | loss: 0.81 |  validation loss: 0.80 | learning rate: [0.001]\n"
          ]
        },
        {
          "output_type": "stream",
          "name": "stderr",
          "text": [
            " 11%|█         | 66/600 [00:08<01:07,  7.86it/s]"
          ]
        },
        {
          "output_type": "stream",
          "name": "stdout",
          "text": [
            "----------------------------------------------------------------------------------\n",
            "Epoch: 64/600 | loss: 0.81 |  validation loss: 0.80 | learning rate: [0.001]\n",
            "----------------------------------------------------------------------------------\n",
            "Epoch: 65/600 | loss: 0.80 |  validation loss: 0.80 | learning rate: [0.001]\n"
          ]
        },
        {
          "output_type": "stream",
          "name": "stderr",
          "text": [
            " 11%|█▏        | 68/600 [00:08<01:09,  7.63it/s]"
          ]
        },
        {
          "output_type": "stream",
          "name": "stdout",
          "text": [
            "----------------------------------------------------------------------------------\n",
            "Epoch: 66/600 | loss: 0.79 |  validation loss: 0.79 | learning rate: [0.001]\n",
            "----------------------------------------------------------------------------------\n",
            "Epoch: 67/600 | loss: 0.78 |  validation loss: 0.78 | learning rate: [0.001]\n"
          ]
        },
        {
          "output_type": "stream",
          "name": "stderr",
          "text": [
            " 12%|█▏        | 70/600 [00:09<01:12,  7.36it/s]"
          ]
        },
        {
          "output_type": "stream",
          "name": "stdout",
          "text": [
            "----------------------------------------------------------------------------------\n",
            "Epoch: 68/600 | loss: 0.78 |  validation loss: 0.79 | learning rate: [0.001]\n",
            "----------------------------------------------------------------------------------\n",
            "Epoch: 69/600 | loss: 0.77 |  validation loss: 0.77 | learning rate: [0.001]\n"
          ]
        },
        {
          "output_type": "stream",
          "name": "stderr",
          "text": [
            " 12%|█▏        | 72/600 [00:09<01:11,  7.35it/s]"
          ]
        },
        {
          "output_type": "stream",
          "name": "stdout",
          "text": [
            "----------------------------------------------------------------------------------\n",
            "Epoch: 70/600 | loss: 0.77 |  validation loss: 0.77 | learning rate: [0.001]\n",
            "----------------------------------------------------------------------------------\n",
            "Epoch: 71/600 | loss: 0.76 |  validation loss: 0.76 | learning rate: [0.001]\n"
          ]
        },
        {
          "output_type": "stream",
          "name": "stderr",
          "text": [
            " 12%|█▏        | 74/600 [00:09<01:08,  7.71it/s]"
          ]
        },
        {
          "output_type": "stream",
          "name": "stdout",
          "text": [
            "----------------------------------------------------------------------------------\n",
            "Epoch: 72/600 | loss: 0.76 |  validation loss: 0.76 | learning rate: [0.001]\n",
            "----------------------------------------------------------------------------------\n",
            "Epoch: 73/600 | loss: 0.75 |  validation loss: 0.75 | learning rate: [0.001]\n"
          ]
        },
        {
          "output_type": "stream",
          "name": "stderr",
          "text": [
            " 13%|█▎        | 76/600 [00:09<01:06,  7.89it/s]"
          ]
        },
        {
          "output_type": "stream",
          "name": "stdout",
          "text": [
            "----------------------------------------------------------------------------------\n",
            "Epoch: 74/600 | loss: 0.74 |  validation loss: 0.75 | learning rate: [0.001]\n",
            "----------------------------------------------------------------------------------\n",
            "Epoch: 75/600 | loss: 0.74 |  validation loss: 0.74 | learning rate: [0.001]\n"
          ]
        },
        {
          "output_type": "stream",
          "name": "stderr",
          "text": [
            " 13%|█▎        | 78/600 [00:10<01:07,  7.73it/s]"
          ]
        },
        {
          "output_type": "stream",
          "name": "stdout",
          "text": [
            "----------------------------------------------------------------------------------\n",
            "Epoch: 76/600 | loss: 0.73 |  validation loss: 0.73 | learning rate: [0.001]\n",
            "----------------------------------------------------------------------------------\n",
            "Epoch: 77/600 | loss: 0.73 |  validation loss: 0.73 | learning rate: [0.001]\n"
          ]
        },
        {
          "output_type": "stream",
          "name": "stderr",
          "text": [
            " 13%|█▎        | 80/600 [00:10<01:07,  7.74it/s]"
          ]
        },
        {
          "output_type": "stream",
          "name": "stdout",
          "text": [
            "----------------------------------------------------------------------------------\n",
            "Epoch: 78/600 | loss: 0.73 |  validation loss: 0.72 | learning rate: [0.001]\n",
            "----------------------------------------------------------------------------------\n",
            "Epoch: 79/600 | loss: 0.72 |  validation loss: 0.72 | learning rate: [0.001]\n"
          ]
        },
        {
          "output_type": "stream",
          "name": "stderr",
          "text": [
            " 14%|█▎        | 82/600 [00:10<01:05,  7.96it/s]"
          ]
        },
        {
          "output_type": "stream",
          "name": "stdout",
          "text": [
            "----------------------------------------------------------------------------------\n",
            "Epoch: 80/600 | loss: 0.71 |  validation loss: 0.71 | learning rate: [0.001]\n",
            "----------------------------------------------------------------------------------\n",
            "Epoch: 81/600 | loss: 0.71 |  validation loss: 0.71 | learning rate: [0.001]\n"
          ]
        },
        {
          "output_type": "stream",
          "name": "stderr",
          "text": [
            " 14%|█▍        | 84/600 [00:10<01:05,  7.82it/s]"
          ]
        },
        {
          "output_type": "stream",
          "name": "stdout",
          "text": [
            "----------------------------------------------------------------------------------\n",
            "Epoch: 82/600 | loss: 0.70 |  validation loss: 0.70 | learning rate: [0.001]\n",
            "----------------------------------------------------------------------------------\n",
            "Epoch: 83/600 | loss: 0.69 |  validation loss: 0.70 | learning rate: [0.001]\n"
          ]
        },
        {
          "output_type": "stream",
          "name": "stderr",
          "text": [
            " 14%|█▍        | 86/600 [00:11<01:05,  7.86it/s]"
          ]
        },
        {
          "output_type": "stream",
          "name": "stdout",
          "text": [
            "----------------------------------------------------------------------------------\n",
            "Epoch: 84/600 | loss: 0.69 |  validation loss: 0.70 | learning rate: [0.001]\n",
            "----------------------------------------------------------------------------------\n",
            "Epoch: 85/600 | loss: 0.69 |  validation loss: 0.72 | learning rate: [0.001]\n"
          ]
        },
        {
          "output_type": "stream",
          "name": "stderr",
          "text": [
            " 15%|█▍        | 88/600 [00:11<01:06,  7.74it/s]"
          ]
        },
        {
          "output_type": "stream",
          "name": "stdout",
          "text": [
            "----------------------------------------------------------------------------------\n",
            "Epoch: 86/600 | loss: 0.68 |  validation loss: 0.70 | learning rate: [0.001]\n",
            "----------------------------------------------------------------------------------\n",
            "Epoch: 87/600 | loss: 0.68 |  validation loss: 0.68 | learning rate: [0.001]\n"
          ]
        },
        {
          "output_type": "stream",
          "name": "stderr",
          "text": [
            " 15%|█▌        | 90/600 [00:11<01:12,  7.06it/s]"
          ]
        },
        {
          "output_type": "stream",
          "name": "stdout",
          "text": [
            "----------------------------------------------------------------------------------\n",
            "Epoch: 88/600 | loss: 0.67 |  validation loss: 0.67 | learning rate: [0.001]\n",
            "----------------------------------------------------------------------------------\n",
            "Epoch: 89/600 | loss: 0.67 |  validation loss: 0.67 | learning rate: [0.001]\n"
          ]
        },
        {
          "output_type": "stream",
          "name": "stderr",
          "text": [
            " 15%|█▌        | 92/600 [00:11<01:07,  7.50it/s]"
          ]
        },
        {
          "output_type": "stream",
          "name": "stdout",
          "text": [
            "----------------------------------------------------------------------------------\n",
            "Epoch: 90/600 | loss: 0.66 |  validation loss: 0.66 | learning rate: [0.001]\n",
            "----------------------------------------------------------------------------------\n",
            "Epoch: 91/600 | loss: 0.66 |  validation loss: 0.65 | learning rate: [0.001]\n"
          ]
        },
        {
          "output_type": "stream",
          "name": "stderr",
          "text": [
            " 16%|█▌        | 94/600 [00:12<01:06,  7.58it/s]"
          ]
        },
        {
          "output_type": "stream",
          "name": "stdout",
          "text": [
            "----------------------------------------------------------------------------------\n",
            "Epoch: 92/600 | loss: 0.65 |  validation loss: 0.66 | learning rate: [0.001]\n",
            "----------------------------------------------------------------------------------\n",
            "Epoch: 93/600 | loss: 0.64 |  validation loss: 0.67 | learning rate: [0.001]\n"
          ]
        },
        {
          "output_type": "stream",
          "name": "stderr",
          "text": [
            " 16%|█▌        | 96/600 [00:12<01:08,  7.39it/s]"
          ]
        },
        {
          "output_type": "stream",
          "name": "stdout",
          "text": [
            "----------------------------------------------------------------------------------\n",
            "Epoch: 94/600 | loss: 0.64 |  validation loss: 0.65 | learning rate: [0.001]\n",
            "----------------------------------------------------------------------------------\n",
            "Epoch: 95/600 | loss: 0.64 |  validation loss: 0.65 | learning rate: [0.001]\n"
          ]
        },
        {
          "output_type": "stream",
          "name": "stderr",
          "text": [
            " 16%|█▋        | 98/600 [00:12<01:09,  7.26it/s]"
          ]
        },
        {
          "output_type": "stream",
          "name": "stdout",
          "text": [
            "----------------------------------------------------------------------------------\n",
            "Epoch: 96/600 | loss: 0.63 |  validation loss: 0.63 | learning rate: [0.001]\n",
            "----------------------------------------------------------------------------------\n",
            "Epoch: 97/600 | loss: 0.62 |  validation loss: 0.63 | learning rate: [0.001]\n"
          ]
        },
        {
          "output_type": "stream",
          "name": "stderr",
          "text": [
            " 17%|█▋        | 100/600 [00:13<01:06,  7.48it/s]"
          ]
        },
        {
          "output_type": "stream",
          "name": "stdout",
          "text": [
            "----------------------------------------------------------------------------------\n",
            "Epoch: 98/600 | loss: 0.62 |  validation loss: 0.63 | learning rate: [0.001]\n",
            "----------------------------------------------------------------------------------\n",
            "Epoch: 99/600 | loss: 0.62 |  validation loss: 0.62 | learning rate: [0.001]\n"
          ]
        },
        {
          "output_type": "stream",
          "name": "stderr",
          "text": [
            " 17%|█▋        | 102/600 [00:13<01:04,  7.77it/s]"
          ]
        },
        {
          "output_type": "stream",
          "name": "stdout",
          "text": [
            "----------------------------------------------------------------------------------\n",
            "Epoch: 100/600 | loss: 0.61 |  validation loss: 0.62 | learning rate: [0.001]\n",
            "----------------------------------------------------------------------------------\n",
            "Epoch: 101/600 | loss: 0.61 |  validation loss: 0.61 | learning rate: [0.001]\n"
          ]
        },
        {
          "output_type": "stream",
          "name": "stderr",
          "text": [
            " 17%|█▋        | 104/600 [00:13<01:04,  7.70it/s]"
          ]
        },
        {
          "output_type": "stream",
          "name": "stdout",
          "text": [
            "----------------------------------------------------------------------------------\n",
            "Epoch: 102/600 | loss: 0.60 |  validation loss: 0.61 | learning rate: [0.001]\n",
            "----------------------------------------------------------------------------------\n",
            "Epoch: 103/600 | loss: 0.60 |  validation loss: 0.62 | learning rate: [0.001]\n"
          ]
        },
        {
          "output_type": "stream",
          "name": "stderr",
          "text": [
            " 18%|█▊        | 106/600 [00:13<01:01,  7.99it/s]"
          ]
        },
        {
          "output_type": "stream",
          "name": "stdout",
          "text": [
            "----------------------------------------------------------------------------------\n",
            "Epoch: 104/600 | loss: 0.60 |  validation loss: 0.61 | learning rate: [0.001]\n",
            "----------------------------------------------------------------------------------\n",
            "Epoch: 105/600 | loss: 0.59 |  validation loss: 0.59 | learning rate: [0.001]\n"
          ]
        },
        {
          "output_type": "stream",
          "name": "stderr",
          "text": [
            " 18%|█▊        | 108/600 [00:13<01:01,  8.02it/s]"
          ]
        },
        {
          "output_type": "stream",
          "name": "stdout",
          "text": [
            "----------------------------------------------------------------------------------\n",
            "Epoch: 106/600 | loss: 0.59 |  validation loss: 0.60 | learning rate: [0.001]\n",
            "----------------------------------------------------------------------------------\n",
            "Epoch: 107/600 | loss: 0.58 |  validation loss: 0.59 | learning rate: [0.001]\n"
          ]
        },
        {
          "output_type": "stream",
          "name": "stderr",
          "text": [
            " 18%|█▊        | 110/600 [00:14<01:04,  7.61it/s]"
          ]
        },
        {
          "output_type": "stream",
          "name": "stdout",
          "text": [
            "----------------------------------------------------------------------------------\n",
            "Epoch: 108/600 | loss: 0.58 |  validation loss: 0.60 | learning rate: [0.001]\n",
            "----------------------------------------------------------------------------------\n",
            "Epoch: 109/600 | loss: 0.58 |  validation loss: 0.58 | learning rate: [0.001]\n"
          ]
        },
        {
          "output_type": "stream",
          "name": "stderr",
          "text": [
            " 19%|█▊        | 112/600 [00:14<01:04,  7.51it/s]"
          ]
        },
        {
          "output_type": "stream",
          "name": "stdout",
          "text": [
            "----------------------------------------------------------------------------------\n",
            "Epoch: 110/600 | loss: 0.57 |  validation loss: 0.58 | learning rate: [0.001]\n",
            "----------------------------------------------------------------------------------\n",
            "Epoch: 111/600 | loss: 0.57 |  validation loss: 0.58 | learning rate: [0.001]\n"
          ]
        },
        {
          "output_type": "stream",
          "name": "stderr",
          "text": [
            " 19%|█▉        | 114/600 [00:14<01:03,  7.68it/s]"
          ]
        },
        {
          "output_type": "stream",
          "name": "stdout",
          "text": [
            "----------------------------------------------------------------------------------\n",
            "Epoch: 112/600 | loss: 0.56 |  validation loss: 0.57 | learning rate: [0.001]\n",
            "----------------------------------------------------------------------------------\n",
            "Epoch: 113/600 | loss: 0.56 |  validation loss: 0.56 | learning rate: [0.001]\n"
          ]
        },
        {
          "output_type": "stream",
          "name": "stderr",
          "text": [
            " 19%|█▉        | 116/600 [00:15<01:00,  7.95it/s]"
          ]
        },
        {
          "output_type": "stream",
          "name": "stdout",
          "text": [
            "----------------------------------------------------------------------------------\n",
            "Epoch: 114/600 | loss: 0.56 |  validation loss: 0.56 | learning rate: [0.001]\n",
            "----------------------------------------------------------------------------------\n",
            "Epoch: 115/600 | loss: 0.55 |  validation loss: 0.55 | learning rate: [0.001]\n"
          ]
        },
        {
          "output_type": "stream",
          "name": "stderr",
          "text": [
            " 20%|█▉        | 118/600 [00:15<01:00,  8.01it/s]"
          ]
        },
        {
          "output_type": "stream",
          "name": "stdout",
          "text": [
            "----------------------------------------------------------------------------------\n",
            "Epoch: 116/600 | loss: 0.55 |  validation loss: 0.56 | learning rate: [0.001]\n",
            "----------------------------------------------------------------------------------\n",
            "Epoch: 117/600 | loss: 0.54 |  validation loss: 0.55 | learning rate: [0.001]\n"
          ]
        },
        {
          "output_type": "stream",
          "name": "stderr",
          "text": [
            " 20%|██        | 120/600 [00:15<01:00,  7.93it/s]"
          ]
        },
        {
          "output_type": "stream",
          "name": "stdout",
          "text": [
            "----------------------------------------------------------------------------------\n",
            "Epoch: 118/600 | loss: 0.54 |  validation loss: 0.54 | learning rate: [0.001]\n",
            "----------------------------------------------------------------------------------\n",
            "Epoch: 119/600 | loss: 0.54 |  validation loss: 0.54 | learning rate: [0.001]\n"
          ]
        },
        {
          "output_type": "stream",
          "name": "stderr",
          "text": [
            " 20%|██        | 122/600 [00:15<00:59,  8.10it/s]"
          ]
        },
        {
          "output_type": "stream",
          "name": "stdout",
          "text": [
            "----------------------------------------------------------------------------------\n",
            "Epoch: 120/600 | loss: 0.53 |  validation loss: 0.54 | learning rate: [0.001]\n",
            "----------------------------------------------------------------------------------\n",
            "Epoch: 121/600 | loss: 0.53 |  validation loss: 0.54 | learning rate: [0.001]\n"
          ]
        },
        {
          "output_type": "stream",
          "name": "stderr",
          "text": [
            " 21%|██        | 124/600 [00:16<00:58,  8.19it/s]"
          ]
        },
        {
          "output_type": "stream",
          "name": "stdout",
          "text": [
            "----------------------------------------------------------------------------------\n",
            "Epoch: 122/600 | loss: 0.53 |  validation loss: 0.54 | learning rate: [0.001]\n",
            "----------------------------------------------------------------------------------\n",
            "Epoch: 123/600 | loss: 0.52 |  validation loss: 0.55 | learning rate: [0.001]\n"
          ]
        },
        {
          "output_type": "stream",
          "name": "stderr",
          "text": [
            " 21%|██        | 126/600 [00:16<00:57,  8.21it/s]"
          ]
        },
        {
          "output_type": "stream",
          "name": "stdout",
          "text": [
            "----------------------------------------------------------------------------------\n",
            "Epoch: 124/600 | loss: 0.52 |  validation loss: 0.53 | learning rate: [0.001]\n",
            "----------------------------------------------------------------------------------\n",
            "Epoch: 125/600 | loss: 0.51 |  validation loss: 0.53 | learning rate: [0.001]\n"
          ]
        },
        {
          "output_type": "stream",
          "name": "stderr",
          "text": [
            " 21%|██▏       | 128/600 [00:16<01:04,  7.37it/s]"
          ]
        },
        {
          "output_type": "stream",
          "name": "stdout",
          "text": [
            "----------------------------------------------------------------------------------\n",
            "Epoch: 126/600 | loss: 0.51 |  validation loss: 0.52 | learning rate: [0.001]\n",
            "----------------------------------------------------------------------------------\n",
            "Epoch: 127/600 | loss: 0.51 |  validation loss: 0.51 | learning rate: [0.001]\n"
          ]
        },
        {
          "output_type": "stream",
          "name": "stderr",
          "text": [
            " 22%|██▏       | 130/600 [00:16<01:04,  7.30it/s]"
          ]
        },
        {
          "output_type": "stream",
          "name": "stdout",
          "text": [
            "----------------------------------------------------------------------------------\n",
            "Epoch: 128/600 | loss: 0.50 |  validation loss: 0.52 | learning rate: [0.001]\n",
            "----------------------------------------------------------------------------------\n",
            "Epoch: 129/600 | loss: 0.50 |  validation loss: 0.51 | learning rate: [0.001]\n"
          ]
        },
        {
          "output_type": "stream",
          "name": "stderr",
          "text": [
            " 22%|██▏       | 132/600 [00:17<01:00,  7.71it/s]"
          ]
        },
        {
          "output_type": "stream",
          "name": "stdout",
          "text": [
            "----------------------------------------------------------------------------------\n",
            "Epoch: 130/600 | loss: 0.49 |  validation loss: 0.50 | learning rate: [0.001]\n",
            "----------------------------------------------------------------------------------\n",
            "Epoch: 131/600 | loss: 0.49 |  validation loss: 0.50 | learning rate: [0.001]\n"
          ]
        },
        {
          "output_type": "stream",
          "name": "stderr",
          "text": [
            " 22%|██▏       | 134/600 [00:17<00:59,  7.87it/s]"
          ]
        },
        {
          "output_type": "stream",
          "name": "stdout",
          "text": [
            "----------------------------------------------------------------------------------\n",
            "Epoch: 132/600 | loss: 0.49 |  validation loss: 0.49 | learning rate: [0.001]\n",
            "----------------------------------------------------------------------------------\n",
            "Epoch: 133/600 | loss: 0.48 |  validation loss: 0.49 | learning rate: [0.001]\n"
          ]
        },
        {
          "output_type": "stream",
          "name": "stderr",
          "text": [
            " 23%|██▎       | 136/600 [00:17<01:01,  7.52it/s]"
          ]
        },
        {
          "output_type": "stream",
          "name": "stdout",
          "text": [
            "----------------------------------------------------------------------------------\n",
            "Epoch: 134/600 | loss: 0.48 |  validation loss: 0.49 | learning rate: [0.001]\n",
            "----------------------------------------------------------------------------------\n",
            "Epoch: 135/600 | loss: 0.48 |  validation loss: 0.48 | learning rate: [0.001]\n"
          ]
        },
        {
          "output_type": "stream",
          "name": "stderr",
          "text": [
            " 23%|██▎       | 138/600 [00:17<00:59,  7.81it/s]"
          ]
        },
        {
          "output_type": "stream",
          "name": "stdout",
          "text": [
            "----------------------------------------------------------------------------------\n",
            "Epoch: 136/600 | loss: 0.47 |  validation loss: 0.48 | learning rate: [0.001]\n",
            "----------------------------------------------------------------------------------\n",
            "Epoch: 137/600 | loss: 0.47 |  validation loss: 0.48 | learning rate: [0.001]\n"
          ]
        },
        {
          "output_type": "stream",
          "name": "stderr",
          "text": [
            " 23%|██▎       | 140/600 [00:18<00:57,  8.01it/s]"
          ]
        },
        {
          "output_type": "stream",
          "name": "stdout",
          "text": [
            "----------------------------------------------------------------------------------\n",
            "Epoch: 138/600 | loss: 0.47 |  validation loss: 0.48 | learning rate: [0.001]\n",
            "----------------------------------------------------------------------------------\n",
            "Epoch: 139/600 | loss: 0.46 |  validation loss: 0.47 | learning rate: [0.001]\n"
          ]
        },
        {
          "output_type": "stream",
          "name": "stderr",
          "text": [
            " 24%|██▎       | 142/600 [00:18<00:57,  8.03it/s]"
          ]
        },
        {
          "output_type": "stream",
          "name": "stdout",
          "text": [
            "----------------------------------------------------------------------------------\n",
            "Epoch: 140/600 | loss: 0.46 |  validation loss: 0.48 | learning rate: [0.001]\n",
            "----------------------------------------------------------------------------------\n",
            "Epoch: 141/600 | loss: 0.46 |  validation loss: 0.48 | learning rate: [0.001]\n"
          ]
        },
        {
          "output_type": "stream",
          "name": "stderr",
          "text": [
            " 24%|██▍       | 144/600 [00:18<00:57,  7.90it/s]"
          ]
        },
        {
          "output_type": "stream",
          "name": "stdout",
          "text": [
            "----------------------------------------------------------------------------------\n",
            "Epoch: 142/600 | loss: 0.45 |  validation loss: 0.47 | learning rate: [0.001]\n",
            "----------------------------------------------------------------------------------\n",
            "Epoch: 143/600 | loss: 0.45 |  validation loss: 0.46 | learning rate: [0.001]\n"
          ]
        },
        {
          "output_type": "stream",
          "name": "stderr",
          "text": [
            " 24%|██▍       | 146/600 [00:18<00:58,  7.82it/s]"
          ]
        },
        {
          "output_type": "stream",
          "name": "stdout",
          "text": [
            "----------------------------------------------------------------------------------\n",
            "Epoch: 144/600 | loss: 0.45 |  validation loss: 0.46 | learning rate: [0.001]\n",
            "----------------------------------------------------------------------------------\n",
            "Epoch: 145/600 | loss: 0.44 |  validation loss: 0.45 | learning rate: [0.001]\n"
          ]
        },
        {
          "output_type": "stream",
          "name": "stderr",
          "text": [
            " 25%|██▍       | 148/600 [00:19<01:00,  7.46it/s]"
          ]
        },
        {
          "output_type": "stream",
          "name": "stdout",
          "text": [
            "----------------------------------------------------------------------------------\n",
            "Epoch: 146/600 | loss: 0.44 |  validation loss: 0.45 | learning rate: [0.001]\n",
            "----------------------------------------------------------------------------------\n",
            "Epoch: 147/600 | loss: 0.44 |  validation loss: 0.44 | learning rate: [0.001]\n"
          ]
        },
        {
          "output_type": "stream",
          "name": "stderr",
          "text": [
            " 25%|██▌       | 150/600 [00:19<00:59,  7.58it/s]"
          ]
        },
        {
          "output_type": "stream",
          "name": "stdout",
          "text": [
            "----------------------------------------------------------------------------------\n",
            "Epoch: 148/600 | loss: 0.44 |  validation loss: 0.46 | learning rate: [0.001]\n",
            "----------------------------------------------------------------------------------\n",
            "Epoch: 149/600 | loss: 0.43 |  validation loss: 0.46 | learning rate: [0.001]\n"
          ]
        },
        {
          "output_type": "stream",
          "name": "stderr",
          "text": [
            " 25%|██▌       | 152/600 [00:19<00:58,  7.60it/s]"
          ]
        },
        {
          "output_type": "stream",
          "name": "stdout",
          "text": [
            "----------------------------------------------------------------------------------\n",
            "Epoch: 150/600 | loss: 0.43 |  validation loss: 0.49 | learning rate: [0.001]\n",
            "----------------------------------------------------------------------------------\n",
            "Epoch: 151/600 | loss: 0.42 |  validation loss: 0.44 | learning rate: [0.001]\n"
          ]
        },
        {
          "output_type": "stream",
          "name": "stderr",
          "text": [
            " 26%|██▌       | 154/600 [00:19<01:00,  7.42it/s]"
          ]
        },
        {
          "output_type": "stream",
          "name": "stdout",
          "text": [
            "----------------------------------------------------------------------------------\n",
            "Epoch: 152/600 | loss: 0.42 |  validation loss: 0.43 | learning rate: [0.001]\n",
            "----------------------------------------------------------------------------------\n",
            "Epoch: 153/600 | loss: 0.42 |  validation loss: 0.44 | learning rate: [0.001]\n"
          ]
        },
        {
          "output_type": "stream",
          "name": "stderr",
          "text": [
            " 26%|██▌       | 156/600 [00:20<00:57,  7.68it/s]"
          ]
        },
        {
          "output_type": "stream",
          "name": "stdout",
          "text": [
            "----------------------------------------------------------------------------------\n",
            "Epoch: 154/600 | loss: 0.42 |  validation loss: 0.48 | learning rate: [0.001]\n",
            "----------------------------------------------------------------------------------\n",
            "Epoch: 155/600 | loss: 0.42 |  validation loss: 0.42 | learning rate: [0.001]\n"
          ]
        },
        {
          "output_type": "stream",
          "name": "stderr",
          "text": [
            " 26%|██▋       | 158/600 [00:20<00:56,  7.89it/s]"
          ]
        },
        {
          "output_type": "stream",
          "name": "stdout",
          "text": [
            "----------------------------------------------------------------------------------\n",
            "Epoch: 156/600 | loss: 0.41 |  validation loss: 0.43 | learning rate: [0.001]\n",
            "----------------------------------------------------------------------------------\n",
            "Epoch: 157/600 | loss: 0.41 |  validation loss: 0.43 | learning rate: [0.001]\n"
          ]
        },
        {
          "output_type": "stream",
          "name": "stderr",
          "text": [
            " 27%|██▋       | 160/600 [00:20<00:56,  7.83it/s]"
          ]
        },
        {
          "output_type": "stream",
          "name": "stdout",
          "text": [
            "----------------------------------------------------------------------------------\n",
            "Epoch: 158/600 | loss: 0.40 |  validation loss: 0.42 | learning rate: [0.001]\n",
            "----------------------------------------------------------------------------------\n",
            "Epoch: 159/600 | loss: 0.40 |  validation loss: 0.41 | learning rate: [0.001]\n"
          ]
        },
        {
          "output_type": "stream",
          "name": "stderr",
          "text": [
            " 27%|██▋       | 162/600 [00:20<00:57,  7.64it/s]"
          ]
        },
        {
          "output_type": "stream",
          "name": "stdout",
          "text": [
            "----------------------------------------------------------------------------------\n",
            "Epoch: 160/600 | loss: 0.40 |  validation loss: 0.41 | learning rate: [0.001]\n",
            "----------------------------------------------------------------------------------\n",
            "Epoch: 161/600 | loss: 0.39 |  validation loss: 0.40 | learning rate: [0.001]\n"
          ]
        },
        {
          "output_type": "stream",
          "name": "stderr",
          "text": [
            " 27%|██▋       | 164/600 [00:21<00:55,  7.83it/s]"
          ]
        },
        {
          "output_type": "stream",
          "name": "stdout",
          "text": [
            "----------------------------------------------------------------------------------\n",
            "Epoch: 162/600 | loss: 0.39 |  validation loss: 0.41 | learning rate: [0.001]\n",
            "----------------------------------------------------------------------------------\n",
            "Epoch: 163/600 | loss: 0.39 |  validation loss: 0.43 | learning rate: [0.001]\n"
          ]
        },
        {
          "output_type": "stream",
          "name": "stderr",
          "text": [
            " 28%|██▊       | 166/600 [00:21<00:56,  7.63it/s]"
          ]
        },
        {
          "output_type": "stream",
          "name": "stdout",
          "text": [
            "----------------------------------------------------------------------------------\n",
            "Epoch: 164/600 | loss: 0.39 |  validation loss: 0.43 | learning rate: [0.001]\n",
            "----------------------------------------------------------------------------------\n",
            "Epoch: 165/600 | loss: 0.39 |  validation loss: 0.42 | learning rate: [0.001]\n"
          ]
        },
        {
          "output_type": "stream",
          "name": "stderr",
          "text": [
            " 28%|██▊       | 168/600 [00:21<00:54,  7.91it/s]"
          ]
        },
        {
          "output_type": "stream",
          "name": "stdout",
          "text": [
            "----------------------------------------------------------------------------------\n",
            "Epoch: 166/600 | loss: 0.38 |  validation loss: 0.39 | learning rate: [0.001]\n",
            "----------------------------------------------------------------------------------\n",
            "Epoch: 167/600 | loss: 0.38 |  validation loss: 0.39 | learning rate: [0.001]\n"
          ]
        },
        {
          "output_type": "stream",
          "name": "stderr",
          "text": [
            " 28%|██▊       | 170/600 [00:21<00:54,  7.96it/s]"
          ]
        },
        {
          "output_type": "stream",
          "name": "stdout",
          "text": [
            "----------------------------------------------------------------------------------\n",
            "Epoch: 168/600 | loss: 0.38 |  validation loss: 0.39 | learning rate: [0.001]\n",
            "----------------------------------------------------------------------------------\n",
            "Epoch: 169/600 | loss: 0.38 |  validation loss: 0.40 | learning rate: [0.001]\n"
          ]
        },
        {
          "output_type": "stream",
          "name": "stderr",
          "text": [
            " 29%|██▊       | 172/600 [00:22<00:54,  7.84it/s]"
          ]
        },
        {
          "output_type": "stream",
          "name": "stdout",
          "text": [
            "----------------------------------------------------------------------------------\n",
            "Epoch: 170/600 | loss: 0.37 |  validation loss: 0.39 | learning rate: [0.001]\n",
            "----------------------------------------------------------------------------------\n",
            "Epoch: 171/600 | loss: 0.37 |  validation loss: 0.38 | learning rate: [0.001]\n"
          ]
        },
        {
          "output_type": "stream",
          "name": "stderr",
          "text": [
            " 29%|██▉       | 174/600 [00:22<00:53,  8.03it/s]"
          ]
        },
        {
          "output_type": "stream",
          "name": "stdout",
          "text": [
            "----------------------------------------------------------------------------------\n",
            "Epoch: 172/600 | loss: 0.36 |  validation loss: 0.37 | learning rate: [0.001]\n",
            "----------------------------------------------------------------------------------\n",
            "Epoch: 173/600 | loss: 0.36 |  validation loss: 0.37 | learning rate: [0.001]\n"
          ]
        },
        {
          "output_type": "stream",
          "name": "stderr",
          "text": [
            " 29%|██▉       | 176/600 [00:22<00:56,  7.51it/s]"
          ]
        },
        {
          "output_type": "stream",
          "name": "stdout",
          "text": [
            "----------------------------------------------------------------------------------\n",
            "Epoch: 174/600 | loss: 0.36 |  validation loss: 0.38 | learning rate: [0.001]\n",
            "----------------------------------------------------------------------------------\n",
            "Epoch: 175/600 | loss: 0.36 |  validation loss: 0.37 | learning rate: [0.001]\n"
          ]
        },
        {
          "output_type": "stream",
          "name": "stderr",
          "text": [
            " 30%|██▉       | 178/600 [00:23<00:54,  7.68it/s]"
          ]
        },
        {
          "output_type": "stream",
          "name": "stdout",
          "text": [
            "----------------------------------------------------------------------------------\n",
            "Epoch: 176/600 | loss: 0.35 |  validation loss: 0.37 | learning rate: [0.001]\n",
            "----------------------------------------------------------------------------------\n",
            "Epoch: 177/600 | loss: 0.35 |  validation loss: 0.38 | learning rate: [0.001]\n"
          ]
        },
        {
          "output_type": "stream",
          "name": "stderr",
          "text": [
            " 30%|███       | 180/600 [00:23<00:56,  7.49it/s]"
          ]
        },
        {
          "output_type": "stream",
          "name": "stdout",
          "text": [
            "----------------------------------------------------------------------------------\n",
            "Epoch: 178/600 | loss: 0.35 |  validation loss: 0.37 | learning rate: [0.001]\n",
            "----------------------------------------------------------------------------------\n",
            "Epoch: 179/600 | loss: 0.34 |  validation loss: 0.38 | learning rate: [0.001]\n"
          ]
        },
        {
          "output_type": "stream",
          "name": "stderr",
          "text": [
            " 30%|███       | 182/600 [00:23<00:55,  7.52it/s]"
          ]
        },
        {
          "output_type": "stream",
          "name": "stdout",
          "text": [
            "----------------------------------------------------------------------------------\n",
            "Epoch: 180/600 | loss: 0.34 |  validation loss: 0.37 | learning rate: [0.001]\n",
            "----------------------------------------------------------------------------------\n",
            "Epoch: 181/600 | loss: 0.34 |  validation loss: 0.36 | learning rate: [0.001]\n"
          ]
        },
        {
          "output_type": "stream",
          "name": "stderr",
          "text": [
            " 31%|███       | 184/600 [00:23<00:55,  7.55it/s]"
          ]
        },
        {
          "output_type": "stream",
          "name": "stdout",
          "text": [
            "----------------------------------------------------------------------------------\n",
            "Epoch: 182/600 | loss: 0.33 |  validation loss: 0.36 | learning rate: [0.001]\n",
            "----------------------------------------------------------------------------------\n",
            "Epoch: 183/600 | loss: 0.33 |  validation loss: 0.36 | learning rate: [0.001]\n"
          ]
        },
        {
          "output_type": "stream",
          "name": "stderr",
          "text": [
            " 31%|███       | 186/600 [00:24<00:55,  7.42it/s]"
          ]
        },
        {
          "output_type": "stream",
          "name": "stdout",
          "text": [
            "----------------------------------------------------------------------------------\n",
            "Epoch: 184/600 | loss: 0.33 |  validation loss: 0.34 | learning rate: [0.001]\n",
            "----------------------------------------------------------------------------------\n",
            "Epoch: 185/600 | loss: 0.33 |  validation loss: 0.35 | learning rate: [0.001]\n"
          ]
        },
        {
          "output_type": "stream",
          "name": "stderr",
          "text": [
            " 31%|███▏      | 188/600 [00:24<01:00,  6.84it/s]"
          ]
        },
        {
          "output_type": "stream",
          "name": "stdout",
          "text": [
            "----------------------------------------------------------------------------------\n",
            "Epoch: 186/600 | loss: 0.32 |  validation loss: 0.35 | learning rate: [0.001]\n",
            "----------------------------------------------------------------------------------\n",
            "Epoch: 187/600 | loss: 0.32 |  validation loss: 0.34 | learning rate: [0.001]\n"
          ]
        },
        {
          "output_type": "stream",
          "name": "stderr",
          "text": [
            " 32%|███▏      | 190/600 [00:24<00:58,  7.03it/s]"
          ]
        },
        {
          "output_type": "stream",
          "name": "stdout",
          "text": [
            "----------------------------------------------------------------------------------\n",
            "Epoch: 188/600 | loss: 0.32 |  validation loss: 0.34 | learning rate: [0.001]\n",
            "----------------------------------------------------------------------------------\n",
            "Epoch: 189/600 | loss: 0.32 |  validation loss: 0.33 | learning rate: [0.001]\n"
          ]
        },
        {
          "output_type": "stream",
          "name": "stderr",
          "text": [
            " 32%|███▏      | 192/600 [00:24<00:57,  7.13it/s]"
          ]
        },
        {
          "output_type": "stream",
          "name": "stdout",
          "text": [
            "----------------------------------------------------------------------------------\n",
            "Epoch: 190/600 | loss: 0.32 |  validation loss: 0.33 | learning rate: [0.001]\n",
            "----------------------------------------------------------------------------------\n",
            "Epoch: 191/600 | loss: 0.32 |  validation loss: 0.33 | learning rate: [0.001]\n"
          ]
        },
        {
          "output_type": "stream",
          "name": "stderr",
          "text": [
            " 32%|███▏      | 194/600 [00:25<00:56,  7.17it/s]"
          ]
        },
        {
          "output_type": "stream",
          "name": "stdout",
          "text": [
            "----------------------------------------------------------------------------------\n",
            "Epoch: 192/600 | loss: 0.31 |  validation loss: 0.33 | learning rate: [0.001]\n",
            "----------------------------------------------------------------------------------\n",
            "Epoch: 193/600 | loss: 0.31 |  validation loss: 0.32 | learning rate: [0.001]\n"
          ]
        },
        {
          "output_type": "stream",
          "name": "stderr",
          "text": [
            " 33%|███▎      | 196/600 [00:25<00:55,  7.27it/s]"
          ]
        },
        {
          "output_type": "stream",
          "name": "stdout",
          "text": [
            "----------------------------------------------------------------------------------\n",
            "Epoch: 194/600 | loss: 0.31 |  validation loss: 0.32 | learning rate: [0.001]\n",
            "----------------------------------------------------------------------------------\n",
            "Epoch: 195/600 | loss: 0.31 |  validation loss: 0.32 | learning rate: [0.001]\n"
          ]
        },
        {
          "output_type": "stream",
          "name": "stderr",
          "text": [
            " 33%|███▎      | 198/600 [00:25<00:55,  7.29it/s]"
          ]
        },
        {
          "output_type": "stream",
          "name": "stdout",
          "text": [
            "----------------------------------------------------------------------------------\n",
            "Epoch: 196/600 | loss: 0.30 |  validation loss: 0.31 | learning rate: [0.001]\n",
            "----------------------------------------------------------------------------------\n",
            "Epoch: 197/600 | loss: 0.30 |  validation loss: 0.33 | learning rate: [0.001]\n"
          ]
        },
        {
          "output_type": "stream",
          "name": "stderr",
          "text": [
            " 33%|███▎      | 200/600 [00:26<00:54,  7.28it/s]"
          ]
        },
        {
          "output_type": "stream",
          "name": "stdout",
          "text": [
            "----------------------------------------------------------------------------------\n",
            "Epoch: 198/600 | loss: 0.30 |  validation loss: 0.32 | learning rate: [0.001]\n",
            "----------------------------------------------------------------------------------\n",
            "Epoch: 199/600 | loss: 0.30 |  validation loss: 0.32 | learning rate: [0.001]\n"
          ]
        },
        {
          "output_type": "stream",
          "name": "stderr",
          "text": [
            " 34%|███▎      | 202/600 [00:26<00:55,  7.24it/s]"
          ]
        },
        {
          "output_type": "stream",
          "name": "stdout",
          "text": [
            "----------------------------------------------------------------------------------\n",
            "Epoch: 200/600 | loss: 0.29 |  validation loss: 0.30 | learning rate: [0.001]\n",
            "----------------------------------------------------------------------------------\n",
            "Epoch: 201/600 | loss: 0.29 |  validation loss: 0.30 | learning rate: [0.001]\n"
          ]
        },
        {
          "output_type": "stream",
          "name": "stderr",
          "text": [
            " 34%|███▍      | 204/600 [00:26<00:54,  7.28it/s]"
          ]
        },
        {
          "output_type": "stream",
          "name": "stdout",
          "text": [
            "----------------------------------------------------------------------------------\n",
            "Epoch: 202/600 | loss: 0.29 |  validation loss: 0.30 | learning rate: [0.001]\n",
            "----------------------------------------------------------------------------------\n",
            "Epoch: 203/600 | loss: 0.29 |  validation loss: 0.30 | learning rate: [0.001]\n"
          ]
        },
        {
          "output_type": "stream",
          "name": "stderr",
          "text": [
            " 34%|███▍      | 206/600 [00:26<00:52,  7.51it/s]"
          ]
        },
        {
          "output_type": "stream",
          "name": "stdout",
          "text": [
            "----------------------------------------------------------------------------------\n",
            "Epoch: 204/600 | loss: 0.28 |  validation loss: 0.30 | learning rate: [0.001]\n",
            "----------------------------------------------------------------------------------\n",
            "Epoch: 205/600 | loss: 0.28 |  validation loss: 0.30 | learning rate: [0.001]\n"
          ]
        },
        {
          "output_type": "stream",
          "name": "stderr",
          "text": [
            " 35%|███▍      | 208/600 [00:27<00:50,  7.79it/s]"
          ]
        },
        {
          "output_type": "stream",
          "name": "stdout",
          "text": [
            "----------------------------------------------------------------------------------\n",
            "Epoch: 206/600 | loss: 0.28 |  validation loss: 0.29 | learning rate: [0.001]\n",
            "----------------------------------------------------------------------------------\n",
            "Epoch: 207/600 | loss: 0.28 |  validation loss: 0.28 | learning rate: [0.001]\n"
          ]
        },
        {
          "output_type": "stream",
          "name": "stderr",
          "text": [
            " 35%|███▌      | 210/600 [00:27<00:52,  7.45it/s]"
          ]
        },
        {
          "output_type": "stream",
          "name": "stdout",
          "text": [
            "----------------------------------------------------------------------------------\n",
            "Epoch: 208/600 | loss: 0.28 |  validation loss: 0.28 | learning rate: [0.001]\n",
            "----------------------------------------------------------------------------------\n",
            "Epoch: 209/600 | loss: 0.27 |  validation loss: 0.29 | learning rate: [0.001]\n"
          ]
        },
        {
          "output_type": "stream",
          "name": "stderr",
          "text": [
            " 35%|███▌      | 212/600 [00:27<00:50,  7.62it/s]"
          ]
        },
        {
          "output_type": "stream",
          "name": "stdout",
          "text": [
            "----------------------------------------------------------------------------------\n",
            "Epoch: 210/600 | loss: 0.27 |  validation loss: 0.28 | learning rate: [0.001]\n",
            "----------------------------------------------------------------------------------\n",
            "Epoch: 211/600 | loss: 0.27 |  validation loss: 0.29 | learning rate: [0.001]\n"
          ]
        },
        {
          "output_type": "stream",
          "name": "stderr",
          "text": [
            " 36%|███▌      | 214/600 [00:27<00:52,  7.31it/s]"
          ]
        },
        {
          "output_type": "stream",
          "name": "stdout",
          "text": [
            "----------------------------------------------------------------------------------\n",
            "Epoch: 212/600 | loss: 0.27 |  validation loss: 0.29 | learning rate: [0.001]\n",
            "----------------------------------------------------------------------------------\n",
            "Epoch: 213/600 | loss: 0.27 |  validation loss: 0.28 | learning rate: [0.001]\n"
          ]
        },
        {
          "output_type": "stream",
          "name": "stderr",
          "text": [
            " 36%|███▌      | 216/600 [00:28<00:52,  7.25it/s]"
          ]
        },
        {
          "output_type": "stream",
          "name": "stdout",
          "text": [
            "----------------------------------------------------------------------------------\n",
            "Epoch: 214/600 | loss: 0.26 |  validation loss: 0.28 | learning rate: [0.001]\n",
            "----------------------------------------------------------------------------------\n",
            "Epoch: 215/600 | loss: 0.26 |  validation loss: 0.29 | learning rate: [0.001]\n"
          ]
        },
        {
          "output_type": "stream",
          "name": "stderr",
          "text": [
            " 36%|███▋      | 218/600 [00:28<00:49,  7.71it/s]"
          ]
        },
        {
          "output_type": "stream",
          "name": "stdout",
          "text": [
            "----------------------------------------------------------------------------------\n",
            "Epoch: 216/600 | loss: 0.26 |  validation loss: 0.27 | learning rate: [0.001]\n",
            "----------------------------------------------------------------------------------\n",
            "Epoch: 217/600 | loss: 0.26 |  validation loss: 0.27 | learning rate: [0.001]\n"
          ]
        },
        {
          "output_type": "stream",
          "name": "stderr",
          "text": [
            " 37%|███▋      | 220/600 [00:28<00:49,  7.62it/s]"
          ]
        },
        {
          "output_type": "stream",
          "name": "stdout",
          "text": [
            "----------------------------------------------------------------------------------\n",
            "Epoch: 218/600 | loss: 0.26 |  validation loss: 0.27 | learning rate: [0.001]\n",
            "----------------------------------------------------------------------------------\n",
            "Epoch: 219/600 | loss: 0.26 |  validation loss: 0.27 | learning rate: [0.001]\n"
          ]
        },
        {
          "output_type": "stream",
          "name": "stderr",
          "text": [
            " 37%|███▋      | 222/600 [00:28<00:49,  7.69it/s]"
          ]
        },
        {
          "output_type": "stream",
          "name": "stdout",
          "text": [
            "----------------------------------------------------------------------------------\n",
            "Epoch: 220/600 | loss: 0.25 |  validation loss: 0.29 | learning rate: [0.001]\n",
            "----------------------------------------------------------------------------------\n",
            "Epoch: 221/600 | loss: 0.25 |  validation loss: 0.26 | learning rate: [0.001]\n"
          ]
        },
        {
          "output_type": "stream",
          "name": "stderr",
          "text": [
            " 37%|███▋      | 224/600 [00:29<00:48,  7.74it/s]"
          ]
        },
        {
          "output_type": "stream",
          "name": "stdout",
          "text": [
            "----------------------------------------------------------------------------------\n",
            "Epoch: 222/600 | loss: 0.25 |  validation loss: 0.27 | learning rate: [0.001]\n",
            "----------------------------------------------------------------------------------\n",
            "Epoch: 223/600 | loss: 0.25 |  validation loss: 0.27 | learning rate: [0.001]\n"
          ]
        },
        {
          "output_type": "stream",
          "name": "stderr",
          "text": [
            " 38%|███▊      | 226/600 [00:29<00:48,  7.76it/s]"
          ]
        },
        {
          "output_type": "stream",
          "name": "stdout",
          "text": [
            "----------------------------------------------------------------------------------\n",
            "Epoch: 224/600 | loss: 0.25 |  validation loss: 0.26 | learning rate: [0.001]\n",
            "----------------------------------------------------------------------------------\n",
            "Epoch: 225/600 | loss: 0.24 |  validation loss: 0.26 | learning rate: [0.001]\n"
          ]
        },
        {
          "output_type": "stream",
          "name": "stderr",
          "text": [
            " 38%|███▊      | 228/600 [00:29<00:47,  7.89it/s]"
          ]
        },
        {
          "output_type": "stream",
          "name": "stdout",
          "text": [
            "----------------------------------------------------------------------------------\n",
            "Epoch: 226/600 | loss: 0.24 |  validation loss: 0.25 | learning rate: [0.001]\n",
            "----------------------------------------------------------------------------------\n",
            "Epoch: 227/600 | loss: 0.24 |  validation loss: 0.25 | learning rate: [0.001]\n"
          ]
        },
        {
          "output_type": "stream",
          "name": "stderr",
          "text": [
            " 38%|███▊      | 230/600 [00:30<00:46,  7.94it/s]"
          ]
        },
        {
          "output_type": "stream",
          "name": "stdout",
          "text": [
            "----------------------------------------------------------------------------------\n",
            "Epoch: 228/600 | loss: 0.24 |  validation loss: 0.25 | learning rate: [0.001]\n",
            "----------------------------------------------------------------------------------\n",
            "Epoch: 229/600 | loss: 0.24 |  validation loss: 0.25 | learning rate: [0.001]\n"
          ]
        },
        {
          "output_type": "stream",
          "name": "stderr",
          "text": [
            " 39%|███▊      | 232/600 [00:30<00:46,  7.98it/s]"
          ]
        },
        {
          "output_type": "stream",
          "name": "stdout",
          "text": [
            "----------------------------------------------------------------------------------\n",
            "Epoch: 230/600 | loss: 0.23 |  validation loss: 0.25 | learning rate: [0.001]\n",
            "----------------------------------------------------------------------------------\n",
            "Epoch: 231/600 | loss: 0.23 |  validation loss: 0.25 | learning rate: [0.001]\n"
          ]
        },
        {
          "output_type": "stream",
          "name": "stderr",
          "text": [
            " 39%|███▉      | 234/600 [00:30<00:45,  7.99it/s]"
          ]
        },
        {
          "output_type": "stream",
          "name": "stdout",
          "text": [
            "----------------------------------------------------------------------------------\n",
            "Epoch: 232/600 | loss: 0.23 |  validation loss: 0.24 | learning rate: [0.001]\n",
            "----------------------------------------------------------------------------------\n",
            "Epoch: 233/600 | loss: 0.23 |  validation loss: 0.24 | learning rate: [0.001]\n"
          ]
        },
        {
          "output_type": "stream",
          "name": "stderr",
          "text": [
            " 39%|███▉      | 236/600 [00:30<00:45,  7.92it/s]"
          ]
        },
        {
          "output_type": "stream",
          "name": "stdout",
          "text": [
            "----------------------------------------------------------------------------------\n",
            "Epoch: 234/600 | loss: 0.22 |  validation loss: 0.23 | learning rate: [0.001]\n",
            "----------------------------------------------------------------------------------\n",
            "Epoch: 235/600 | loss: 0.22 |  validation loss: 0.24 | learning rate: [0.001]\n"
          ]
        },
        {
          "output_type": "stream",
          "name": "stderr",
          "text": [
            " 40%|███▉      | 238/600 [00:31<00:46,  7.83it/s]"
          ]
        },
        {
          "output_type": "stream",
          "name": "stdout",
          "text": [
            "----------------------------------------------------------------------------------\n",
            "Epoch: 236/600 | loss: 0.22 |  validation loss: 0.23 | learning rate: [0.001]\n",
            "----------------------------------------------------------------------------------\n",
            "Epoch: 237/600 | loss: 0.22 |  validation loss: 0.22 | learning rate: [0.001]\n"
          ]
        },
        {
          "output_type": "stream",
          "name": "stderr",
          "text": [
            " 40%|████      | 240/600 [00:31<00:46,  7.73it/s]"
          ]
        },
        {
          "output_type": "stream",
          "name": "stdout",
          "text": [
            "----------------------------------------------------------------------------------\n",
            "Epoch: 238/600 | loss: 0.22 |  validation loss: 0.23 | learning rate: [0.001]\n",
            "----------------------------------------------------------------------------------\n",
            "Epoch: 239/600 | loss: 0.22 |  validation loss: 0.23 | learning rate: [0.001]\n"
          ]
        },
        {
          "output_type": "stream",
          "name": "stderr",
          "text": [
            " 40%|████      | 242/600 [00:31<00:47,  7.58it/s]"
          ]
        },
        {
          "output_type": "stream",
          "name": "stdout",
          "text": [
            "----------------------------------------------------------------------------------\n",
            "Epoch: 240/600 | loss: 0.22 |  validation loss: 0.23 | learning rate: [0.001]\n",
            "----------------------------------------------------------------------------------\n",
            "Epoch: 241/600 | loss: 0.21 |  validation loss: 0.23 | learning rate: [0.001]\n"
          ]
        },
        {
          "output_type": "stream",
          "name": "stderr",
          "text": [
            " 41%|████      | 244/600 [00:31<00:46,  7.66it/s]"
          ]
        },
        {
          "output_type": "stream",
          "name": "stdout",
          "text": [
            "----------------------------------------------------------------------------------\n",
            "Epoch: 242/600 | loss: 0.21 |  validation loss: 0.23 | learning rate: [0.001]\n",
            "----------------------------------------------------------------------------------\n",
            "Epoch: 243/600 | loss: 0.21 |  validation loss: 0.22 | learning rate: [0.001]\n"
          ]
        },
        {
          "output_type": "stream",
          "name": "stderr",
          "text": [
            " 41%|████      | 246/600 [00:32<00:44,  7.98it/s]"
          ]
        },
        {
          "output_type": "stream",
          "name": "stdout",
          "text": [
            "----------------------------------------------------------------------------------\n",
            "Epoch: 244/600 | loss: 0.21 |  validation loss: 0.23 | learning rate: [0.001]\n",
            "----------------------------------------------------------------------------------\n",
            "Epoch: 245/600 | loss: 0.21 |  validation loss: 0.22 | learning rate: [0.001]\n"
          ]
        },
        {
          "output_type": "stream",
          "name": "stderr",
          "text": [
            " 41%|████▏     | 248/600 [00:32<00:44,  8.00it/s]"
          ]
        },
        {
          "output_type": "stream",
          "name": "stdout",
          "text": [
            "----------------------------------------------------------------------------------\n",
            "Epoch: 246/600 | loss: 0.20 |  validation loss: 0.22 | learning rate: [0.001]\n",
            "----------------------------------------------------------------------------------\n",
            "Epoch: 247/600 | loss: 0.20 |  validation loss: 0.22 | learning rate: [0.001]\n"
          ]
        },
        {
          "output_type": "stream",
          "name": "stderr",
          "text": [
            " 42%|████▏     | 250/600 [00:32<00:44,  7.89it/s]"
          ]
        },
        {
          "output_type": "stream",
          "name": "stdout",
          "text": [
            "----------------------------------------------------------------------------------\n",
            "Epoch: 248/600 | loss: 0.20 |  validation loss: 0.21 | learning rate: [0.001]\n",
            "----------------------------------------------------------------------------------\n",
            "Epoch: 249/600 | loss: 0.20 |  validation loss: 0.21 | learning rate: [0.001]\n"
          ]
        },
        {
          "output_type": "stream",
          "name": "stderr",
          "text": [
            " 42%|████▏     | 252/600 [00:32<00:44,  7.91it/s]"
          ]
        },
        {
          "output_type": "stream",
          "name": "stdout",
          "text": [
            "----------------------------------------------------------------------------------\n",
            "Epoch: 250/600 | loss: 0.20 |  validation loss: 0.21 | learning rate: [0.001]\n",
            "----------------------------------------------------------------------------------\n",
            "Epoch: 251/600 | loss: 0.20 |  validation loss: 0.22 | learning rate: [0.001]\n"
          ]
        },
        {
          "output_type": "stream",
          "name": "stderr",
          "text": [
            " 42%|████▏     | 254/600 [00:33<00:44,  7.79it/s]"
          ]
        },
        {
          "output_type": "stream",
          "name": "stdout",
          "text": [
            "----------------------------------------------------------------------------------\n",
            "Epoch: 252/600 | loss: 0.20 |  validation loss: 0.21 | learning rate: [0.001]\n",
            "----------------------------------------------------------------------------------\n",
            "Epoch: 253/600 | loss: 0.20 |  validation loss: 0.21 | learning rate: [0.001]\n"
          ]
        },
        {
          "output_type": "stream",
          "name": "stderr",
          "text": [
            " 43%|████▎     | 256/600 [00:33<00:43,  7.99it/s]"
          ]
        },
        {
          "output_type": "stream",
          "name": "stdout",
          "text": [
            "----------------------------------------------------------------------------------\n",
            "Epoch: 254/600 | loss: 0.19 |  validation loss: 0.21 | learning rate: [0.001]\n",
            "----------------------------------------------------------------------------------\n",
            "Epoch: 255/600 | loss: 0.19 |  validation loss: 0.22 | learning rate: [0.001]\n"
          ]
        },
        {
          "output_type": "stream",
          "name": "stderr",
          "text": [
            " 43%|████▎     | 258/600 [00:33<00:43,  7.92it/s]"
          ]
        },
        {
          "output_type": "stream",
          "name": "stdout",
          "text": [
            "----------------------------------------------------------------------------------\n",
            "Epoch: 256/600 | loss: 0.19 |  validation loss: 0.22 | learning rate: [0.001]\n",
            "----------------------------------------------------------------------------------\n",
            "Epoch: 257/600 | loss: 0.19 |  validation loss: 0.21 | learning rate: [0.001]\n"
          ]
        },
        {
          "output_type": "stream",
          "name": "stderr",
          "text": [
            " 43%|████▎     | 260/600 [00:33<00:43,  7.83it/s]"
          ]
        },
        {
          "output_type": "stream",
          "name": "stdout",
          "text": [
            "----------------------------------------------------------------------------------\n",
            "Epoch: 258/600 | loss: 0.19 |  validation loss: 0.20 | learning rate: [0.001]\n",
            "----------------------------------------------------------------------------------\n",
            "Epoch: 259/600 | loss: 0.19 |  validation loss: 0.20 | learning rate: [0.001]\n"
          ]
        },
        {
          "output_type": "stream",
          "name": "stderr",
          "text": [
            " 44%|████▎     | 262/600 [00:34<00:43,  7.86it/s]"
          ]
        },
        {
          "output_type": "stream",
          "name": "stdout",
          "text": [
            "----------------------------------------------------------------------------------\n",
            "Epoch: 260/600 | loss: 0.18 |  validation loss: 0.20 | learning rate: [0.001]\n",
            "----------------------------------------------------------------------------------\n",
            "Epoch: 261/600 | loss: 0.18 |  validation loss: 0.20 | learning rate: [0.001]\n"
          ]
        },
        {
          "output_type": "stream",
          "name": "stderr",
          "text": [
            " 44%|████▍     | 264/600 [00:34<00:43,  7.81it/s]"
          ]
        },
        {
          "output_type": "stream",
          "name": "stdout",
          "text": [
            "----------------------------------------------------------------------------------\n",
            "Epoch: 262/600 | loss: 0.18 |  validation loss: 0.19 | learning rate: [0.001]\n",
            "----------------------------------------------------------------------------------\n",
            "Epoch: 263/600 | loss: 0.18 |  validation loss: 0.19 | learning rate: [0.001]\n"
          ]
        },
        {
          "output_type": "stream",
          "name": "stderr",
          "text": [
            " 44%|████▍     | 266/600 [00:34<00:42,  7.82it/s]"
          ]
        },
        {
          "output_type": "stream",
          "name": "stdout",
          "text": [
            "----------------------------------------------------------------------------------\n",
            "Epoch: 264/600 | loss: 0.18 |  validation loss: 0.19 | learning rate: [0.001]\n",
            "----------------------------------------------------------------------------------\n",
            "Epoch: 265/600 | loss: 0.18 |  validation loss: 0.19 | learning rate: [0.001]\n"
          ]
        },
        {
          "output_type": "stream",
          "name": "stderr",
          "text": [
            " 45%|████▍     | 268/600 [00:34<00:42,  7.90it/s]"
          ]
        },
        {
          "output_type": "stream",
          "name": "stdout",
          "text": [
            "----------------------------------------------------------------------------------\n",
            "Epoch: 266/600 | loss: 0.18 |  validation loss: 0.20 | learning rate: [0.001]\n",
            "----------------------------------------------------------------------------------\n",
            "Epoch: 267/600 | loss: 0.17 |  validation loss: 0.19 | learning rate: [0.001]\n"
          ]
        },
        {
          "output_type": "stream",
          "name": "stderr",
          "text": [
            " 45%|████▌     | 270/600 [00:35<00:42,  7.78it/s]"
          ]
        },
        {
          "output_type": "stream",
          "name": "stdout",
          "text": [
            "----------------------------------------------------------------------------------\n",
            "Epoch: 268/600 | loss: 0.17 |  validation loss: 0.18 | learning rate: [0.001]\n",
            "----------------------------------------------------------------------------------\n",
            "Epoch: 269/600 | loss: 0.17 |  validation loss: 0.19 | learning rate: [0.001]\n"
          ]
        },
        {
          "output_type": "stream",
          "name": "stderr",
          "text": [
            " 45%|████▌     | 272/600 [00:35<00:41,  7.83it/s]"
          ]
        },
        {
          "output_type": "stream",
          "name": "stdout",
          "text": [
            "----------------------------------------------------------------------------------\n",
            "Epoch: 270/600 | loss: 0.17 |  validation loss: 0.19 | learning rate: [0.001]\n",
            "----------------------------------------------------------------------------------\n",
            "Epoch: 271/600 | loss: 0.17 |  validation loss: 0.18 | learning rate: [0.001]\n"
          ]
        },
        {
          "output_type": "stream",
          "name": "stderr",
          "text": [
            " 46%|████▌     | 274/600 [00:35<00:41,  7.79it/s]"
          ]
        },
        {
          "output_type": "stream",
          "name": "stdout",
          "text": [
            "----------------------------------------------------------------------------------\n",
            "Epoch: 272/600 | loss: 0.17 |  validation loss: 0.17 | learning rate: [0.001]\n",
            "----------------------------------------------------------------------------------\n",
            "Epoch: 273/600 | loss: 0.17 |  validation loss: 0.17 | learning rate: [0.001]\n"
          ]
        },
        {
          "output_type": "stream",
          "name": "stderr",
          "text": [
            " 46%|████▌     | 276/600 [00:35<00:41,  7.87it/s]"
          ]
        },
        {
          "output_type": "stream",
          "name": "stdout",
          "text": [
            "----------------------------------------------------------------------------------\n",
            "Epoch: 274/600 | loss: 0.16 |  validation loss: 0.18 | learning rate: [0.001]\n",
            "----------------------------------------------------------------------------------\n",
            "Epoch: 275/600 | loss: 0.16 |  validation loss: 0.18 | learning rate: [0.001]\n"
          ]
        },
        {
          "output_type": "stream",
          "name": "stderr",
          "text": [
            " 46%|████▋     | 278/600 [00:36<00:43,  7.37it/s]"
          ]
        },
        {
          "output_type": "stream",
          "name": "stdout",
          "text": [
            "----------------------------------------------------------------------------------\n",
            "Epoch: 276/600 | loss: 0.16 |  validation loss: 0.19 | learning rate: [0.001]\n",
            "----------------------------------------------------------------------------------\n",
            "Epoch: 277/600 | loss: 0.16 |  validation loss: 0.18 | learning rate: [0.001]\n"
          ]
        },
        {
          "output_type": "stream",
          "name": "stderr",
          "text": [
            " 47%|████▋     | 280/600 [00:36<00:41,  7.74it/s]"
          ]
        },
        {
          "output_type": "stream",
          "name": "stdout",
          "text": [
            "----------------------------------------------------------------------------------\n",
            "Epoch: 278/600 | loss: 0.16 |  validation loss: 0.17 | learning rate: [0.001]\n",
            "----------------------------------------------------------------------------------\n",
            "Epoch: 279/600 | loss: 0.16 |  validation loss: 0.17 | learning rate: [0.001]\n"
          ]
        },
        {
          "output_type": "stream",
          "name": "stderr",
          "text": [
            " 47%|████▋     | 282/600 [00:36<00:40,  7.90it/s]"
          ]
        },
        {
          "output_type": "stream",
          "name": "stdout",
          "text": [
            "----------------------------------------------------------------------------------\n",
            "Epoch: 280/600 | loss: 0.16 |  validation loss: 0.17 | learning rate: [0.001]\n",
            "----------------------------------------------------------------------------------\n",
            "Epoch: 281/600 | loss: 0.15 |  validation loss: 0.17 | learning rate: [0.001]\n"
          ]
        },
        {
          "output_type": "stream",
          "name": "stderr",
          "text": [
            " 47%|████▋     | 284/600 [00:36<00:41,  7.58it/s]"
          ]
        },
        {
          "output_type": "stream",
          "name": "stdout",
          "text": [
            "----------------------------------------------------------------------------------\n",
            "Epoch: 282/600 | loss: 0.15 |  validation loss: 0.17 | learning rate: [0.001]\n",
            "----------------------------------------------------------------------------------\n",
            "Epoch: 283/600 | loss: 0.15 |  validation loss: 0.17 | learning rate: [0.001]\n"
          ]
        },
        {
          "output_type": "stream",
          "name": "stderr",
          "text": [
            " 48%|████▊     | 286/600 [00:37<00:43,  7.24it/s]"
          ]
        },
        {
          "output_type": "stream",
          "name": "stdout",
          "text": [
            "----------------------------------------------------------------------------------\n",
            "Epoch: 284/600 | loss: 0.15 |  validation loss: 0.18 | learning rate: [0.001]\n",
            "----------------------------------------------------------------------------------\n",
            "Epoch: 285/600 | loss: 0.15 |  validation loss: 0.16 | learning rate: [0.001]\n"
          ]
        },
        {
          "output_type": "stream",
          "name": "stderr",
          "text": [
            " 48%|████▊     | 288/600 [00:37<00:44,  7.04it/s]"
          ]
        },
        {
          "output_type": "stream",
          "name": "stdout",
          "text": [
            "----------------------------------------------------------------------------------\n",
            "Epoch: 286/600 | loss: 0.15 |  validation loss: 0.17 | learning rate: [0.001]\n",
            "----------------------------------------------------------------------------------\n",
            "Epoch: 287/600 | loss: 0.15 |  validation loss: 0.17 | learning rate: [0.001]\n"
          ]
        },
        {
          "output_type": "stream",
          "name": "stderr",
          "text": [
            " 48%|████▊     | 290/600 [00:37<00:44,  7.03it/s]"
          ]
        },
        {
          "output_type": "stream",
          "name": "stdout",
          "text": [
            "----------------------------------------------------------------------------------\n",
            "Epoch: 288/600 | loss: 0.15 |  validation loss: 0.17 | learning rate: [0.001]\n",
            "----------------------------------------------------------------------------------\n",
            "Epoch: 289/600 | loss: 0.15 |  validation loss: 0.16 | learning rate: [0.001]\n"
          ]
        },
        {
          "output_type": "stream",
          "name": "stderr",
          "text": [
            " 49%|████▊     | 292/600 [00:38<00:41,  7.46it/s]"
          ]
        },
        {
          "output_type": "stream",
          "name": "stdout",
          "text": [
            "----------------------------------------------------------------------------------\n",
            "Epoch: 290/600 | loss: 0.14 |  validation loss: 0.16 | learning rate: [0.001]\n",
            "----------------------------------------------------------------------------------\n",
            "Epoch: 291/600 | loss: 0.14 |  validation loss: 0.16 | learning rate: [0.001]\n"
          ]
        },
        {
          "output_type": "stream",
          "name": "stderr",
          "text": [
            " 49%|████▉     | 294/600 [00:38<00:41,  7.41it/s]"
          ]
        },
        {
          "output_type": "stream",
          "name": "stdout",
          "text": [
            "----------------------------------------------------------------------------------\n",
            "Epoch: 292/600 | loss: 0.14 |  validation loss: 0.16 | learning rate: [0.001]\n",
            "----------------------------------------------------------------------------------\n",
            "Epoch: 293/600 | loss: 0.14 |  validation loss: 0.15 | learning rate: [0.001]\n"
          ]
        },
        {
          "output_type": "stream",
          "name": "stderr",
          "text": [
            " 49%|████▉     | 296/600 [00:38<00:41,  7.32it/s]"
          ]
        },
        {
          "output_type": "stream",
          "name": "stdout",
          "text": [
            "----------------------------------------------------------------------------------\n",
            "Epoch: 294/600 | loss: 0.14 |  validation loss: 0.15 | learning rate: [0.001]\n",
            "----------------------------------------------------------------------------------\n",
            "Epoch: 295/600 | loss: 0.14 |  validation loss: 0.16 | learning rate: [0.001]\n"
          ]
        },
        {
          "output_type": "stream",
          "name": "stderr",
          "text": [
            " 50%|████▉     | 298/600 [00:38<00:41,  7.30it/s]"
          ]
        },
        {
          "output_type": "stream",
          "name": "stdout",
          "text": [
            "----------------------------------------------------------------------------------\n",
            "Epoch: 296/600 | loss: 0.14 |  validation loss: 0.15 | learning rate: [0.001]\n",
            "----------------------------------------------------------------------------------\n",
            "Epoch: 297/600 | loss: 0.14 |  validation loss: 0.15 | learning rate: [0.001]\n"
          ]
        },
        {
          "output_type": "stream",
          "name": "stderr",
          "text": [
            " 50%|█████     | 300/600 [00:39<00:38,  7.70it/s]"
          ]
        },
        {
          "output_type": "stream",
          "name": "stdout",
          "text": [
            "----------------------------------------------------------------------------------\n",
            "Epoch: 298/600 | loss: 0.13 |  validation loss: 0.15 | learning rate: [0.001]\n",
            "----------------------------------------------------------------------------------\n",
            "Epoch: 299/600 | loss: 0.14 |  validation loss: 0.15 | learning rate: [0.001]\n"
          ]
        },
        {
          "output_type": "stream",
          "name": "stderr",
          "text": [
            " 50%|█████     | 302/600 [00:39<00:41,  7.14it/s]"
          ]
        },
        {
          "output_type": "stream",
          "name": "stdout",
          "text": [
            "----------------------------------------------------------------------------------\n",
            "Epoch: 300/600 | loss: 0.13 |  validation loss: 0.16 | learning rate: [0.001]\n",
            "----------------------------------------------------------------------------------\n",
            "Epoch: 301/600 | loss: 0.13 |  validation loss: 0.15 | learning rate: [0.001]\n"
          ]
        },
        {
          "output_type": "stream",
          "name": "stderr",
          "text": [
            " 51%|█████     | 304/600 [00:39<00:42,  6.96it/s]"
          ]
        },
        {
          "output_type": "stream",
          "name": "stdout",
          "text": [
            "----------------------------------------------------------------------------------\n",
            "Epoch: 302/600 | loss: 0.13 |  validation loss: 0.15 | learning rate: [0.001]\n",
            "----------------------------------------------------------------------------------\n",
            "Epoch: 303/600 | loss: 0.13 |  validation loss: 0.15 | learning rate: [0.001]\n"
          ]
        },
        {
          "output_type": "stream",
          "name": "stderr",
          "text": [
            " 51%|█████     | 306/600 [00:40<00:43,  6.71it/s]"
          ]
        },
        {
          "output_type": "stream",
          "name": "stdout",
          "text": [
            "----------------------------------------------------------------------------------\n",
            "Epoch: 304/600 | loss: 0.13 |  validation loss: 0.15 | learning rate: [0.0001]\n",
            "----------------------------------------------------------------------------------\n",
            "Epoch: 305/600 | loss: 0.13 |  validation loss: 0.15 | learning rate: [0.0001]\n"
          ]
        },
        {
          "output_type": "stream",
          "name": "stderr",
          "text": [
            " 51%|█████▏    | 308/600 [00:40<00:41,  6.99it/s]"
          ]
        },
        {
          "output_type": "stream",
          "name": "stdout",
          "text": [
            "----------------------------------------------------------------------------------\n",
            "Epoch: 306/600 | loss: 0.13 |  validation loss: 0.15 | learning rate: [0.0001]\n",
            "----------------------------------------------------------------------------------\n",
            "Epoch: 307/600 | loss: 0.13 |  validation loss: 0.15 | learning rate: [0.0001]\n"
          ]
        },
        {
          "output_type": "stream",
          "name": "stderr",
          "text": [
            " 52%|█████▏    | 310/600 [00:40<00:40,  7.18it/s]"
          ]
        },
        {
          "output_type": "stream",
          "name": "stdout",
          "text": [
            "----------------------------------------------------------------------------------\n",
            "Epoch: 308/600 | loss: 0.13 |  validation loss: 0.15 | learning rate: [0.0001]\n",
            "----------------------------------------------------------------------------------\n",
            "Epoch: 309/600 | loss: 0.13 |  validation loss: 0.14 | learning rate: [0.0001]\n"
          ]
        },
        {
          "output_type": "stream",
          "name": "stderr",
          "text": [
            " 52%|█████▏    | 312/600 [00:40<00:37,  7.61it/s]"
          ]
        },
        {
          "output_type": "stream",
          "name": "stdout",
          "text": [
            "----------------------------------------------------------------------------------\n",
            "Epoch: 310/600 | loss: 0.13 |  validation loss: 0.14 | learning rate: [0.0001]\n",
            "----------------------------------------------------------------------------------\n",
            "Epoch: 311/600 | loss: 0.13 |  validation loss: 0.15 | learning rate: [0.0001]\n"
          ]
        },
        {
          "output_type": "stream",
          "name": "stderr",
          "text": [
            " 52%|█████▏    | 314/600 [00:41<00:37,  7.69it/s]"
          ]
        },
        {
          "output_type": "stream",
          "name": "stdout",
          "text": [
            "----------------------------------------------------------------------------------\n",
            "Epoch: 312/600 | loss: 0.13 |  validation loss: 0.13 | learning rate: [0.0001]\n",
            "----------------------------------------------------------------------------------\n",
            "Epoch: 313/600 | loss: 0.13 |  validation loss: 0.14 | learning rate: [0.0001]\n"
          ]
        },
        {
          "output_type": "stream",
          "name": "stderr",
          "text": [
            " 53%|█████▎    | 316/600 [00:41<00:37,  7.54it/s]"
          ]
        },
        {
          "output_type": "stream",
          "name": "stdout",
          "text": [
            "----------------------------------------------------------------------------------\n",
            "Epoch: 314/600 | loss: 0.13 |  validation loss: 0.14 | learning rate: [0.0001]\n",
            "----------------------------------------------------------------------------------\n",
            "Epoch: 315/600 | loss: 0.13 |  validation loss: 0.14 | learning rate: [0.0001]\n"
          ]
        },
        {
          "output_type": "stream",
          "name": "stderr",
          "text": [
            " 53%|█████▎    | 318/600 [00:41<00:38,  7.39it/s]"
          ]
        },
        {
          "output_type": "stream",
          "name": "stdout",
          "text": [
            "----------------------------------------------------------------------------------\n",
            "Epoch: 316/600 | loss: 0.12 |  validation loss: 0.14 | learning rate: [0.0001]\n",
            "----------------------------------------------------------------------------------\n",
            "Epoch: 317/600 | loss: 0.12 |  validation loss: 0.14 | learning rate: [0.0001]\n"
          ]
        },
        {
          "output_type": "stream",
          "name": "stderr",
          "text": [
            " 53%|█████▎    | 320/600 [00:41<00:36,  7.62it/s]"
          ]
        },
        {
          "output_type": "stream",
          "name": "stdout",
          "text": [
            "----------------------------------------------------------------------------------\n",
            "Epoch: 318/600 | loss: 0.12 |  validation loss: 0.15 | learning rate: [1e-05]\n",
            "----------------------------------------------------------------------------------\n",
            "Epoch: 319/600 | loss: 0.12 |  validation loss: 0.14 | learning rate: [1e-05]\n"
          ]
        },
        {
          "output_type": "stream",
          "name": "stderr",
          "text": [
            " 54%|█████▎    | 322/600 [00:42<00:36,  7.71it/s]"
          ]
        },
        {
          "output_type": "stream",
          "name": "stdout",
          "text": [
            "----------------------------------------------------------------------------------\n",
            "Epoch: 320/600 | loss: 0.12 |  validation loss: 0.13 | learning rate: [1e-05]\n",
            "----------------------------------------------------------------------------------\n",
            "Epoch: 321/600 | loss: 0.12 |  validation loss: 0.14 | learning rate: [1e-05]\n"
          ]
        },
        {
          "output_type": "stream",
          "name": "stderr",
          "text": [
            " 54%|█████▍    | 324/600 [00:42<00:36,  7.56it/s]"
          ]
        },
        {
          "output_type": "stream",
          "name": "stdout",
          "text": [
            "----------------------------------------------------------------------------------\n",
            "Epoch: 322/600 | loss: 0.13 |  validation loss: 0.14 | learning rate: [1e-05]\n",
            "----------------------------------------------------------------------------------\n",
            "Epoch: 323/600 | loss: 0.12 |  validation loss: 0.14 | learning rate: [1e-05]\n"
          ]
        },
        {
          "output_type": "stream",
          "name": "stderr",
          "text": [
            " 54%|█████▍    | 326/600 [00:42<00:35,  7.66it/s]"
          ]
        },
        {
          "output_type": "stream",
          "name": "stdout",
          "text": [
            "----------------------------------------------------------------------------------\n",
            "Epoch: 324/600 | loss: 0.12 |  validation loss: 0.13 | learning rate: [1.0000000000000002e-06]\n",
            "----------------------------------------------------------------------------------\n",
            "Epoch: 325/600 | loss: 0.12 |  validation loss: 0.14 | learning rate: [1.0000000000000002e-06]\n"
          ]
        },
        {
          "output_type": "stream",
          "name": "stderr",
          "text": [
            " 55%|█████▍    | 328/600 [00:42<00:36,  7.48it/s]"
          ]
        },
        {
          "output_type": "stream",
          "name": "stdout",
          "text": [
            "----------------------------------------------------------------------------------\n",
            "Epoch: 326/600 | loss: 0.12 |  validation loss: 0.14 | learning rate: [1.0000000000000002e-06]\n",
            "----------------------------------------------------------------------------------\n",
            "Epoch: 327/600 | loss: 0.13 |  validation loss: 0.14 | learning rate: [1.0000000000000002e-06]\n"
          ]
        },
        {
          "output_type": "stream",
          "name": "stderr",
          "text": [
            " 55%|█████▌    | 330/600 [00:43<00:35,  7.62it/s]"
          ]
        },
        {
          "output_type": "stream",
          "name": "stdout",
          "text": [
            "----------------------------------------------------------------------------------\n",
            "Epoch: 328/600 | loss: 0.12 |  validation loss: 0.14 | learning rate: [1.0000000000000002e-06]\n",
            "----------------------------------------------------------------------------------\n",
            "Epoch: 329/600 | loss: 0.12 |  validation loss: 0.14 | learning rate: [1.0000000000000002e-06]\n"
          ]
        },
        {
          "output_type": "stream",
          "name": "stderr",
          "text": [
            " 55%|█████▌    | 332/600 [00:43<00:34,  7.74it/s]"
          ]
        },
        {
          "output_type": "stream",
          "name": "stdout",
          "text": [
            "----------------------------------------------------------------------------------\n",
            "Epoch: 330/600 | loss: 0.12 |  validation loss: 0.13 | learning rate: [1.0000000000000002e-07]\n",
            "----------------------------------------------------------------------------------\n",
            "Epoch: 331/600 | loss: 0.12 |  validation loss: 0.14 | learning rate: [1.0000000000000002e-07]\n"
          ]
        },
        {
          "output_type": "stream",
          "name": "stderr",
          "text": [
            " 56%|█████▌    | 334/600 [00:43<00:34,  7.80it/s]"
          ]
        },
        {
          "output_type": "stream",
          "name": "stdout",
          "text": [
            "----------------------------------------------------------------------------------\n",
            "Epoch: 332/600 | loss: 0.12 |  validation loss: 0.14 | learning rate: [1.0000000000000002e-07]\n",
            "----------------------------------------------------------------------------------\n",
            "Epoch: 333/600 | loss: 0.12 |  validation loss: 0.14 | learning rate: [1.0000000000000002e-07]\n"
          ]
        },
        {
          "output_type": "stream",
          "name": "stderr",
          "text": [
            " 56%|█████▌    | 336/600 [00:43<00:33,  7.97it/s]"
          ]
        },
        {
          "output_type": "stream",
          "name": "stdout",
          "text": [
            "----------------------------------------------------------------------------------\n",
            "Epoch: 334/600 | loss: 0.12 |  validation loss: 0.13 | learning rate: [1.0000000000000002e-07]\n",
            "----------------------------------------------------------------------------------\n",
            "Epoch: 335/600 | loss: 0.12 |  validation loss: 0.14 | learning rate: [1.0000000000000002e-07]\n"
          ]
        },
        {
          "output_type": "stream",
          "name": "stderr",
          "text": [
            " 56%|█████▋    | 338/600 [00:44<00:33,  7.84it/s]"
          ]
        },
        {
          "output_type": "stream",
          "name": "stdout",
          "text": [
            "----------------------------------------------------------------------------------\n",
            "Epoch: 336/600 | loss: 0.12 |  validation loss: 0.13 | learning rate: [1.0000000000000002e-07]\n",
            "----------------------------------------------------------------------------------\n",
            "Epoch: 337/600 | loss: 0.12 |  validation loss: 0.14 | learning rate: [1.0000000000000002e-07]\n"
          ]
        },
        {
          "output_type": "stream",
          "name": "stderr",
          "text": [
            " 57%|█████▋    | 340/600 [00:44<00:32,  7.89it/s]"
          ]
        },
        {
          "output_type": "stream",
          "name": "stdout",
          "text": [
            "----------------------------------------------------------------------------------\n",
            "Epoch: 338/600 | loss: 0.12 |  validation loss: 0.14 | learning rate: [1.0000000000000002e-07]\n",
            "----------------------------------------------------------------------------------\n",
            "Epoch: 339/600 | loss: 0.12 |  validation loss: 0.14 | learning rate: [1.0000000000000002e-07]\n"
          ]
        },
        {
          "output_type": "stream",
          "name": "stderr",
          "text": [
            " 57%|█████▋    | 342/600 [00:44<00:32,  7.89it/s]"
          ]
        },
        {
          "output_type": "stream",
          "name": "stdout",
          "text": [
            "----------------------------------------------------------------------------------\n",
            "Epoch: 340/600 | loss: 0.12 |  validation loss: 0.14 | learning rate: [1.0000000000000002e-07]\n",
            "----------------------------------------------------------------------------------\n",
            "Epoch: 341/600 | loss: 0.13 |  validation loss: 0.14 | learning rate: [1.0000000000000002e-07]\n"
          ]
        },
        {
          "output_type": "stream",
          "name": "stderr",
          "text": [
            " 57%|█████▋    | 344/600 [00:44<00:32,  7.83it/s]"
          ]
        },
        {
          "output_type": "stream",
          "name": "stdout",
          "text": [
            "----------------------------------------------------------------------------------\n",
            "Epoch: 342/600 | loss: 0.12 |  validation loss: 0.14 | learning rate: [1.0000000000000004e-08]\n",
            "----------------------------------------------------------------------------------\n",
            "Epoch: 343/600 | loss: 0.12 |  validation loss: 0.14 | learning rate: [1.0000000000000004e-08]\n"
          ]
        },
        {
          "output_type": "stream",
          "name": "stderr",
          "text": [
            " 58%|█████▊    | 346/600 [00:45<00:31,  8.01it/s]"
          ]
        },
        {
          "output_type": "stream",
          "name": "stdout",
          "text": [
            "----------------------------------------------------------------------------------\n",
            "Epoch: 344/600 | loss: 0.12 |  validation loss: 0.13 | learning rate: [1.0000000000000004e-08]\n",
            "----------------------------------------------------------------------------------\n",
            "Epoch: 345/600 | loss: 0.12 |  validation loss: 0.14 | learning rate: [1.0000000000000004e-08]\n"
          ]
        },
        {
          "output_type": "stream",
          "name": "stderr",
          "text": [
            " 58%|█████▊    | 348/600 [00:45<00:32,  7.82it/s]"
          ]
        },
        {
          "output_type": "stream",
          "name": "stdout",
          "text": [
            "----------------------------------------------------------------------------------\n",
            "Epoch: 346/600 | loss: 0.12 |  validation loss: 0.14 | learning rate: [1.0000000000000004e-08]\n",
            "----------------------------------------------------------------------------------\n",
            "Epoch: 347/600 | loss: 0.12 |  validation loss: 0.14 | learning rate: [1.0000000000000004e-08]\n"
          ]
        },
        {
          "output_type": "stream",
          "name": "stderr",
          "text": [
            " 58%|█████▊    | 350/600 [00:45<00:32,  7.64it/s]"
          ]
        },
        {
          "output_type": "stream",
          "name": "stdout",
          "text": [
            "----------------------------------------------------------------------------------\n",
            "Epoch: 348/600 | loss: 0.13 |  validation loss: 0.14 | learning rate: [1.0000000000000004e-08]\n",
            "----------------------------------------------------------------------------------\n",
            "Epoch: 349/600 | loss: 0.12 |  validation loss: 0.13 | learning rate: [1.0000000000000004e-08]\n"
          ]
        },
        {
          "output_type": "stream",
          "name": "stderr",
          "text": [
            " 59%|█████▊    | 352/600 [00:45<00:31,  7.85it/s]"
          ]
        },
        {
          "output_type": "stream",
          "name": "stdout",
          "text": [
            "----------------------------------------------------------------------------------\n",
            "Epoch: 350/600 | loss: 0.12 |  validation loss: 0.14 | learning rate: [1.0000000000000004e-08]\n",
            "----------------------------------------------------------------------------------\n",
            "Epoch: 351/600 | loss: 0.12 |  validation loss: 0.14 | learning rate: [1.0000000000000004e-08]\n"
          ]
        },
        {
          "output_type": "stream",
          "name": "stderr",
          "text": [
            " 59%|█████▉    | 354/600 [00:46<00:31,  7.78it/s]"
          ]
        },
        {
          "output_type": "stream",
          "name": "stdout",
          "text": [
            "----------------------------------------------------------------------------------\n",
            "Epoch: 352/600 | loss: 0.12 |  validation loss: 0.14 | learning rate: [1.0000000000000004e-08]\n",
            "----------------------------------------------------------------------------------\n",
            "Epoch: 353/600 | loss: 0.12 |  validation loss: 0.13 | learning rate: [1.0000000000000004e-08]\n"
          ]
        },
        {
          "output_type": "stream",
          "name": "stderr",
          "text": [
            " 59%|█████▉    | 356/600 [00:46<00:31,  7.83it/s]"
          ]
        },
        {
          "output_type": "stream",
          "name": "stdout",
          "text": [
            "----------------------------------------------------------------------------------\n",
            "Epoch: 354/600 | loss: 0.12 |  validation loss: 0.14 | learning rate: [1.0000000000000004e-08]\n",
            "----------------------------------------------------------------------------------\n",
            "Epoch: 355/600 | loss: 0.12 |  validation loss: 0.14 | learning rate: [1.0000000000000004e-08]\n"
          ]
        },
        {
          "output_type": "stream",
          "name": "stderr",
          "text": [
            " 60%|█████▉    | 358/600 [00:46<00:30,  8.00it/s]"
          ]
        },
        {
          "output_type": "stream",
          "name": "stdout",
          "text": [
            "----------------------------------------------------------------------------------\n",
            "Epoch: 356/600 | loss: 0.12 |  validation loss: 0.14 | learning rate: [1.0000000000000004e-08]\n",
            "----------------------------------------------------------------------------------\n",
            "Epoch: 357/600 | loss: 0.12 |  validation loss: 0.14 | learning rate: [1.0000000000000004e-08]\n"
          ]
        },
        {
          "output_type": "stream",
          "name": "stderr",
          "text": [
            " 60%|██████    | 360/600 [00:46<00:30,  7.78it/s]"
          ]
        },
        {
          "output_type": "stream",
          "name": "stdout",
          "text": [
            "----------------------------------------------------------------------------------\n",
            "Epoch: 358/600 | loss: 0.12 |  validation loss: 0.14 | learning rate: [1.0000000000000004e-08]\n",
            "----------------------------------------------------------------------------------\n",
            "Epoch: 359/600 | loss: 0.12 |  validation loss: 0.14 | learning rate: [1.0000000000000004e-08]\n"
          ]
        },
        {
          "output_type": "stream",
          "name": "stderr",
          "text": [
            " 60%|██████    | 362/600 [00:47<00:31,  7.57it/s]"
          ]
        },
        {
          "output_type": "stream",
          "name": "stdout",
          "text": [
            "----------------------------------------------------------------------------------\n",
            "Epoch: 360/600 | loss: 0.12 |  validation loss: 0.14 | learning rate: [1.0000000000000004e-08]\n",
            "----------------------------------------------------------------------------------\n",
            "Epoch: 361/600 | loss: 0.12 |  validation loss: 0.14 | learning rate: [1.0000000000000004e-08]\n"
          ]
        },
        {
          "output_type": "stream",
          "name": "stderr",
          "text": [
            " 61%|██████    | 364/600 [00:47<00:30,  7.78it/s]"
          ]
        },
        {
          "output_type": "stream",
          "name": "stdout",
          "text": [
            "----------------------------------------------------------------------------------\n",
            "Epoch: 362/600 | loss: 0.13 |  validation loss: 0.13 | learning rate: [1.0000000000000004e-08]\n",
            "----------------------------------------------------------------------------------\n",
            "Epoch: 363/600 | loss: 0.12 |  validation loss: 0.13 | learning rate: [1.0000000000000004e-08]\n"
          ]
        },
        {
          "output_type": "stream",
          "name": "stderr",
          "text": [
            " 61%|██████    | 366/600 [00:47<00:29,  7.88it/s]"
          ]
        },
        {
          "output_type": "stream",
          "name": "stdout",
          "text": [
            "----------------------------------------------------------------------------------\n",
            "Epoch: 364/600 | loss: 0.12 |  validation loss: 0.14 | learning rate: [1.0000000000000004e-08]\n",
            "----------------------------------------------------------------------------------\n",
            "Epoch: 365/600 | loss: 0.12 |  validation loss: 0.14 | learning rate: [1.0000000000000004e-08]\n"
          ]
        },
        {
          "output_type": "stream",
          "name": "stderr",
          "text": [
            " 61%|██████▏   | 368/600 [00:48<00:31,  7.43it/s]"
          ]
        },
        {
          "output_type": "stream",
          "name": "stdout",
          "text": [
            "----------------------------------------------------------------------------------\n",
            "Epoch: 366/600 | loss: 0.12 |  validation loss: 0.14 | learning rate: [1.0000000000000004e-08]\n",
            "----------------------------------------------------------------------------------\n",
            "Epoch: 367/600 | loss: 0.13 |  validation loss: 0.14 | learning rate: [1.0000000000000004e-08]\n"
          ]
        },
        {
          "output_type": "stream",
          "name": "stderr",
          "text": [
            " 62%|██████▏   | 370/600 [00:48<00:30,  7.63it/s]"
          ]
        },
        {
          "output_type": "stream",
          "name": "stdout",
          "text": [
            "----------------------------------------------------------------------------------\n",
            "Epoch: 368/600 | loss: 0.12 |  validation loss: 0.14 | learning rate: [1.0000000000000004e-08]\n",
            "----------------------------------------------------------------------------------\n",
            "Epoch: 369/600 | loss: 0.12 |  validation loss: 0.14 | learning rate: [1.0000000000000004e-08]\n"
          ]
        },
        {
          "output_type": "stream",
          "name": "stderr",
          "text": [
            " 62%|██████▏   | 372/600 [00:48<00:30,  7.41it/s]"
          ]
        },
        {
          "output_type": "stream",
          "name": "stdout",
          "text": [
            "----------------------------------------------------------------------------------\n",
            "Epoch: 370/600 | loss: 0.12 |  validation loss: 0.14 | learning rate: [1.0000000000000004e-08]\n",
            "----------------------------------------------------------------------------------\n",
            "Epoch: 371/600 | loss: 0.12 |  validation loss: 0.14 | learning rate: [1.0000000000000004e-08]\n"
          ]
        },
        {
          "output_type": "stream",
          "name": "stderr",
          "text": [
            " 62%|██████▏   | 374/600 [00:48<00:29,  7.62it/s]"
          ]
        },
        {
          "output_type": "stream",
          "name": "stdout",
          "text": [
            "----------------------------------------------------------------------------------\n",
            "Epoch: 372/600 | loss: 0.12 |  validation loss: 0.15 | learning rate: [1.0000000000000004e-08]\n",
            "----------------------------------------------------------------------------------\n",
            "Epoch: 373/600 | loss: 0.12 |  validation loss: 0.14 | learning rate: [1.0000000000000004e-08]\n"
          ]
        },
        {
          "output_type": "stream",
          "name": "stderr",
          "text": [
            " 63%|██████▎   | 376/600 [00:49<00:30,  7.39it/s]"
          ]
        },
        {
          "output_type": "stream",
          "name": "stdout",
          "text": [
            "----------------------------------------------------------------------------------\n",
            "Epoch: 374/600 | loss: 0.12 |  validation loss: 0.13 | learning rate: [1.0000000000000004e-08]\n",
            "----------------------------------------------------------------------------------\n",
            "Epoch: 375/600 | loss: 0.12 |  validation loss: 0.14 | learning rate: [1.0000000000000004e-08]\n"
          ]
        },
        {
          "output_type": "stream",
          "name": "stderr",
          "text": [
            " 63%|██████▎   | 378/600 [00:49<00:31,  7.02it/s]"
          ]
        },
        {
          "output_type": "stream",
          "name": "stdout",
          "text": [
            "----------------------------------------------------------------------------------\n",
            "Epoch: 376/600 | loss: 0.12 |  validation loss: 0.14 | learning rate: [1.0000000000000004e-08]\n",
            "----------------------------------------------------------------------------------\n",
            "Epoch: 377/600 | loss: 0.12 |  validation loss: 0.14 | learning rate: [1.0000000000000004e-08]\n"
          ]
        },
        {
          "output_type": "stream",
          "name": "stderr",
          "text": [
            " 63%|██████▎   | 380/600 [00:49<00:29,  7.37it/s]"
          ]
        },
        {
          "output_type": "stream",
          "name": "stdout",
          "text": [
            "----------------------------------------------------------------------------------\n",
            "Epoch: 378/600 | loss: 0.12 |  validation loss: 0.13 | learning rate: [1.0000000000000004e-08]\n",
            "----------------------------------------------------------------------------------\n",
            "Epoch: 379/600 | loss: 0.12 |  validation loss: 0.14 | learning rate: [1.0000000000000004e-08]\n"
          ]
        },
        {
          "output_type": "stream",
          "name": "stderr",
          "text": [
            " 64%|██████▎   | 382/600 [00:49<00:31,  7.03it/s]"
          ]
        },
        {
          "output_type": "stream",
          "name": "stdout",
          "text": [
            "----------------------------------------------------------------------------------\n",
            "Epoch: 380/600 | loss: 0.12 |  validation loss: 0.14 | learning rate: [1.0000000000000004e-08]\n",
            "----------------------------------------------------------------------------------\n",
            "Epoch: 381/600 | loss: 0.12 |  validation loss: 0.14 | learning rate: [1.0000000000000004e-08]\n"
          ]
        },
        {
          "output_type": "stream",
          "name": "stderr",
          "text": [
            " 64%|██████▍   | 384/600 [00:50<00:30,  7.11it/s]"
          ]
        },
        {
          "output_type": "stream",
          "name": "stdout",
          "text": [
            "----------------------------------------------------------------------------------\n",
            "Epoch: 382/600 | loss: 0.12 |  validation loss: 0.13 | learning rate: [1.0000000000000004e-08]\n",
            "----------------------------------------------------------------------------------\n",
            "Epoch: 383/600 | loss: 0.12 |  validation loss: 0.14 | learning rate: [1.0000000000000004e-08]\n"
          ]
        },
        {
          "output_type": "stream",
          "name": "stderr",
          "text": [
            " 64%|██████▍   | 386/600 [00:50<00:28,  7.40it/s]"
          ]
        },
        {
          "output_type": "stream",
          "name": "stdout",
          "text": [
            "----------------------------------------------------------------------------------\n",
            "Epoch: 384/600 | loss: 0.12 |  validation loss: 0.13 | learning rate: [1.0000000000000004e-08]\n",
            "----------------------------------------------------------------------------------\n",
            "Epoch: 385/600 | loss: 0.12 |  validation loss: 0.14 | learning rate: [1.0000000000000004e-08]\n"
          ]
        },
        {
          "output_type": "stream",
          "name": "stderr",
          "text": [
            " 65%|██████▍   | 388/600 [00:50<00:30,  6.91it/s]"
          ]
        },
        {
          "output_type": "stream",
          "name": "stdout",
          "text": [
            "----------------------------------------------------------------------------------\n",
            "Epoch: 386/600 | loss: 0.12 |  validation loss: 0.14 | learning rate: [1.0000000000000004e-08]\n",
            "----------------------------------------------------------------------------------\n",
            "Epoch: 387/600 | loss: 0.12 |  validation loss: 0.13 | learning rate: [1.0000000000000004e-08]\n"
          ]
        },
        {
          "output_type": "stream",
          "name": "stderr",
          "text": [
            " 65%|██████▌   | 390/600 [00:51<00:29,  7.24it/s]"
          ]
        },
        {
          "output_type": "stream",
          "name": "stdout",
          "text": [
            "----------------------------------------------------------------------------------\n",
            "Epoch: 388/600 | loss: 0.12 |  validation loss: 0.14 | learning rate: [1.0000000000000004e-08]\n",
            "----------------------------------------------------------------------------------\n",
            "Epoch: 389/600 | loss: 0.12 |  validation loss: 0.14 | learning rate: [1.0000000000000004e-08]\n"
          ]
        },
        {
          "output_type": "stream",
          "name": "stderr",
          "text": [
            " 65%|██████▌   | 392/600 [00:51<00:28,  7.21it/s]"
          ]
        },
        {
          "output_type": "stream",
          "name": "stdout",
          "text": [
            "----------------------------------------------------------------------------------\n",
            "Epoch: 390/600 | loss: 0.12 |  validation loss: 0.14 | learning rate: [1.0000000000000004e-08]\n",
            "----------------------------------------------------------------------------------\n",
            "Epoch: 391/600 | loss: 0.12 |  validation loss: 0.14 | learning rate: [1.0000000000000004e-08]\n"
          ]
        },
        {
          "output_type": "stream",
          "name": "stderr",
          "text": [
            " 66%|██████▌   | 394/600 [00:51<00:28,  7.15it/s]"
          ]
        },
        {
          "output_type": "stream",
          "name": "stdout",
          "text": [
            "----------------------------------------------------------------------------------\n",
            "Epoch: 392/600 | loss: 0.12 |  validation loss: 0.14 | learning rate: [1.0000000000000004e-08]\n",
            "----------------------------------------------------------------------------------\n",
            "Epoch: 393/600 | loss: 0.12 |  validation loss: 0.14 | learning rate: [1.0000000000000004e-08]\n"
          ]
        },
        {
          "output_type": "stream",
          "name": "stderr",
          "text": [
            " 66%|██████▌   | 396/600 [00:51<00:27,  7.33it/s]"
          ]
        },
        {
          "output_type": "stream",
          "name": "stdout",
          "text": [
            "----------------------------------------------------------------------------------\n",
            "Epoch: 394/600 | loss: 0.12 |  validation loss: 0.14 | learning rate: [1.0000000000000004e-08]\n",
            "----------------------------------------------------------------------------------\n",
            "Epoch: 395/600 | loss: 0.12 |  validation loss: 0.14 | learning rate: [1.0000000000000004e-08]\n"
          ]
        },
        {
          "output_type": "stream",
          "name": "stderr",
          "text": [
            " 66%|██████▋   | 398/600 [00:52<00:26,  7.52it/s]"
          ]
        },
        {
          "output_type": "stream",
          "name": "stdout",
          "text": [
            "----------------------------------------------------------------------------------\n",
            "Epoch: 396/600 | loss: 0.13 |  validation loss: 0.14 | learning rate: [1.0000000000000004e-08]\n",
            "----------------------------------------------------------------------------------\n",
            "Epoch: 397/600 | loss: 0.12 |  validation loss: 0.14 | learning rate: [1.0000000000000004e-08]\n"
          ]
        },
        {
          "output_type": "stream",
          "name": "stderr",
          "text": [
            " 67%|██████▋   | 400/600 [00:52<00:28,  7.08it/s]"
          ]
        },
        {
          "output_type": "stream",
          "name": "stdout",
          "text": [
            "----------------------------------------------------------------------------------\n",
            "Epoch: 398/600 | loss: 0.12 |  validation loss: 0.14 | learning rate: [1.0000000000000004e-08]\n",
            "----------------------------------------------------------------------------------\n",
            "Epoch: 399/600 | loss: 0.12 |  validation loss: 0.14 | learning rate: [1.0000000000000004e-08]\n"
          ]
        },
        {
          "output_type": "stream",
          "name": "stderr",
          "text": [
            " 67%|██████▋   | 402/600 [00:52<00:26,  7.34it/s]"
          ]
        },
        {
          "output_type": "stream",
          "name": "stdout",
          "text": [
            "----------------------------------------------------------------------------------\n",
            "Epoch: 400/600 | loss: 0.12 |  validation loss: 0.14 | learning rate: [1.0000000000000004e-08]\n",
            "----------------------------------------------------------------------------------\n",
            "Epoch: 401/600 | loss: 0.12 |  validation loss: 0.14 | learning rate: [1.0000000000000004e-08]\n"
          ]
        },
        {
          "output_type": "stream",
          "name": "stderr",
          "text": [
            " 67%|██████▋   | 404/600 [00:52<00:25,  7.59it/s]"
          ]
        },
        {
          "output_type": "stream",
          "name": "stdout",
          "text": [
            "----------------------------------------------------------------------------------\n",
            "Epoch: 402/600 | loss: 0.12 |  validation loss: 0.14 | learning rate: [1.0000000000000004e-08]\n",
            "----------------------------------------------------------------------------------\n",
            "Epoch: 403/600 | loss: 0.12 |  validation loss: 0.14 | learning rate: [1.0000000000000004e-08]\n"
          ]
        },
        {
          "output_type": "stream",
          "name": "stderr",
          "text": [
            " 68%|██████▊   | 406/600 [00:53<00:26,  7.29it/s]"
          ]
        },
        {
          "output_type": "stream",
          "name": "stdout",
          "text": [
            "----------------------------------------------------------------------------------\n",
            "Epoch: 404/600 | loss: 0.12 |  validation loss: 0.14 | learning rate: [1.0000000000000004e-08]\n",
            "----------------------------------------------------------------------------------\n",
            "Epoch: 405/600 | loss: 0.12 |  validation loss: 0.14 | learning rate: [1.0000000000000004e-08]\n"
          ]
        },
        {
          "output_type": "stream",
          "name": "stderr",
          "text": [
            " 68%|██████▊   | 408/600 [00:53<00:28,  6.75it/s]"
          ]
        },
        {
          "output_type": "stream",
          "name": "stdout",
          "text": [
            "----------------------------------------------------------------------------------\n",
            "Epoch: 406/600 | loss: 0.12 |  validation loss: 0.14 | learning rate: [1.0000000000000004e-08]\n",
            "----------------------------------------------------------------------------------\n",
            "Epoch: 407/600 | loss: 0.12 |  validation loss: 0.13 | learning rate: [1.0000000000000004e-08]\n"
          ]
        },
        {
          "output_type": "stream",
          "name": "stderr",
          "text": [
            " 68%|██████▊   | 410/600 [00:53<00:27,  6.95it/s]"
          ]
        },
        {
          "output_type": "stream",
          "name": "stdout",
          "text": [
            "----------------------------------------------------------------------------------\n",
            "Epoch: 408/600 | loss: 0.12 |  validation loss: 0.14 | learning rate: [1.0000000000000004e-08]\n",
            "----------------------------------------------------------------------------------\n",
            "Epoch: 409/600 | loss: 0.12 |  validation loss: 0.14 | learning rate: [1.0000000000000004e-08]\n"
          ]
        },
        {
          "output_type": "stream",
          "name": "stderr",
          "text": [
            " 69%|██████▊   | 412/600 [00:54<00:27,  6.73it/s]"
          ]
        },
        {
          "output_type": "stream",
          "name": "stdout",
          "text": [
            "----------------------------------------------------------------------------------\n",
            "Epoch: 410/600 | loss: 0.12 |  validation loss: 0.14 | learning rate: [1.0000000000000004e-08]\n",
            "----------------------------------------------------------------------------------\n",
            "Epoch: 411/600 | loss: 0.12 |  validation loss: 0.14 | learning rate: [1.0000000000000004e-08]\n"
          ]
        },
        {
          "output_type": "stream",
          "name": "stderr",
          "text": [
            " 69%|██████▉   | 414/600 [00:54<00:26,  6.93it/s]"
          ]
        },
        {
          "output_type": "stream",
          "name": "stdout",
          "text": [
            "----------------------------------------------------------------------------------\n",
            "Epoch: 412/600 | loss: 0.12 |  validation loss: 0.14 | learning rate: [1.0000000000000004e-08]\n",
            "----------------------------------------------------------------------------------\n",
            "Epoch: 413/600 | loss: 0.12 |  validation loss: 0.14 | learning rate: [1.0000000000000004e-08]\n"
          ]
        },
        {
          "output_type": "stream",
          "name": "stderr",
          "text": [
            " 69%|██████▉   | 416/600 [00:54<00:27,  6.80it/s]"
          ]
        },
        {
          "output_type": "stream",
          "name": "stdout",
          "text": [
            "----------------------------------------------------------------------------------\n",
            "Epoch: 414/600 | loss: 0.12 |  validation loss: 0.14 | learning rate: [1.0000000000000004e-08]\n",
            "----------------------------------------------------------------------------------\n",
            "Epoch: 415/600 | loss: 0.12 |  validation loss: 0.13 | learning rate: [1.0000000000000004e-08]\n"
          ]
        },
        {
          "output_type": "stream",
          "name": "stderr",
          "text": [
            " 70%|██████▉   | 418/600 [00:55<00:26,  6.79it/s]"
          ]
        },
        {
          "output_type": "stream",
          "name": "stdout",
          "text": [
            "----------------------------------------------------------------------------------\n",
            "Epoch: 416/600 | loss: 0.12 |  validation loss: 0.13 | learning rate: [1.0000000000000004e-08]\n",
            "----------------------------------------------------------------------------------\n",
            "Epoch: 417/600 | loss: 0.12 |  validation loss: 0.14 | learning rate: [1.0000000000000004e-08]\n"
          ]
        },
        {
          "output_type": "stream",
          "name": "stderr",
          "text": [
            " 70%|███████   | 420/600 [00:55<00:26,  6.83it/s]"
          ]
        },
        {
          "output_type": "stream",
          "name": "stdout",
          "text": [
            "----------------------------------------------------------------------------------\n",
            "Epoch: 418/600 | loss: 0.12 |  validation loss: 0.14 | learning rate: [1.0000000000000004e-08]\n",
            "----------------------------------------------------------------------------------\n",
            "Epoch: 419/600 | loss: 0.12 |  validation loss: 0.14 | learning rate: [1.0000000000000004e-08]\n"
          ]
        },
        {
          "output_type": "stream",
          "name": "stderr",
          "text": [
            " 70%|███████   | 422/600 [00:55<00:25,  6.98it/s]"
          ]
        },
        {
          "output_type": "stream",
          "name": "stdout",
          "text": [
            "----------------------------------------------------------------------------------\n",
            "Epoch: 420/600 | loss: 0.12 |  validation loss: 0.14 | learning rate: [1.0000000000000004e-08]\n",
            "----------------------------------------------------------------------------------\n",
            "Epoch: 421/600 | loss: 0.12 |  validation loss: 0.14 | learning rate: [1.0000000000000004e-08]\n"
          ]
        },
        {
          "output_type": "stream",
          "name": "stderr",
          "text": [
            " 71%|███████   | 424/600 [00:55<00:24,  7.27it/s]"
          ]
        },
        {
          "output_type": "stream",
          "name": "stdout",
          "text": [
            "----------------------------------------------------------------------------------\n",
            "Epoch: 422/600 | loss: 0.12 |  validation loss: 0.14 | learning rate: [1.0000000000000004e-08]\n",
            "----------------------------------------------------------------------------------\n",
            "Epoch: 423/600 | loss: 0.13 |  validation loss: 0.14 | learning rate: [1.0000000000000004e-08]\n"
          ]
        },
        {
          "output_type": "stream",
          "name": "stderr",
          "text": [
            " 71%|███████   | 426/600 [00:56<00:22,  7.68it/s]"
          ]
        },
        {
          "output_type": "stream",
          "name": "stdout",
          "text": [
            "----------------------------------------------------------------------------------\n",
            "Epoch: 424/600 | loss: 0.13 |  validation loss: 0.14 | learning rate: [1.0000000000000004e-08]\n",
            "----------------------------------------------------------------------------------\n",
            "Epoch: 425/600 | loss: 0.12 |  validation loss: 0.15 | learning rate: [1.0000000000000004e-08]\n"
          ]
        },
        {
          "output_type": "stream",
          "name": "stderr",
          "text": [
            " 71%|███████▏  | 428/600 [00:56<00:22,  7.78it/s]"
          ]
        },
        {
          "output_type": "stream",
          "name": "stdout",
          "text": [
            "----------------------------------------------------------------------------------\n",
            "Epoch: 426/600 | loss: 0.12 |  validation loss: 0.13 | learning rate: [1.0000000000000004e-08]\n",
            "----------------------------------------------------------------------------------\n",
            "Epoch: 427/600 | loss: 0.12 |  validation loss: 0.14 | learning rate: [1.0000000000000004e-08]\n"
          ]
        },
        {
          "output_type": "stream",
          "name": "stderr",
          "text": [
            " 72%|███████▏  | 430/600 [00:56<00:22,  7.68it/s]"
          ]
        },
        {
          "output_type": "stream",
          "name": "stdout",
          "text": [
            "----------------------------------------------------------------------------------\n",
            "Epoch: 428/600 | loss: 0.12 |  validation loss: 0.14 | learning rate: [1.0000000000000004e-08]\n",
            "----------------------------------------------------------------------------------\n",
            "Epoch: 429/600 | loss: 0.12 |  validation loss: 0.14 | learning rate: [1.0000000000000004e-08]\n"
          ]
        },
        {
          "output_type": "stream",
          "name": "stderr",
          "text": [
            " 72%|███████▏  | 432/600 [00:56<00:21,  7.76it/s]"
          ]
        },
        {
          "output_type": "stream",
          "name": "stdout",
          "text": [
            "----------------------------------------------------------------------------------\n",
            "Epoch: 430/600 | loss: 0.13 |  validation loss: 0.14 | learning rate: [1.0000000000000004e-08]\n",
            "----------------------------------------------------------------------------------\n",
            "Epoch: 431/600 | loss: 0.12 |  validation loss: 0.14 | learning rate: [1.0000000000000004e-08]\n"
          ]
        },
        {
          "output_type": "stream",
          "name": "stderr",
          "text": [
            " 72%|███████▏  | 434/600 [00:57<00:21,  7.88it/s]"
          ]
        },
        {
          "output_type": "stream",
          "name": "stdout",
          "text": [
            "----------------------------------------------------------------------------------\n",
            "Epoch: 432/600 | loss: 0.12 |  validation loss: 0.14 | learning rate: [1.0000000000000004e-08]\n",
            "----------------------------------------------------------------------------------\n",
            "Epoch: 433/600 | loss: 0.12 |  validation loss: 0.14 | learning rate: [1.0000000000000004e-08]\n"
          ]
        },
        {
          "output_type": "stream",
          "name": "stderr",
          "text": [
            " 73%|███████▎  | 436/600 [00:57<00:21,  7.79it/s]"
          ]
        },
        {
          "output_type": "stream",
          "name": "stdout",
          "text": [
            "----------------------------------------------------------------------------------\n",
            "Epoch: 434/600 | loss: 0.13 |  validation loss: 0.14 | learning rate: [1.0000000000000004e-08]\n",
            "----------------------------------------------------------------------------------\n",
            "Epoch: 435/600 | loss: 0.13 |  validation loss: 0.13 | learning rate: [1.0000000000000004e-08]\n"
          ]
        },
        {
          "output_type": "stream",
          "name": "stderr",
          "text": [
            " 73%|███████▎  | 438/600 [00:57<00:21,  7.71it/s]"
          ]
        },
        {
          "output_type": "stream",
          "name": "stdout",
          "text": [
            "----------------------------------------------------------------------------------\n",
            "Epoch: 436/600 | loss: 0.12 |  validation loss: 0.14 | learning rate: [1.0000000000000004e-08]\n",
            "----------------------------------------------------------------------------------\n",
            "Epoch: 437/600 | loss: 0.12 |  validation loss: 0.14 | learning rate: [1.0000000000000004e-08]\n"
          ]
        },
        {
          "output_type": "stream",
          "name": "stderr",
          "text": [
            " 73%|███████▎  | 440/600 [00:57<00:21,  7.32it/s]"
          ]
        },
        {
          "output_type": "stream",
          "name": "stdout",
          "text": [
            "----------------------------------------------------------------------------------\n",
            "Epoch: 438/600 | loss: 0.12 |  validation loss: 0.14 | learning rate: [1.0000000000000004e-08]\n",
            "----------------------------------------------------------------------------------\n",
            "Epoch: 439/600 | loss: 0.12 |  validation loss: 0.14 | learning rate: [1.0000000000000004e-08]\n"
          ]
        },
        {
          "output_type": "stream",
          "name": "stderr",
          "text": [
            " 74%|███████▎  | 442/600 [00:58<00:21,  7.52it/s]"
          ]
        },
        {
          "output_type": "stream",
          "name": "stdout",
          "text": [
            "----------------------------------------------------------------------------------\n",
            "Epoch: 440/600 | loss: 0.12 |  validation loss: 0.14 | learning rate: [1.0000000000000004e-08]\n",
            "----------------------------------------------------------------------------------\n",
            "Epoch: 441/600 | loss: 0.12 |  validation loss: 0.13 | learning rate: [1.0000000000000004e-08]\n"
          ]
        },
        {
          "output_type": "stream",
          "name": "stderr",
          "text": [
            " 74%|███████▍  | 444/600 [00:58<00:21,  7.33it/s]"
          ]
        },
        {
          "output_type": "stream",
          "name": "stdout",
          "text": [
            "----------------------------------------------------------------------------------\n",
            "Epoch: 442/600 | loss: 0.12 |  validation loss: 0.14 | learning rate: [1.0000000000000004e-08]\n",
            "----------------------------------------------------------------------------------\n",
            "Epoch: 443/600 | loss: 0.12 |  validation loss: 0.14 | learning rate: [1.0000000000000004e-08]\n"
          ]
        },
        {
          "output_type": "stream",
          "name": "stderr",
          "text": [
            " 74%|███████▍  | 446/600 [00:58<00:20,  7.47it/s]"
          ]
        },
        {
          "output_type": "stream",
          "name": "stdout",
          "text": [
            "----------------------------------------------------------------------------------\n",
            "Epoch: 444/600 | loss: 0.12 |  validation loss: 0.14 | learning rate: [1.0000000000000004e-08]\n",
            "----------------------------------------------------------------------------------\n",
            "Epoch: 445/600 | loss: 0.12 |  validation loss: 0.14 | learning rate: [1.0000000000000004e-08]\n"
          ]
        },
        {
          "output_type": "stream",
          "name": "stderr",
          "text": [
            " 75%|███████▍  | 448/600 [00:59<00:21,  7.15it/s]"
          ]
        },
        {
          "output_type": "stream",
          "name": "stdout",
          "text": [
            "----------------------------------------------------------------------------------\n",
            "Epoch: 446/600 | loss: 0.12 |  validation loss: 0.14 | learning rate: [1.0000000000000004e-08]\n",
            "----------------------------------------------------------------------------------\n",
            "Epoch: 447/600 | loss: 0.12 |  validation loss: 0.14 | learning rate: [1.0000000000000004e-08]\n"
          ]
        },
        {
          "output_type": "stream",
          "name": "stderr",
          "text": [
            " 75%|███████▌  | 450/600 [00:59<00:20,  7.33it/s]"
          ]
        },
        {
          "output_type": "stream",
          "name": "stdout",
          "text": [
            "----------------------------------------------------------------------------------\n",
            "Epoch: 448/600 | loss: 0.12 |  validation loss: 0.13 | learning rate: [1.0000000000000004e-08]\n",
            "----------------------------------------------------------------------------------\n",
            "Epoch: 449/600 | loss: 0.12 |  validation loss: 0.14 | learning rate: [1.0000000000000004e-08]\n"
          ]
        },
        {
          "output_type": "stream",
          "name": "stderr",
          "text": [
            " 75%|███████▌  | 452/600 [00:59<00:19,  7.48it/s]"
          ]
        },
        {
          "output_type": "stream",
          "name": "stdout",
          "text": [
            "----------------------------------------------------------------------------------\n",
            "Epoch: 450/600 | loss: 0.12 |  validation loss: 0.14 | learning rate: [1.0000000000000004e-08]\n",
            "----------------------------------------------------------------------------------\n",
            "Epoch: 451/600 | loss: 0.12 |  validation loss: 0.14 | learning rate: [1.0000000000000004e-08]\n"
          ]
        },
        {
          "output_type": "stream",
          "name": "stderr",
          "text": [
            " 76%|███████▌  | 454/600 [00:59<00:19,  7.38it/s]"
          ]
        },
        {
          "output_type": "stream",
          "name": "stdout",
          "text": [
            "----------------------------------------------------------------------------------\n",
            "Epoch: 452/600 | loss: 0.12 |  validation loss: 0.14 | learning rate: [1.0000000000000004e-08]\n",
            "----------------------------------------------------------------------------------\n",
            "Epoch: 453/600 | loss: 0.12 |  validation loss: 0.14 | learning rate: [1.0000000000000004e-08]\n"
          ]
        },
        {
          "output_type": "stream",
          "name": "stderr",
          "text": [
            " 76%|███████▌  | 456/600 [01:00<00:19,  7.47it/s]"
          ]
        },
        {
          "output_type": "stream",
          "name": "stdout",
          "text": [
            "----------------------------------------------------------------------------------\n",
            "Epoch: 454/600 | loss: 0.12 |  validation loss: 0.14 | learning rate: [1.0000000000000004e-08]\n",
            "----------------------------------------------------------------------------------\n",
            "Epoch: 455/600 | loss: 0.13 |  validation loss: 0.14 | learning rate: [1.0000000000000004e-08]\n"
          ]
        },
        {
          "output_type": "stream",
          "name": "stderr",
          "text": [
            " 76%|███████▋  | 458/600 [01:00<00:18,  7.73it/s]"
          ]
        },
        {
          "output_type": "stream",
          "name": "stdout",
          "text": [
            "----------------------------------------------------------------------------------\n",
            "Epoch: 456/600 | loss: 0.12 |  validation loss: 0.14 | learning rate: [1.0000000000000004e-08]\n",
            "----------------------------------------------------------------------------------\n",
            "Epoch: 457/600 | loss: 0.12 |  validation loss: 0.13 | learning rate: [1.0000000000000004e-08]\n"
          ]
        },
        {
          "output_type": "stream",
          "name": "stderr",
          "text": [
            " 77%|███████▋  | 460/600 [01:00<00:18,  7.71it/s]"
          ]
        },
        {
          "output_type": "stream",
          "name": "stdout",
          "text": [
            "----------------------------------------------------------------------------------\n",
            "Epoch: 458/600 | loss: 0.12 |  validation loss: 0.14 | learning rate: [1.0000000000000004e-08]\n",
            "----------------------------------------------------------------------------------\n",
            "Epoch: 459/600 | loss: 0.12 |  validation loss: 0.15 | learning rate: [1.0000000000000004e-08]\n"
          ]
        },
        {
          "output_type": "stream",
          "name": "stderr",
          "text": [
            " 77%|███████▋  | 462/600 [01:00<00:17,  7.73it/s]"
          ]
        },
        {
          "output_type": "stream",
          "name": "stdout",
          "text": [
            "----------------------------------------------------------------------------------\n",
            "Epoch: 460/600 | loss: 0.12 |  validation loss: 0.14 | learning rate: [1.0000000000000004e-08]\n",
            "----------------------------------------------------------------------------------\n",
            "Epoch: 461/600 | loss: 0.12 |  validation loss: 0.14 | learning rate: [1.0000000000000004e-08]\n"
          ]
        },
        {
          "output_type": "stream",
          "name": "stderr",
          "text": [
            " 77%|███████▋  | 464/600 [01:01<00:18,  7.48it/s]"
          ]
        },
        {
          "output_type": "stream",
          "name": "stdout",
          "text": [
            "----------------------------------------------------------------------------------\n",
            "Epoch: 462/600 | loss: 0.12 |  validation loss: 0.14 | learning rate: [1.0000000000000004e-08]\n",
            "----------------------------------------------------------------------------------\n",
            "Epoch: 463/600 | loss: 0.12 |  validation loss: 0.14 | learning rate: [1.0000000000000004e-08]\n"
          ]
        },
        {
          "output_type": "stream",
          "name": "stderr",
          "text": [
            " 78%|███████▊  | 466/600 [01:01<00:18,  7.28it/s]"
          ]
        },
        {
          "output_type": "stream",
          "name": "stdout",
          "text": [
            "----------------------------------------------------------------------------------\n",
            "Epoch: 464/600 | loss: 0.13 |  validation loss: 0.13 | learning rate: [1.0000000000000004e-08]\n",
            "----------------------------------------------------------------------------------\n",
            "Epoch: 465/600 | loss: 0.13 |  validation loss: 0.14 | learning rate: [1.0000000000000004e-08]\n"
          ]
        },
        {
          "output_type": "stream",
          "name": "stderr",
          "text": [
            " 78%|███████▊  | 468/600 [01:01<00:17,  7.36it/s]"
          ]
        },
        {
          "output_type": "stream",
          "name": "stdout",
          "text": [
            "----------------------------------------------------------------------------------\n",
            "Epoch: 466/600 | loss: 0.12 |  validation loss: 0.14 | learning rate: [1.0000000000000004e-08]\n",
            "----------------------------------------------------------------------------------\n",
            "Epoch: 467/600 | loss: 0.12 |  validation loss: 0.14 | learning rate: [1.0000000000000004e-08]\n"
          ]
        },
        {
          "output_type": "stream",
          "name": "stderr",
          "text": [
            " 78%|███████▊  | 470/600 [01:01<00:17,  7.48it/s]"
          ]
        },
        {
          "output_type": "stream",
          "name": "stdout",
          "text": [
            "----------------------------------------------------------------------------------\n",
            "Epoch: 468/600 | loss: 0.12 |  validation loss: 0.14 | learning rate: [1.0000000000000004e-08]\n",
            "----------------------------------------------------------------------------------\n",
            "Epoch: 469/600 | loss: 0.13 |  validation loss: 0.14 | learning rate: [1.0000000000000004e-08]\n"
          ]
        },
        {
          "output_type": "stream",
          "name": "stderr",
          "text": [
            " 79%|███████▊  | 472/600 [01:02<00:16,  7.66it/s]"
          ]
        },
        {
          "output_type": "stream",
          "name": "stdout",
          "text": [
            "----------------------------------------------------------------------------------\n",
            "Epoch: 470/600 | loss: 0.12 |  validation loss: 0.15 | learning rate: [1.0000000000000004e-08]\n",
            "----------------------------------------------------------------------------------\n",
            "Epoch: 471/600 | loss: 0.12 |  validation loss: 0.14 | learning rate: [1.0000000000000004e-08]\n"
          ]
        },
        {
          "output_type": "stream",
          "name": "stderr",
          "text": [
            " 79%|███████▉  | 474/600 [01:02<00:16,  7.87it/s]"
          ]
        },
        {
          "output_type": "stream",
          "name": "stdout",
          "text": [
            "----------------------------------------------------------------------------------\n",
            "Epoch: 472/600 | loss: 0.12 |  validation loss: 0.14 | learning rate: [1.0000000000000004e-08]\n",
            "----------------------------------------------------------------------------------\n",
            "Epoch: 473/600 | loss: 0.12 |  validation loss: 0.15 | learning rate: [1.0000000000000004e-08]\n"
          ]
        },
        {
          "output_type": "stream",
          "name": "stderr",
          "text": [
            " 79%|███████▉  | 476/600 [01:02<00:16,  7.55it/s]"
          ]
        },
        {
          "output_type": "stream",
          "name": "stdout",
          "text": [
            "----------------------------------------------------------------------------------\n",
            "Epoch: 474/600 | loss: 0.12 |  validation loss: 0.14 | learning rate: [1.0000000000000004e-08]\n",
            "----------------------------------------------------------------------------------\n",
            "Epoch: 475/600 | loss: 0.12 |  validation loss: 0.14 | learning rate: [1.0000000000000004e-08]\n"
          ]
        },
        {
          "output_type": "stream",
          "name": "stderr",
          "text": [
            " 80%|███████▉  | 478/600 [01:03<00:15,  7.71it/s]"
          ]
        },
        {
          "output_type": "stream",
          "name": "stdout",
          "text": [
            "----------------------------------------------------------------------------------\n",
            "Epoch: 476/600 | loss: 0.12 |  validation loss: 0.14 | learning rate: [1.0000000000000004e-08]\n",
            "----------------------------------------------------------------------------------\n",
            "Epoch: 477/600 | loss: 0.13 |  validation loss: 0.13 | learning rate: [1.0000000000000004e-08]\n"
          ]
        },
        {
          "output_type": "stream",
          "name": "stderr",
          "text": [
            " 80%|████████  | 480/600 [01:03<00:15,  7.69it/s]"
          ]
        },
        {
          "output_type": "stream",
          "name": "stdout",
          "text": [
            "----------------------------------------------------------------------------------\n",
            "Epoch: 478/600 | loss: 0.12 |  validation loss: 0.13 | learning rate: [1.0000000000000004e-08]\n",
            "----------------------------------------------------------------------------------\n",
            "Epoch: 479/600 | loss: 0.12 |  validation loss: 0.14 | learning rate: [1.0000000000000004e-08]\n"
          ]
        },
        {
          "output_type": "stream",
          "name": "stderr",
          "text": [
            " 80%|████████  | 482/600 [01:03<00:14,  7.88it/s]"
          ]
        },
        {
          "output_type": "stream",
          "name": "stdout",
          "text": [
            "----------------------------------------------------------------------------------\n",
            "Epoch: 480/600 | loss: 0.12 |  validation loss: 0.14 | learning rate: [1.0000000000000004e-08]\n",
            "----------------------------------------------------------------------------------\n",
            "Epoch: 481/600 | loss: 0.12 |  validation loss: 0.14 | learning rate: [1.0000000000000004e-08]\n"
          ]
        },
        {
          "output_type": "stream",
          "name": "stderr",
          "text": [
            " 81%|████████  | 484/600 [01:03<00:15,  7.51it/s]"
          ]
        },
        {
          "output_type": "stream",
          "name": "stdout",
          "text": [
            "----------------------------------------------------------------------------------\n",
            "Epoch: 482/600 | loss: 0.12 |  validation loss: 0.13 | learning rate: [1.0000000000000004e-08]\n",
            "----------------------------------------------------------------------------------\n",
            "Epoch: 483/600 | loss: 0.12 |  validation loss: 0.14 | learning rate: [1.0000000000000004e-08]\n"
          ]
        },
        {
          "output_type": "stream",
          "name": "stderr",
          "text": [
            " 81%|████████  | 486/600 [01:04<00:15,  7.52it/s]"
          ]
        },
        {
          "output_type": "stream",
          "name": "stdout",
          "text": [
            "----------------------------------------------------------------------------------\n",
            "Epoch: 484/600 | loss: 0.12 |  validation loss: 0.14 | learning rate: [1.0000000000000004e-08]\n",
            "----------------------------------------------------------------------------------\n",
            "Epoch: 485/600 | loss: 0.12 |  validation loss: 0.13 | learning rate: [1.0000000000000004e-08]\n"
          ]
        },
        {
          "output_type": "stream",
          "name": "stderr",
          "text": [
            " 81%|████████▏ | 488/600 [01:04<00:15,  7.40it/s]"
          ]
        },
        {
          "output_type": "stream",
          "name": "stdout",
          "text": [
            "----------------------------------------------------------------------------------\n",
            "Epoch: 486/600 | loss: 0.12 |  validation loss: 0.14 | learning rate: [1.0000000000000004e-08]\n",
            "----------------------------------------------------------------------------------\n",
            "Epoch: 487/600 | loss: 0.12 |  validation loss: 0.14 | learning rate: [1.0000000000000004e-08]\n"
          ]
        },
        {
          "output_type": "stream",
          "name": "stderr",
          "text": [
            " 82%|████████▏ | 490/600 [01:04<00:16,  6.86it/s]"
          ]
        },
        {
          "output_type": "stream",
          "name": "stdout",
          "text": [
            "----------------------------------------------------------------------------------\n",
            "Epoch: 488/600 | loss: 0.12 |  validation loss: 0.14 | learning rate: [1.0000000000000004e-08]\n",
            "----------------------------------------------------------------------------------\n",
            "Epoch: 489/600 | loss: 0.12 |  validation loss: 0.14 | learning rate: [1.0000000000000004e-08]\n"
          ]
        },
        {
          "output_type": "stream",
          "name": "stderr",
          "text": [
            " 82%|████████▏ | 492/600 [01:04<00:15,  6.94it/s]"
          ]
        },
        {
          "output_type": "stream",
          "name": "stdout",
          "text": [
            "----------------------------------------------------------------------------------\n",
            "Epoch: 490/600 | loss: 0.12 |  validation loss: 0.14 | learning rate: [1.0000000000000004e-08]\n",
            "----------------------------------------------------------------------------------\n",
            "Epoch: 491/600 | loss: 0.12 |  validation loss: 0.14 | learning rate: [1.0000000000000004e-08]\n"
          ]
        },
        {
          "output_type": "stream",
          "name": "stderr",
          "text": [
            " 82%|████████▏ | 494/600 [01:05<00:15,  7.05it/s]"
          ]
        },
        {
          "output_type": "stream",
          "name": "stdout",
          "text": [
            "----------------------------------------------------------------------------------\n",
            "Epoch: 492/600 | loss: 0.12 |  validation loss: 0.14 | learning rate: [1.0000000000000004e-08]\n",
            "----------------------------------------------------------------------------------\n",
            "Epoch: 493/600 | loss: 0.12 |  validation loss: 0.14 | learning rate: [1.0000000000000004e-08]\n"
          ]
        },
        {
          "output_type": "stream",
          "name": "stderr",
          "text": [
            " 83%|████████▎ | 496/600 [01:05<00:14,  7.19it/s]"
          ]
        },
        {
          "output_type": "stream",
          "name": "stdout",
          "text": [
            "----------------------------------------------------------------------------------\n",
            "Epoch: 494/600 | loss: 0.12 |  validation loss: 0.14 | learning rate: [1.0000000000000004e-08]\n",
            "----------------------------------------------------------------------------------\n",
            "Epoch: 495/600 | loss: 0.12 |  validation loss: 0.14 | learning rate: [1.0000000000000004e-08]\n"
          ]
        },
        {
          "output_type": "stream",
          "name": "stderr",
          "text": [
            " 83%|████████▎ | 498/600 [01:05<00:13,  7.38it/s]"
          ]
        },
        {
          "output_type": "stream",
          "name": "stdout",
          "text": [
            "----------------------------------------------------------------------------------\n",
            "Epoch: 496/600 | loss: 0.12 |  validation loss: 0.13 | learning rate: [1.0000000000000004e-08]\n",
            "----------------------------------------------------------------------------------\n",
            "Epoch: 497/600 | loss: 0.12 |  validation loss: 0.14 | learning rate: [1.0000000000000004e-08]\n"
          ]
        },
        {
          "output_type": "stream",
          "name": "stderr",
          "text": [
            " 83%|████████▎ | 500/600 [01:06<00:13,  7.44it/s]"
          ]
        },
        {
          "output_type": "stream",
          "name": "stdout",
          "text": [
            "----------------------------------------------------------------------------------\n",
            "Epoch: 498/600 | loss: 0.12 |  validation loss: 0.14 | learning rate: [1.0000000000000004e-08]\n",
            "----------------------------------------------------------------------------------\n",
            "Epoch: 499/600 | loss: 0.12 |  validation loss: 0.14 | learning rate: [1.0000000000000004e-08]\n"
          ]
        },
        {
          "output_type": "stream",
          "name": "stderr",
          "text": [
            " 84%|████████▎ | 502/600 [01:06<00:13,  7.20it/s]"
          ]
        },
        {
          "output_type": "stream",
          "name": "stdout",
          "text": [
            "----------------------------------------------------------------------------------\n",
            "Epoch: 500/600 | loss: 0.12 |  validation loss: 0.13 | learning rate: [1.0000000000000004e-08]\n",
            "----------------------------------------------------------------------------------\n",
            "Epoch: 501/600 | loss: 0.12 |  validation loss: 0.13 | learning rate: [1.0000000000000004e-08]\n"
          ]
        },
        {
          "output_type": "stream",
          "name": "stderr",
          "text": [
            " 84%|████████▍ | 504/600 [01:06<00:13,  7.04it/s]"
          ]
        },
        {
          "output_type": "stream",
          "name": "stdout",
          "text": [
            "----------------------------------------------------------------------------------\n",
            "Epoch: 502/600 | loss: 0.12 |  validation loss: 0.14 | learning rate: [1.0000000000000004e-08]\n",
            "----------------------------------------------------------------------------------\n",
            "Epoch: 503/600 | loss: 0.12 |  validation loss: 0.13 | learning rate: [1.0000000000000004e-08]\n"
          ]
        },
        {
          "output_type": "stream",
          "name": "stderr",
          "text": [
            " 84%|████████▍ | 506/600 [01:06<00:13,  6.75it/s]"
          ]
        },
        {
          "output_type": "stream",
          "name": "stdout",
          "text": [
            "----------------------------------------------------------------------------------\n",
            "Epoch: 504/600 | loss: 0.12 |  validation loss: 0.14 | learning rate: [1.0000000000000004e-08]\n",
            "----------------------------------------------------------------------------------\n",
            "Epoch: 505/600 | loss: 0.12 |  validation loss: 0.13 | learning rate: [1.0000000000000004e-08]\n"
          ]
        },
        {
          "output_type": "stream",
          "name": "stderr",
          "text": [
            " 85%|████████▍ | 508/600 [01:07<00:13,  6.64it/s]"
          ]
        },
        {
          "output_type": "stream",
          "name": "stdout",
          "text": [
            "----------------------------------------------------------------------------------\n",
            "Epoch: 506/600 | loss: 0.12 |  validation loss: 0.14 | learning rate: [1.0000000000000004e-08]\n",
            "----------------------------------------------------------------------------------\n",
            "Epoch: 507/600 | loss: 0.12 |  validation loss: 0.14 | learning rate: [1.0000000000000004e-08]\n"
          ]
        },
        {
          "output_type": "stream",
          "name": "stderr",
          "text": [
            " 85%|████████▌ | 510/600 [01:07<00:13,  6.75it/s]"
          ]
        },
        {
          "output_type": "stream",
          "name": "stdout",
          "text": [
            "----------------------------------------------------------------------------------\n",
            "Epoch: 508/600 | loss: 0.12 |  validation loss: 0.13 | learning rate: [1.0000000000000004e-08]\n",
            "----------------------------------------------------------------------------------\n",
            "Epoch: 509/600 | loss: 0.12 |  validation loss: 0.14 | learning rate: [1.0000000000000004e-08]\n"
          ]
        },
        {
          "output_type": "stream",
          "name": "stderr",
          "text": [
            " 85%|████████▌ | 512/600 [01:07<00:12,  7.06it/s]"
          ]
        },
        {
          "output_type": "stream",
          "name": "stdout",
          "text": [
            "----------------------------------------------------------------------------------\n",
            "Epoch: 510/600 | loss: 0.12 |  validation loss: 0.14 | learning rate: [1.0000000000000004e-08]\n",
            "----------------------------------------------------------------------------------\n",
            "Epoch: 511/600 | loss: 0.13 |  validation loss: 0.14 | learning rate: [1.0000000000000004e-08]\n"
          ]
        },
        {
          "output_type": "stream",
          "name": "stderr",
          "text": [
            " 86%|████████▌ | 514/600 [01:08<00:11,  7.36it/s]"
          ]
        },
        {
          "output_type": "stream",
          "name": "stdout",
          "text": [
            "----------------------------------------------------------------------------------\n",
            "Epoch: 512/600 | loss: 0.12 |  validation loss: 0.14 | learning rate: [1.0000000000000004e-08]\n",
            "----------------------------------------------------------------------------------\n",
            "Epoch: 513/600 | loss: 0.12 |  validation loss: 0.14 | learning rate: [1.0000000000000004e-08]\n"
          ]
        },
        {
          "output_type": "stream",
          "name": "stderr",
          "text": [
            " 86%|████████▌ | 516/600 [01:08<00:11,  7.62it/s]"
          ]
        },
        {
          "output_type": "stream",
          "name": "stdout",
          "text": [
            "----------------------------------------------------------------------------------\n",
            "Epoch: 514/600 | loss: 0.12 |  validation loss: 0.14 | learning rate: [1.0000000000000004e-08]\n",
            "----------------------------------------------------------------------------------\n",
            "Epoch: 515/600 | loss: 0.12 |  validation loss: 0.14 | learning rate: [1.0000000000000004e-08]\n"
          ]
        },
        {
          "output_type": "stream",
          "name": "stderr",
          "text": [
            " 86%|████████▋ | 518/600 [01:08<00:10,  7.74it/s]"
          ]
        },
        {
          "output_type": "stream",
          "name": "stdout",
          "text": [
            "----------------------------------------------------------------------------------\n",
            "Epoch: 516/600 | loss: 0.12 |  validation loss: 0.14 | learning rate: [1.0000000000000004e-08]\n",
            "----------------------------------------------------------------------------------\n",
            "Epoch: 517/600 | loss: 0.12 |  validation loss: 0.14 | learning rate: [1.0000000000000004e-08]\n"
          ]
        },
        {
          "output_type": "stream",
          "name": "stderr",
          "text": [
            " 87%|████████▋ | 520/600 [01:08<00:10,  7.39it/s]"
          ]
        },
        {
          "output_type": "stream",
          "name": "stdout",
          "text": [
            "----------------------------------------------------------------------------------\n",
            "Epoch: 518/600 | loss: 0.12 |  validation loss: 0.13 | learning rate: [1.0000000000000004e-08]\n",
            "----------------------------------------------------------------------------------\n",
            "Epoch: 519/600 | loss: 0.12 |  validation loss: 0.14 | learning rate: [1.0000000000000004e-08]\n"
          ]
        },
        {
          "output_type": "stream",
          "name": "stderr",
          "text": [
            " 87%|████████▋ | 522/600 [01:09<00:10,  7.46it/s]"
          ]
        },
        {
          "output_type": "stream",
          "name": "stdout",
          "text": [
            "----------------------------------------------------------------------------------\n",
            "Epoch: 520/600 | loss: 0.13 |  validation loss: 0.14 | learning rate: [1.0000000000000004e-08]\n",
            "----------------------------------------------------------------------------------\n",
            "Epoch: 521/600 | loss: 0.12 |  validation loss: 0.14 | learning rate: [1.0000000000000004e-08]\n"
          ]
        },
        {
          "output_type": "stream",
          "name": "stderr",
          "text": [
            " 87%|████████▋ | 524/600 [01:09<00:10,  7.30it/s]"
          ]
        },
        {
          "output_type": "stream",
          "name": "stdout",
          "text": [
            "----------------------------------------------------------------------------------\n",
            "Epoch: 522/600 | loss: 0.12 |  validation loss: 0.15 | learning rate: [1.0000000000000004e-08]\n",
            "----------------------------------------------------------------------------------\n",
            "Epoch: 523/600 | loss: 0.12 |  validation loss: 0.14 | learning rate: [1.0000000000000004e-08]\n"
          ]
        },
        {
          "output_type": "stream",
          "name": "stderr",
          "text": [
            " 88%|████████▊ | 526/600 [01:09<00:10,  7.29it/s]"
          ]
        },
        {
          "output_type": "stream",
          "name": "stdout",
          "text": [
            "----------------------------------------------------------------------------------\n",
            "Epoch: 524/600 | loss: 0.12 |  validation loss: 0.14 | learning rate: [1.0000000000000004e-08]\n",
            "----------------------------------------------------------------------------------\n",
            "Epoch: 525/600 | loss: 0.12 |  validation loss: 0.14 | learning rate: [1.0000000000000004e-08]\n"
          ]
        },
        {
          "output_type": "stream",
          "name": "stderr",
          "text": [
            " 88%|████████▊ | 528/600 [01:09<00:09,  7.29it/s]"
          ]
        },
        {
          "output_type": "stream",
          "name": "stdout",
          "text": [
            "----------------------------------------------------------------------------------\n",
            "Epoch: 526/600 | loss: 0.12 |  validation loss: 0.14 | learning rate: [1.0000000000000004e-08]\n",
            "----------------------------------------------------------------------------------\n",
            "Epoch: 527/600 | loss: 0.12 |  validation loss: 0.14 | learning rate: [1.0000000000000004e-08]\n"
          ]
        },
        {
          "output_type": "stream",
          "name": "stderr",
          "text": [
            " 88%|████████▊ | 530/600 [01:10<00:09,  7.27it/s]"
          ]
        },
        {
          "output_type": "stream",
          "name": "stdout",
          "text": [
            "----------------------------------------------------------------------------------\n",
            "Epoch: 528/600 | loss: 0.13 |  validation loss: 0.14 | learning rate: [1.0000000000000004e-08]\n",
            "----------------------------------------------------------------------------------\n",
            "Epoch: 529/600 | loss: 0.12 |  validation loss: 0.14 | learning rate: [1.0000000000000004e-08]\n"
          ]
        },
        {
          "output_type": "stream",
          "name": "stderr",
          "text": [
            " 89%|████████▊ | 532/600 [01:10<00:09,  7.42it/s]"
          ]
        },
        {
          "output_type": "stream",
          "name": "stdout",
          "text": [
            "----------------------------------------------------------------------------------\n",
            "Epoch: 530/600 | loss: 0.12 |  validation loss: 0.14 | learning rate: [1.0000000000000004e-08]\n",
            "----------------------------------------------------------------------------------\n",
            "Epoch: 531/600 | loss: 0.13 |  validation loss: 0.14 | learning rate: [1.0000000000000004e-08]\n"
          ]
        },
        {
          "output_type": "stream",
          "name": "stderr",
          "text": [
            " 89%|████████▉ | 534/600 [01:10<00:08,  7.71it/s]"
          ]
        },
        {
          "output_type": "stream",
          "name": "stdout",
          "text": [
            "----------------------------------------------------------------------------------\n",
            "Epoch: 532/600 | loss: 0.12 |  validation loss: 0.13 | learning rate: [1.0000000000000004e-08]\n",
            "----------------------------------------------------------------------------------\n",
            "Epoch: 533/600 | loss: 0.12 |  validation loss: 0.14 | learning rate: [1.0000000000000004e-08]\n"
          ]
        },
        {
          "output_type": "stream",
          "name": "stderr",
          "text": [
            " 89%|████████▉ | 536/600 [01:10<00:08,  7.34it/s]"
          ]
        },
        {
          "output_type": "stream",
          "name": "stdout",
          "text": [
            "----------------------------------------------------------------------------------\n",
            "Epoch: 534/600 | loss: 0.12 |  validation loss: 0.14 | learning rate: [1.0000000000000004e-08]\n",
            "----------------------------------------------------------------------------------\n",
            "Epoch: 535/600 | loss: 0.12 |  validation loss: 0.14 | learning rate: [1.0000000000000004e-08]\n"
          ]
        },
        {
          "output_type": "stream",
          "name": "stderr",
          "text": [
            " 90%|████████▉ | 538/600 [01:11<00:08,  7.64it/s]"
          ]
        },
        {
          "output_type": "stream",
          "name": "stdout",
          "text": [
            "----------------------------------------------------------------------------------\n",
            "Epoch: 536/600 | loss: 0.12 |  validation loss: 0.14 | learning rate: [1.0000000000000004e-08]\n",
            "----------------------------------------------------------------------------------\n",
            "Epoch: 537/600 | loss: 0.13 |  validation loss: 0.14 | learning rate: [1.0000000000000004e-08]\n"
          ]
        },
        {
          "output_type": "stream",
          "name": "stderr",
          "text": [
            " 90%|█████████ | 540/600 [01:11<00:07,  7.60it/s]"
          ]
        },
        {
          "output_type": "stream",
          "name": "stdout",
          "text": [
            "----------------------------------------------------------------------------------\n",
            "Epoch: 538/600 | loss: 0.12 |  validation loss: 0.14 | learning rate: [1.0000000000000004e-08]\n",
            "----------------------------------------------------------------------------------\n",
            "Epoch: 539/600 | loss: 0.12 |  validation loss: 0.13 | learning rate: [1.0000000000000004e-08]\n"
          ]
        },
        {
          "output_type": "stream",
          "name": "stderr",
          "text": [
            " 90%|█████████ | 542/600 [01:11<00:07,  7.66it/s]"
          ]
        },
        {
          "output_type": "stream",
          "name": "stdout",
          "text": [
            "----------------------------------------------------------------------------------\n",
            "Epoch: 540/600 | loss: 0.12 |  validation loss: 0.14 | learning rate: [1.0000000000000004e-08]\n",
            "----------------------------------------------------------------------------------\n",
            "Epoch: 541/600 | loss: 0.12 |  validation loss: 0.14 | learning rate: [1.0000000000000004e-08]\n"
          ]
        },
        {
          "output_type": "stream",
          "name": "stderr",
          "text": [
            " 91%|█████████ | 544/600 [01:12<00:07,  7.29it/s]"
          ]
        },
        {
          "output_type": "stream",
          "name": "stdout",
          "text": [
            "----------------------------------------------------------------------------------\n",
            "Epoch: 542/600 | loss: 0.12 |  validation loss: 0.14 | learning rate: [1.0000000000000004e-08]\n",
            "----------------------------------------------------------------------------------\n",
            "Epoch: 543/600 | loss: 0.12 |  validation loss: 0.14 | learning rate: [1.0000000000000004e-08]\n"
          ]
        },
        {
          "output_type": "stream",
          "name": "stderr",
          "text": [
            " 91%|█████████ | 546/600 [01:12<00:07,  7.26it/s]"
          ]
        },
        {
          "output_type": "stream",
          "name": "stdout",
          "text": [
            "----------------------------------------------------------------------------------\n",
            "Epoch: 544/600 | loss: 0.12 |  validation loss: 0.14 | learning rate: [1.0000000000000004e-08]\n",
            "----------------------------------------------------------------------------------\n",
            "Epoch: 545/600 | loss: 0.12 |  validation loss: 0.14 | learning rate: [1.0000000000000004e-08]\n"
          ]
        },
        {
          "output_type": "stream",
          "name": "stderr",
          "text": [
            " 91%|█████████▏| 548/600 [01:12<00:06,  7.55it/s]"
          ]
        },
        {
          "output_type": "stream",
          "name": "stdout",
          "text": [
            "----------------------------------------------------------------------------------\n",
            "Epoch: 546/600 | loss: 0.12 |  validation loss: 0.14 | learning rate: [1.0000000000000004e-08]\n",
            "----------------------------------------------------------------------------------\n",
            "Epoch: 547/600 | loss: 0.12 |  validation loss: 0.14 | learning rate: [1.0000000000000004e-08]\n"
          ]
        },
        {
          "output_type": "stream",
          "name": "stderr",
          "text": [
            " 92%|█████████▏| 550/600 [01:12<00:06,  7.75it/s]"
          ]
        },
        {
          "output_type": "stream",
          "name": "stdout",
          "text": [
            "----------------------------------------------------------------------------------\n",
            "Epoch: 548/600 | loss: 0.12 |  validation loss: 0.14 | learning rate: [1.0000000000000004e-08]\n",
            "----------------------------------------------------------------------------------\n",
            "Epoch: 549/600 | loss: 0.12 |  validation loss: 0.14 | learning rate: [1.0000000000000004e-08]\n"
          ]
        },
        {
          "output_type": "stream",
          "name": "stderr",
          "text": [
            " 92%|█████████▏| 552/600 [01:13<00:06,  7.74it/s]"
          ]
        },
        {
          "output_type": "stream",
          "name": "stdout",
          "text": [
            "----------------------------------------------------------------------------------\n",
            "Epoch: 550/600 | loss: 0.12 |  validation loss: 0.14 | learning rate: [1.0000000000000004e-08]\n",
            "----------------------------------------------------------------------------------\n",
            "Epoch: 551/600 | loss: 0.12 |  validation loss: 0.13 | learning rate: [1.0000000000000004e-08]\n"
          ]
        },
        {
          "output_type": "stream",
          "name": "stderr",
          "text": [
            " 92%|█████████▏| 554/600 [01:13<00:06,  7.43it/s]"
          ]
        },
        {
          "output_type": "stream",
          "name": "stdout",
          "text": [
            "----------------------------------------------------------------------------------\n",
            "Epoch: 552/600 | loss: 0.12 |  validation loss: 0.14 | learning rate: [1.0000000000000004e-08]\n",
            "----------------------------------------------------------------------------------\n",
            "Epoch: 553/600 | loss: 0.12 |  validation loss: 0.14 | learning rate: [1.0000000000000004e-08]\n"
          ]
        },
        {
          "output_type": "stream",
          "name": "stderr",
          "text": [
            " 93%|█████████▎| 556/600 [01:13<00:05,  7.71it/s]"
          ]
        },
        {
          "output_type": "stream",
          "name": "stdout",
          "text": [
            "----------------------------------------------------------------------------------\n",
            "Epoch: 554/600 | loss: 0.13 |  validation loss: 0.14 | learning rate: [1.0000000000000004e-08]\n",
            "----------------------------------------------------------------------------------\n",
            "Epoch: 555/600 | loss: 0.12 |  validation loss: 0.14 | learning rate: [1.0000000000000004e-08]\n"
          ]
        },
        {
          "output_type": "stream",
          "name": "stderr",
          "text": [
            " 93%|█████████▎| 558/600 [01:13<00:05,  7.55it/s]"
          ]
        },
        {
          "output_type": "stream",
          "name": "stdout",
          "text": [
            "----------------------------------------------------------------------------------\n",
            "Epoch: 556/600 | loss: 0.12 |  validation loss: 0.14 | learning rate: [1.0000000000000004e-08]\n",
            "----------------------------------------------------------------------------------\n",
            "Epoch: 557/600 | loss: 0.12 |  validation loss: 0.14 | learning rate: [1.0000000000000004e-08]\n"
          ]
        },
        {
          "output_type": "stream",
          "name": "stderr",
          "text": [
            " 93%|█████████▎| 560/600 [01:14<00:05,  7.75it/s]"
          ]
        },
        {
          "output_type": "stream",
          "name": "stdout",
          "text": [
            "----------------------------------------------------------------------------------\n",
            "Epoch: 558/600 | loss: 0.12 |  validation loss: 0.14 | learning rate: [1.0000000000000004e-08]\n",
            "----------------------------------------------------------------------------------\n",
            "Epoch: 559/600 | loss: 0.12 |  validation loss: 0.14 | learning rate: [1.0000000000000004e-08]\n"
          ]
        },
        {
          "output_type": "stream",
          "name": "stderr",
          "text": [
            " 94%|█████████▎| 562/600 [01:14<00:04,  7.65it/s]"
          ]
        },
        {
          "output_type": "stream",
          "name": "stdout",
          "text": [
            "----------------------------------------------------------------------------------\n",
            "Epoch: 560/600 | loss: 0.12 |  validation loss: 0.14 | learning rate: [1.0000000000000004e-08]\n",
            "----------------------------------------------------------------------------------\n",
            "Epoch: 561/600 | loss: 0.12 |  validation loss: 0.14 | learning rate: [1.0000000000000004e-08]\n"
          ]
        },
        {
          "output_type": "stream",
          "name": "stderr",
          "text": [
            " 94%|█████████▍| 564/600 [01:14<00:04,  7.55it/s]"
          ]
        },
        {
          "output_type": "stream",
          "name": "stdout",
          "text": [
            "----------------------------------------------------------------------------------\n",
            "Epoch: 562/600 | loss: 0.12 |  validation loss: 0.14 | learning rate: [1.0000000000000004e-08]\n",
            "----------------------------------------------------------------------------------\n",
            "Epoch: 563/600 | loss: 0.13 |  validation loss: 0.14 | learning rate: [1.0000000000000004e-08]\n"
          ]
        },
        {
          "output_type": "stream",
          "name": "stderr",
          "text": [
            " 94%|█████████▍| 566/600 [01:14<00:04,  7.38it/s]"
          ]
        },
        {
          "output_type": "stream",
          "name": "stdout",
          "text": [
            "----------------------------------------------------------------------------------\n",
            "Epoch: 564/600 | loss: 0.13 |  validation loss: 0.14 | learning rate: [1.0000000000000004e-08]\n",
            "----------------------------------------------------------------------------------\n",
            "Epoch: 565/600 | loss: 0.12 |  validation loss: 0.14 | learning rate: [1.0000000000000004e-08]\n"
          ]
        },
        {
          "output_type": "stream",
          "name": "stderr",
          "text": [
            " 95%|█████████▍| 568/600 [01:15<00:04,  7.46it/s]"
          ]
        },
        {
          "output_type": "stream",
          "name": "stdout",
          "text": [
            "----------------------------------------------------------------------------------\n",
            "Epoch: 566/600 | loss: 0.12 |  validation loss: 0.14 | learning rate: [1.0000000000000004e-08]\n",
            "----------------------------------------------------------------------------------\n",
            "Epoch: 567/600 | loss: 0.12 |  validation loss: 0.14 | learning rate: [1.0000000000000004e-08]\n"
          ]
        },
        {
          "output_type": "stream",
          "name": "stderr",
          "text": [
            " 95%|█████████▌| 570/600 [01:15<00:03,  7.71it/s]"
          ]
        },
        {
          "output_type": "stream",
          "name": "stdout",
          "text": [
            "----------------------------------------------------------------------------------\n",
            "Epoch: 568/600 | loss: 0.12 |  validation loss: 0.14 | learning rate: [1.0000000000000004e-08]\n",
            "----------------------------------------------------------------------------------\n",
            "Epoch: 569/600 | loss: 0.12 |  validation loss: 0.14 | learning rate: [1.0000000000000004e-08]\n"
          ]
        },
        {
          "output_type": "stream",
          "name": "stderr",
          "text": [
            " 95%|█████████▌| 572/600 [01:15<00:03,  7.71it/s]"
          ]
        },
        {
          "output_type": "stream",
          "name": "stdout",
          "text": [
            "----------------------------------------------------------------------------------\n",
            "Epoch: 570/600 | loss: 0.12 |  validation loss: 0.13 | learning rate: [1.0000000000000004e-08]\n",
            "----------------------------------------------------------------------------------\n",
            "Epoch: 571/600 | loss: 0.12 |  validation loss: 0.13 | learning rate: [1.0000000000000004e-08]\n"
          ]
        },
        {
          "output_type": "stream",
          "name": "stderr",
          "text": [
            " 96%|█████████▌| 574/600 [01:15<00:03,  7.77it/s]"
          ]
        },
        {
          "output_type": "stream",
          "name": "stdout",
          "text": [
            "----------------------------------------------------------------------------------\n",
            "Epoch: 572/600 | loss: 0.12 |  validation loss: 0.14 | learning rate: [1.0000000000000004e-08]\n",
            "----------------------------------------------------------------------------------\n",
            "Epoch: 573/600 | loss: 0.12 |  validation loss: 0.14 | learning rate: [1.0000000000000004e-08]\n"
          ]
        },
        {
          "output_type": "stream",
          "name": "stderr",
          "text": [
            " 96%|█████████▌| 576/600 [01:16<00:03,  7.59it/s]"
          ]
        },
        {
          "output_type": "stream",
          "name": "stdout",
          "text": [
            "----------------------------------------------------------------------------------\n",
            "Epoch: 574/600 | loss: 0.12 |  validation loss: 0.13 | learning rate: [1.0000000000000004e-08]\n",
            "----------------------------------------------------------------------------------\n",
            "Epoch: 575/600 | loss: 0.12 |  validation loss: 0.14 | learning rate: [1.0000000000000004e-08]\n"
          ]
        },
        {
          "output_type": "stream",
          "name": "stderr",
          "text": [
            " 96%|█████████▋| 578/600 [01:16<00:02,  7.39it/s]"
          ]
        },
        {
          "output_type": "stream",
          "name": "stdout",
          "text": [
            "----------------------------------------------------------------------------------\n",
            "Epoch: 576/600 | loss: 0.13 |  validation loss: 0.14 | learning rate: [1.0000000000000004e-08]\n",
            "----------------------------------------------------------------------------------\n",
            "Epoch: 577/600 | loss: 0.12 |  validation loss: 0.14 | learning rate: [1.0000000000000004e-08]\n"
          ]
        },
        {
          "output_type": "stream",
          "name": "stderr",
          "text": [
            " 97%|█████████▋| 580/600 [01:16<00:02,  7.65it/s]"
          ]
        },
        {
          "output_type": "stream",
          "name": "stdout",
          "text": [
            "----------------------------------------------------------------------------------\n",
            "Epoch: 578/600 | loss: 0.12 |  validation loss: 0.14 | learning rate: [1.0000000000000004e-08]\n",
            "----------------------------------------------------------------------------------\n",
            "Epoch: 579/600 | loss: 0.13 |  validation loss: 0.14 | learning rate: [1.0000000000000004e-08]\n"
          ]
        },
        {
          "output_type": "stream",
          "name": "stderr",
          "text": [
            " 97%|█████████▋| 582/600 [01:17<00:02,  7.80it/s]"
          ]
        },
        {
          "output_type": "stream",
          "name": "stdout",
          "text": [
            "----------------------------------------------------------------------------------\n",
            "Epoch: 580/600 | loss: 0.12 |  validation loss: 0.14 | learning rate: [1.0000000000000004e-08]\n",
            "----------------------------------------------------------------------------------\n",
            "Epoch: 581/600 | loss: 0.12 |  validation loss: 0.13 | learning rate: [1.0000000000000004e-08]\n"
          ]
        },
        {
          "output_type": "stream",
          "name": "stderr",
          "text": [
            " 97%|█████████▋| 584/600 [01:17<00:02,  7.72it/s]"
          ]
        },
        {
          "output_type": "stream",
          "name": "stdout",
          "text": [
            "----------------------------------------------------------------------------------\n",
            "Epoch: 582/600 | loss: 0.13 |  validation loss: 0.13 | learning rate: [1.0000000000000004e-08]\n",
            "----------------------------------------------------------------------------------\n",
            "Epoch: 583/600 | loss: 0.12 |  validation loss: 0.14 | learning rate: [1.0000000000000004e-08]\n"
          ]
        },
        {
          "output_type": "stream",
          "name": "stderr",
          "text": [
            " 98%|█████████▊| 586/600 [01:17<00:01,  7.12it/s]"
          ]
        },
        {
          "output_type": "stream",
          "name": "stdout",
          "text": [
            "----------------------------------------------------------------------------------\n",
            "Epoch: 584/600 | loss: 0.12 |  validation loss: 0.14 | learning rate: [1.0000000000000004e-08]\n",
            "----------------------------------------------------------------------------------\n",
            "Epoch: 585/600 | loss: 0.12 |  validation loss: 0.14 | learning rate: [1.0000000000000004e-08]\n"
          ]
        },
        {
          "output_type": "stream",
          "name": "stderr",
          "text": [
            " 98%|█████████▊| 588/600 [01:17<00:01,  6.86it/s]"
          ]
        },
        {
          "output_type": "stream",
          "name": "stdout",
          "text": [
            "----------------------------------------------------------------------------------\n",
            "Epoch: 586/600 | loss: 0.12 |  validation loss: 0.14 | learning rate: [1.0000000000000004e-08]\n",
            "----------------------------------------------------------------------------------\n",
            "Epoch: 587/600 | loss: 0.12 |  validation loss: 0.14 | learning rate: [1.0000000000000004e-08]\n"
          ]
        },
        {
          "output_type": "stream",
          "name": "stderr",
          "text": [
            " 98%|█████████▊| 590/600 [01:18<00:01,  7.27it/s]"
          ]
        },
        {
          "output_type": "stream",
          "name": "stdout",
          "text": [
            "----------------------------------------------------------------------------------\n",
            "Epoch: 588/600 | loss: 0.12 |  validation loss: 0.14 | learning rate: [1.0000000000000004e-08]\n",
            "----------------------------------------------------------------------------------\n",
            "Epoch: 589/600 | loss: 0.12 |  validation loss: 0.14 | learning rate: [1.0000000000000004e-08]\n"
          ]
        },
        {
          "output_type": "stream",
          "name": "stderr",
          "text": [
            " 99%|█████████▊| 592/600 [01:18<00:01,  7.48it/s]"
          ]
        },
        {
          "output_type": "stream",
          "name": "stdout",
          "text": [
            "----------------------------------------------------------------------------------\n",
            "Epoch: 590/600 | loss: 0.12 |  validation loss: 0.14 | learning rate: [1.0000000000000004e-08]\n",
            "----------------------------------------------------------------------------------\n",
            "Epoch: 591/600 | loss: 0.12 |  validation loss: 0.14 | learning rate: [1.0000000000000004e-08]\n"
          ]
        },
        {
          "output_type": "stream",
          "name": "stderr",
          "text": [
            " 99%|█████████▉| 594/600 [01:18<00:00,  7.32it/s]"
          ]
        },
        {
          "output_type": "stream",
          "name": "stdout",
          "text": [
            "----------------------------------------------------------------------------------\n",
            "Epoch: 592/600 | loss: 0.12 |  validation loss: 0.14 | learning rate: [1.0000000000000004e-08]\n",
            "----------------------------------------------------------------------------------\n",
            "Epoch: 593/600 | loss: 0.12 |  validation loss: 0.14 | learning rate: [1.0000000000000004e-08]\n"
          ]
        },
        {
          "output_type": "stream",
          "name": "stderr",
          "text": [
            " 99%|█████████▉| 596/600 [01:18<00:00,  7.47it/s]"
          ]
        },
        {
          "output_type": "stream",
          "name": "stdout",
          "text": [
            "----------------------------------------------------------------------------------\n",
            "Epoch: 594/600 | loss: 0.12 |  validation loss: 0.13 | learning rate: [1.0000000000000004e-08]\n",
            "----------------------------------------------------------------------------------\n",
            "Epoch: 595/600 | loss: 0.12 |  validation loss: 0.14 | learning rate: [1.0000000000000004e-08]\n"
          ]
        },
        {
          "output_type": "stream",
          "name": "stderr",
          "text": [
            "100%|█████████▉| 598/600 [01:19<00:00,  7.31it/s]"
          ]
        },
        {
          "output_type": "stream",
          "name": "stdout",
          "text": [
            "----------------------------------------------------------------------------------\n",
            "Epoch: 596/600 | loss: 0.12 |  validation loss: 0.13 | learning rate: [1.0000000000000004e-08]\n",
            "----------------------------------------------------------------------------------\n",
            "Epoch: 597/600 | loss: 0.12 |  validation loss: 0.14 | learning rate: [1.0000000000000004e-08]\n"
          ]
        },
        {
          "output_type": "stream",
          "name": "stderr",
          "text": [
            "100%|██████████| 600/600 [01:19<00:00,  7.55it/s]"
          ]
        },
        {
          "output_type": "stream",
          "name": "stdout",
          "text": [
            "----------------------------------------------------------------------------------\n",
            "Epoch: 598/600 | loss: 0.13 |  validation loss: 0.14 | learning rate: [1.0000000000000004e-08]\n",
            "----------------------------------------------------------------------------------\n",
            "Epoch: 599/600 | loss: 0.12 |  validation loss: 0.14 | learning rate: [1.0000000000000004e-08]\n",
            "------------------------------------------------------------------------------------\n",
            "Test Loss: 0.18\n",
            "------------------------------------------------------------------------------------\n",
            "Loss\n",
            " \n"
          ]
        },
        {
          "output_type": "stream",
          "name": "stderr",
          "text": [
            "\n"
          ]
        },
        {
          "output_type": "execute_result",
          "data": {
            "text/plain": [
              "<matplotlib.legend.Legend at 0x7860ed207340>"
            ]
          },
          "metadata": {},
          "execution_count": 26
        },
        {
          "output_type": "display_data",
          "data": {
            "text/plain": [
              "<Figure size 640x480 with 1 Axes>"
            ],
            "image/png": "[encoded data removed]"
          },
          "metadata": {}
        }
      ]
    },
    {
      "cell_type": "code",
      "source": [
        "import seaborn as sns\n",
        "import matplotlib.pyplot as plt\n",
        "sns.set_theme(style=\"dark\")\n",
        "\n",
        "fig, ax_  = plt.subplots(1,5,figsize=(25,5))\n",
        "\n",
        "# X_test = torch.tensor(X_test).to(float)\n",
        "# y_test = torch.tensor(y_test).to(float)\n",
        "\n",
        "y = feature_scaler.inverse_transform(y_test.detach().numpy())\n",
        "\n",
        "sns.scatterplot(x=y[:,0], y=y[:,1], s=5, color=\".15\", ax=ax_[0])\n",
        "# sns.histplot(x=y[:,0], y=y[:,1], bins=50, pthresh=.1, cmap=\"mako\", ax=ax_[0])\n",
        "sns.kdeplot(x=y[:,0], y=y[:,1], levels=5, color=\"w\", linewidths=1, ax=ax_[0])\n",
        "\n",
        "model = model.eval()\n",
        "\n",
        "y_est = model(abs(torch.fft.fft2(X_test)))\n",
        "y_est = y_est.detach().numpy()\n",
        "y_est = feature_scaler.inverse_transform(y_est)\n",
        "\n",
        "sns.scatterplot(x=y_est[:,0], y=y_est[:,1], s=5, color=\".15\", ax=ax_[1])\n",
        "# sns.histplot(x=y_est[:,0], y=y_est[:,1], bins=50, pthresh=.1, cmap=\"mako\", ax=ax_[1])\n",
        "sns.kdeplot(x=y_est[:,0], y=y_est[:,1], levels=5, color=\"w\", linewidths=1, ax=ax_[1])\n",
        "\n",
        "distance = feature_scaler.inverse_transform(y_test.detach().numpy())-y_est\n",
        "sns.scatterplot(x=distance[:,0], y=distance[:,1], s=5, color=\".15\", ax=ax_[2])\n",
        "# sns.histplot(x=distance[:,0], y=distance[:,1], bins=50, pthresh=.1, cmap=\"mako\", ax=ax_[2])\n",
        "sns.kdeplot(x=distance[:,0], y=distance[:,1], levels=5, color=\"w\", linewidths=1, ax=ax_[2])\n",
        "\n",
        "sns.kdeplot(x=y[:,0],ax=ax_[3],label=\"target_variance\")\n",
        "sns.kdeplot(x=y_est[:,0],ax=ax_[3],label=\"estimated_variance\")\n",
        "\n",
        "sns.kdeplot(x=y[:,1],ax=ax_[4],label=\"target_arousal\")\n",
        "sns.kdeplot(x=y_est[:,1],ax=ax_[4],label=\"estimated_arousal\")\n",
        "\n",
        "ax_[0].set_title(\"Distribution of Targets\")\n",
        "ax_[0].set_xlabel(\"Valence\")\n",
        "ax_[0].set_ylabel(\"Arousal\")\n",
        "\n",
        "ax_[1].set_title(\"Distribution of Target Estimates\")\n",
        "ax_[1].set_xlabel(\"Valence\")\n",
        "ax_[1].set_ylabel(\"Arousal\")\n",
        "\n",
        "ax_[2].set_title(\"Targets/Estimates Difference\")\n",
        "ax_[2].set_xlabel(\"Valence\")\n",
        "ax_[2].set_ylabel(\"Arousal\")\n",
        "\n",
        "ax_[3].set_xlabel(\"Valence\")\n",
        "ax_[3].set_title(\"Valence Distribution\")\n",
        "ax_[3].legend()\n",
        "ax_[3].grid()\n",
        "\n",
        "ax_[4].set_xlabel(\"Arousal\")\n",
        "ax_[4].set_title(\"Arousal Distribution\")\n",
        "ax_[4].legend()\n",
        "ax_[4].grid()\n",
        "\n",
        "fig.tight_layout()\n",
        "\n",
        "print(f\"R-squared: {r_squared(model(abs(torch.fft.fft2(X_test))),y_test):.2f}\")"
      ],
      "metadata": {
        "colab": {
          "base_uri": "https://localhost:8080/",
          "height": 320
        },
        "id": "6at_enZzbEnq",
        "outputId": "04c9bcf6-e589-42e6-9b34-d7124bfb106d"
      },
      "execution_count": 27,
      "outputs": [
        {
          "output_type": "stream",
          "name": "stdout",
          "text": [
            "R-squared: 0.40\n"
          ]
        },
        {
          "output_type": "display_data",
          "data": {
            "text/plain": [
              "<Figure size 2500x500 with 5 Axes>"
            ],
            "image/png": "[encoded data removed]"
          },
          "metadata": {}
        }
      ]
    },
    {
      "cell_type": "code",
      "source": [
        "y_est = model(abs(torch.fft.fft2(X_test))).detach().numpy()\n",
        "y_est = feature_scaler.inverse_transform(y_est)\n",
        "\n",
        "target = y_test.clone()\n",
        "target = target.detach().numpy()\n",
        "target = feature_scaler.inverse_transform(target)\n",
        "\n",
        "corr_ = np.empty((2,2))\n",
        "\n",
        "corr_[0,0] = np.corrcoef(\n",
        "    y_est[:,0],\n",
        "    target[:,0],\n",
        "    rowvar=False\n",
        ")[0,1]\n",
        "\n",
        "corr_[1,1] = np.corrcoef(\n",
        "    y_est[:,1],\n",
        "    target[:,1],\n",
        "    rowvar=False\n",
        ")[0,1]\n",
        "\n",
        "corr_[0,1] = np.corrcoef(\n",
        "    y_est[:,0],\n",
        "    target[:,1],\n",
        "    rowvar=False\n",
        ")[0,1]\n",
        "\n",
        "corr_[1,0] = np.corrcoef(\n",
        "    y_est[:,1],\n",
        "    target[:,0],\n",
        "    rowvar=False\n",
        ")[0,1]\n",
        "\n",
        "sns.heatmap(corr_,xticklabels=[\"target_variance\",\"target_arousal\"],yticklabels=[\"estimated_variance\",\"estimated_arousal\"],annot=True)\n",
        "plt.title(\"Correlation of targets and estimates\")"
      ],
      "metadata": {
        "colab": {
          "base_uri": "https://localhost:8080/",
          "height": 475
        },
        "id": "JsCFP6JjfCDj",
        "outputId": "b0ef003b-60f9-4032-c00a-b8fa0f63bf10"
      },
      "execution_count": 28,
      "outputs": [
        {
          "output_type": "execute_result",
          "data": {
            "text/plain": [
              "Text(0.5, 1.0, 'Correlation of targets and estimates')"
            ]
          },
          "metadata": {},
          "execution_count": 28
        },
        {
          "output_type": "display_data",
          "data": {
            "text/plain": [
              "<Figure size 640x480 with 2 Axes>"
            ],
            "image/png": "[encoded data removed]"
          },
          "metadata": {}
        }
      ]
    },
    {
      "cell_type": "code",
      "source": [
        "def checkpoint_model(model,name,test_performance):\n",
        "  model_ = {\n",
        "      \"model\":model,\n",
        "      \"model_weights\":model.state_dict(),\n",
        "      \"performance\":test_performance\n",
        "  }\n",
        "  joblib.dump(model_,name)"
      ],
      "metadata": {
        "id": "JBJ1mRfXmjgm"
      },
      "execution_count": 29,
      "outputs": []
    },
    {
      "cell_type": "code",
      "source": [
        "checkpoint_model(model=model,name=\"cnn_20.sav\",test_performance=\"0.14 Test SmoothL1 Loss\")"
      ],
      "metadata": {
        "id": "8TRvnbGyNGgh"
      },
      "execution_count": 30,
      "outputs": []
    },
    {
      "cell_type": "code",
      "source": [],
      "metadata": {
        "id": "J74Ibni-uhDX"
      },
      "execution_count": null,
      "outputs": []
    }
  ],
  "metadata": {
    "kernelspec": {
      "display_name": "Python 3",
      "name": "python3"
    },
    "language_info": {
      "codemirror_mode": {
        "name": "ipython",
        "version": 3
      },
      "file_extension": ".py",
      "mimetype": "text/x-python",
      "name": "python",
      "nbconvert_exporter": "python",
      "pygments_lexer": "ipython3",
      "version": "3.12.2"
    },
    "colab": {
      "provenance": [],
      "gpuType": "V28",
      "include_colab_link": true
    },
    "accelerator": "TPU"
  },
  "nbformat": 4,
  "nbformat_minor": 0
}