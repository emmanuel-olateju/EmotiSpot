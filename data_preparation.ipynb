{
  "cells": [
    {
      "cell_type": "markdown",
      "metadata": {
        "id": "view-in-github",
        "colab_type": "text"
      },
      "source": [
        "<a href=\"https://colab.research.google.com/github/emmanuel-olateju/EmotiSpot/blob/main/data_preparation.ipynb\" target=\"_parent\"><img src=\"https://colab.research.google.com/assets/colab-badge.svg\" alt=\"Open In Colab\"/></a>"
      ]
    },
    {
      "cell_type": "code",
      "execution_count": 1,
      "metadata": {
        "id": "YB63XS6935lG",
        "outputId": "f37fbd26-4bf2-4902-edde-ac0933c83e8b",
        "colab": {
          "base_uri": "https://localhost:8080/"
        }
      },
      "outputs": [
        {
          "output_type": "stream",
          "name": "stdout",
          "text": [
            "Dataset URL: https://www.kaggle.com/datasets/khan1803115/eeg-dataset-for-emotion-recognition\n",
            "License(s): Apache 2.0\n",
            "Downloading eeg-dataset-for-emotion-recognition.zip to /content\n",
            " 99% 180M/181M [00:10<00:00, 25.9MB/s]\n",
            "100% 181M/181M [00:10<00:00, 18.8MB/s]\n",
            "Archive:  eeg-dataset-for-emotion-recognition.zip\n",
            "  inflating: datasets/khan1803115/Data/S01G1AllChannels.csv  \n",
            "  inflating: datasets/khan1803115/Data/S01G2AllChannels.csv  \n",
            "  inflating: datasets/khan1803115/Data/S01G3AllChannels.csv  \n",
            "  inflating: datasets/khan1803115/Data/S01G4AllChannels.csv  \n",
            "  inflating: datasets/khan1803115/Data/S02G1AllChannels.csv  \n",
            "  inflating: datasets/khan1803115/Data/S02G2AllChannels.csv  \n",
            "  inflating: datasets/khan1803115/Data/S02G3AllChannels.csv  \n",
            "  inflating: datasets/khan1803115/Data/S02G4AllChannels.csv  \n",
            "  inflating: datasets/khan1803115/Data/S03G1AllChannels.csv  \n",
            "  inflating: datasets/khan1803115/Data/S03G2AllChannels.csv  \n",
            "  inflating: datasets/khan1803115/Data/S03G3AllChannels.csv  \n",
            "  inflating: datasets/khan1803115/Data/S03G4AllChannels.csv  \n",
            "  inflating: datasets/khan1803115/Data/S04G1AllChannels.csv  \n",
            "  inflating: datasets/khan1803115/Data/S04G2AllChannels.csv  \n",
            "  inflating: datasets/khan1803115/Data/S04G3AllChannels.csv  \n",
            "  inflating: datasets/khan1803115/Data/S04G4AllChannels.csv  \n",
            "  inflating: datasets/khan1803115/Data/S05G1AllChannels.csv  \n",
            "  inflating: datasets/khan1803115/Data/S05G2AllChannels.csv  \n",
            "  inflating: datasets/khan1803115/Data/S05G3AllChannels.csv  \n",
            "  inflating: datasets/khan1803115/Data/S05G4AllChannels.csv  \n",
            "  inflating: datasets/khan1803115/Data/S06G1AllChannels.csv  \n",
            "  inflating: datasets/khan1803115/Data/S06G2AllChannels.csv  \n",
            "  inflating: datasets/khan1803115/Data/S06G3AllChannels.csv  \n",
            "  inflating: datasets/khan1803115/Data/S06G4AllChannels.csv  \n",
            "  inflating: datasets/khan1803115/Data/S07G1AllChannels.csv  \n",
            "  inflating: datasets/khan1803115/Data/S07G2AllChannels.csv  \n",
            "  inflating: datasets/khan1803115/Data/S07G3AllChannels.csv  \n",
            "  inflating: datasets/khan1803115/Data/S07G4AllChannels.csv  \n",
            "  inflating: datasets/khan1803115/Data/S08G1AllChannels.csv  \n",
            "  inflating: datasets/khan1803115/Data/S08G2AllChannels.csv  \n",
            "  inflating: datasets/khan1803115/Data/S08G3AllChannels.csv  \n",
            "  inflating: datasets/khan1803115/Data/S08G4AllChannels.csv  \n",
            "  inflating: datasets/khan1803115/Data/S09G1AllChannels.csv  \n",
            "  inflating: datasets/khan1803115/Data/S09G2AllChannels.csv  \n",
            "  inflating: datasets/khan1803115/Data/S09G3AllChannels.csv  \n",
            "  inflating: datasets/khan1803115/Data/S09G4AllChannels.csv  \n",
            "  inflating: datasets/khan1803115/Data/S10G1AllChannels.csv  \n",
            "  inflating: datasets/khan1803115/Data/S10G2AllChannels.csv  \n",
            "  inflating: datasets/khan1803115/Data/S10G3AllChannels.csv  \n",
            "  inflating: datasets/khan1803115/Data/S10G4AllChannels.csv  \n",
            "  inflating: datasets/khan1803115/Data/S11G1AllChannels.csv  \n",
            "  inflating: datasets/khan1803115/Data/S11G2AllChannels.csv  \n",
            "  inflating: datasets/khan1803115/Data/S11G3AllChannels.csv  \n",
            "  inflating: datasets/khan1803115/Data/S11G4AllChannels.csv  \n",
            "  inflating: datasets/khan1803115/Data/S12G1AllChannels.csv  \n",
            "  inflating: datasets/khan1803115/Data/S12G2AllChannels.csv  \n",
            "  inflating: datasets/khan1803115/Data/S12G3AllChannels.csv  \n",
            "  inflating: datasets/khan1803115/Data/S12G4AllChannels.csv  \n",
            "  inflating: datasets/khan1803115/Data/S13G1AllChannels.csv  \n",
            "  inflating: datasets/khan1803115/Data/S13G2AllChannels.csv  \n",
            "  inflating: datasets/khan1803115/Data/S13G3AllChannels.csv  \n",
            "  inflating: datasets/khan1803115/Data/S13G4AllChannels.csv  \n",
            "  inflating: datasets/khan1803115/Data/S14G1AllChannels.csv  \n",
            "  inflating: datasets/khan1803115/Data/S14G2AllChannels.csv  \n",
            "  inflating: datasets/khan1803115/Data/S14G3AllChannels.csv  \n",
            "  inflating: datasets/khan1803115/Data/S14G4AllChannels.csv  \n",
            "  inflating: datasets/khan1803115/Data/S15G1AllChannels.csv  \n",
            "  inflating: datasets/khan1803115/Data/S15G2AllChannels.csv  \n",
            "  inflating: datasets/khan1803115/Data/S15G3AllChannels.csv  \n",
            "  inflating: datasets/khan1803115/Data/S15G4AllChannels.csv  \n",
            "  inflating: datasets/khan1803115/Data/S16G1AllChannels.csv  \n",
            "  inflating: datasets/khan1803115/Data/S16G2AllChannels.csv  \n",
            "  inflating: datasets/khan1803115/Data/S16G3AllChannels.csv  \n",
            "  inflating: datasets/khan1803115/Data/S16G4AllChannels.csv  \n",
            "  inflating: datasets/khan1803115/Data/S17G1AllChannels.csv  \n",
            "  inflating: datasets/khan1803115/Data/S17G2AllChannels.csv  \n",
            "  inflating: datasets/khan1803115/Data/S17G3AllChannels.csv  \n",
            "  inflating: datasets/khan1803115/Data/S17G4AllChannels.csv  \n",
            "  inflating: datasets/khan1803115/Data/S18G1AllChannels.csv  \n",
            "  inflating: datasets/khan1803115/Data/S18G2AllChannels.csv  \n",
            "  inflating: datasets/khan1803115/Data/S18G3AllChannels.csv  \n",
            "  inflating: datasets/khan1803115/Data/S18G4AllChannels.csv  \n",
            "  inflating: datasets/khan1803115/Data/S19G1AllChannels.csv  \n",
            "  inflating: datasets/khan1803115/Data/S19G2AllChannels.csv  \n",
            "  inflating: datasets/khan1803115/Data/S19G3AllChannels.csv  \n",
            "  inflating: datasets/khan1803115/Data/S19G4AllChannels.csv  \n",
            "  inflating: datasets/khan1803115/Data/S20G1AllChannels.csv  \n",
            "  inflating: datasets/khan1803115/Data/S20G2AllChannels.csv  \n",
            "  inflating: datasets/khan1803115/Data/S20G3AllChannels.csv  \n",
            "  inflating: datasets/khan1803115/Data/S20G4AllChannels.csv  \n",
            "  inflating: datasets/khan1803115/Data/S21G1AllChannels.csv  \n",
            "  inflating: datasets/khan1803115/Data/S21G2AllChannels.csv  \n",
            "  inflating: datasets/khan1803115/Data/S21G3AllChannels.csv  \n",
            "  inflating: datasets/khan1803115/Data/S21G4AllChannels.csv  \n",
            "  inflating: datasets/khan1803115/Data/S22G1AllChannels.csv  \n",
            "  inflating: datasets/khan1803115/Data/S22G2AllChannels.csv  \n",
            "  inflating: datasets/khan1803115/Data/S22G3AllChannels.csv  \n",
            "  inflating: datasets/khan1803115/Data/S22G4AllChannels.csv  \n",
            "  inflating: datasets/khan1803115/Data/S23G1AllChannels.csv  \n",
            "  inflating: datasets/khan1803115/Data/S23G2AllChannels.csv  \n",
            "  inflating: datasets/khan1803115/Data/S23G3AllChannels.csv  \n",
            "  inflating: datasets/khan1803115/Data/S23G4AllChannels.csv  \n",
            "  inflating: datasets/khan1803115/Data/S24G1AllChannels.csv  \n",
            "  inflating: datasets/khan1803115/Data/S24G2AllChannels.csv  \n",
            "  inflating: datasets/khan1803115/Data/S24G3AllChannels.csv  \n",
            "  inflating: datasets/khan1803115/Data/S24G4AllChannels.csv  \n",
            "  inflating: datasets/khan1803115/Data/S25G1AllChannels.csv  \n",
            "  inflating: datasets/khan1803115/Data/S25G2AllChannels.csv  \n",
            "  inflating: datasets/khan1803115/Data/S25G3AllChannels.csv  \n",
            "  inflating: datasets/khan1803115/Data/S25G4AllChannels.csv  \n",
            "  inflating: datasets/khan1803115/arousal_normalize.csv  \n",
            "  inflating: datasets/khan1803115/valence_normalize.csv  \n"
          ]
        }
      ],
      "source": [
        "!kaggle datasets download -d khan1803115/eeg-dataset-for-emotion-recognition\n",
        "!mkdir -p datasets/khan1803115\n",
        "!unzip eeg-dataset-for-emotion-recognition.zip -d datasets/khan1803115/\n",
        "!rm eeg-dataset-for-emotion-recognition.zip"
      ]
    },
    {
      "cell_type": "code",
      "execution_count": 2,
      "metadata": {
        "id": "ZTyKZUes35lK",
        "outputId": "7b4c35f3-8399-4ce5-d6d6-cc33cd8ace4b",
        "colab": {
          "base_uri": "https://localhost:8080/"
        }
      },
      "outputs": [
        {
          "output_type": "stream",
          "name": "stdout",
          "text": [
            "Collecting mne\n",
            "  Downloading mne-1.7.0-py3-none-any.whl (7.4 MB)\n",
            "\u001b[2K     \u001b[90m━━━━━━━━━━━━━━━━━━━━━━━━━━━━━━━━━━━━━━━━\u001b[0m \u001b[32m7.4/7.4 MB\u001b[0m \u001b[31m17.5 MB/s\u001b[0m eta \u001b[36m0:00:00\u001b[0m\n",
            "\u001b[?25hRequirement already satisfied: decorator in /usr/local/lib/python3.10/dist-packages (from mne) (4.4.2)\n",
            "Requirement already satisfied: jinja2 in /usr/local/lib/python3.10/dist-packages (from mne) (3.1.3)\n",
            "Requirement already satisfied: lazy-loader>=0.3 in /usr/local/lib/python3.10/dist-packages (from mne) (0.4)\n",
            "Requirement already satisfied: matplotlib>=3.5.0 in /usr/local/lib/python3.10/dist-packages (from mne) (3.7.1)\n",
            "Requirement already satisfied: numpy>=1.21.2 in /usr/local/lib/python3.10/dist-packages (from mne) (1.25.2)\n",
            "Requirement already satisfied: packaging in /usr/local/lib/python3.10/dist-packages (from mne) (24.0)\n",
            "Requirement already satisfied: pooch>=1.5 in /usr/local/lib/python3.10/dist-packages (from mne) (1.8.1)\n",
            "Requirement already satisfied: scipy>=1.7.1 in /usr/local/lib/python3.10/dist-packages (from mne) (1.11.4)\n",
            "Requirement already satisfied: tqdm in /usr/local/lib/python3.10/dist-packages (from mne) (4.66.4)\n",
            "Requirement already satisfied: contourpy>=1.0.1 in /usr/local/lib/python3.10/dist-packages (from matplotlib>=3.5.0->mne) (1.2.1)\n",
            "Requirement already satisfied: cycler>=0.10 in /usr/local/lib/python3.10/dist-packages (from matplotlib>=3.5.0->mne) (0.12.1)\n",
            "Requirement already satisfied: fonttools>=4.22.0 in /usr/local/lib/python3.10/dist-packages (from matplotlib>=3.5.0->mne) (4.51.0)\n",
            "Requirement already satisfied: kiwisolver>=1.0.1 in /usr/local/lib/python3.10/dist-packages (from matplotlib>=3.5.0->mne) (1.4.5)\n",
            "Requirement already satisfied: pillow>=6.2.0 in /usr/local/lib/python3.10/dist-packages (from matplotlib>=3.5.0->mne) (9.4.0)\n",
            "Requirement already satisfied: pyparsing>=2.3.1 in /usr/local/lib/python3.10/dist-packages (from matplotlib>=3.5.0->mne) (3.1.2)\n",
            "Requirement already satisfied: python-dateutil>=2.7 in /usr/local/lib/python3.10/dist-packages (from matplotlib>=3.5.0->mne) (2.8.2)\n",
            "Requirement already satisfied: platformdirs>=2.5.0 in /usr/local/lib/python3.10/dist-packages (from pooch>=1.5->mne) (4.2.1)\n",
            "Requirement already satisfied: requests>=2.19.0 in /usr/local/lib/python3.10/dist-packages (from pooch>=1.5->mne) (2.31.0)\n",
            "Requirement already satisfied: MarkupSafe>=2.0 in /usr/local/lib/python3.10/dist-packages (from jinja2->mne) (2.1.5)\n",
            "Requirement already satisfied: six>=1.5 in /usr/local/lib/python3.10/dist-packages (from python-dateutil>=2.7->matplotlib>=3.5.0->mne) (1.16.0)\n",
            "Requirement already satisfied: charset-normalizer<4,>=2 in /usr/local/lib/python3.10/dist-packages (from requests>=2.19.0->pooch>=1.5->mne) (3.3.2)\n",
            "Requirement already satisfied: idna<4,>=2.5 in /usr/local/lib/python3.10/dist-packages (from requests>=2.19.0->pooch>=1.5->mne) (3.7)\n",
            "Requirement already satisfied: urllib3<3,>=1.21.1 in /usr/local/lib/python3.10/dist-packages (from requests>=2.19.0->pooch>=1.5->mne) (2.0.7)\n",
            "Requirement already satisfied: certifi>=2017.4.17 in /usr/local/lib/python3.10/dist-packages (from requests>=2.19.0->pooch>=1.5->mne) (2024.2.2)\n",
            "Installing collected packages: mne\n",
            "Successfully installed mne-1.7.0\n"
          ]
        }
      ],
      "source": [
        "import os\n",
        "\n",
        "import numpy as np\n",
        "import pandas as pd\n",
        "!pip install mne\n",
        "import mne"
      ]
    },
    {
      "cell_type": "code",
      "source": [
        "import joblib\n",
        "# from google.colab import files\n",
        "\n",
        "def save_artifact(artifact,name):\n",
        "  joblib.dump(artifact,name)\n",
        "  # files.download(name)\n"
      ],
      "metadata": {
        "id": "Kt_3rd-gDRmC"
      },
      "execution_count": 3,
      "outputs": []
    },
    {
      "cell_type": "markdown",
      "source": [
        "## Data Loading"
      ],
      "metadata": {
        "id": "NVDn5pxR7c8F"
      }
    },
    {
      "cell_type": "code",
      "execution_count": 4,
      "metadata": {
        "id": "rFeHh7wM35lN"
      },
      "outputs": [],
      "source": [
        "khan_dataset_dir = \"datasets/khan1803115/\"\n",
        "valence = pd.read_csv(khan_dataset_dir+\"valence_normalize.csv\")\n",
        "arousal = pd.read_csv(khan_dataset_dir+\"arousal_normalize.csv\")\n",
        "data = [pd.read_csv(khan_dataset_dir+\"Data/\"+file) for file in os.listdir(khan_dataset_dir+\"Data/\")]\n",
        "\n",
        "channels = data[0].columns[:-2]\n",
        "label_columns = data[0].columns[-2:]\n",
        "fs = 128"
      ]
    },
    {
      "cell_type": "code",
      "execution_count": 5,
      "metadata": {
        "id": "bVcaE36a35lP",
        "outputId": "fbef607c-d42a-4a48-aae9-4f2b5cf482f9",
        "colab": {
          "base_uri": "https://localhost:8080/"
        }
      },
      "outputs": [
        {
          "output_type": "execute_result",
          "data": {
            "text/plain": [
              "((100, 38000, 14), (100, 2))"
            ]
          },
          "metadata": {},
          "execution_count": 5
        }
      ],
      "source": [
        "eeg_data = np.array([data_[channels][:38000] for data_ in data])\n",
        "valence_arousal_values = np.array([data_[label_columns].mean() for data_ in data])\n",
        "eeg_data.shape, valence_arousal_values.shape"
      ]
    },
    {
      "cell_type": "code",
      "execution_count": 6,
      "metadata": {
        "id": "q0bTIYbe35lU",
        "outputId": "877121c7-dddc-428a-dc4e-a1d431255629",
        "colab": {
          "base_uri": "https://localhost:8080/"
        }
      },
      "outputs": [
        {
          "output_type": "execute_result",
          "data": {
            "text/plain": [
              "(100, 34, 1280, 14)"
            ]
          },
          "metadata": {},
          "execution_count": 6
        }
      ],
      "source": [
        "# Make use of 1250 samples for an epoch with 500 samples overlapping between succesive epochs\n",
        "epoch_starting_points = np.arange(0,38252,1280-256)[:-4]\n",
        "\n",
        "eeg_epochs = []\n",
        "\n",
        "for i in range(len(data)):\n",
        "    epochs = []\n",
        "    for epoch_starting_point in epoch_starting_points:\n",
        "        epochs.append(eeg_data[i,epoch_starting_point:epoch_starting_point+1280,:])\n",
        "\n",
        "    eeg_epochs.append(epochs)\n",
        "\n",
        "eeg_epochs = np.array(eeg_epochs)\n",
        "\n",
        "eeg_epochs.shape"
      ]
    },
    {
      "cell_type": "code",
      "execution_count": 7,
      "metadata": {
        "id": "v-udIKHt35lZ",
        "outputId": "82b324b4-e265-4c0b-ab29-a3fa030923c6",
        "colab": {
          "base_uri": "https://localhost:8080/"
        }
      },
      "outputs": [
        {
          "output_type": "execute_result",
          "data": {
            "text/plain": [
              "(100, 34, 2)"
            ]
          },
          "metadata": {},
          "execution_count": 7
        }
      ],
      "source": [
        "epoch_targets = []\n",
        "\n",
        "for i in range(len(data)):\n",
        "  targets = [valence_arousal_values[i]]*34\n",
        "  epoch_targets.append(targets)\n",
        "\n",
        "epoch_targets = np.array(epoch_targets)\n",
        "\n",
        "epoch_targets.shape"
      ]
    },
    {
      "cell_type": "code",
      "source": [
        "eeg_epochs = eeg_epochs.reshape(3400,1280,14)\n",
        "epoch_targets = epoch_targets.reshape(3400,2)\n",
        "\n",
        "eeg_epochs.shape, epoch_targets.shape"
      ],
      "metadata": {
        "id": "Er9vFgVY5RjF",
        "outputId": "71435fa5-4b43-4039-9cf4-949170db8fb3",
        "colab": {
          "base_uri": "https://localhost:8080/"
        }
      },
      "execution_count": 8,
      "outputs": [
        {
          "output_type": "execute_result",
          "data": {
            "text/plain": [
              "((3400, 1280, 14), (3400, 2))"
            ]
          },
          "metadata": {},
          "execution_count": 8
        }
      ]
    },
    {
      "cell_type": "code",
      "source": [
        "# save_artifact(eeg_epochs,\"EEG_DATA.np\")"
      ],
      "metadata": {
        "id": "VnZaV41EEGxa"
      },
      "execution_count": 9,
      "outputs": []
    },
    {
      "cell_type": "markdown",
      "source": [
        "## Preprocessing"
      ],
      "metadata": {
        "id": "2uNF-ipu7fDe"
      }
    },
    {
      "cell_type": "code",
      "source": [
        "lowcut = 1\n",
        "highcut = 45\n",
        "\n",
        "filtered_eeg_epochs = np.empty((3400,1280,14))\n",
        "\n",
        "for e,epoch in enumerate(eeg_epochs):\n",
        "  filtered = mne.filter.filter_data(epoch.T,fs,lowcut,highcut,verbose=0)\n",
        "  filtered_eeg_epochs[e,:,:] = filtered.T\n",
        "\n",
        "filtered_eeg_epochs.shape"
      ],
      "metadata": {
        "colab": {
          "base_uri": "https://localhost:8080/"
        },
        "id": "O-Fq5rX4Fgc3",
        "outputId": "e22d5466-f9a9-4af2-ac5f-9a02e33a753c"
      },
      "execution_count": 10,
      "outputs": [
        {
          "output_type": "execute_result",
          "data": {
            "text/plain": [
              "(3400, 1280, 14)"
            ]
          },
          "metadata": {},
          "execution_count": 10
        }
      ]
    },
    {
      "cell_type": "code",
      "source": [
        "# save_artifact(filtered_eeg_epochs,\"FILTERED_EEG_DATA.np\")\n",
        "# save_artifact(epoch_targets,\"EEG_VALENCE_AROUSAL_TARGETS.np\")"
      ],
      "metadata": {
        "id": "yPvHZDko9Fvu"
      },
      "execution_count": 11,
      "outputs": []
    },
    {
      "cell_type": "markdown",
      "source": [
        "## Make Dataloader"
      ],
      "metadata": {
        "id": "d0Wf8qxQIg8b"
      }
    },
    {
      "cell_type": "code",
      "source": [
        "import random\n",
        "\n",
        "import torch\n",
        "import torch.nn as nn\n",
        "import torch.functional as F\n",
        "import torch.optim as optim\n",
        "\n",
        "# Set the device\n",
        "device_ = \"cuda\" if torch.cuda.is_available() else \"cpu\"\n",
        "print(f\"Current Device: {device_}\")\n",
        "\n",
        "# Set the device globally\n",
        "torch.set_default_device(device_)\n",
        "\n",
        "random.seed(120)\n",
        "torch.manual_seed(120)"
      ],
      "metadata": {
        "id": "J1Vlknr0sikG",
        "outputId": "d5bd5615-d300-4a0d-b8eb-453d58943680",
        "colab": {
          "base_uri": "https://localhost:8080/"
        }
      },
      "execution_count": 12,
      "outputs": [
        {
          "output_type": "stream",
          "name": "stdout",
          "text": [
            "Current Device: cpu\n"
          ]
        },
        {
          "output_type": "execute_result",
          "data": {
            "text/plain": [
              "<torch._C.Generator at 0x7dac53302170>"
            ]
          },
          "metadata": {},
          "execution_count": 12
        }
      ]
    },
    {
      "cell_type": "code",
      "source": [
        "from torch.utils.data import Dataset, DataLoader\n",
        "\n",
        "class CustomDataset(Dataset):\n",
        "\n",
        "  def __init__(self, features, targets, transform=None, device__=\"cpu\"):\n",
        "    self.features = torch.tensor(features,device=device__)\n",
        "    self.targets = torch.tensor(targets,device=device__)\n",
        "    self.transform = transform\n",
        "\n",
        "  def __len__(self):\n",
        "    return len(self.features)\n",
        "\n",
        "  def __getitem__(self,idx):\n",
        "    feature = self.features[idx]\n",
        "    target = self.targets[idx]\n",
        "    if self.transform:\n",
        "      feature = self.transform(feature)\n",
        "    return feature, target"
      ],
      "metadata": {
        "id": "1M9BZsPpIgSa"
      },
      "execution_count": 68,
      "outputs": []
    },
    {
      "cell_type": "code",
      "source": [
        "from sklearn.model_selection import train_test_split\n",
        "from sklearn.preprocessing import MinMaxScaler\n",
        "\n",
        "\n",
        "X, y = filtered_eeg_epochs, epoch_targets\n",
        "\n",
        "X_train, X_, y_train, y_ = train_test_split(X, y, test_size=0.40, random_state=100)\n",
        "X_test, X_val, y_test, y_val = train_test_split(X_, y_, test_size=0.5, random_state=100)\n",
        "\n",
        "for i in range(len(X_train)):\n",
        "  scaler = MinMaxScaler()\n",
        "  X_train[i,::] = scaler.fit_transform(X_train[i,::])\n",
        "\n",
        "for i in range(len(X_test)):\n",
        "  scaler = MinMaxScaler()\n",
        "  X_test[i,::] = scaler.fit_transform(X_test[i,::])\n",
        "\n",
        "for i in range(len(X_val)):\n",
        "  scaler = MinMaxScaler()\n",
        "  X_val[i,::] = scaler.fit_transform(X_val[i,::])\n",
        "\n",
        "\n",
        "print(f\" Train Size :({X_train.shape}, {y_train.shape}) | Test Size : ({X_test.shape}, {y_test.shape}) | Validation Size: ({X_val.shape}, {y_val.shape})\")\n",
        "\n",
        "train_batch_size = 250\n",
        "shuffle_ = True\n",
        "num_workers_ = 5\n",
        "\n",
        "# Make Train Dataloader\n",
        "train_dataset = CustomDataset(X_train.astype(float),y_train.astype(float),device__=device_)\n",
        "train_dataloader = DataLoader(train_dataset, batch_size=train_batch_size, shuffle=shuffle_, num_workers=num_workers_, generator=torch.Generator(device=device_))\n",
        "\n",
        "# Make Validation Dataloader\n",
        "val_batch_size = 5\n",
        "val_dataset = CustomDataset(X_val.astype(float),y_val.astype(float),device__=device_)\n",
        "val_dataloader = DataLoader(val_dataset, batch_size=val_batch_size, shuffle=shuffle_, num_workers=num_workers_, generator=torch.Generator(device=device_))\n",
        "\n",
        "X_test = torch.tensor(X_test).to(torch.float)\n",
        "y_test = torch.tensor(y_test).to(torch.float)"
      ],
      "metadata": {
        "colab": {
          "base_uri": "https://localhost:8080/"
        },
        "id": "BsE4BGFMO9gM",
        "outputId": "a5a1e98a-78ea-4de2-8c61-fadedf4812ef"
      },
      "execution_count": 80,
      "outputs": [
        {
          "output_type": "stream",
          "name": "stdout",
          "text": [
            " Train Size :((2040, 1280, 14), (2040, 2)) | Test Size : ((680, 1280, 14), (680, 2)) | Validation Size: ((680, 1280, 14), (680, 2))\n"
          ]
        },
        {
          "output_type": "stream",
          "name": "stderr",
          "text": [
            "/usr/local/lib/python3.10/dist-packages/torch/utils/data/dataloader.py:558: UserWarning: This DataLoader will create 5 worker processes in total. Our suggested max number of worker in current system is 2, which is smaller than what this DataLoader is going to create. Please be aware that excessive worker creation might get DataLoader running slow or even freeze, lower the worker number to avoid potential slowness/freeze if necessary.\n",
            "  warnings.warn(_create_warning_msg(\n"
          ]
        }
      ]
    },
    {
      "cell_type": "markdown",
      "source": [
        "## Modelling"
      ],
      "metadata": {
        "id": "441UMr7QGgAQ"
      }
    },
    {
      "cell_type": "code",
      "source": [
        "class mlp(nn.Module):\n",
        "\n",
        "  def __init__(self):\n",
        "    super(mlp,self).__init__()\n",
        "\n",
        "    self.fc1 = nn.Sequential(\n",
        "        nn.Dropout(0.5),\n",
        "        nn.Linear(1280*14,1000),\n",
        "        nn.Sigmoid(),\n",
        "        nn.Dropout(0.5),\n",
        "        nn.Linear(1000,1000),\n",
        "        nn.Sigmoid(),\n",
        "        nn.Linear(1000,100),\n",
        "        nn.Sigmoid(),\n",
        "        nn.Linear(100,2),\n",
        "        nn.Sigmoid(),\n",
        "        nn.Linear(2,2),\n",
        "        nn.ReLU()\n",
        "    )\n",
        "\n",
        "\n",
        "  def forward(self,x):\n",
        "\n",
        "    x = x.view(x.size()[0],-1)\n",
        "    x = self.fc1(x.to(torch.float32))\n",
        "\n",
        "    return x\n",
        "\n",
        "class cnn(nn.Module):\n",
        "\n",
        "  def __init__(self):\n",
        "    super(cnn,self).__init__()\n",
        "\n",
        "    self.conv = nn.Sequential(\n",
        "      # nn.Dropout(0.05),\n",
        "      nn.Conv1d(14,7,kernel_size=128,stride=16,padding=0), # OUTPUT: C=7, L=73\n",
        "      nn.ReLU(),\n",
        "      nn.MaxPool1d(kernel_size=3,stride=1), # OUTPUT: C=7, L=73\n",
        "      # nn.Dropout(0.05),\n",
        "      nn.Conv1d(7,2,kernel_size=8,stride=1,padding=0), #OUTPUT: C=2, L=66\n",
        "      nn.ReLU(),\n",
        "      nn.MaxPool1d(kernel_size=3,stride=1), # OUTPUT: C=2, L=66\n",
        "    )\n",
        "\n",
        "    self.fc = nn.Sequential(\n",
        "        nn.Linear(2*62,1*24),\n",
        "        nn.ReLU(),\n",
        "        nn.Linear(1*24,1*2),\n",
        "        nn.ReLU()\n",
        "    )\n",
        "\n",
        "  def forward(self,x):\n",
        "\n",
        "    x = torch.transpose(x,1,2)\n",
        "    x = self.conv(x)\n",
        "    x = x.view(x.size()[0],-1)\n",
        "    x = self.fc(x)\n",
        "\n",
        "    return x\n"
      ],
      "metadata": {
        "id": "2NtjORCgH0-A"
      },
      "execution_count": 81,
      "outputs": []
    },
    {
      "cell_type": "code",
      "source": [
        "history = {\n",
        "    \"loss\":[],\n",
        "    \"val_loss\":[]\n",
        "}\n",
        "\n",
        "model = cnn()\n",
        "\n",
        "epochs = 100\n",
        "lr_ = 0.001\n",
        "\n",
        "optimizer = optim.SGD(model.parameters(),lr=lr_)\n",
        "loss_fn = nn.MSELoss()\n",
        "\n",
        "train_loss, val_loss = [], []\n",
        "\n",
        "for e in range(epochs):\n",
        "\n",
        "  running_loss = 0.0\n",
        "  val_running_loss = 0.0\n",
        "\n",
        "  for batch, (x_,y_) in enumerate(train_dataloader):\n",
        "\n",
        "    x_ = x_.to(torch.float)\n",
        "    y_ = y_.to(torch.float)\n",
        "\n",
        "    model =model.train()\n",
        "\n",
        "    optimizer.zero_grad()\n",
        "\n",
        "    y_est = model(x_)\n",
        "    y_est = y_est.requires_grad_(True)\n",
        "\n",
        "    loss = loss_fn(y_est,y_)\n",
        "\n",
        "    loss.backward()\n",
        "    optimizer.step()\n",
        "\n",
        "  running_loss += loss.item()\n",
        "  history[\"loss\"].append(running_loss)\n",
        "\n",
        "  x_val, y_val = val_dataset[:]\n",
        "  x_val = x_val.to(torch.float)\n",
        "  y_val = y_val.to(torch.float)\n",
        "\n",
        "  model = model.eval()\n",
        "\n",
        "  y_est = model(x_val)\n",
        "\n",
        "  loss = loss_fn(y_est,y_val)\n",
        "  val_running_loss = loss.item()\n",
        "  history[\"val_loss\"].append(val_running_loss)\n",
        "\n",
        "  print(\"----------------------------------------------------------------------------------\")\n",
        "  print(f\"Epoch: {e}/{epochs} | loss: {running_loss:.2f} |  validation loss: {val_running_loss:.2f}\")\n",
        "\n",
        "model = model.eval()\n",
        "\n",
        "y_ = model(X_test)\n",
        "y_test = y_test.requires_grad_(True)\n",
        "\n",
        "loss = loss_fn(y_test,y_)\n",
        "print(\"------------------------------------------------------------------------------------\")\n",
        "print(f\"Test Loss: {loss.item():.2f}\")\n",
        "print(\"------------------------------------------------------------------------------------\")\n",
        "\n",
        "print(\"Loss\")\n",
        "print(\" \")\n",
        "import matplotlib.pyplot as plt\n",
        "\n",
        "plt.plot(history[\"loss\"],label=\"loss\")\n",
        "plt.plot(history[\"val_loss\"],label=\"val_loss\")\n",
        "\n",
        "plt.title(f\"Test Loss: {loss.item():.2f}\")\n",
        "\n",
        "plt.grid()\n",
        "plt.legend()\n",
        "\n"
      ],
      "metadata": {
        "id": "ZLgY1HVJIabc",
        "outputId": "fe72038a-ac0b-4292-a7a1-bd543bbce3e0",
        "colab": {
          "base_uri": "https://localhost:8080/",
          "height": 1000
        }
      },
      "execution_count": 82,
      "outputs": [
        {
          "output_type": "stream",
          "name": "stderr",
          "text": [
            "/usr/lib/python3.10/multiprocessing/popen_fork.py:66: RuntimeWarning: os.fork() was called. os.fork() is incompatible with multithreaded code, and JAX is multithreaded, so this will likely lead to a deadlock.\n",
            "  self.pid = os.fork()\n"
          ]
        },
        {
          "output_type": "stream",
          "name": "stdout",
          "text": [
            "----------------------------------------------------------------------------------\n",
            "Epoch: 0/100 | loss: 8.96 |  validation loss: 9.11\n",
            "----------------------------------------------------------------------------------\n",
            "Epoch: 1/100 | loss: 7.38 |  validation loss: 5.10\n",
            "----------------------------------------------------------------------------------\n",
            "Epoch: 2/100 | loss: 1.09 |  validation loss: 1.44\n",
            "----------------------------------------------------------------------------------\n",
            "Epoch: 3/100 | loss: 1.29 |  validation loss: 1.45\n",
            "----------------------------------------------------------------------------------\n",
            "Epoch: 4/100 | loss: 1.05 |  validation loss: 1.45\n",
            "----------------------------------------------------------------------------------\n",
            "Epoch: 5/100 | loss: 1.44 |  validation loss: 1.45\n",
            "----------------------------------------------------------------------------------\n",
            "Epoch: 6/100 | loss: 1.58 |  validation loss: 1.47\n",
            "----------------------------------------------------------------------------------\n",
            "Epoch: 7/100 | loss: 1.38 |  validation loss: 1.44\n",
            "----------------------------------------------------------------------------------\n",
            "Epoch: 8/100 | loss: 1.24 |  validation loss: 1.45\n",
            "----------------------------------------------------------------------------------\n",
            "Epoch: 9/100 | loss: 1.25 |  validation loss: 1.44\n",
            "----------------------------------------------------------------------------------\n",
            "Epoch: 10/100 | loss: 1.73 |  validation loss: 1.46\n",
            "----------------------------------------------------------------------------------\n",
            "Epoch: 11/100 | loss: 1.36 |  validation loss: 1.45\n",
            "----------------------------------------------------------------------------------\n",
            "Epoch: 12/100 | loss: 1.21 |  validation loss: 1.44\n",
            "----------------------------------------------------------------------------------\n",
            "Epoch: 13/100 | loss: 1.83 |  validation loss: 1.46\n",
            "----------------------------------------------------------------------------------\n",
            "Epoch: 14/100 | loss: 1.54 |  validation loss: 1.45\n",
            "----------------------------------------------------------------------------------\n",
            "Epoch: 15/100 | loss: 1.60 |  validation loss: 1.44\n",
            "----------------------------------------------------------------------------------\n",
            "Epoch: 16/100 | loss: 1.68 |  validation loss: 1.45\n",
            "----------------------------------------------------------------------------------\n",
            "Epoch: 17/100 | loss: 1.32 |  validation loss: 1.45\n",
            "----------------------------------------------------------------------------------\n",
            "Epoch: 18/100 | loss: 1.47 |  validation loss: 1.47\n",
            "----------------------------------------------------------------------------------\n",
            "Epoch: 19/100 | loss: 1.19 |  validation loss: 1.44\n",
            "----------------------------------------------------------------------------------\n",
            "Epoch: 20/100 | loss: 1.64 |  validation loss: 1.44\n",
            "----------------------------------------------------------------------------------\n",
            "Epoch: 21/100 | loss: 1.77 |  validation loss: 1.44\n",
            "----------------------------------------------------------------------------------\n",
            "Epoch: 22/100 | loss: 1.18 |  validation loss: 1.49\n",
            "----------------------------------------------------------------------------------\n",
            "Epoch: 23/100 | loss: 1.44 |  validation loss: 1.47\n",
            "----------------------------------------------------------------------------------\n",
            "Epoch: 24/100 | loss: 1.25 |  validation loss: 1.44\n",
            "----------------------------------------------------------------------------------\n",
            "Epoch: 25/100 | loss: 1.10 |  validation loss: 1.46\n",
            "----------------------------------------------------------------------------------\n",
            "Epoch: 26/100 | loss: 1.30 |  validation loss: 1.44\n",
            "----------------------------------------------------------------------------------\n",
            "Epoch: 27/100 | loss: 1.70 |  validation loss: 1.49\n",
            "----------------------------------------------------------------------------------\n",
            "Epoch: 28/100 | loss: 1.52 |  validation loss: 1.48\n",
            "----------------------------------------------------------------------------------\n",
            "Epoch: 29/100 | loss: 1.86 |  validation loss: 1.44\n",
            "----------------------------------------------------------------------------------\n",
            "Epoch: 30/100 | loss: 1.28 |  validation loss: 1.45\n",
            "----------------------------------------------------------------------------------\n",
            "Epoch: 31/100 | loss: 1.31 |  validation loss: 1.45\n",
            "----------------------------------------------------------------------------------\n",
            "Epoch: 32/100 | loss: 1.36 |  validation loss: 1.48\n",
            "----------------------------------------------------------------------------------\n",
            "Epoch: 33/100 | loss: 1.33 |  validation loss: 1.46\n",
            "----------------------------------------------------------------------------------\n",
            "Epoch: 34/100 | loss: 1.17 |  validation loss: 1.44\n",
            "----------------------------------------------------------------------------------\n",
            "Epoch: 35/100 | loss: 1.40 |  validation loss: 1.44\n",
            "----------------------------------------------------------------------------------\n",
            "Epoch: 36/100 | loss: 1.31 |  validation loss: 1.44\n",
            "----------------------------------------------------------------------------------\n",
            "Epoch: 37/100 | loss: 1.77 |  validation loss: 1.54\n",
            "----------------------------------------------------------------------------------\n",
            "Epoch: 38/100 | loss: 1.13 |  validation loss: 1.44\n",
            "----------------------------------------------------------------------------------\n",
            "Epoch: 39/100 | loss: 1.42 |  validation loss: 1.45\n",
            "----------------------------------------------------------------------------------\n",
            "Epoch: 40/100 | loss: 1.54 |  validation loss: 1.44\n",
            "----------------------------------------------------------------------------------\n",
            "Epoch: 41/100 | loss: 1.37 |  validation loss: 1.45\n",
            "----------------------------------------------------------------------------------\n",
            "Epoch: 42/100 | loss: 1.57 |  validation loss: 1.45\n",
            "----------------------------------------------------------------------------------\n",
            "Epoch: 43/100 | loss: 1.42 |  validation loss: 1.44\n",
            "----------------------------------------------------------------------------------\n",
            "Epoch: 44/100 | loss: 1.48 |  validation loss: 1.47\n",
            "----------------------------------------------------------------------------------\n",
            "Epoch: 45/100 | loss: 0.95 |  validation loss: 1.44\n",
            "----------------------------------------------------------------------------------\n",
            "Epoch: 46/100 | loss: 1.31 |  validation loss: 1.44\n",
            "----------------------------------------------------------------------------------\n",
            "Epoch: 47/100 | loss: 1.18 |  validation loss: 1.44\n",
            "----------------------------------------------------------------------------------\n",
            "Epoch: 48/100 | loss: 1.39 |  validation loss: 1.44\n",
            "----------------------------------------------------------------------------------\n",
            "Epoch: 49/100 | loss: 1.14 |  validation loss: 1.46\n",
            "----------------------------------------------------------------------------------\n",
            "Epoch: 50/100 | loss: 1.19 |  validation loss: 1.45\n",
            "----------------------------------------------------------------------------------\n",
            "Epoch: 51/100 | loss: 0.96 |  validation loss: 1.44\n",
            "----------------------------------------------------------------------------------\n",
            "Epoch: 52/100 | loss: 1.46 |  validation loss: 1.45\n",
            "----------------------------------------------------------------------------------\n",
            "Epoch: 53/100 | loss: 1.53 |  validation loss: 1.46\n",
            "----------------------------------------------------------------------------------\n",
            "Epoch: 54/100 | loss: 1.74 |  validation loss: 1.48\n",
            "----------------------------------------------------------------------------------\n",
            "Epoch: 55/100 | loss: 1.61 |  validation loss: 1.44\n",
            "----------------------------------------------------------------------------------\n",
            "Epoch: 56/100 | loss: 1.45 |  validation loss: 1.46\n",
            "----------------------------------------------------------------------------------\n",
            "Epoch: 57/100 | loss: 1.54 |  validation loss: 1.44\n",
            "----------------------------------------------------------------------------------\n",
            "Epoch: 58/100 | loss: 1.54 |  validation loss: 1.46\n",
            "----------------------------------------------------------------------------------\n",
            "Epoch: 59/100 | loss: 1.31 |  validation loss: 1.44\n",
            "----------------------------------------------------------------------------------\n",
            "Epoch: 60/100 | loss: 1.49 |  validation loss: 1.44\n",
            "----------------------------------------------------------------------------------\n",
            "Epoch: 61/100 | loss: 1.89 |  validation loss: 1.53\n",
            "----------------------------------------------------------------------------------\n",
            "Epoch: 62/100 | loss: 1.48 |  validation loss: 1.43\n",
            "----------------------------------------------------------------------------------\n",
            "Epoch: 63/100 | loss: 1.34 |  validation loss: 1.47\n",
            "----------------------------------------------------------------------------------\n",
            "Epoch: 64/100 | loss: 1.70 |  validation loss: 1.44\n",
            "----------------------------------------------------------------------------------\n",
            "Epoch: 65/100 | loss: 1.45 |  validation loss: 1.45\n",
            "----------------------------------------------------------------------------------\n",
            "Epoch: 66/100 | loss: 1.62 |  validation loss: 1.45\n",
            "----------------------------------------------------------------------------------\n",
            "Epoch: 67/100 | loss: 1.22 |  validation loss: 1.46\n",
            "----------------------------------------------------------------------------------\n",
            "Epoch: 68/100 | loss: 1.40 |  validation loss: 1.44\n",
            "----------------------------------------------------------------------------------\n",
            "Epoch: 69/100 | loss: 1.49 |  validation loss: 1.44\n",
            "----------------------------------------------------------------------------------\n",
            "Epoch: 70/100 | loss: 1.30 |  validation loss: 1.43\n",
            "----------------------------------------------------------------------------------\n",
            "Epoch: 71/100 | loss: 1.78 |  validation loss: 1.43\n",
            "----------------------------------------------------------------------------------\n",
            "Epoch: 72/100 | loss: 1.57 |  validation loss: 1.43\n",
            "----------------------------------------------------------------------------------\n",
            "Epoch: 73/100 | loss: 1.31 |  validation loss: 1.45\n",
            "----------------------------------------------------------------------------------\n",
            "Epoch: 74/100 | loss: 1.41 |  validation loss: 1.44\n",
            "----------------------------------------------------------------------------------\n",
            "Epoch: 75/100 | loss: 1.82 |  validation loss: 1.45\n",
            "----------------------------------------------------------------------------------\n",
            "Epoch: 76/100 | loss: 1.24 |  validation loss: 1.44\n",
            "----------------------------------------------------------------------------------\n",
            "Epoch: 77/100 | loss: 1.47 |  validation loss: 1.45\n",
            "----------------------------------------------------------------------------------\n",
            "Epoch: 78/100 | loss: 1.50 |  validation loss: 1.43\n",
            "----------------------------------------------------------------------------------\n",
            "Epoch: 79/100 | loss: 1.12 |  validation loss: 1.43\n",
            "----------------------------------------------------------------------------------\n",
            "Epoch: 80/100 | loss: 1.39 |  validation loss: 1.44\n",
            "----------------------------------------------------------------------------------\n",
            "Epoch: 81/100 | loss: 1.33 |  validation loss: 1.43\n",
            "----------------------------------------------------------------------------------\n",
            "Epoch: 82/100 | loss: 1.40 |  validation loss: 1.44\n",
            "----------------------------------------------------------------------------------\n",
            "Epoch: 83/100 | loss: 1.62 |  validation loss: 1.45\n",
            "----------------------------------------------------------------------------------\n",
            "Epoch: 84/100 | loss: 1.44 |  validation loss: 1.44\n",
            "----------------------------------------------------------------------------------\n",
            "Epoch: 85/100 | loss: 1.19 |  validation loss: 1.44\n",
            "----------------------------------------------------------------------------------\n",
            "Epoch: 86/100 | loss: 1.21 |  validation loss: 1.43\n",
            "----------------------------------------------------------------------------------\n",
            "Epoch: 87/100 | loss: 1.12 |  validation loss: 1.43\n",
            "----------------------------------------------------------------------------------\n",
            "Epoch: 88/100 | loss: 1.44 |  validation loss: 1.44\n",
            "----------------------------------------------------------------------------------\n",
            "Epoch: 89/100 | loss: 1.35 |  validation loss: 1.44\n",
            "----------------------------------------------------------------------------------\n",
            "Epoch: 90/100 | loss: 1.43 |  validation loss: 1.43\n",
            "----------------------------------------------------------------------------------\n",
            "Epoch: 91/100 | loss: 1.37 |  validation loss: 1.48\n",
            "----------------------------------------------------------------------------------\n",
            "Epoch: 92/100 | loss: 1.45 |  validation loss: 1.43\n",
            "----------------------------------------------------------------------------------\n",
            "Epoch: 93/100 | loss: 1.29 |  validation loss: 1.43\n",
            "----------------------------------------------------------------------------------\n",
            "Epoch: 94/100 | loss: 1.28 |  validation loss: 1.46\n",
            "----------------------------------------------------------------------------------\n",
            "Epoch: 95/100 | loss: 1.50 |  validation loss: 1.43\n",
            "----------------------------------------------------------------------------------\n",
            "Epoch: 96/100 | loss: 1.60 |  validation loss: 1.43\n",
            "----------------------------------------------------------------------------------\n",
            "Epoch: 97/100 | loss: 1.18 |  validation loss: 1.43\n",
            "----------------------------------------------------------------------------------\n",
            "Epoch: 98/100 | loss: 1.10 |  validation loss: 1.44\n",
            "----------------------------------------------------------------------------------\n",
            "Epoch: 99/100 | loss: 1.27 |  validation loss: 1.43\n",
            "------------------------------------------------------------------------------------\n",
            "Test Loss: 1.44\n",
            "------------------------------------------------------------------------------------\n",
            "Loss\n",
            " \n"
          ]
        },
        {
          "output_type": "execute_result",
          "data": {
            "text/plain": [
              "<matplotlib.legend.Legend at 0x7dab50fdc430>"
            ]
          },
          "metadata": {},
          "execution_count": 82
        },
        {
          "output_type": "display_data",
          "data": {
            "text/plain": [
              "<Figure size 640x480 with 1 Axes>"
            ],
            "image/png": "[encoded data removed]"
          },
          "metadata": {}
        }
      ]
    },
    {
      "cell_type": "code",
      "source": [],
      "metadata": {
        "id": "JBJ1mRfXmjgm"
      },
      "execution_count": null,
      "outputs": []
    }
  ],
  "metadata": {
    "kernelspec": {
      "display_name": "Python 3",
      "name": "python3"
    },
    "language_info": {
      "codemirror_mode": {
        "name": "ipython",
        "version": 3
      },
      "file_extension": ".py",
      "mimetype": "text/x-python",
      "name": "python",
      "nbconvert_exporter": "python",
      "pygments_lexer": "ipython3",
      "version": "3.12.2"
    },
    "colab": {
      "provenance": [],
      "include_colab_link": true
    }
  },
  "nbformat": 4,
  "nbformat_minor": 0
}