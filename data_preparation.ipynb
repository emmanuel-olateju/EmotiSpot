{
  "cells": [
    {
      "cell_type": "markdown",
      "metadata": {
        "id": "view-in-github",
        "colab_type": "text"
      },
      "source": [
        "<a href=\"https://colab.research.google.com/github/emmanuel-olateju/EmotiSpot/blob/main/data_preparation.ipynb\" target=\"_parent\"><img src=\"https://colab.research.google.com/assets/colab-badge.svg\" alt=\"Open In Colab\"/></a>"
      ]
    },
    {
      "cell_type": "code",
      "execution_count": 1,
      "metadata": {
        "id": "YB63XS6935lG",
        "outputId": "882e44f2-4b1f-49a4-85ef-60fcab6f88ef",
        "colab": {
          "base_uri": "https://localhost:8080/"
        }
      },
      "outputs": [
        {
          "output_type": "stream",
          "name": "stdout",
          "text": [
            "Dataset URL: https://www.kaggle.com/datasets/khan1803115/eeg-dataset-for-emotion-recognition\n",
            "License(s): Apache 2.0\n",
            "Downloading eeg-dataset-for-emotion-recognition.zip to /content\n",
            " 99% 179M/181M [00:05<00:00, 42.8MB/s]\n",
            "100% 181M/181M [00:05<00:00, 37.0MB/s]\n",
            "Archive:  eeg-dataset-for-emotion-recognition.zip\n",
            "  inflating: datasets/khan1803115/Data/S01G1AllChannels.csv  \n",
            "  inflating: datasets/khan1803115/Data/S01G2AllChannels.csv  \n",
            "  inflating: datasets/khan1803115/Data/S01G3AllChannels.csv  \n",
            "  inflating: datasets/khan1803115/Data/S01G4AllChannels.csv  \n",
            "  inflating: datasets/khan1803115/Data/S02G1AllChannels.csv  \n",
            "  inflating: datasets/khan1803115/Data/S02G2AllChannels.csv  \n",
            "  inflating: datasets/khan1803115/Data/S02G3AllChannels.csv  \n",
            "  inflating: datasets/khan1803115/Data/S02G4AllChannels.csv  \n",
            "  inflating: datasets/khan1803115/Data/S03G1AllChannels.csv  \n",
            "  inflating: datasets/khan1803115/Data/S03G2AllChannels.csv  \n",
            "  inflating: datasets/khan1803115/Data/S03G3AllChannels.csv  \n",
            "  inflating: datasets/khan1803115/Data/S03G4AllChannels.csv  \n",
            "  inflating: datasets/khan1803115/Data/S04G1AllChannels.csv  \n",
            "  inflating: datasets/khan1803115/Data/S04G2AllChannels.csv  \n",
            "  inflating: datasets/khan1803115/Data/S04G3AllChannels.csv  \n",
            "  inflating: datasets/khan1803115/Data/S04G4AllChannels.csv  \n",
            "  inflating: datasets/khan1803115/Data/S05G1AllChannels.csv  \n",
            "  inflating: datasets/khan1803115/Data/S05G2AllChannels.csv  \n",
            "  inflating: datasets/khan1803115/Data/S05G3AllChannels.csv  \n",
            "  inflating: datasets/khan1803115/Data/S05G4AllChannels.csv  \n",
            "  inflating: datasets/khan1803115/Data/S06G1AllChannels.csv  \n",
            "  inflating: datasets/khan1803115/Data/S06G2AllChannels.csv  \n",
            "  inflating: datasets/khan1803115/Data/S06G3AllChannels.csv  \n",
            "  inflating: datasets/khan1803115/Data/S06G4AllChannels.csv  \n",
            "  inflating: datasets/khan1803115/Data/S07G1AllChannels.csv  \n",
            "  inflating: datasets/khan1803115/Data/S07G2AllChannels.csv  \n",
            "  inflating: datasets/khan1803115/Data/S07G3AllChannels.csv  \n",
            "  inflating: datasets/khan1803115/Data/S07G4AllChannels.csv  \n",
            "  inflating: datasets/khan1803115/Data/S08G1AllChannels.csv  \n",
            "  inflating: datasets/khan1803115/Data/S08G2AllChannels.csv  \n",
            "  inflating: datasets/khan1803115/Data/S08G3AllChannels.csv  \n",
            "  inflating: datasets/khan1803115/Data/S08G4AllChannels.csv  \n",
            "  inflating: datasets/khan1803115/Data/S09G1AllChannels.csv  \n",
            "  inflating: datasets/khan1803115/Data/S09G2AllChannels.csv  \n",
            "  inflating: datasets/khan1803115/Data/S09G3AllChannels.csv  \n",
            "  inflating: datasets/khan1803115/Data/S09G4AllChannels.csv  \n",
            "  inflating: datasets/khan1803115/Data/S10G1AllChannels.csv  \n",
            "  inflating: datasets/khan1803115/Data/S10G2AllChannels.csv  \n",
            "  inflating: datasets/khan1803115/Data/S10G3AllChannels.csv  \n",
            "  inflating: datasets/khan1803115/Data/S10G4AllChannels.csv  \n",
            "  inflating: datasets/khan1803115/Data/S11G1AllChannels.csv  \n",
            "  inflating: datasets/khan1803115/Data/S11G2AllChannels.csv  \n",
            "  inflating: datasets/khan1803115/Data/S11G3AllChannels.csv  \n",
            "  inflating: datasets/khan1803115/Data/S11G4AllChannels.csv  \n",
            "  inflating: datasets/khan1803115/Data/S12G1AllChannels.csv  \n",
            "  inflating: datasets/khan1803115/Data/S12G2AllChannels.csv  \n",
            "  inflating: datasets/khan1803115/Data/S12G3AllChannels.csv  \n",
            "  inflating: datasets/khan1803115/Data/S12G4AllChannels.csv  \n",
            "  inflating: datasets/khan1803115/Data/S13G1AllChannels.csv  \n",
            "  inflating: datasets/khan1803115/Data/S13G2AllChannels.csv  \n",
            "  inflating: datasets/khan1803115/Data/S13G3AllChannels.csv  \n",
            "  inflating: datasets/khan1803115/Data/S13G4AllChannels.csv  \n",
            "  inflating: datasets/khan1803115/Data/S14G1AllChannels.csv  \n",
            "  inflating: datasets/khan1803115/Data/S14G2AllChannels.csv  \n",
            "  inflating: datasets/khan1803115/Data/S14G3AllChannels.csv  \n",
            "  inflating: datasets/khan1803115/Data/S14G4AllChannels.csv  \n",
            "  inflating: datasets/khan1803115/Data/S15G1AllChannels.csv  \n",
            "  inflating: datasets/khan1803115/Data/S15G2AllChannels.csv  \n",
            "  inflating: datasets/khan1803115/Data/S15G3AllChannels.csv  \n",
            "  inflating: datasets/khan1803115/Data/S15G4AllChannels.csv  \n",
            "  inflating: datasets/khan1803115/Data/S16G1AllChannels.csv  \n",
            "  inflating: datasets/khan1803115/Data/S16G2AllChannels.csv  \n",
            "  inflating: datasets/khan1803115/Data/S16G3AllChannels.csv  \n",
            "  inflating: datasets/khan1803115/Data/S16G4AllChannels.csv  \n",
            "  inflating: datasets/khan1803115/Data/S17G1AllChannels.csv  \n",
            "  inflating: datasets/khan1803115/Data/S17G2AllChannels.csv  \n",
            "  inflating: datasets/khan1803115/Data/S17G3AllChannels.csv  \n",
            "  inflating: datasets/khan1803115/Data/S17G4AllChannels.csv  \n",
            "  inflating: datasets/khan1803115/Data/S18G1AllChannels.csv  \n",
            "  inflating: datasets/khan1803115/Data/S18G2AllChannels.csv  \n",
            "  inflating: datasets/khan1803115/Data/S18G3AllChannels.csv  \n",
            "  inflating: datasets/khan1803115/Data/S18G4AllChannels.csv  \n",
            "  inflating: datasets/khan1803115/Data/S19G1AllChannels.csv  \n",
            "  inflating: datasets/khan1803115/Data/S19G2AllChannels.csv  \n",
            "  inflating: datasets/khan1803115/Data/S19G3AllChannels.csv  \n",
            "  inflating: datasets/khan1803115/Data/S19G4AllChannels.csv  \n",
            "  inflating: datasets/khan1803115/Data/S20G1AllChannels.csv  \n",
            "  inflating: datasets/khan1803115/Data/S20G2AllChannels.csv  \n",
            "  inflating: datasets/khan1803115/Data/S20G3AllChannels.csv  \n",
            "  inflating: datasets/khan1803115/Data/S20G4AllChannels.csv  \n",
            "  inflating: datasets/khan1803115/Data/S21G1AllChannels.csv  \n",
            "  inflating: datasets/khan1803115/Data/S21G2AllChannels.csv  \n",
            "  inflating: datasets/khan1803115/Data/S21G3AllChannels.csv  \n",
            "  inflating: datasets/khan1803115/Data/S21G4AllChannels.csv  \n",
            "  inflating: datasets/khan1803115/Data/S22G1AllChannels.csv  \n",
            "  inflating: datasets/khan1803115/Data/S22G2AllChannels.csv  \n",
            "  inflating: datasets/khan1803115/Data/S22G3AllChannels.csv  \n",
            "  inflating: datasets/khan1803115/Data/S22G4AllChannels.csv  \n",
            "  inflating: datasets/khan1803115/Data/S23G1AllChannels.csv  \n",
            "  inflating: datasets/khan1803115/Data/S23G2AllChannels.csv  \n",
            "  inflating: datasets/khan1803115/Data/S23G3AllChannels.csv  \n",
            "  inflating: datasets/khan1803115/Data/S23G4AllChannels.csv  \n",
            "  inflating: datasets/khan1803115/Data/S24G1AllChannels.csv  \n",
            "  inflating: datasets/khan1803115/Data/S24G2AllChannels.csv  \n",
            "  inflating: datasets/khan1803115/Data/S24G3AllChannels.csv  \n",
            "  inflating: datasets/khan1803115/Data/S24G4AllChannels.csv  \n",
            "  inflating: datasets/khan1803115/Data/S25G1AllChannels.csv  \n",
            "  inflating: datasets/khan1803115/Data/S25G2AllChannels.csv  \n",
            "  inflating: datasets/khan1803115/Data/S25G3AllChannels.csv  \n",
            "  inflating: datasets/khan1803115/Data/S25G4AllChannels.csv  \n",
            "  inflating: datasets/khan1803115/arousal_normalize.csv  \n",
            "  inflating: datasets/khan1803115/valence_normalize.csv  \n"
          ]
        }
      ],
      "source": [
        "!kaggle datasets download -d khan1803115/eeg-dataset-for-emotion-recognition\n",
        "!mkdir -p datasets/khan1803115\n",
        "!unzip eeg-dataset-for-emotion-recognition.zip -d datasets/khan1803115/\n",
        "!rm eeg-dataset-for-emotion-recognition.zip"
      ]
    },
    {
      "cell_type": "code",
      "execution_count": 2,
      "metadata": {
        "id": "ZTyKZUes35lK",
        "outputId": "9c87939c-452e-4b35-fff8-efbacd081335",
        "colab": {
          "base_uri": "https://localhost:8080/"
        }
      },
      "outputs": [
        {
          "output_type": "stream",
          "name": "stdout",
          "text": [
            "Collecting mne\n",
            "  Downloading mne-1.7.0-py3-none-any.whl (7.4 MB)\n",
            "\u001b[2K     \u001b[90m━━━━━━━━━━━━━━━━━━━━━━━━━━━━━━━━━━━━━━━━\u001b[0m \u001b[32m7.4/7.4 MB\u001b[0m \u001b[31m24.2 MB/s\u001b[0m eta \u001b[36m0:00:00\u001b[0m\n",
            "\u001b[?25hRequirement already satisfied: decorator in /usr/local/lib/python3.10/dist-packages (from mne) (4.4.2)\n",
            "Requirement already satisfied: jinja2 in /usr/local/lib/python3.10/dist-packages (from mne) (3.1.3)\n",
            "Requirement already satisfied: lazy-loader>=0.3 in /usr/local/lib/python3.10/dist-packages (from mne) (0.4)\n",
            "Requirement already satisfied: matplotlib>=3.5.0 in /usr/local/lib/python3.10/dist-packages (from mne) (3.7.1)\n",
            "Requirement already satisfied: numpy>=1.21.2 in /usr/local/lib/python3.10/dist-packages (from mne) (1.25.2)\n",
            "Requirement already satisfied: packaging in /usr/local/lib/python3.10/dist-packages (from mne) (24.0)\n",
            "Requirement already satisfied: pooch>=1.5 in /usr/local/lib/python3.10/dist-packages (from mne) (1.8.1)\n",
            "Requirement already satisfied: scipy>=1.7.1 in /usr/local/lib/python3.10/dist-packages (from mne) (1.11.4)\n",
            "Requirement already satisfied: tqdm in /usr/local/lib/python3.10/dist-packages (from mne) (4.66.2)\n",
            "Requirement already satisfied: contourpy>=1.0.1 in /usr/local/lib/python3.10/dist-packages (from matplotlib>=3.5.0->mne) (1.2.1)\n",
            "Requirement already satisfied: cycler>=0.10 in /usr/local/lib/python3.10/dist-packages (from matplotlib>=3.5.0->mne) (0.12.1)\n",
            "Requirement already satisfied: fonttools>=4.22.0 in /usr/local/lib/python3.10/dist-packages (from matplotlib>=3.5.0->mne) (4.51.0)\n",
            "Requirement already satisfied: kiwisolver>=1.0.1 in /usr/local/lib/python3.10/dist-packages (from matplotlib>=3.5.0->mne) (1.4.5)\n",
            "Requirement already satisfied: pillow>=6.2.0 in /usr/local/lib/python3.10/dist-packages (from matplotlib>=3.5.0->mne) (9.4.0)\n",
            "Requirement already satisfied: pyparsing>=2.3.1 in /usr/local/lib/python3.10/dist-packages (from matplotlib>=3.5.0->mne) (3.1.2)\n",
            "Requirement already satisfied: python-dateutil>=2.7 in /usr/local/lib/python3.10/dist-packages (from matplotlib>=3.5.0->mne) (2.8.2)\n",
            "Requirement already satisfied: platformdirs>=2.5.0 in /usr/local/lib/python3.10/dist-packages (from pooch>=1.5->mne) (4.2.1)\n",
            "Requirement already satisfied: requests>=2.19.0 in /usr/local/lib/python3.10/dist-packages (from pooch>=1.5->mne) (2.31.0)\n",
            "Requirement already satisfied: MarkupSafe>=2.0 in /usr/local/lib/python3.10/dist-packages (from jinja2->mne) (2.1.5)\n",
            "Requirement already satisfied: six>=1.5 in /usr/local/lib/python3.10/dist-packages (from python-dateutil>=2.7->matplotlib>=3.5.0->mne) (1.16.0)\n",
            "Requirement already satisfied: charset-normalizer<4,>=2 in /usr/local/lib/python3.10/dist-packages (from requests>=2.19.0->pooch>=1.5->mne) (3.3.2)\n",
            "Requirement already satisfied: idna<4,>=2.5 in /usr/local/lib/python3.10/dist-packages (from requests>=2.19.0->pooch>=1.5->mne) (3.7)\n",
            "Requirement already satisfied: urllib3<3,>=1.21.1 in /usr/local/lib/python3.10/dist-packages (from requests>=2.19.0->pooch>=1.5->mne) (2.0.7)\n",
            "Requirement already satisfied: certifi>=2017.4.17 in /usr/local/lib/python3.10/dist-packages (from requests>=2.19.0->pooch>=1.5->mne) (2024.2.2)\n",
            "Installing collected packages: mne\n",
            "Successfully installed mne-1.7.0\n"
          ]
        }
      ],
      "source": [
        "import os\n",
        "\n",
        "import numpy as np\n",
        "import pandas as pd\n",
        "!pip install mne\n",
        "import mne"
      ]
    },
    {
      "cell_type": "code",
      "source": [
        "import joblib\n",
        "# from google.colab import files\n",
        "\n",
        "def save_artifact(artifact,name):\n",
        "  joblib.dump(artifact,name)\n",
        "  # files.download(name)\n"
      ],
      "metadata": {
        "id": "Kt_3rd-gDRmC"
      },
      "execution_count": 3,
      "outputs": []
    },
    {
      "cell_type": "markdown",
      "source": [
        "## Data Loading"
      ],
      "metadata": {
        "id": "NVDn5pxR7c8F"
      }
    },
    {
      "cell_type": "code",
      "execution_count": 4,
      "metadata": {
        "id": "rFeHh7wM35lN"
      },
      "outputs": [],
      "source": [
        "khan_dataset_dir = \"datasets/khan1803115/\"\n",
        "valence = pd.read_csv(khan_dataset_dir+\"valence_normalize.csv\")\n",
        "arousal = pd.read_csv(khan_dataset_dir+\"arousal_normalize.csv\")\n",
        "data = [pd.read_csv(khan_dataset_dir+\"Data/\"+file) for file in os.listdir(khan_dataset_dir+\"Data/\")]\n",
        "\n",
        "channels = data[0].columns[:-2]\n",
        "label_columns = data[0].columns[-2:]\n",
        "fs = 128"
      ]
    },
    {
      "cell_type": "code",
      "execution_count": 5,
      "metadata": {
        "id": "bVcaE36a35lP",
        "outputId": "2dbcee22-02f8-4aa3-a12e-458d5fe53626",
        "colab": {
          "base_uri": "https://localhost:8080/"
        }
      },
      "outputs": [
        {
          "output_type": "execute_result",
          "data": {
            "text/plain": [
              "((100, 38000, 14), (100, 2))"
            ]
          },
          "metadata": {},
          "execution_count": 5
        }
      ],
      "source": [
        "eeg_data = np.array([data_[channels][:38000] for data_ in data])\n",
        "valence_arousal_values = np.array([data_[label_columns].mean() for data_ in data])\n",
        "eeg_data.shape, valence_arousal_values.shape"
      ]
    },
    {
      "cell_type": "code",
      "execution_count": 6,
      "metadata": {
        "id": "q0bTIYbe35lU",
        "outputId": "55e5ecaa-969b-4fe0-e309-eb69eb813998",
        "colab": {
          "base_uri": "https://localhost:8080/"
        }
      },
      "outputs": [
        {
          "output_type": "execute_result",
          "data": {
            "text/plain": [
              "(100, 34, 1280, 14)"
            ]
          },
          "metadata": {},
          "execution_count": 6
        }
      ],
      "source": [
        "# Make use of 1250 samples for an epoch with 500 samples overlapping between succesive epochs\n",
        "epoch_starting_points = np.arange(0,38252,1280-256)[:-4]\n",
        "\n",
        "eeg_epochs = []\n",
        "\n",
        "for i in range(len(data)):\n",
        "    epochs = []\n",
        "    for epoch_starting_point in epoch_starting_points:\n",
        "        epochs.append(eeg_data[i,epoch_starting_point:epoch_starting_point+1280,:])\n",
        "\n",
        "    eeg_epochs.append(epochs)\n",
        "\n",
        "eeg_epochs = np.array(eeg_epochs)\n",
        "\n",
        "eeg_epochs.shape"
      ]
    },
    {
      "cell_type": "code",
      "execution_count": 7,
      "metadata": {
        "id": "v-udIKHt35lZ",
        "outputId": "7a44d8aa-2bdc-4892-903b-12eb8e3f2cc5",
        "colab": {
          "base_uri": "https://localhost:8080/"
        }
      },
      "outputs": [
        {
          "output_type": "execute_result",
          "data": {
            "text/plain": [
              "(100, 34, 2)"
            ]
          },
          "metadata": {},
          "execution_count": 7
        }
      ],
      "source": [
        "epoch_targets = []\n",
        "\n",
        "for i in range(len(data)):\n",
        "  targets = [valence_arousal_values[i]]*34\n",
        "  epoch_targets.append(targets)\n",
        "\n",
        "epoch_targets = np.array(epoch_targets)\n",
        "\n",
        "epoch_targets.shape"
      ]
    },
    {
      "cell_type": "code",
      "source": [
        "eeg_epochs = eeg_epochs.reshape(3400,1280,14)\n",
        "epoch_targets = epoch_targets.reshape(3400,2)\n",
        "\n",
        "eeg_epochs.shape, epoch_targets.shape"
      ],
      "metadata": {
        "id": "Er9vFgVY5RjF",
        "outputId": "5781ac54-7504-49bc-9b9d-cb0543208d12",
        "colab": {
          "base_uri": "https://localhost:8080/"
        }
      },
      "execution_count": 8,
      "outputs": [
        {
          "output_type": "execute_result",
          "data": {
            "text/plain": [
              "((3400, 1280, 14), (3400, 2))"
            ]
          },
          "metadata": {},
          "execution_count": 8
        }
      ]
    },
    {
      "cell_type": "code",
      "source": [
        "# save_artifact(eeg_epochs,\"EEG_DATA.np\")"
      ],
      "metadata": {
        "id": "VnZaV41EEGxa"
      },
      "execution_count": 9,
      "outputs": []
    },
    {
      "cell_type": "markdown",
      "source": [
        "## Preprocessing"
      ],
      "metadata": {
        "id": "2uNF-ipu7fDe"
      }
    },
    {
      "cell_type": "code",
      "source": [
        "lowcut = 1\n",
        "highcut = 45\n",
        "\n",
        "filtered_eeg_epochs = np.empty((3400,1280,14))\n",
        "\n",
        "for e,epoch in enumerate(eeg_epochs):\n",
        "  filtered = mne.filter.filter_data(epoch.T,fs,lowcut,highcut,verbose=0)\n",
        "  filtered_eeg_epochs[e,:,:] = filtered.T\n",
        "\n",
        "filtered_eeg_epochs.shape"
      ],
      "metadata": {
        "colab": {
          "base_uri": "https://localhost:8080/"
        },
        "id": "O-Fq5rX4Fgc3",
        "outputId": "7a78d874-8f90-4258-b32e-82df06815258"
      },
      "execution_count": 10,
      "outputs": [
        {
          "output_type": "execute_result",
          "data": {
            "text/plain": [
              "(3400, 1280, 14)"
            ]
          },
          "metadata": {},
          "execution_count": 10
        }
      ]
    },
    {
      "cell_type": "code",
      "source": [
        "# save_artifact(filtered_eeg_epochs,\"FILTERED_EEG_DATA.np\")\n",
        "# save_artifact(epoch_targets,\"EEG_VALENCE_AROUSAL_TARGETS.np\")"
      ],
      "metadata": {
        "id": "yPvHZDko9Fvu"
      },
      "execution_count": 11,
      "outputs": []
    },
    {
      "cell_type": "markdown",
      "source": [
        "## Make Dataloader"
      ],
      "metadata": {
        "id": "d0Wf8qxQIg8b"
      }
    },
    {
      "cell_type": "code",
      "source": [
        "from torch.utils.data import Dataset, DataLoader\n",
        "\n",
        "class CustomDataset(Dataset):\n",
        "\n",
        "  def __init__(self, features, targets, transform=None):\n",
        "    self.features = torch.tensor(features)\n",
        "    self.targets = torch.tensor(targets)\n",
        "    self.transform = transform\n",
        "\n",
        "  def __len__(self):\n",
        "    return len(self.features)\n",
        "\n",
        "  def __getitem__(self,idx):\n",
        "    feature = self.features[idx]\n",
        "    target = self.targets[idx]\n",
        "    if self.transform:\n",
        "      feature = self.transform(feature)\n",
        "    return feature, target"
      ],
      "metadata": {
        "id": "1M9BZsPpIgSa"
      },
      "execution_count": 34,
      "outputs": []
    },
    {
      "cell_type": "code",
      "source": [
        "from sklearn.model_selection import train_test_split\n",
        "\n",
        "X, y = filtered_eeg_epochs, epoch_targets\n",
        "\n",
        "X_train, X_, y_train, y_ = train_test_split(X, y, test_size=0.40, random_state=100)\n",
        "X_test, X_val, y_test, y_val = train_test_split(X_, y_, test_size=0.5, random_state=100)\n",
        "\n",
        "print(f\" Train Size :({X_train.shape}, {y_train.shape}) | Test Size : ({X_test.shape}, {y_test.shape}) | Validation Size: ({X_val.shape}, {y_val.shape})\")\n",
        "\n",
        "train_batch_size = 250\n",
        "shuffle_ = True\n",
        "num_workers_ = 5\n",
        "\n",
        "# Make Train Dataloader\n",
        "train_dataset = CustomDataset(X_train.astype(float),y_train.astype(float))\n",
        "train_dataloader = DataLoader(train_dataset, batch_size=train_batch_size, shuffle=shuffle_, num_workers=num_workers_)\n",
        "\n",
        "# Make Validation Dataloader\n",
        "val_batch_size = 5\n",
        "val_dataset = CustomDataset(X_val.astype(float),y_val.astype(float))\n",
        "val_dataloader = DataLoader(val_dataset, batch_size=val_batch_size, shuffle=shuffle_, num_workers=num_workers_)"
      ],
      "metadata": {
        "colab": {
          "base_uri": "https://localhost:8080/"
        },
        "id": "BsE4BGFMO9gM",
        "outputId": "e84a3289-96b2-47aa-80ca-161a1f8d4a23"
      },
      "execution_count": 35,
      "outputs": [
        {
          "output_type": "stream",
          "name": "stdout",
          "text": [
            " Train Size :((2040, 1280, 14), (2040, 2)) | Test Size : ((680, 1280, 14), (680, 2)) | Validation Size: ((680, 1280, 14), (680, 2))\n"
          ]
        }
      ]
    },
    {
      "cell_type": "markdown",
      "source": [
        "## Modelling"
      ],
      "metadata": {
        "id": "441UMr7QGgAQ"
      }
    },
    {
      "cell_type": "code",
      "source": [
        "import random\n",
        "\n",
        "import torch\n",
        "import torch.nn as nn\n",
        "import torch.functional as F\n",
        "import torch.optim as optim\n",
        "\n",
        "random.seed(120)\n",
        "torch.manual_seed(120)"
      ],
      "metadata": {
        "id": "pspPsdbpFwSE",
        "colab": {
          "base_uri": "https://localhost:8080/"
        },
        "outputId": "41003d99-131b-4d40-a9c9-9285f15cf9bb"
      },
      "execution_count": 36,
      "outputs": [
        {
          "output_type": "execute_result",
          "data": {
            "text/plain": [
              "<torch._C.Generator at 0x7c0140066350>"
            ]
          },
          "metadata": {},
          "execution_count": 36
        }
      ]
    },
    {
      "cell_type": "code",
      "source": [
        "class mlp(nn.Module):\n",
        "\n",
        "  def __init__(self):\n",
        "    super(mlp,self).__init__()\n",
        "    self.fc1 = nn.Sequential(\n",
        "        nn.Linear(1280*14,1000),\n",
        "        nn.Tanh(),\n",
        "        nn.Linear(1000,100),\n",
        "        nn.Tanh(),\n",
        "        nn.Linear(100,2),\n",
        "        nn.Tanh(),\n",
        "        nn.Linear(2,2),\n",
        "        nn.ReLU()\n",
        "    )\n",
        "\n",
        "\n",
        "  def forward(self,x):\n",
        "    x = x.view(x.size()[0],-1)\n",
        "    x = self.fc1(x.to(torch.float32))\n",
        "    return x"
      ],
      "metadata": {
        "id": "2NtjORCgH0-A"
      },
      "execution_count": 56,
      "outputs": []
    },
    {
      "cell_type": "code",
      "source": [
        "history = {\n",
        "    \"loss\":[],\n",
        "    \"val_loss\":[]\n",
        "}\n",
        "\n",
        "mlpn = mlp()\n",
        "\n",
        "epochs = 100\n",
        "lr_ = 0.001\n",
        "\n",
        "optimizer = optim.SGD(mlpn.parameters(),lr=lr_)\n",
        "loss_fn = nn.MSELoss()\n",
        "\n",
        "train_loss, val_loss = [], []\n",
        "\n",
        "for e in range(epochs):\n",
        "\n",
        "  running_loss = 0.0\n",
        "  val_running_loss = 0.0\n",
        "\n",
        "  for batch, (x_,y_) in enumerate(train_dataloader):\n",
        "\n",
        "    x_ = x_.to(torch.float)\n",
        "    y_ = y_.to(torch.float)\n",
        "\n",
        "    mlpn =mlpn.train()\n",
        "\n",
        "    optimizer.zero_grad()\n",
        "\n",
        "    y_est = mlpn(x_)\n",
        "    y_est = y_est.requires_grad_(True)\n",
        "\n",
        "    loss = loss_fn(y_est,y_)\n",
        "\n",
        "    loss.backward()\n",
        "    optimizer.step()\n",
        "\n",
        "  running_loss += loss.item()\n",
        "  history[\"loss\"].append(running_loss)\n",
        "\n",
        "  x_val, y_val = val_dataset[:]\n",
        "  x_val = x_val.to(torch.float)\n",
        "  y_val = y_val.to(torch.float)\n",
        "\n",
        "  mlpn = mlpn.eval()\n",
        "\n",
        "  y_est = mlpn(x_val)\n",
        "\n",
        "  loss = loss_fn(y_est,y_val)\n",
        "  val_running_loss = loss.item()\n",
        "  history[\"val_loss\"].append(val_running_loss)\n",
        "\n",
        "  print(\"----------------------------------------------------------------------------------\")\n",
        "  print(f\"Epoch: {e}/{epochs} | loss: {running_loss:.2f} |  validation loss: {val_running_loss:.2f}\")\n",
        "\n"
      ],
      "metadata": {
        "id": "ZLgY1HVJIabc",
        "outputId": "d4a70bea-7532-4297-fe74-709229390fbe",
        "colab": {
          "base_uri": "https://localhost:8080/"
        }
      },
      "execution_count": 57,
      "outputs": [
        {
          "output_type": "stream",
          "name": "stderr",
          "text": [
            "/usr/local/lib/python3.10/dist-packages/torch/utils/data/dataloader.py:558: UserWarning: This DataLoader will create 5 worker processes in total. Our suggested max number of worker in current system is 2, which is smaller than what this DataLoader is going to create. Please be aware that excessive worker creation might get DataLoader running slow or even freeze, lower the worker number to avoid potential slowness/freeze if necessary.\n",
            "  warnings.warn(_create_warning_msg(\n",
            "/usr/lib/python3.10/multiprocessing/popen_fork.py:66: RuntimeWarning: os.fork() was called. os.fork() is incompatible with multithreaded code, and JAX is multithreaded, so this will likely lead to a deadlock.\n",
            "  self.pid = os.fork()\n"
          ]
        },
        {
          "output_type": "stream",
          "name": "stdout",
          "text": [
            "----------------------------------------------------------------------------------\n",
            "Epoch: 0/100 | loss: 9.40 |  validation loss: 8.62\n",
            "----------------------------------------------------------------------------------\n",
            "Epoch: 1/100 | loss: 8.27 |  validation loss: 8.45\n",
            "----------------------------------------------------------------------------------\n",
            "Epoch: 2/100 | loss: 8.95 |  validation loss: 8.30\n",
            "----------------------------------------------------------------------------------\n",
            "Epoch: 3/100 | loss: 8.01 |  validation loss: 8.17\n",
            "----------------------------------------------------------------------------------\n",
            "Epoch: 4/100 | loss: 8.35 |  validation loss: 8.05\n",
            "----------------------------------------------------------------------------------\n",
            "Epoch: 5/100 | loss: 6.78 |  validation loss: 7.94\n",
            "----------------------------------------------------------------------------------\n",
            "Epoch: 6/100 | loss: 6.15 |  validation loss: 7.84\n",
            "----------------------------------------------------------------------------------\n",
            "Epoch: 7/100 | loss: 7.35 |  validation loss: 7.75\n",
            "----------------------------------------------------------------------------------\n",
            "Epoch: 8/100 | loss: 6.98 |  validation loss: 7.66\n",
            "----------------------------------------------------------------------------------\n",
            "Epoch: 9/100 | loss: 6.72 |  validation loss: 7.58\n",
            "----------------------------------------------------------------------------------\n",
            "Epoch: 10/100 | loss: 6.00 |  validation loss: 7.50\n",
            "----------------------------------------------------------------------------------\n",
            "Epoch: 11/100 | loss: 6.47 |  validation loss: 7.43\n",
            "----------------------------------------------------------------------------------\n",
            "Epoch: 12/100 | loss: 5.64 |  validation loss: 7.36\n",
            "----------------------------------------------------------------------------------\n",
            "Epoch: 13/100 | loss: 6.43 |  validation loss: 7.30\n",
            "----------------------------------------------------------------------------------\n",
            "Epoch: 14/100 | loss: 7.62 |  validation loss: 7.24\n",
            "----------------------------------------------------------------------------------\n",
            "Epoch: 15/100 | loss: 5.68 |  validation loss: 7.18\n",
            "----------------------------------------------------------------------------------\n",
            "Epoch: 16/100 | loss: 6.73 |  validation loss: 7.13\n",
            "----------------------------------------------------------------------------------\n",
            "Epoch: 17/100 | loss: 7.20 |  validation loss: 7.08\n",
            "----------------------------------------------------------------------------------\n",
            "Epoch: 18/100 | loss: 5.54 |  validation loss: 7.03\n",
            "----------------------------------------------------------------------------------\n",
            "Epoch: 19/100 | loss: 5.48 |  validation loss: 6.98\n",
            "----------------------------------------------------------------------------------\n",
            "Epoch: 20/100 | loss: 6.68 |  validation loss: 6.94\n",
            "----------------------------------------------------------------------------------\n",
            "Epoch: 21/100 | loss: 6.84 |  validation loss: 6.90\n",
            "----------------------------------------------------------------------------------\n",
            "Epoch: 22/100 | loss: 5.90 |  validation loss: 6.86\n",
            "----------------------------------------------------------------------------------\n",
            "Epoch: 23/100 | loss: 5.77 |  validation loss: 6.82\n",
            "----------------------------------------------------------------------------------\n",
            "Epoch: 24/100 | loss: 5.24 |  validation loss: 6.78\n",
            "----------------------------------------------------------------------------------\n",
            "Epoch: 25/100 | loss: 6.88 |  validation loss: 6.74\n",
            "----------------------------------------------------------------------------------\n",
            "Epoch: 26/100 | loss: 6.56 |  validation loss: 6.71\n",
            "----------------------------------------------------------------------------------\n",
            "Epoch: 27/100 | loss: 4.57 |  validation loss: 6.67\n",
            "----------------------------------------------------------------------------------\n",
            "Epoch: 28/100 | loss: 6.05 |  validation loss: 6.64\n",
            "----------------------------------------------------------------------------------\n",
            "Epoch: 29/100 | loss: 5.74 |  validation loss: 6.61\n",
            "----------------------------------------------------------------------------------\n",
            "Epoch: 30/100 | loss: 5.32 |  validation loss: 6.57\n",
            "----------------------------------------------------------------------------------\n",
            "Epoch: 31/100 | loss: 6.07 |  validation loss: 6.54\n",
            "----------------------------------------------------------------------------------\n",
            "Epoch: 32/100 | loss: 4.97 |  validation loss: 6.51\n",
            "----------------------------------------------------------------------------------\n",
            "Epoch: 33/100 | loss: 4.59 |  validation loss: 6.48\n",
            "----------------------------------------------------------------------------------\n",
            "Epoch: 34/100 | loss: 4.76 |  validation loss: 6.45\n",
            "----------------------------------------------------------------------------------\n",
            "Epoch: 35/100 | loss: 6.22 |  validation loss: 6.42\n",
            "----------------------------------------------------------------------------------\n",
            "Epoch: 36/100 | loss: 5.71 |  validation loss: 6.39\n",
            "----------------------------------------------------------------------------------\n",
            "Epoch: 37/100 | loss: 5.69 |  validation loss: 6.36\n",
            "----------------------------------------------------------------------------------\n",
            "Epoch: 38/100 | loss: 5.86 |  validation loss: 6.33\n",
            "----------------------------------------------------------------------------------\n",
            "Epoch: 39/100 | loss: 4.26 |  validation loss: 6.31\n",
            "----------------------------------------------------------------------------------\n",
            "Epoch: 40/100 | loss: 5.31 |  validation loss: 6.28\n",
            "----------------------------------------------------------------------------------\n",
            "Epoch: 41/100 | loss: 5.20 |  validation loss: 6.25\n",
            "----------------------------------------------------------------------------------\n",
            "Epoch: 42/100 | loss: 5.21 |  validation loss: 6.23\n",
            "----------------------------------------------------------------------------------\n",
            "Epoch: 43/100 | loss: 4.47 |  validation loss: 6.20\n",
            "----------------------------------------------------------------------------------\n",
            "Epoch: 44/100 | loss: 5.35 |  validation loss: 6.18\n",
            "----------------------------------------------------------------------------------\n",
            "Epoch: 45/100 | loss: 4.69 |  validation loss: 6.15\n",
            "----------------------------------------------------------------------------------\n",
            "Epoch: 46/100 | loss: 5.90 |  validation loss: 6.13\n",
            "----------------------------------------------------------------------------------\n",
            "Epoch: 47/100 | loss: 3.95 |  validation loss: 6.10\n",
            "----------------------------------------------------------------------------------\n",
            "Epoch: 48/100 | loss: 4.48 |  validation loss: 6.07\n",
            "----------------------------------------------------------------------------------\n",
            "Epoch: 49/100 | loss: 6.18 |  validation loss: 6.05\n",
            "----------------------------------------------------------------------------------\n",
            "Epoch: 50/100 | loss: 3.76 |  validation loss: 6.02\n",
            "----------------------------------------------------------------------------------\n",
            "Epoch: 51/100 | loss: 5.48 |  validation loss: 6.00\n",
            "----------------------------------------------------------------------------------\n",
            "Epoch: 52/100 | loss: 6.74 |  validation loss: 5.97\n",
            "----------------------------------------------------------------------------------\n",
            "Epoch: 53/100 | loss: 4.65 |  validation loss: 5.95\n",
            "----------------------------------------------------------------------------------\n",
            "Epoch: 54/100 | loss: 6.17 |  validation loss: 5.92\n",
            "----------------------------------------------------------------------------------\n",
            "Epoch: 55/100 | loss: 4.23 |  validation loss: 5.89\n",
            "----------------------------------------------------------------------------------\n",
            "Epoch: 56/100 | loss: 4.69 |  validation loss: 5.87\n",
            "----------------------------------------------------------------------------------\n",
            "Epoch: 57/100 | loss: 4.32 |  validation loss: 5.84\n",
            "----------------------------------------------------------------------------------\n",
            "Epoch: 58/100 | loss: 5.32 |  validation loss: 5.81\n",
            "----------------------------------------------------------------------------------\n",
            "Epoch: 59/100 | loss: 4.55 |  validation loss: 5.79\n",
            "----------------------------------------------------------------------------------\n",
            "Epoch: 60/100 | loss: 3.71 |  validation loss: 5.76\n",
            "----------------------------------------------------------------------------------\n",
            "Epoch: 61/100 | loss: 4.14 |  validation loss: 5.74\n",
            "----------------------------------------------------------------------------------\n",
            "Epoch: 62/100 | loss: 3.80 |  validation loss: 5.71\n",
            "----------------------------------------------------------------------------------\n",
            "Epoch: 63/100 | loss: 6.07 |  validation loss: 5.69\n",
            "----------------------------------------------------------------------------------\n",
            "Epoch: 64/100 | loss: 4.06 |  validation loss: 5.67\n",
            "----------------------------------------------------------------------------------\n",
            "Epoch: 65/100 | loss: 4.70 |  validation loss: 5.64\n",
            "----------------------------------------------------------------------------------\n",
            "Epoch: 66/100 | loss: 4.50 |  validation loss: 5.61\n",
            "----------------------------------------------------------------------------------\n",
            "Epoch: 67/100 | loss: 4.96 |  validation loss: 5.59\n",
            "----------------------------------------------------------------------------------\n",
            "Epoch: 68/100 | loss: 5.84 |  validation loss: 5.57\n",
            "----------------------------------------------------------------------------------\n",
            "Epoch: 69/100 | loss: 4.75 |  validation loss: 5.54\n",
            "----------------------------------------------------------------------------------\n",
            "Epoch: 70/100 | loss: 5.19 |  validation loss: 5.52\n",
            "----------------------------------------------------------------------------------\n",
            "Epoch: 71/100 | loss: 4.31 |  validation loss: 5.49\n",
            "----------------------------------------------------------------------------------\n",
            "Epoch: 72/100 | loss: 4.15 |  validation loss: 5.47\n",
            "----------------------------------------------------------------------------------\n",
            "Epoch: 73/100 | loss: 3.67 |  validation loss: 5.44\n",
            "----------------------------------------------------------------------------------\n",
            "Epoch: 74/100 | loss: 3.41 |  validation loss: 5.42\n",
            "----------------------------------------------------------------------------------\n",
            "Epoch: 75/100 | loss: 4.95 |  validation loss: 5.39\n",
            "----------------------------------------------------------------------------------\n",
            "Epoch: 76/100 | loss: 5.23 |  validation loss: 5.37\n",
            "----------------------------------------------------------------------------------\n",
            "Epoch: 77/100 | loss: 4.26 |  validation loss: 5.34\n",
            "----------------------------------------------------------------------------------\n",
            "Epoch: 78/100 | loss: 4.89 |  validation loss: 5.31\n",
            "----------------------------------------------------------------------------------\n",
            "Epoch: 79/100 | loss: 5.11 |  validation loss: 5.29\n",
            "----------------------------------------------------------------------------------\n",
            "Epoch: 80/100 | loss: 3.67 |  validation loss: 5.26\n",
            "----------------------------------------------------------------------------------\n",
            "Epoch: 81/100 | loss: 4.37 |  validation loss: 5.24\n",
            "----------------------------------------------------------------------------------\n",
            "Epoch: 82/100 | loss: 3.96 |  validation loss: 5.21\n",
            "----------------------------------------------------------------------------------\n",
            "Epoch: 83/100 | loss: 4.10 |  validation loss: 5.19\n",
            "----------------------------------------------------------------------------------\n",
            "Epoch: 84/100 | loss: 4.38 |  validation loss: 5.16\n",
            "----------------------------------------------------------------------------------\n",
            "Epoch: 85/100 | loss: 4.80 |  validation loss: 5.13\n",
            "----------------------------------------------------------------------------------\n",
            "Epoch: 86/100 | loss: 3.96 |  validation loss: 5.11\n",
            "----------------------------------------------------------------------------------\n",
            "Epoch: 87/100 | loss: 3.61 |  validation loss: 5.08\n",
            "----------------------------------------------------------------------------------\n",
            "Epoch: 88/100 | loss: 4.18 |  validation loss: 5.05\n",
            "----------------------------------------------------------------------------------\n",
            "Epoch: 89/100 | loss: 4.50 |  validation loss: 5.02\n",
            "----------------------------------------------------------------------------------\n",
            "Epoch: 90/100 | loss: 4.40 |  validation loss: 4.99\n",
            "----------------------------------------------------------------------------------\n",
            "Epoch: 91/100 | loss: 3.74 |  validation loss: 4.96\n",
            "----------------------------------------------------------------------------------\n",
            "Epoch: 92/100 | loss: 4.58 |  validation loss: 4.92\n",
            "----------------------------------------------------------------------------------\n",
            "Epoch: 93/100 | loss: 4.64 |  validation loss: 4.87\n",
            "----------------------------------------------------------------------------------\n",
            "Epoch: 94/100 | loss: 3.88 |  validation loss: 4.82\n",
            "----------------------------------------------------------------------------------\n",
            "Epoch: 95/100 | loss: 3.56 |  validation loss: 4.74\n",
            "----------------------------------------------------------------------------------\n",
            "Epoch: 96/100 | loss: 3.64 |  validation loss: 4.66\n",
            "----------------------------------------------------------------------------------\n",
            "Epoch: 97/100 | loss: 3.76 |  validation loss: 4.58\n",
            "----------------------------------------------------------------------------------\n",
            "Epoch: 98/100 | loss: 3.52 |  validation loss: 4.50\n",
            "----------------------------------------------------------------------------------\n",
            "Epoch: 99/100 | loss: 2.71 |  validation loss: 4.42\n"
          ]
        }
      ]
    },
    {
      "cell_type": "code",
      "source": [
        "import matplotlib.pyplot as plt\n",
        "\n",
        "plt.plot(history[\"loss\"],label=\"loss\")\n",
        "plt.plot(history[\"val_loss\"],label=\"val_loss\")\n",
        "\n",
        "plt.legend()"
      ],
      "metadata": {
        "colab": {
          "base_uri": "https://localhost:8080/",
          "height": 447
        },
        "id": "ZZfWkpSAJ4TY",
        "outputId": "1adbc957-abe3-45b3-ba44-e8268cefb240"
      },
      "execution_count": 58,
      "outputs": [
        {
          "output_type": "execute_result",
          "data": {
            "text/plain": [
              "<matplotlib.legend.Legend at 0x7c01b835f8b0>"
            ]
          },
          "metadata": {},
          "execution_count": 58
        },
        {
          "output_type": "display_data",
          "data": {
            "text/plain": [
              "<Figure size 640x480 with 1 Axes>"
            ],
            "image/png": "[encoded data removed]"
          },
          "metadata": {}
        }
      ]
    },
    {
      "cell_type": "code",
      "source": [],
      "metadata": {
        "id": "uFYSgRQXLBjP"
      },
      "execution_count": null,
      "outputs": []
    }
  ],
  "metadata": {
    "kernelspec": {
      "display_name": "Python 3",
      "name": "python3"
    },
    "language_info": {
      "codemirror_mode": {
        "name": "ipython",
        "version": 3
      },
      "file_extension": ".py",
      "mimetype": "text/x-python",
      "name": "python",
      "nbconvert_exporter": "python",
      "pygments_lexer": "ipython3",
      "version": "3.12.2"
    },
    "colab": {
      "provenance": [],
      "include_colab_link": true
    }
  },
  "nbformat": 4,
  "nbformat_minor": 0
}